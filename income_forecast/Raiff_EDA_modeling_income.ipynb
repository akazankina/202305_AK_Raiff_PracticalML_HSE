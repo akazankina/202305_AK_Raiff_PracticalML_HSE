{
 "cells": [
  {
   "cell_type": "markdown",
   "metadata": {
    "colab_type": "text",
    "id": "view-in-github"
   },
   "source": [
    "<a href=\"https://colab.research.google.com/github/Murcha1990/Raiff_PracticalML_May2023/blob/main/Lecture_4_PracticeEDA/Raiff_EDA_modeling.ipynb\" target=\"_parent\"><img src=\"https://colab.research.google.com/assets/colab-badge.svg\" alt=\"Open In Colab\"/></a>"
   ]
  },
  {
   "cell_type": "markdown",
   "metadata": {
    "id": "z79gbIw0bWJZ"
   },
   "source": [
    "# Решение задачи прогноза дохода\n",
    "\n",
    "* Загрузка данных и их анализ\n",
    "* Обучение и оценка качества модели\n",
    "  + обучение модели\n",
    "  + оценка качества модели\n",
    "* Интерпретация результатов модели\n",
    "* Сохранение результатов"
   ]
  },
  {
   "cell_type": "markdown",
   "metadata": {
    "id": "9VDkBu75nCLq"
   },
   "source": [
    "Будем решать задачу прогноза дохода, а именно, *по соц-дем характеристикам людей, будет их доход выше или ниже 50к*."
   ]
  },
  {
   "cell_type": "markdown",
   "metadata": {
    "id": "cgXJLC1Yjpnm"
   },
   "source": [
    "## <font color='green'>1. Загрузка данных и их первичный анализ</font>"
   ]
  },
  {
   "cell_type": "code",
   "execution_count": 1,
   "metadata": {
    "id": "wD3LYTXnhtwZ"
   },
   "outputs": [],
   "source": [
    "import pandas as pd\n",
    "import numpy as np\n",
    "import psycopg2\n",
    "from matplotlib import pyplot as plt\n",
    "import seaborn as sns\n",
    "from sklearn.linear_model import LogisticRegression\n",
    "\n",
    "import warnings\n",
    "warnings.filterwarnings(\"ignore\")\n",
    "\n",
    "sns.set(style=\"whitegrid\") \n",
    "sns.set(rc={'figure.figsize':(10,5)})"
   ]
  },
  {
   "cell_type": "markdown",
   "metadata": {
    "id": "yfZEhlAVEup_"
   },
   "source": [
    "Подключаемся к БД и загружаем данные"
   ]
  },
  {
   "cell_type": "markdown",
   "metadata": {},
   "source": [
    "*// импорт сертификата одноразовый, он нам каждый раз не нужен - выключим пока*\n",
    "\n",
    "*// ставить pip и psycopg2 тоже каждый раз не будем*"
   ]
  },
  {
   "cell_type": "code",
   "execution_count": 2,
   "metadata": {
    "colab": {
     "base_uri": "https://localhost:8080/"
    },
    "id": "HWwIJ2AQhtwb",
    "outputId": "ad86513e-a7b7-44f5-fd2e-10e843e5f39c"
   },
   "outputs": [],
   "source": [
    "# !mkdir -p ~/.postgresql && \\\n",
    "# wget \"https://storage.yandexcloud.net/cloud-certs/CA.pem\" \\\n",
    "#     --output-document ~/.postgresql/root.crt && \\\n",
    "# chmod 0600 ~/.postgresql/root.crt"
   ]
  },
  {
   "cell_type": "code",
   "execution_count": 3,
   "metadata": {
    "colab": {
     "base_uri": "https://localhost:8080/"
    },
    "id": "OAFi6whWi-so",
    "outputId": "3079f5ba-7a43-4bc0-a3ea-8f9d4370ebf7"
   },
   "outputs": [],
   "source": [
    "# !sudo apt update && sudo apt install --yes python3 python3-pip && \\\n",
    "# !pip3 install psycopg2-binary"
   ]
  },
  {
   "cell_type": "code",
   "execution_count": 4,
   "metadata": {
    "id": "7efd5Dz0jBYo"
   },
   "outputs": [],
   "source": [
    "try:\n",
    "    conn = psycopg2.connect(\"\"\"\n",
    "        host=rc1b-70q90cunwkzx49mj.mdb.yandexcloud.net\n",
    "        port=6432\n",
    "        sslmode=verify-full\n",
    "        dbname=db_clients\n",
    "        user=mlhs_student\n",
    "        password=mlhs_student\n",
    "        target_session_attrs=read-write\n",
    "    \"\"\")\n",
    "    query = \"SELECT * from public.adult_income\"\n",
    "    data = pd.read_sql_query(query, conn)\n",
    "    conn.close()\n",
    "except:\n",
    "    data = pd.read_csv(\"adult_income.csv\") # читаем припасенные данные, если база отвалилась"
   ]
  },
  {
   "cell_type": "markdown",
   "metadata": {
    "id": "SW_Rpf6HRZH0"
   },
   "source": [
    "Посмотрим на данные.\n",
    "\n",
    "*Описание аттрибутов таблицы / признаков подопытного населения*:\n",
    "\n",
    "- **age**: количество полных лет. \n",
    "- **workclass**: Private, Self-emp-not-inc, Self-emp-inc, Federal-gov, Local-gov, State-gov, Without-pay, Never-worked. \n",
    "- **fnlwgt**: continuous. \n",
    "- **education**: Bachelors, Some-college, 11th, HS-grad, Prof-school, Assoc-acdm, Assoc-voc, 9th, 7th-8th, 12th, Masters, 1st-4th, 10th, Doctorate, 5th-6th, Preschool. \n",
    "- **education-num**: continuous. \n",
    "- **marital-status**: Married-civ-spouse, Divorced, Never-married, Separated, Widowed, Married-spouse-absent, Married-AF-spouse. \n",
    "- **occupation**: Tech-support, Craft-repair, Other-service, Sales, Exec-managerial, Prof-specialty, Handlers-cleaners, Machine-op-inspct, Adm-clerical, Farming-fishing, Transport-moving, Priv-house-serv, Protective-serv, Armed-Forces. \n",
    "- **relationship**: Wife, Own-child, Husband, Not-in-family, Other-relative, Unmarried. \n",
    "- **race**: White, Asian-Pac-Islander, Amer-Indian-Eskimo, Other, Black. \n",
    "- **gender**: Female, Male. \n",
    "- **capital-gain**: continuous. \n",
    "- **capital-loss**: continuous. \n",
    "- **hours-per-week**: continuous. \n",
    "- **native-country**: United-States, Cambodia, England, Puerto-Rico, Canada, Germany, Outlying-US(Guam-USVI-etc), India, Japan, Greece, South, China, Cuba, Iran, Honduras, Philippines, Italy, Poland, Jamaica, Vietnam, Mexico, Portugal, Ireland, France, Dominican-Republic, Laos, Ecuador, Taiwan, Haiti, Columbia, Hungary, Guatemala, Nicaragua, Scotland, Thailand, Yugoslavia, El-Salvador, Trinadad&Tobago, Peru, Hong, Holand-Netherlands. \n",
    "\n",
    "\n"
   ]
  },
  {
   "cell_type": "code",
   "execution_count": 5,
   "metadata": {
    "colab": {
     "base_uri": "https://localhost:8080/",
     "height": 427
    },
    "id": "3WWFMf7BRYFq",
    "outputId": "cc5cca83-b5d5-4c69-87dc-d5a519be601e"
   },
   "outputs": [
    {
     "data": {
      "text/html": [
       "<div>\n",
       "<style scoped>\n",
       "    .dataframe tbody tr th:only-of-type {\n",
       "        vertical-align: middle;\n",
       "    }\n",
       "\n",
       "    .dataframe tbody tr th {\n",
       "        vertical-align: top;\n",
       "    }\n",
       "\n",
       "    .dataframe thead th {\n",
       "        text-align: right;\n",
       "    }\n",
       "</style>\n",
       "<table border=\"1\" class=\"dataframe\">\n",
       "  <thead>\n",
       "    <tr style=\"text-align: right;\">\n",
       "      <th></th>\n",
       "      <th>age</th>\n",
       "      <th>workclass</th>\n",
       "      <th>fnlwgt</th>\n",
       "      <th>education</th>\n",
       "      <th>educational-num</th>\n",
       "      <th>marital-status</th>\n",
       "      <th>occupation</th>\n",
       "      <th>relationship</th>\n",
       "      <th>race</th>\n",
       "      <th>gender</th>\n",
       "      <th>capital-gain</th>\n",
       "      <th>capital-loss</th>\n",
       "      <th>hours-per-week</th>\n",
       "      <th>native-country</th>\n",
       "      <th>income</th>\n",
       "    </tr>\n",
       "  </thead>\n",
       "  <tbody>\n",
       "    <tr>\n",
       "      <th>0</th>\n",
       "      <td>25.0</td>\n",
       "      <td>Private</td>\n",
       "      <td>226802</td>\n",
       "      <td>11th</td>\n",
       "      <td>7</td>\n",
       "      <td>Never-married</td>\n",
       "      <td>Machine-op-inspct</td>\n",
       "      <td>Own-child</td>\n",
       "      <td>Black</td>\n",
       "      <td>Male</td>\n",
       "      <td>0.0</td>\n",
       "      <td>0.0</td>\n",
       "      <td>40.0</td>\n",
       "      <td>United-States</td>\n",
       "      <td>&lt;=50K</td>\n",
       "    </tr>\n",
       "    <tr>\n",
       "      <th>1</th>\n",
       "      <td>38.0</td>\n",
       "      <td>Private</td>\n",
       "      <td>89814</td>\n",
       "      <td>HS-grad</td>\n",
       "      <td>9</td>\n",
       "      <td>Married-civ-spouse</td>\n",
       "      <td>Farming-fishing</td>\n",
       "      <td>Husband</td>\n",
       "      <td>White</td>\n",
       "      <td>Male</td>\n",
       "      <td>0.0</td>\n",
       "      <td>0.0</td>\n",
       "      <td>50.0</td>\n",
       "      <td>United-States</td>\n",
       "      <td>&lt;=50K</td>\n",
       "    </tr>\n",
       "    <tr>\n",
       "      <th>2</th>\n",
       "      <td>28.0</td>\n",
       "      <td>Local-gov</td>\n",
       "      <td>336951</td>\n",
       "      <td>Assoc-acdm</td>\n",
       "      <td>12</td>\n",
       "      <td>Married-civ-spouse</td>\n",
       "      <td>Protective-serv</td>\n",
       "      <td>Husband</td>\n",
       "      <td>White</td>\n",
       "      <td>Male</td>\n",
       "      <td>0.0</td>\n",
       "      <td>0.0</td>\n",
       "      <td>40.0</td>\n",
       "      <td>United-States</td>\n",
       "      <td>&gt;50K</td>\n",
       "    </tr>\n",
       "    <tr>\n",
       "      <th>3</th>\n",
       "      <td>44.0</td>\n",
       "      <td>Private</td>\n",
       "      <td>160323</td>\n",
       "      <td>Some-college</td>\n",
       "      <td>10</td>\n",
       "      <td>Married-civ-spouse</td>\n",
       "      <td>Machine-op-inspct</td>\n",
       "      <td>Husband</td>\n",
       "      <td>Black</td>\n",
       "      <td>Male</td>\n",
       "      <td>7688.0</td>\n",
       "      <td>0.0</td>\n",
       "      <td>40.0</td>\n",
       "      <td>United-States</td>\n",
       "      <td>&gt;50K</td>\n",
       "    </tr>\n",
       "    <tr>\n",
       "      <th>4</th>\n",
       "      <td>18.0</td>\n",
       "      <td>?</td>\n",
       "      <td>103497</td>\n",
       "      <td>Some-college</td>\n",
       "      <td>10</td>\n",
       "      <td>Never-married</td>\n",
       "      <td>?</td>\n",
       "      <td>Own-child</td>\n",
       "      <td>White</td>\n",
       "      <td>Female</td>\n",
       "      <td>0.0</td>\n",
       "      <td>0.0</td>\n",
       "      <td>30.0</td>\n",
       "      <td>United-States</td>\n",
       "      <td>&lt;=50K</td>\n",
       "    </tr>\n",
       "    <tr>\n",
       "      <th>...</th>\n",
       "      <td>...</td>\n",
       "      <td>...</td>\n",
       "      <td>...</td>\n",
       "      <td>...</td>\n",
       "      <td>...</td>\n",
       "      <td>...</td>\n",
       "      <td>...</td>\n",
       "      <td>...</td>\n",
       "      <td>...</td>\n",
       "      <td>...</td>\n",
       "      <td>...</td>\n",
       "      <td>...</td>\n",
       "      <td>...</td>\n",
       "      <td>...</td>\n",
       "      <td>...</td>\n",
       "    </tr>\n",
       "    <tr>\n",
       "      <th>9610</th>\n",
       "      <td>NaN</td>\n",
       "      <td>Private</td>\n",
       "      <td>200939</td>\n",
       "      <td>HS-grad</td>\n",
       "      <td>9</td>\n",
       "      <td>Married-civ-spouse</td>\n",
       "      <td>Craft-repair</td>\n",
       "      <td>Husband</td>\n",
       "      <td>White</td>\n",
       "      <td>Male</td>\n",
       "      <td>0.0</td>\n",
       "      <td>0.0</td>\n",
       "      <td>NaN</td>\n",
       "      <td>United-States</td>\n",
       "      <td>&gt;50K</td>\n",
       "    </tr>\n",
       "    <tr>\n",
       "      <th>9611</th>\n",
       "      <td>NaN</td>\n",
       "      <td>Private</td>\n",
       "      <td>110592</td>\n",
       "      <td>12th</td>\n",
       "      <td>8</td>\n",
       "      <td>Married-civ-spouse</td>\n",
       "      <td>Machine-op-inspct</td>\n",
       "      <td>Husband</td>\n",
       "      <td>White</td>\n",
       "      <td>Male</td>\n",
       "      <td>0.0</td>\n",
       "      <td>0.0</td>\n",
       "      <td>NaN</td>\n",
       "      <td>United-States</td>\n",
       "      <td>&lt;=50K</td>\n",
       "    </tr>\n",
       "    <tr>\n",
       "      <th>9612</th>\n",
       "      <td>NaN</td>\n",
       "      <td>Private</td>\n",
       "      <td>167840</td>\n",
       "      <td>HS-grad</td>\n",
       "      <td>9</td>\n",
       "      <td>Married-civ-spouse</td>\n",
       "      <td>Handlers-cleaners</td>\n",
       "      <td>Husband</td>\n",
       "      <td>White</td>\n",
       "      <td>Male</td>\n",
       "      <td>0.0</td>\n",
       "      <td>2002.0</td>\n",
       "      <td>NaN</td>\n",
       "      <td>United-States</td>\n",
       "      <td>&lt;=50K</td>\n",
       "    </tr>\n",
       "    <tr>\n",
       "      <th>9613</th>\n",
       "      <td>NaN</td>\n",
       "      <td>Private</td>\n",
       "      <td>274883</td>\n",
       "      <td>HS-grad</td>\n",
       "      <td>9</td>\n",
       "      <td>Married-civ-spouse</td>\n",
       "      <td>Transport-moving</td>\n",
       "      <td>Husband</td>\n",
       "      <td>White</td>\n",
       "      <td>Male</td>\n",
       "      <td>0.0</td>\n",
       "      <td>0.0</td>\n",
       "      <td>NaN</td>\n",
       "      <td>United-States</td>\n",
       "      <td>&gt;50K</td>\n",
       "    </tr>\n",
       "    <tr>\n",
       "      <th>9614</th>\n",
       "      <td>NaN</td>\n",
       "      <td>Private</td>\n",
       "      <td>212895</td>\n",
       "      <td>Assoc-acdm</td>\n",
       "      <td>12</td>\n",
       "      <td>Never-married</td>\n",
       "      <td>Craft-repair</td>\n",
       "      <td>Not-in-family</td>\n",
       "      <td>White</td>\n",
       "      <td>Male</td>\n",
       "      <td>0.0</td>\n",
       "      <td>0.0</td>\n",
       "      <td>NaN</td>\n",
       "      <td>United-States</td>\n",
       "      <td>&lt;=50K</td>\n",
       "    </tr>\n",
       "  </tbody>\n",
       "</table>\n",
       "<p>9615 rows × 15 columns</p>\n",
       "</div>"
      ],
      "text/plain": [
       "       age  workclass  fnlwgt     education  educational-num  \\\n",
       "0     25.0    Private  226802          11th                7   \n",
       "1     38.0    Private   89814       HS-grad                9   \n",
       "2     28.0  Local-gov  336951    Assoc-acdm               12   \n",
       "3     44.0    Private  160323  Some-college               10   \n",
       "4     18.0          ?  103497  Some-college               10   \n",
       "...    ...        ...     ...           ...              ...   \n",
       "9610   NaN    Private  200939       HS-grad                9   \n",
       "9611   NaN    Private  110592          12th                8   \n",
       "9612   NaN    Private  167840       HS-grad                9   \n",
       "9613   NaN    Private  274883       HS-grad                9   \n",
       "9614   NaN    Private  212895    Assoc-acdm               12   \n",
       "\n",
       "          marital-status         occupation   relationship   race  gender  \\\n",
       "0          Never-married  Machine-op-inspct      Own-child  Black    Male   \n",
       "1     Married-civ-spouse    Farming-fishing        Husband  White    Male   \n",
       "2     Married-civ-spouse    Protective-serv        Husband  White    Male   \n",
       "3     Married-civ-spouse  Machine-op-inspct        Husband  Black    Male   \n",
       "4          Never-married                  ?      Own-child  White  Female   \n",
       "...                  ...                ...            ...    ...     ...   \n",
       "9610  Married-civ-spouse       Craft-repair        Husband  White    Male   \n",
       "9611  Married-civ-spouse  Machine-op-inspct        Husband  White    Male   \n",
       "9612  Married-civ-spouse  Handlers-cleaners        Husband  White    Male   \n",
       "9613  Married-civ-spouse   Transport-moving        Husband  White    Male   \n",
       "9614       Never-married       Craft-repair  Not-in-family  White    Male   \n",
       "\n",
       "      capital-gain  capital-loss  hours-per-week native-country income  \n",
       "0              0.0           0.0            40.0  United-States  <=50K  \n",
       "1              0.0           0.0            50.0  United-States  <=50K  \n",
       "2              0.0           0.0            40.0  United-States   >50K  \n",
       "3           7688.0           0.0            40.0  United-States   >50K  \n",
       "4              0.0           0.0            30.0  United-States  <=50K  \n",
       "...            ...           ...             ...            ...    ...  \n",
       "9610           0.0           0.0             NaN  United-States   >50K  \n",
       "9611           0.0           0.0             NaN  United-States  <=50K  \n",
       "9612           0.0        2002.0             NaN  United-States  <=50K  \n",
       "9613           0.0           0.0             NaN  United-States   >50K  \n",
       "9614           0.0           0.0             NaN  United-States  <=50K  \n",
       "\n",
       "[9615 rows x 15 columns]"
      ]
     },
     "execution_count": 5,
     "metadata": {},
     "output_type": "execute_result"
    }
   ],
   "source": [
    "data"
   ]
  },
  {
   "cell_type": "code",
   "execution_count": 6,
   "metadata": {
    "colab": {
     "base_uri": "https://localhost:8080/"
    },
    "id": "aX7cYQzN0k_Z",
    "outputId": "358432bc-0cf9-4cc7-efe9-b8bb018fa54c"
   },
   "outputs": [
    {
     "data": {
      "text/plain": [
       "(9615, 15)"
      ]
     },
     "execution_count": 6,
     "metadata": {},
     "output_type": "execute_result"
    }
   ],
   "source": [
    "data.shape"
   ]
  },
  {
   "cell_type": "code",
   "execution_count": 7,
   "metadata": {
    "colab": {
     "base_uri": "https://localhost:8080/"
    },
    "id": "1FjpaGIa0mjt",
    "outputId": "0c9dd65f-078b-4bcf-c4c4-7cbc61b922f2"
   },
   "outputs": [
    {
     "data": {
      "text/plain": [
       "age                float64\n",
       "workclass           object\n",
       "fnlwgt               int64\n",
       "education           object\n",
       "educational-num      int64\n",
       "marital-status      object\n",
       "occupation          object\n",
       "relationship        object\n",
       "race                object\n",
       "gender              object\n",
       "capital-gain       float64\n",
       "capital-loss       float64\n",
       "hours-per-week     float64\n",
       "native-country      object\n",
       "income              object\n",
       "dtype: object"
      ]
     },
     "execution_count": 7,
     "metadata": {},
     "output_type": "execute_result"
    }
   ],
   "source": [
    "data.dtypes"
   ]
  },
  {
   "cell_type": "code",
   "execution_count": 8,
   "metadata": {
    "colab": {
     "base_uri": "https://localhost:8080/"
    },
    "id": "WTbym9zJIPLh",
    "outputId": "32d24029-5b49-4043-9f99-2777cdc697ca"
   },
   "outputs": [
    {
     "name": "stdout",
     "output_type": "stream",
     "text": [
      "<class 'pandas.core.frame.DataFrame'>\n",
      "RangeIndex: 9615 entries, 0 to 9614\n",
      "Data columns (total 15 columns):\n",
      " #   Column           Non-Null Count  Dtype  \n",
      "---  ------           --------------  -----  \n",
      " 0   age              8961 non-null   float64\n",
      " 1   workclass        9615 non-null   object \n",
      " 2   fnlwgt           9615 non-null   int64  \n",
      " 3   education        9615 non-null   object \n",
      " 4   educational-num  9615 non-null   int64  \n",
      " 5   marital-status   9615 non-null   object \n",
      " 6   occupation       9615 non-null   object \n",
      " 7   relationship     9615 non-null   object \n",
      " 8   race             9614 non-null   object \n",
      " 9   gender           9614 non-null   object \n",
      " 10  capital-gain     9614 non-null   float64\n",
      " 11  capital-loss     9614 non-null   float64\n",
      " 12  hours-per-week   8543 non-null   float64\n",
      " 13  native-country   9614 non-null   object \n",
      " 14  income           9614 non-null   object \n",
      "dtypes: float64(4), int64(2), object(9)\n",
      "memory usage: 1.1+ MB\n"
     ]
    }
   ],
   "source": [
    "data.info()"
   ]
  },
  {
   "cell_type": "markdown",
   "metadata": {
    "id": "0ALQi-Vf2rYb"
   },
   "source": [
    "## Сохранение данных"
   ]
  },
  {
   "cell_type": "code",
   "execution_count": 9,
   "metadata": {
    "id": "nAFYRh072trA"
   },
   "outputs": [],
   "source": [
    "data.to_csv(\"adult_income.csv\", index=False)"
   ]
  },
  {
   "cell_type": "markdown",
   "metadata": {
    "id": "9u5kjESXjg-s"
   },
   "source": [
    "# Разведочный анализ данных"
   ]
  },
  {
   "cell_type": "markdown",
   "metadata": {
    "id": "ORzwrTOrltqs"
   },
   "source": [
    "## 1. Оценка качества данных\n",
    "* пропущенные значения\n",
    "* ошибочные значения"
   ]
  },
  {
   "cell_type": "code",
   "execution_count": 10,
   "metadata": {
    "colab": {
     "base_uri": "https://localhost:8080/"
    },
    "id": "NgePYC_PkkxM",
    "outputId": "b96ee012-0ea5-44a1-c628-6b9ca3b3a0a4"
   },
   "outputs": [
    {
     "data": {
      "text/plain": [
       "9615"
      ]
     },
     "execution_count": 10,
     "metadata": {},
     "output_type": "execute_result"
    }
   ],
   "source": [
    "len(data)"
   ]
  },
  {
   "cell_type": "markdown",
   "metadata": {
    "id": "Eib6Vj3eUOWi"
   },
   "source": [
    "Посмотрим, есть ли в данных пропущенные значения."
   ]
  },
  {
   "cell_type": "code",
   "execution_count": 11,
   "metadata": {
    "colab": {
     "base_uri": "https://localhost:8080/"
    },
    "id": "rM92inoDURTx",
    "outputId": "27f1f731-a21b-4973-9b88-d6ded463ca29"
   },
   "outputs": [
    {
     "data": {
      "text/plain": [
       "age                 654\n",
       "workclass             0\n",
       "fnlwgt                0\n",
       "education             0\n",
       "educational-num       0\n",
       "marital-status        0\n",
       "occupation            0\n",
       "relationship          0\n",
       "race                  1\n",
       "gender                1\n",
       "capital-gain          1\n",
       "capital-loss          1\n",
       "hours-per-week     1072\n",
       "native-country        1\n",
       "income                1\n",
       "dtype: int64"
      ]
     },
     "execution_count": 11,
     "metadata": {},
     "output_type": "execute_result"
    }
   ],
   "source": [
    "data.isna().sum()"
   ]
  },
  {
   "cell_type": "markdown",
   "metadata": {},
   "source": [
    "Что за единички?"
   ]
  },
  {
   "cell_type": "code",
   "execution_count": 12,
   "metadata": {},
   "outputs": [
    {
     "data": {
      "text/html": [
       "<div>\n",
       "<style scoped>\n",
       "    .dataframe tbody tr th:only-of-type {\n",
       "        vertical-align: middle;\n",
       "    }\n",
       "\n",
       "    .dataframe tbody tr th {\n",
       "        vertical-align: top;\n",
       "    }\n",
       "\n",
       "    .dataframe thead th {\n",
       "        text-align: right;\n",
       "    }\n",
       "</style>\n",
       "<table border=\"1\" class=\"dataframe\">\n",
       "  <thead>\n",
       "    <tr style=\"text-align: right;\">\n",
       "      <th></th>\n",
       "      <th>age</th>\n",
       "      <th>workclass</th>\n",
       "      <th>fnlwgt</th>\n",
       "      <th>education</th>\n",
       "      <th>educational-num</th>\n",
       "      <th>marital-status</th>\n",
       "      <th>occupation</th>\n",
       "      <th>relationship</th>\n",
       "      <th>race</th>\n",
       "      <th>gender</th>\n",
       "      <th>capital-gain</th>\n",
       "      <th>capital-loss</th>\n",
       "      <th>hours-per-week</th>\n",
       "      <th>native-country</th>\n",
       "      <th>income</th>\n",
       "    </tr>\n",
       "  </thead>\n",
       "  <tbody>\n",
       "    <tr>\n",
       "      <th>8612</th>\n",
       "      <td>49.0</td>\n",
       "      <td>Private</td>\n",
       "      <td>123681</td>\n",
       "      <td>Assoc-acdm</td>\n",
       "      <td>12</td>\n",
       "      <td>Separated</td>\n",
       "      <td>Sales</td>\n",
       "      <td>Unmarried</td>\n",
       "      <td>None</td>\n",
       "      <td>None</td>\n",
       "      <td>NaN</td>\n",
       "      <td>NaN</td>\n",
       "      <td>NaN</td>\n",
       "      <td>None</td>\n",
       "      <td>None</td>\n",
       "    </tr>\n",
       "  </tbody>\n",
       "</table>\n",
       "</div>"
      ],
      "text/plain": [
       "       age workclass  fnlwgt   education  educational-num marital-status  \\\n",
       "8612  49.0   Private  123681  Assoc-acdm               12      Separated   \n",
       "\n",
       "     occupation relationship  race gender  capital-gain  capital-loss  \\\n",
       "8612      Sales    Unmarried  None   None           NaN           NaN   \n",
       "\n",
       "      hours-per-week native-country income  \n",
       "8612             NaN           None   None  "
      ]
     },
     "execution_count": 12,
     "metadata": {},
     "output_type": "execute_result"
    }
   ],
   "source": [
    "data[data[\"race\"].isna()]"
   ]
  },
  {
   "cell_type": "markdown",
   "metadata": {},
   "source": [
    "* пропусков меньше 1% - можно выкинуть строки с пропусками\n",
    "\n",
    "У нас куча пропусков в одной и той же строке - одна строка нам погоды не делает, следовательно выкидываем эту строку"
   ]
  },
  {
   "cell_type": "code",
   "execution_count": 13,
   "metadata": {},
   "outputs": [],
   "source": [
    "data = data.drop([data.index[8612]])"
   ]
  },
  {
   "cell_type": "code",
   "execution_count": 14,
   "metadata": {
    "colab": {
     "base_uri": "https://localhost:8080/"
    },
    "id": "8bImMZ3xkwjm",
    "outputId": "55f144f8-bf4e-4648-90bc-c590765564fc"
   },
   "outputs": [
    {
     "data": {
      "text/plain": [
       "age                 654\n",
       "workclass             0\n",
       "fnlwgt                0\n",
       "education             0\n",
       "educational-num       0\n",
       "marital-status        0\n",
       "occupation            0\n",
       "relationship          0\n",
       "race                  0\n",
       "gender                0\n",
       "capital-gain          0\n",
       "capital-loss          0\n",
       "hours-per-week     1071\n",
       "native-country        0\n",
       "income                0\n",
       "dtype: int64"
      ]
     },
     "execution_count": 14,
     "metadata": {},
     "output_type": "execute_result"
    }
   ],
   "source": [
    "data.isna().sum()"
   ]
  },
  {
   "cell_type": "markdown",
   "metadata": {
    "id": "Z5MeGQ9cLz32"
   },
   "source": [
    "* пропусков меньше 10% - заполняем пропуск каким-то значением\n",
    "Пропуски в числовых признаках обычно заполняют средним значением или медианой."
   ]
  },
  {
   "cell_type": "code",
   "execution_count": 15,
   "metadata": {
    "id": "-x8rUA5FlIGF",
    "scrolled": true
   },
   "outputs": [
    {
     "data": {
      "text/plain": [
       "0.0680257957145829"
      ]
     },
     "execution_count": 15,
     "metadata": {},
     "output_type": "execute_result"
    }
   ],
   "source": [
    "len(data[data[\"age\"].isna()]) / len(data)"
   ]
  },
  {
   "cell_type": "markdown",
   "metadata": {},
   "source": [
    "С полем age всё так и есть, значит заполняем, к примеру, средним \n",
    "\n",
    "На всякий случай проверим, насколько у нас близки среднее и медиана\n",
    "\n",
    "(вряд ли возраст у нас улетит в космос, поэтому медиана тут не особо имеет математический смысл)"
   ]
  },
  {
   "cell_type": "code",
   "execution_count": 16,
   "metadata": {
    "colab": {
     "base_uri": "https://localhost:8080/"
    },
    "id": "ef6HYXkllNN9",
    "outputId": "247899f7-e578-45e6-d082-5963479255bb"
   },
   "outputs": [
    {
     "name": "stdout",
     "output_type": "stream",
     "text": [
      "37.0 38.72142857142857\n"
     ]
    }
   ],
   "source": [
    "median = data['age'].median()\n",
    "mean = data['age'].mean()\n",
    "print(median, mean)\n",
    "\n",
    "data['age'].fillna(mean, inplace=True)"
   ]
  },
  {
   "cell_type": "code",
   "execution_count": 17,
   "metadata": {},
   "outputs": [
    {
     "data": {
      "text/plain": [
       "age                   0\n",
       "workclass             0\n",
       "fnlwgt                0\n",
       "education             0\n",
       "educational-num       0\n",
       "marital-status        0\n",
       "occupation            0\n",
       "relationship          0\n",
       "race                  0\n",
       "gender                0\n",
       "capital-gain          0\n",
       "capital-loss          0\n",
       "hours-per-week     1071\n",
       "native-country        0\n",
       "income                0\n",
       "dtype: int64"
      ]
     },
     "execution_count": 17,
     "metadata": {},
     "output_type": "execute_result"
    }
   ],
   "source": [
    "data.isna().sum()"
   ]
  },
  {
   "cell_type": "markdown",
   "metadata": {
    "id": "oqDbD5YvBTma"
   },
   "source": [
    "А если пропусков больше 10%?\n",
    "\n",
    "Нам не сказали, что делать в этом случае... если просто в лоб заполним медианой, то можем всё испортить"
   ]
  },
  {
   "cell_type": "code",
   "execution_count": 18,
   "metadata": {
    "colab": {
     "base_uri": "https://localhost:8080/"
    },
    "id": "uy-55pFplg7R",
    "outputId": "798f45f8-0d2b-4c21-9e83-ac698af633ee"
   },
   "outputs": [
    {
     "data": {
      "text/plain": [
       "0.11140004160599126"
      ]
     },
     "execution_count": 18,
     "metadata": {},
     "output_type": "execute_result"
    }
   ],
   "source": [
    "len(data[data[\"hours-per-week\"].isna()]) / len(data)"
   ]
  },
  {
   "cell_type": "markdown",
   "metadata": {
    "id": "eshVGTgpLbwb"
   },
   "source": [
    "Посмотрим на эти данные"
   ]
  },
  {
   "cell_type": "code",
   "execution_count": 19,
   "metadata": {},
   "outputs": [
    {
     "data": {
      "text/html": [
       "<div>\n",
       "<style scoped>\n",
       "    .dataframe tbody tr th:only-of-type {\n",
       "        vertical-align: middle;\n",
       "    }\n",
       "\n",
       "    .dataframe tbody tr th {\n",
       "        vertical-align: top;\n",
       "    }\n",
       "\n",
       "    .dataframe thead th {\n",
       "        text-align: right;\n",
       "    }\n",
       "</style>\n",
       "<table border=\"1\" class=\"dataframe\">\n",
       "  <thead>\n",
       "    <tr style=\"text-align: right;\">\n",
       "      <th></th>\n",
       "      <th>age</th>\n",
       "      <th>workclass</th>\n",
       "      <th>fnlwgt</th>\n",
       "      <th>education</th>\n",
       "      <th>educational-num</th>\n",
       "      <th>marital-status</th>\n",
       "      <th>occupation</th>\n",
       "      <th>relationship</th>\n",
       "      <th>race</th>\n",
       "      <th>gender</th>\n",
       "      <th>capital-gain</th>\n",
       "      <th>capital-loss</th>\n",
       "      <th>hours-per-week</th>\n",
       "      <th>native-country</th>\n",
       "      <th>income</th>\n",
       "    </tr>\n",
       "  </thead>\n",
       "  <tbody>\n",
       "    <tr>\n",
       "      <th>16</th>\n",
       "      <td>45.000000</td>\n",
       "      <td>Self-emp-not-inc</td>\n",
       "      <td>432824</td>\n",
       "      <td>HS-grad</td>\n",
       "      <td>9</td>\n",
       "      <td>Married-civ-spouse</td>\n",
       "      <td>Craft-repair</td>\n",
       "      <td>Husband</td>\n",
       "      <td>White</td>\n",
       "      <td>Male</td>\n",
       "      <td>7298.0</td>\n",
       "      <td>0.0</td>\n",
       "      <td>NaN</td>\n",
       "      <td>United-States</td>\n",
       "      <td>&gt;50K</td>\n",
       "    </tr>\n",
       "    <tr>\n",
       "      <th>20</th>\n",
       "      <td>44.000000</td>\n",
       "      <td>Private</td>\n",
       "      <td>26669</td>\n",
       "      <td>Assoc-voc</td>\n",
       "      <td>11</td>\n",
       "      <td>Widowed</td>\n",
       "      <td>Exec-managerial</td>\n",
       "      <td>Unmarried</td>\n",
       "      <td>White</td>\n",
       "      <td>Female</td>\n",
       "      <td>0.0</td>\n",
       "      <td>0.0</td>\n",
       "      <td>NaN</td>\n",
       "      <td>United-States</td>\n",
       "      <td>&lt;=50K</td>\n",
       "    </tr>\n",
       "    <tr>\n",
       "      <th>35</th>\n",
       "      <td>32.000000</td>\n",
       "      <td>Private</td>\n",
       "      <td>136921</td>\n",
       "      <td>HS-grad</td>\n",
       "      <td>9</td>\n",
       "      <td>Married-civ-spouse</td>\n",
       "      <td>Sales</td>\n",
       "      <td>Husband</td>\n",
       "      <td>White</td>\n",
       "      <td>Male</td>\n",
       "      <td>0.0</td>\n",
       "      <td>0.0</td>\n",
       "      <td>NaN</td>\n",
       "      <td>United-States</td>\n",
       "      <td>&lt;=50K</td>\n",
       "    </tr>\n",
       "    <tr>\n",
       "      <th>55</th>\n",
       "      <td>54.000000</td>\n",
       "      <td>Private</td>\n",
       "      <td>186272</td>\n",
       "      <td>Some-college</td>\n",
       "      <td>10</td>\n",
       "      <td>Married-civ-spouse</td>\n",
       "      <td>Transport-moving</td>\n",
       "      <td>Husband</td>\n",
       "      <td>White</td>\n",
       "      <td>Male</td>\n",
       "      <td>3908.0</td>\n",
       "      <td>0.0</td>\n",
       "      <td>NaN</td>\n",
       "      <td>United-States</td>\n",
       "      <td>&lt;=50K</td>\n",
       "    </tr>\n",
       "    <tr>\n",
       "      <th>77</th>\n",
       "      <td>39.000000</td>\n",
       "      <td>Private</td>\n",
       "      <td>118429</td>\n",
       "      <td>Some-college</td>\n",
       "      <td>10</td>\n",
       "      <td>Divorced</td>\n",
       "      <td>Sales</td>\n",
       "      <td>Not-in-family</td>\n",
       "      <td>White</td>\n",
       "      <td>Male</td>\n",
       "      <td>0.0</td>\n",
       "      <td>0.0</td>\n",
       "      <td>NaN</td>\n",
       "      <td>United-States</td>\n",
       "      <td>&lt;=50K</td>\n",
       "    </tr>\n",
       "    <tr>\n",
       "      <th>...</th>\n",
       "      <td>...</td>\n",
       "      <td>...</td>\n",
       "      <td>...</td>\n",
       "      <td>...</td>\n",
       "      <td>...</td>\n",
       "      <td>...</td>\n",
       "      <td>...</td>\n",
       "      <td>...</td>\n",
       "      <td>...</td>\n",
       "      <td>...</td>\n",
       "      <td>...</td>\n",
       "      <td>...</td>\n",
       "      <td>...</td>\n",
       "      <td>...</td>\n",
       "      <td>...</td>\n",
       "    </tr>\n",
       "    <tr>\n",
       "      <th>9610</th>\n",
       "      <td>38.721429</td>\n",
       "      <td>Private</td>\n",
       "      <td>200939</td>\n",
       "      <td>HS-grad</td>\n",
       "      <td>9</td>\n",
       "      <td>Married-civ-spouse</td>\n",
       "      <td>Craft-repair</td>\n",
       "      <td>Husband</td>\n",
       "      <td>White</td>\n",
       "      <td>Male</td>\n",
       "      <td>0.0</td>\n",
       "      <td>0.0</td>\n",
       "      <td>NaN</td>\n",
       "      <td>United-States</td>\n",
       "      <td>&gt;50K</td>\n",
       "    </tr>\n",
       "    <tr>\n",
       "      <th>9611</th>\n",
       "      <td>38.721429</td>\n",
       "      <td>Private</td>\n",
       "      <td>110592</td>\n",
       "      <td>12th</td>\n",
       "      <td>8</td>\n",
       "      <td>Married-civ-spouse</td>\n",
       "      <td>Machine-op-inspct</td>\n",
       "      <td>Husband</td>\n",
       "      <td>White</td>\n",
       "      <td>Male</td>\n",
       "      <td>0.0</td>\n",
       "      <td>0.0</td>\n",
       "      <td>NaN</td>\n",
       "      <td>United-States</td>\n",
       "      <td>&lt;=50K</td>\n",
       "    </tr>\n",
       "    <tr>\n",
       "      <th>9612</th>\n",
       "      <td>38.721429</td>\n",
       "      <td>Private</td>\n",
       "      <td>167840</td>\n",
       "      <td>HS-grad</td>\n",
       "      <td>9</td>\n",
       "      <td>Married-civ-spouse</td>\n",
       "      <td>Handlers-cleaners</td>\n",
       "      <td>Husband</td>\n",
       "      <td>White</td>\n",
       "      <td>Male</td>\n",
       "      <td>0.0</td>\n",
       "      <td>2002.0</td>\n",
       "      <td>NaN</td>\n",
       "      <td>United-States</td>\n",
       "      <td>&lt;=50K</td>\n",
       "    </tr>\n",
       "    <tr>\n",
       "      <th>9613</th>\n",
       "      <td>38.721429</td>\n",
       "      <td>Private</td>\n",
       "      <td>274883</td>\n",
       "      <td>HS-grad</td>\n",
       "      <td>9</td>\n",
       "      <td>Married-civ-spouse</td>\n",
       "      <td>Transport-moving</td>\n",
       "      <td>Husband</td>\n",
       "      <td>White</td>\n",
       "      <td>Male</td>\n",
       "      <td>0.0</td>\n",
       "      <td>0.0</td>\n",
       "      <td>NaN</td>\n",
       "      <td>United-States</td>\n",
       "      <td>&gt;50K</td>\n",
       "    </tr>\n",
       "    <tr>\n",
       "      <th>9614</th>\n",
       "      <td>38.721429</td>\n",
       "      <td>Private</td>\n",
       "      <td>212895</td>\n",
       "      <td>Assoc-acdm</td>\n",
       "      <td>12</td>\n",
       "      <td>Never-married</td>\n",
       "      <td>Craft-repair</td>\n",
       "      <td>Not-in-family</td>\n",
       "      <td>White</td>\n",
       "      <td>Male</td>\n",
       "      <td>0.0</td>\n",
       "      <td>0.0</td>\n",
       "      <td>NaN</td>\n",
       "      <td>United-States</td>\n",
       "      <td>&lt;=50K</td>\n",
       "    </tr>\n",
       "  </tbody>\n",
       "</table>\n",
       "<p>1071 rows × 15 columns</p>\n",
       "</div>"
      ],
      "text/plain": [
       "            age         workclass  fnlwgt     education  educational-num  \\\n",
       "16    45.000000  Self-emp-not-inc  432824       HS-grad                9   \n",
       "20    44.000000           Private   26669     Assoc-voc               11   \n",
       "35    32.000000           Private  136921       HS-grad                9   \n",
       "55    54.000000           Private  186272  Some-college               10   \n",
       "77    39.000000           Private  118429  Some-college               10   \n",
       "...         ...               ...     ...           ...              ...   \n",
       "9610  38.721429           Private  200939       HS-grad                9   \n",
       "9611  38.721429           Private  110592          12th                8   \n",
       "9612  38.721429           Private  167840       HS-grad                9   \n",
       "9613  38.721429           Private  274883       HS-grad                9   \n",
       "9614  38.721429           Private  212895    Assoc-acdm               12   \n",
       "\n",
       "          marital-status         occupation   relationship   race  gender  \\\n",
       "16    Married-civ-spouse       Craft-repair        Husband  White    Male   \n",
       "20               Widowed    Exec-managerial      Unmarried  White  Female   \n",
       "35    Married-civ-spouse              Sales        Husband  White    Male   \n",
       "55    Married-civ-spouse   Transport-moving        Husband  White    Male   \n",
       "77              Divorced              Sales  Not-in-family  White    Male   \n",
       "...                  ...                ...            ...    ...     ...   \n",
       "9610  Married-civ-spouse       Craft-repair        Husband  White    Male   \n",
       "9611  Married-civ-spouse  Machine-op-inspct        Husband  White    Male   \n",
       "9612  Married-civ-spouse  Handlers-cleaners        Husband  White    Male   \n",
       "9613  Married-civ-spouse   Transport-moving        Husband  White    Male   \n",
       "9614       Never-married       Craft-repair  Not-in-family  White    Male   \n",
       "\n",
       "      capital-gain  capital-loss  hours-per-week native-country income  \n",
       "16          7298.0           0.0             NaN  United-States   >50K  \n",
       "20             0.0           0.0             NaN  United-States  <=50K  \n",
       "35             0.0           0.0             NaN  United-States  <=50K  \n",
       "55          3908.0           0.0             NaN  United-States  <=50K  \n",
       "77             0.0           0.0             NaN  United-States  <=50K  \n",
       "...            ...           ...             ...            ...    ...  \n",
       "9610           0.0           0.0             NaN  United-States   >50K  \n",
       "9611           0.0           0.0             NaN  United-States  <=50K  \n",
       "9612           0.0        2002.0             NaN  United-States  <=50K  \n",
       "9613           0.0           0.0             NaN  United-States   >50K  \n",
       "9614           0.0           0.0             NaN  United-States  <=50K  \n",
       "\n",
       "[1071 rows x 15 columns]"
      ]
     },
     "execution_count": 19,
     "metadata": {},
     "output_type": "execute_result"
    }
   ],
   "source": [
    "data[data[\"hours-per-week\"].isna()]"
   ]
  },
  {
   "cell_type": "markdown",
   "metadata": {},
   "source": [
    "Посмотрим, чем заполнены эти данные в случаях, когда они заполнены"
   ]
  },
  {
   "cell_type": "code",
   "execution_count": 20,
   "metadata": {},
   "outputs": [
    {
     "name": "stdout",
     "output_type": "stream",
     "text": [
      "40.0 40.475125834016154\n"
     ]
    }
   ],
   "source": [
    "median = data['hours-per-week'].median()\n",
    "mean = data['hours-per-week'].mean()\n",
    "print(median, mean)"
   ]
  },
  {
   "cell_type": "markdown",
   "metadata": {},
   "source": [
    "В среднем работают по 40 часов в неделю, что логично"
   ]
  },
  {
   "cell_type": "markdown",
   "metadata": {},
   "source": [
    "У каких работничков отсутствуют данные о часах в неделю:"
   ]
  },
  {
   "cell_type": "code",
   "execution_count": 21,
   "metadata": {},
   "outputs": [
    {
     "data": {
      "text/plain": [
       "workclass\n",
       "?                    59\n",
       "Federal-gov          23\n",
       "Local-gov            64\n",
       "Private             757\n",
       "Self-emp-inc         29\n",
       "Self-emp-not-inc     92\n",
       "State-gov            47\n",
       "Name: age, dtype: int64"
      ]
     },
     "execution_count": 21,
     "metadata": {},
     "output_type": "execute_result"
    }
   ],
   "source": [
    "data[data[\"hours-per-week\"].isna()].groupby(\"workclass\")[\"age\"].count()"
   ]
  },
  {
   "cell_type": "markdown",
   "metadata": {},
   "source": [
    "Больше всего тут непонятных приватных (это кто вообще?)\n",
    "\n",
    "Посмотрим на них:"
   ]
  },
  {
   "cell_type": "code",
   "execution_count": 22,
   "metadata": {},
   "outputs": [
    {
     "data": {
      "text/html": [
       "<div>\n",
       "<style scoped>\n",
       "    .dataframe tbody tr th:only-of-type {\n",
       "        vertical-align: middle;\n",
       "    }\n",
       "\n",
       "    .dataframe tbody tr th {\n",
       "        vertical-align: top;\n",
       "    }\n",
       "\n",
       "    .dataframe thead th {\n",
       "        text-align: right;\n",
       "    }\n",
       "</style>\n",
       "<table border=\"1\" class=\"dataframe\">\n",
       "  <thead>\n",
       "    <tr style=\"text-align: right;\">\n",
       "      <th></th>\n",
       "      <th>age</th>\n",
       "      <th>workclass</th>\n",
       "      <th>fnlwgt</th>\n",
       "      <th>education</th>\n",
       "      <th>educational-num</th>\n",
       "      <th>marital-status</th>\n",
       "      <th>occupation</th>\n",
       "      <th>relationship</th>\n",
       "      <th>race</th>\n",
       "      <th>gender</th>\n",
       "      <th>capital-gain</th>\n",
       "      <th>capital-loss</th>\n",
       "      <th>hours-per-week</th>\n",
       "      <th>native-country</th>\n",
       "      <th>income</th>\n",
       "    </tr>\n",
       "  </thead>\n",
       "  <tbody>\n",
       "    <tr>\n",
       "      <th>0</th>\n",
       "      <td>25.000000</td>\n",
       "      <td>Private</td>\n",
       "      <td>226802</td>\n",
       "      <td>11th</td>\n",
       "      <td>7</td>\n",
       "      <td>Never-married</td>\n",
       "      <td>Machine-op-inspct</td>\n",
       "      <td>Own-child</td>\n",
       "      <td>Black</td>\n",
       "      <td>Male</td>\n",
       "      <td>0.0</td>\n",
       "      <td>0.0</td>\n",
       "      <td>40.0</td>\n",
       "      <td>United-States</td>\n",
       "      <td>&lt;=50K</td>\n",
       "    </tr>\n",
       "    <tr>\n",
       "      <th>1</th>\n",
       "      <td>38.000000</td>\n",
       "      <td>Private</td>\n",
       "      <td>89814</td>\n",
       "      <td>HS-grad</td>\n",
       "      <td>9</td>\n",
       "      <td>Married-civ-spouse</td>\n",
       "      <td>Farming-fishing</td>\n",
       "      <td>Husband</td>\n",
       "      <td>White</td>\n",
       "      <td>Male</td>\n",
       "      <td>0.0</td>\n",
       "      <td>0.0</td>\n",
       "      <td>50.0</td>\n",
       "      <td>United-States</td>\n",
       "      <td>&lt;=50K</td>\n",
       "    </tr>\n",
       "    <tr>\n",
       "      <th>3</th>\n",
       "      <td>44.000000</td>\n",
       "      <td>Private</td>\n",
       "      <td>160323</td>\n",
       "      <td>Some-college</td>\n",
       "      <td>10</td>\n",
       "      <td>Married-civ-spouse</td>\n",
       "      <td>Machine-op-inspct</td>\n",
       "      <td>Husband</td>\n",
       "      <td>Black</td>\n",
       "      <td>Male</td>\n",
       "      <td>7688.0</td>\n",
       "      <td>0.0</td>\n",
       "      <td>40.0</td>\n",
       "      <td>United-States</td>\n",
       "      <td>&gt;50K</td>\n",
       "    </tr>\n",
       "    <tr>\n",
       "      <th>5</th>\n",
       "      <td>34.000000</td>\n",
       "      <td>Private</td>\n",
       "      <td>198693</td>\n",
       "      <td>10th</td>\n",
       "      <td>6</td>\n",
       "      <td>Never-married</td>\n",
       "      <td>Other-service</td>\n",
       "      <td>Not-in-family</td>\n",
       "      <td>White</td>\n",
       "      <td>Male</td>\n",
       "      <td>0.0</td>\n",
       "      <td>0.0</td>\n",
       "      <td>30.0</td>\n",
       "      <td>United-States</td>\n",
       "      <td>&lt;=50K</td>\n",
       "    </tr>\n",
       "    <tr>\n",
       "      <th>8</th>\n",
       "      <td>24.000000</td>\n",
       "      <td>Private</td>\n",
       "      <td>369667</td>\n",
       "      <td>Some-college</td>\n",
       "      <td>10</td>\n",
       "      <td>Never-married</td>\n",
       "      <td>Other-service</td>\n",
       "      <td>Unmarried</td>\n",
       "      <td>White</td>\n",
       "      <td>Female</td>\n",
       "      <td>0.0</td>\n",
       "      <td>0.0</td>\n",
       "      <td>40.0</td>\n",
       "      <td>United-States</td>\n",
       "      <td>&lt;=50K</td>\n",
       "    </tr>\n",
       "    <tr>\n",
       "      <th>...</th>\n",
       "      <td>...</td>\n",
       "      <td>...</td>\n",
       "      <td>...</td>\n",
       "      <td>...</td>\n",
       "      <td>...</td>\n",
       "      <td>...</td>\n",
       "      <td>...</td>\n",
       "      <td>...</td>\n",
       "      <td>...</td>\n",
       "      <td>...</td>\n",
       "      <td>...</td>\n",
       "      <td>...</td>\n",
       "      <td>...</td>\n",
       "      <td>...</td>\n",
       "      <td>...</td>\n",
       "    </tr>\n",
       "    <tr>\n",
       "      <th>9610</th>\n",
       "      <td>38.721429</td>\n",
       "      <td>Private</td>\n",
       "      <td>200939</td>\n",
       "      <td>HS-grad</td>\n",
       "      <td>9</td>\n",
       "      <td>Married-civ-spouse</td>\n",
       "      <td>Craft-repair</td>\n",
       "      <td>Husband</td>\n",
       "      <td>White</td>\n",
       "      <td>Male</td>\n",
       "      <td>0.0</td>\n",
       "      <td>0.0</td>\n",
       "      <td>NaN</td>\n",
       "      <td>United-States</td>\n",
       "      <td>&gt;50K</td>\n",
       "    </tr>\n",
       "    <tr>\n",
       "      <th>9611</th>\n",
       "      <td>38.721429</td>\n",
       "      <td>Private</td>\n",
       "      <td>110592</td>\n",
       "      <td>12th</td>\n",
       "      <td>8</td>\n",
       "      <td>Married-civ-spouse</td>\n",
       "      <td>Machine-op-inspct</td>\n",
       "      <td>Husband</td>\n",
       "      <td>White</td>\n",
       "      <td>Male</td>\n",
       "      <td>0.0</td>\n",
       "      <td>0.0</td>\n",
       "      <td>NaN</td>\n",
       "      <td>United-States</td>\n",
       "      <td>&lt;=50K</td>\n",
       "    </tr>\n",
       "    <tr>\n",
       "      <th>9612</th>\n",
       "      <td>38.721429</td>\n",
       "      <td>Private</td>\n",
       "      <td>167840</td>\n",
       "      <td>HS-grad</td>\n",
       "      <td>9</td>\n",
       "      <td>Married-civ-spouse</td>\n",
       "      <td>Handlers-cleaners</td>\n",
       "      <td>Husband</td>\n",
       "      <td>White</td>\n",
       "      <td>Male</td>\n",
       "      <td>0.0</td>\n",
       "      <td>2002.0</td>\n",
       "      <td>NaN</td>\n",
       "      <td>United-States</td>\n",
       "      <td>&lt;=50K</td>\n",
       "    </tr>\n",
       "    <tr>\n",
       "      <th>9613</th>\n",
       "      <td>38.721429</td>\n",
       "      <td>Private</td>\n",
       "      <td>274883</td>\n",
       "      <td>HS-grad</td>\n",
       "      <td>9</td>\n",
       "      <td>Married-civ-spouse</td>\n",
       "      <td>Transport-moving</td>\n",
       "      <td>Husband</td>\n",
       "      <td>White</td>\n",
       "      <td>Male</td>\n",
       "      <td>0.0</td>\n",
       "      <td>0.0</td>\n",
       "      <td>NaN</td>\n",
       "      <td>United-States</td>\n",
       "      <td>&gt;50K</td>\n",
       "    </tr>\n",
       "    <tr>\n",
       "      <th>9614</th>\n",
       "      <td>38.721429</td>\n",
       "      <td>Private</td>\n",
       "      <td>212895</td>\n",
       "      <td>Assoc-acdm</td>\n",
       "      <td>12</td>\n",
       "      <td>Never-married</td>\n",
       "      <td>Craft-repair</td>\n",
       "      <td>Not-in-family</td>\n",
       "      <td>White</td>\n",
       "      <td>Male</td>\n",
       "      <td>0.0</td>\n",
       "      <td>0.0</td>\n",
       "      <td>NaN</td>\n",
       "      <td>United-States</td>\n",
       "      <td>&lt;=50K</td>\n",
       "    </tr>\n",
       "  </tbody>\n",
       "</table>\n",
       "<p>6573 rows × 15 columns</p>\n",
       "</div>"
      ],
      "text/plain": [
       "            age workclass  fnlwgt     education  educational-num  \\\n",
       "0     25.000000   Private  226802          11th                7   \n",
       "1     38.000000   Private   89814       HS-grad                9   \n",
       "3     44.000000   Private  160323  Some-college               10   \n",
       "5     34.000000   Private  198693          10th                6   \n",
       "8     24.000000   Private  369667  Some-college               10   \n",
       "...         ...       ...     ...           ...              ...   \n",
       "9610  38.721429   Private  200939       HS-grad                9   \n",
       "9611  38.721429   Private  110592          12th                8   \n",
       "9612  38.721429   Private  167840       HS-grad                9   \n",
       "9613  38.721429   Private  274883       HS-grad                9   \n",
       "9614  38.721429   Private  212895    Assoc-acdm               12   \n",
       "\n",
       "          marital-status         occupation   relationship   race  gender  \\\n",
       "0          Never-married  Machine-op-inspct      Own-child  Black    Male   \n",
       "1     Married-civ-spouse    Farming-fishing        Husband  White    Male   \n",
       "3     Married-civ-spouse  Machine-op-inspct        Husband  Black    Male   \n",
       "5          Never-married      Other-service  Not-in-family  White    Male   \n",
       "8          Never-married      Other-service      Unmarried  White  Female   \n",
       "...                  ...                ...            ...    ...     ...   \n",
       "9610  Married-civ-spouse       Craft-repair        Husband  White    Male   \n",
       "9611  Married-civ-spouse  Machine-op-inspct        Husband  White    Male   \n",
       "9612  Married-civ-spouse  Handlers-cleaners        Husband  White    Male   \n",
       "9613  Married-civ-spouse   Transport-moving        Husband  White    Male   \n",
       "9614       Never-married       Craft-repair  Not-in-family  White    Male   \n",
       "\n",
       "      capital-gain  capital-loss  hours-per-week native-country income  \n",
       "0              0.0           0.0            40.0  United-States  <=50K  \n",
       "1              0.0           0.0            50.0  United-States  <=50K  \n",
       "3           7688.0           0.0            40.0  United-States   >50K  \n",
       "5              0.0           0.0            30.0  United-States  <=50K  \n",
       "8              0.0           0.0            40.0  United-States  <=50K  \n",
       "...            ...           ...             ...            ...    ...  \n",
       "9610           0.0           0.0             NaN  United-States   >50K  \n",
       "9611           0.0           0.0             NaN  United-States  <=50K  \n",
       "9612           0.0        2002.0             NaN  United-States  <=50K  \n",
       "9613           0.0           0.0             NaN  United-States   >50K  \n",
       "9614           0.0           0.0             NaN  United-States  <=50K  \n",
       "\n",
       "[6573 rows x 15 columns]"
      ]
     },
     "execution_count": 22,
     "metadata": {},
     "output_type": "execute_result"
    }
   ],
   "source": [
    "data[data[\"workclass\"] == \"Private\"]"
   ]
  },
  {
   "cell_type": "markdown",
   "metadata": {},
   "source": [
    "Посмотрим долю незаполненных данных по типам работы:"
   ]
  },
  {
   "cell_type": "code",
   "execution_count": 23,
   "metadata": {},
   "outputs": [
    {
     "data": {
      "text/plain": [
       "workclass\n",
       "?                   0.101027\n",
       "Federal-gov         0.082437\n",
       "Local-gov           0.105090\n",
       "Never-worked             NaN\n",
       "Private             0.115168\n",
       "Self-emp-inc        0.082153\n",
       "Self-emp-not-inc    0.117647\n",
       "State-gov           0.109557\n",
       "Without-pay              NaN\n",
       "Name: age, dtype: float64"
      ]
     },
     "execution_count": 23,
     "metadata": {},
     "output_type": "execute_result"
    }
   ],
   "source": [
    "data[data[\"hours-per-week\"].isna()].groupby(\"workclass\")[\"age\"].count() / data.groupby(\"workclass\")[\"age\"].count()"
   ]
  },
  {
   "cell_type": "markdown",
   "metadata": {},
   "source": [
    "А что у нас с бездельниками и волонтерами?"
   ]
  },
  {
   "cell_type": "code",
   "execution_count": 24,
   "metadata": {},
   "outputs": [
    {
     "data": {
      "text/html": [
       "<div>\n",
       "<style scoped>\n",
       "    .dataframe tbody tr th:only-of-type {\n",
       "        vertical-align: middle;\n",
       "    }\n",
       "\n",
       "    .dataframe tbody tr th {\n",
       "        vertical-align: top;\n",
       "    }\n",
       "\n",
       "    .dataframe thead th {\n",
       "        text-align: right;\n",
       "    }\n",
       "</style>\n",
       "<table border=\"1\" class=\"dataframe\">\n",
       "  <thead>\n",
       "    <tr style=\"text-align: right;\">\n",
       "      <th></th>\n",
       "      <th>age</th>\n",
       "      <th>workclass</th>\n",
       "      <th>fnlwgt</th>\n",
       "      <th>education</th>\n",
       "      <th>educational-num</th>\n",
       "      <th>marital-status</th>\n",
       "      <th>occupation</th>\n",
       "      <th>relationship</th>\n",
       "      <th>race</th>\n",
       "      <th>gender</th>\n",
       "      <th>capital-gain</th>\n",
       "      <th>capital-loss</th>\n",
       "      <th>hours-per-week</th>\n",
       "      <th>native-country</th>\n",
       "      <th>income</th>\n",
       "    </tr>\n",
       "  </thead>\n",
       "  <tbody>\n",
       "    <tr>\n",
       "      <th>2647</th>\n",
       "      <td>19.0</td>\n",
       "      <td>Without-pay</td>\n",
       "      <td>43627</td>\n",
       "      <td>HS-grad</td>\n",
       "      <td>9</td>\n",
       "      <td>Never-married</td>\n",
       "      <td>Other-service</td>\n",
       "      <td>Own-child</td>\n",
       "      <td>White</td>\n",
       "      <td>Male</td>\n",
       "      <td>0.0</td>\n",
       "      <td>0.0</td>\n",
       "      <td>10.0</td>\n",
       "      <td>United-States</td>\n",
       "      <td>&lt;=50K</td>\n",
       "    </tr>\n",
       "    <tr>\n",
       "      <th>2836</th>\n",
       "      <td>74.0</td>\n",
       "      <td>Without-pay</td>\n",
       "      <td>216001</td>\n",
       "      <td>7th-8th</td>\n",
       "      <td>4</td>\n",
       "      <td>Married-civ-spouse</td>\n",
       "      <td>Farming-fishing</td>\n",
       "      <td>Husband</td>\n",
       "      <td>White</td>\n",
       "      <td>Male</td>\n",
       "      <td>0.0</td>\n",
       "      <td>0.0</td>\n",
       "      <td>20.0</td>\n",
       "      <td>United-States</td>\n",
       "      <td>&lt;=50K</td>\n",
       "    </tr>\n",
       "    <tr>\n",
       "      <th>5798</th>\n",
       "      <td>51.0</td>\n",
       "      <td>Without-pay</td>\n",
       "      <td>124963</td>\n",
       "      <td>Assoc-acdm</td>\n",
       "      <td>12</td>\n",
       "      <td>Married-civ-spouse</td>\n",
       "      <td>Sales</td>\n",
       "      <td>Husband</td>\n",
       "      <td>White</td>\n",
       "      <td>Male</td>\n",
       "      <td>0.0</td>\n",
       "      <td>0.0</td>\n",
       "      <td>45.0</td>\n",
       "      <td>United-States</td>\n",
       "      <td>&lt;=50K</td>\n",
       "    </tr>\n",
       "    <tr>\n",
       "      <th>7870</th>\n",
       "      <td>17.0</td>\n",
       "      <td>Never-worked</td>\n",
       "      <td>131593</td>\n",
       "      <td>11th</td>\n",
       "      <td>7</td>\n",
       "      <td>Never-married</td>\n",
       "      <td>?</td>\n",
       "      <td>Own-child</td>\n",
       "      <td>Black</td>\n",
       "      <td>Female</td>\n",
       "      <td>0.0</td>\n",
       "      <td>0.0</td>\n",
       "      <td>20.0</td>\n",
       "      <td>United-States</td>\n",
       "      <td>&lt;=50K</td>\n",
       "    </tr>\n",
       "    <tr>\n",
       "      <th>7976</th>\n",
       "      <td>64.0</td>\n",
       "      <td>Without-pay</td>\n",
       "      <td>209291</td>\n",
       "      <td>HS-grad</td>\n",
       "      <td>9</td>\n",
       "      <td>Married-civ-spouse</td>\n",
       "      <td>Handlers-cleaners</td>\n",
       "      <td>Husband</td>\n",
       "      <td>White</td>\n",
       "      <td>Male</td>\n",
       "      <td>0.0</td>\n",
       "      <td>0.0</td>\n",
       "      <td>60.0</td>\n",
       "      <td>United-States</td>\n",
       "      <td>&gt;50K</td>\n",
       "    </tr>\n",
       "  </tbody>\n",
       "</table>\n",
       "</div>"
      ],
      "text/plain": [
       "       age     workclass  fnlwgt   education  educational-num  \\\n",
       "2647  19.0   Without-pay   43627     HS-grad                9   \n",
       "2836  74.0   Without-pay  216001     7th-8th                4   \n",
       "5798  51.0   Without-pay  124963  Assoc-acdm               12   \n",
       "7870  17.0  Never-worked  131593        11th                7   \n",
       "7976  64.0   Without-pay  209291     HS-grad                9   \n",
       "\n",
       "          marital-status         occupation relationship   race  gender  \\\n",
       "2647       Never-married      Other-service    Own-child  White    Male   \n",
       "2836  Married-civ-spouse    Farming-fishing      Husband  White    Male   \n",
       "5798  Married-civ-spouse              Sales      Husband  White    Male   \n",
       "7870       Never-married                  ?    Own-child  Black  Female   \n",
       "7976  Married-civ-spouse  Handlers-cleaners      Husband  White    Male   \n",
       "\n",
       "      capital-gain  capital-loss  hours-per-week native-country income  \n",
       "2647           0.0           0.0            10.0  United-States  <=50K  \n",
       "2836           0.0           0.0            20.0  United-States  <=50K  \n",
       "5798           0.0           0.0            45.0  United-States  <=50K  \n",
       "7870           0.0           0.0            20.0  United-States  <=50K  \n",
       "7976           0.0           0.0            60.0  United-States   >50K  "
      ]
     },
     "execution_count": 24,
     "metadata": {},
     "output_type": "execute_result"
    }
   ],
   "source": [
    "data[(data[\"workclass\"] == \"Never-worked\") | (data[\"workclass\"] == \"Without-pay\")]"
   ]
  },
  {
   "cell_type": "markdown",
   "metadata": {},
   "source": [
    "А что за люди-вопросики?"
   ]
  },
  {
   "cell_type": "code",
   "execution_count": 25,
   "metadata": {},
   "outputs": [
    {
     "data": {
      "text/html": [
       "<div>\n",
       "<style scoped>\n",
       "    .dataframe tbody tr th:only-of-type {\n",
       "        vertical-align: middle;\n",
       "    }\n",
       "\n",
       "    .dataframe tbody tr th {\n",
       "        vertical-align: top;\n",
       "    }\n",
       "\n",
       "    .dataframe thead th {\n",
       "        text-align: right;\n",
       "    }\n",
       "</style>\n",
       "<table border=\"1\" class=\"dataframe\">\n",
       "  <thead>\n",
       "    <tr style=\"text-align: right;\">\n",
       "      <th></th>\n",
       "      <th>age</th>\n",
       "      <th>workclass</th>\n",
       "      <th>fnlwgt</th>\n",
       "      <th>education</th>\n",
       "      <th>educational-num</th>\n",
       "      <th>marital-status</th>\n",
       "      <th>occupation</th>\n",
       "      <th>relationship</th>\n",
       "      <th>race</th>\n",
       "      <th>gender</th>\n",
       "      <th>capital-gain</th>\n",
       "      <th>capital-loss</th>\n",
       "      <th>hours-per-week</th>\n",
       "      <th>native-country</th>\n",
       "      <th>income</th>\n",
       "    </tr>\n",
       "  </thead>\n",
       "  <tbody>\n",
       "    <tr>\n",
       "      <th>4</th>\n",
       "      <td>18.000000</td>\n",
       "      <td>?</td>\n",
       "      <td>103497</td>\n",
       "      <td>Some-college</td>\n",
       "      <td>10</td>\n",
       "      <td>Never-married</td>\n",
       "      <td>?</td>\n",
       "      <td>Own-child</td>\n",
       "      <td>White</td>\n",
       "      <td>Female</td>\n",
       "      <td>0.0</td>\n",
       "      <td>0.0</td>\n",
       "      <td>30.0</td>\n",
       "      <td>United-States</td>\n",
       "      <td>&lt;=50K</td>\n",
       "    </tr>\n",
       "    <tr>\n",
       "      <th>6</th>\n",
       "      <td>29.000000</td>\n",
       "      <td>?</td>\n",
       "      <td>227026</td>\n",
       "      <td>HS-grad</td>\n",
       "      <td>9</td>\n",
       "      <td>Never-married</td>\n",
       "      <td>?</td>\n",
       "      <td>Unmarried</td>\n",
       "      <td>Black</td>\n",
       "      <td>Male</td>\n",
       "      <td>0.0</td>\n",
       "      <td>0.0</td>\n",
       "      <td>40.0</td>\n",
       "      <td>United-States</td>\n",
       "      <td>&lt;=50K</td>\n",
       "    </tr>\n",
       "    <tr>\n",
       "      <th>13</th>\n",
       "      <td>58.000000</td>\n",
       "      <td>?</td>\n",
       "      <td>299831</td>\n",
       "      <td>HS-grad</td>\n",
       "      <td>9</td>\n",
       "      <td>Married-civ-spouse</td>\n",
       "      <td>?</td>\n",
       "      <td>Husband</td>\n",
       "      <td>White</td>\n",
       "      <td>Male</td>\n",
       "      <td>0.0</td>\n",
       "      <td>0.0</td>\n",
       "      <td>35.0</td>\n",
       "      <td>United-States</td>\n",
       "      <td>&lt;=50K</td>\n",
       "    </tr>\n",
       "    <tr>\n",
       "      <th>22</th>\n",
       "      <td>72.000000</td>\n",
       "      <td>?</td>\n",
       "      <td>132015</td>\n",
       "      <td>7th-8th</td>\n",
       "      <td>4</td>\n",
       "      <td>Divorced</td>\n",
       "      <td>?</td>\n",
       "      <td>Not-in-family</td>\n",
       "      <td>White</td>\n",
       "      <td>Female</td>\n",
       "      <td>0.0</td>\n",
       "      <td>0.0</td>\n",
       "      <td>6.0</td>\n",
       "      <td>United-States</td>\n",
       "      <td>&lt;=50K</td>\n",
       "    </tr>\n",
       "    <tr>\n",
       "      <th>34</th>\n",
       "      <td>65.000000</td>\n",
       "      <td>?</td>\n",
       "      <td>191846</td>\n",
       "      <td>HS-grad</td>\n",
       "      <td>9</td>\n",
       "      <td>Married-civ-spouse</td>\n",
       "      <td>?</td>\n",
       "      <td>Husband</td>\n",
       "      <td>White</td>\n",
       "      <td>Male</td>\n",
       "      <td>0.0</td>\n",
       "      <td>0.0</td>\n",
       "      <td>40.0</td>\n",
       "      <td>United-States</td>\n",
       "      <td>&lt;=50K</td>\n",
       "    </tr>\n",
       "    <tr>\n",
       "      <th>...</th>\n",
       "      <td>...</td>\n",
       "      <td>...</td>\n",
       "      <td>...</td>\n",
       "      <td>...</td>\n",
       "      <td>...</td>\n",
       "      <td>...</td>\n",
       "      <td>...</td>\n",
       "      <td>...</td>\n",
       "      <td>...</td>\n",
       "      <td>...</td>\n",
       "      <td>...</td>\n",
       "      <td>...</td>\n",
       "      <td>...</td>\n",
       "      <td>...</td>\n",
       "      <td>...</td>\n",
       "    </tr>\n",
       "    <tr>\n",
       "      <th>9541</th>\n",
       "      <td>18.000000</td>\n",
       "      <td>?</td>\n",
       "      <td>30246</td>\n",
       "      <td>11th</td>\n",
       "      <td>7</td>\n",
       "      <td>Never-married</td>\n",
       "      <td>?</td>\n",
       "      <td>Own-child</td>\n",
       "      <td>White</td>\n",
       "      <td>Female</td>\n",
       "      <td>0.0</td>\n",
       "      <td>0.0</td>\n",
       "      <td>NaN</td>\n",
       "      <td>United-States</td>\n",
       "      <td>&lt;=50K</td>\n",
       "    </tr>\n",
       "    <tr>\n",
       "      <th>9543</th>\n",
       "      <td>20.000000</td>\n",
       "      <td>?</td>\n",
       "      <td>49819</td>\n",
       "      <td>Some-college</td>\n",
       "      <td>10</td>\n",
       "      <td>Never-married</td>\n",
       "      <td>?</td>\n",
       "      <td>Own-child</td>\n",
       "      <td>White</td>\n",
       "      <td>Female</td>\n",
       "      <td>0.0</td>\n",
       "      <td>0.0</td>\n",
       "      <td>NaN</td>\n",
       "      <td>United-States</td>\n",
       "      <td>&lt;=50K</td>\n",
       "    </tr>\n",
       "    <tr>\n",
       "      <th>9568</th>\n",
       "      <td>38.721429</td>\n",
       "      <td>?</td>\n",
       "      <td>150250</td>\n",
       "      <td>Masters</td>\n",
       "      <td>14</td>\n",
       "      <td>Married-civ-spouse</td>\n",
       "      <td>?</td>\n",
       "      <td>Husband</td>\n",
       "      <td>White</td>\n",
       "      <td>Male</td>\n",
       "      <td>0.0</td>\n",
       "      <td>1510.0</td>\n",
       "      <td>NaN</td>\n",
       "      <td>United-States</td>\n",
       "      <td>&lt;=50K</td>\n",
       "    </tr>\n",
       "    <tr>\n",
       "      <th>9573</th>\n",
       "      <td>38.721429</td>\n",
       "      <td>?</td>\n",
       "      <td>305145</td>\n",
       "      <td>Bachelors</td>\n",
       "      <td>13</td>\n",
       "      <td>Widowed</td>\n",
       "      <td>?</td>\n",
       "      <td>Not-in-family</td>\n",
       "      <td>White</td>\n",
       "      <td>Male</td>\n",
       "      <td>0.0</td>\n",
       "      <td>0.0</td>\n",
       "      <td>NaN</td>\n",
       "      <td>United-States</td>\n",
       "      <td>&lt;=50K</td>\n",
       "    </tr>\n",
       "    <tr>\n",
       "      <th>9589</th>\n",
       "      <td>38.721429</td>\n",
       "      <td>?</td>\n",
       "      <td>127306</td>\n",
       "      <td>Some-college</td>\n",
       "      <td>10</td>\n",
       "      <td>Divorced</td>\n",
       "      <td>?</td>\n",
       "      <td>Unmarried</td>\n",
       "      <td>White</td>\n",
       "      <td>Female</td>\n",
       "      <td>0.0</td>\n",
       "      <td>0.0</td>\n",
       "      <td>NaN</td>\n",
       "      <td>United-States</td>\n",
       "      <td>&lt;=50K</td>\n",
       "    </tr>\n",
       "  </tbody>\n",
       "</table>\n",
       "<p>584 rows × 15 columns</p>\n",
       "</div>"
      ],
      "text/plain": [
       "            age workclass  fnlwgt     education  educational-num  \\\n",
       "4     18.000000         ?  103497  Some-college               10   \n",
       "6     29.000000         ?  227026       HS-grad                9   \n",
       "13    58.000000         ?  299831       HS-grad                9   \n",
       "22    72.000000         ?  132015       7th-8th                4   \n",
       "34    65.000000         ?  191846       HS-grad                9   \n",
       "...         ...       ...     ...           ...              ...   \n",
       "9541  18.000000         ?   30246          11th                7   \n",
       "9543  20.000000         ?   49819  Some-college               10   \n",
       "9568  38.721429         ?  150250       Masters               14   \n",
       "9573  38.721429         ?  305145     Bachelors               13   \n",
       "9589  38.721429         ?  127306  Some-college               10   \n",
       "\n",
       "          marital-status occupation   relationship   race  gender  \\\n",
       "4          Never-married          ?      Own-child  White  Female   \n",
       "6          Never-married          ?      Unmarried  Black    Male   \n",
       "13    Married-civ-spouse          ?        Husband  White    Male   \n",
       "22              Divorced          ?  Not-in-family  White  Female   \n",
       "34    Married-civ-spouse          ?        Husband  White    Male   \n",
       "...                  ...        ...            ...    ...     ...   \n",
       "9541       Never-married          ?      Own-child  White  Female   \n",
       "9543       Never-married          ?      Own-child  White  Female   \n",
       "9568  Married-civ-spouse          ?        Husband  White    Male   \n",
       "9573             Widowed          ?  Not-in-family  White    Male   \n",
       "9589            Divorced          ?      Unmarried  White  Female   \n",
       "\n",
       "      capital-gain  capital-loss  hours-per-week native-country income  \n",
       "4              0.0           0.0            30.0  United-States  <=50K  \n",
       "6              0.0           0.0            40.0  United-States  <=50K  \n",
       "13             0.0           0.0            35.0  United-States  <=50K  \n",
       "22             0.0           0.0             6.0  United-States  <=50K  \n",
       "34             0.0           0.0            40.0  United-States  <=50K  \n",
       "...            ...           ...             ...            ...    ...  \n",
       "9541           0.0           0.0             NaN  United-States  <=50K  \n",
       "9543           0.0           0.0             NaN  United-States  <=50K  \n",
       "9568           0.0        1510.0             NaN  United-States  <=50K  \n",
       "9573           0.0           0.0             NaN  United-States  <=50K  \n",
       "9589           0.0           0.0             NaN  United-States  <=50K  \n",
       "\n",
       "[584 rows x 15 columns]"
      ]
     },
     "execution_count": 25,
     "metadata": {},
     "output_type": "execute_result"
    }
   ],
   "source": [
    "data[data[\"workclass\"] == \"?\"]"
   ]
  },
  {
   "cell_type": "markdown",
   "metadata": {},
   "source": [
    "Посмотрим еще медианы и средние значения, характерные для каждого типа работы:"
   ]
  },
  {
   "cell_type": "code",
   "execution_count": 26,
   "metadata": {},
   "outputs": [
    {
     "name": "stdout",
     "output_type": "stream",
     "text": [
      "Private 40.0 40.351444291609354\n",
      "Local-gov 40.0 40.90091743119266\n",
      "? 40.0 31.756190476190476\n",
      "Self-emp-not-inc 40.0 44.88985507246377\n",
      "Federal-gov 40.0 42.15625\n",
      "State-gov 40.0 38.175392670157066\n",
      "Self-emp-inc 48.0 48.23456790123457\n",
      "Without-pay 32.5 33.75\n",
      "Never-worked 20.0 20.0\n"
     ]
    }
   ],
   "source": [
    "for key in data[\"workclass\"].unique():\n",
    "    median = data[data[\"workclass\"] == key]['hours-per-week'].median()\n",
    "    mean = data[data[\"workclass\"] == key]['hours-per-week'].mean()\n",
    "    print(key, median, mean)"
   ]
  },
  {
   "cell_type": "markdown",
   "metadata": {},
   "source": [
    "Итого, по сильно выбивающимся из средних показателей безработным и волонтерам у нас пропусков нет\n",
    "\n",
    "По людям-вопросикам вообще непонятно, что делать - по ним еще и профессия не ясна... м.б. дропнуть всех NaN-ов из этой категории?"
   ]
  },
  {
   "cell_type": "markdown",
   "metadata": {
    "id": "OlKBUtMSl3Zf"
   },
   "source": [
    "В общем, пока не заморачиваемся, а просто заполним пропуски в столбце hours-per-week медианным значением по всей табличке"
   ]
  },
  {
   "cell_type": "code",
   "execution_count": 27,
   "metadata": {
    "id": "ZNCXyZJfB5Qa"
   },
   "outputs": [],
   "source": [
    "median = data['hours-per-week'].median()\n",
    "data['hours-per-week'].fillna(median, inplace=True)"
   ]
  },
  {
   "cell_type": "code",
   "execution_count": 28,
   "metadata": {},
   "outputs": [
    {
     "data": {
      "text/plain": [
       "age                0\n",
       "workclass          0\n",
       "fnlwgt             0\n",
       "education          0\n",
       "educational-num    0\n",
       "marital-status     0\n",
       "occupation         0\n",
       "relationship       0\n",
       "race               0\n",
       "gender             0\n",
       "capital-gain       0\n",
       "capital-loss       0\n",
       "hours-per-week     0\n",
       "native-country     0\n",
       "income             0\n",
       "dtype: int64"
      ]
     },
     "execution_count": 28,
     "metadata": {},
     "output_type": "execute_result"
    }
   ],
   "source": [
    "data.isna().sum()"
   ]
  },
  {
   "cell_type": "markdown",
   "metadata": {
    "id": "rzypjl5l3Q57"
   },
   "source": [
    "## Ошибочные значения"
   ]
  },
  {
   "cell_type": "markdown",
   "metadata": {
    "id": "ebpU4gvGCcYe"
   },
   "source": [
    "Смотрим число различных значений в нечисловых столбцах"
   ]
  },
  {
   "cell_type": "code",
   "execution_count": 29,
   "metadata": {
    "scrolled": false
   },
   "outputs": [
    {
     "name": "stdout",
     "output_type": "stream",
     "text": [
      "workclass\n",
      "Private             6573\n",
      "Self-emp-not-inc     782\n",
      "Local-gov            609\n",
      "?                    584\n",
      "State-gov            429\n",
      "Self-emp-inc         353\n",
      "Federal-gov          279\n",
      "Without-pay            4\n",
      "Never-worked           1\n",
      "Name: workclass, dtype: int64\n",
      "education\n",
      "HS-grad         3121\n",
      "Some-college    2125\n",
      "Bachelors       1598\n",
      "Masters          545\n",
      "Assoc-voc        412\n",
      "11th             358\n",
      "Assoc-acdm       314\n",
      "10th             273\n",
      "7th-8th          186\n",
      "Prof-school      146\n",
      "9th              143\n",
      "12th             121\n",
      "Doctorate        106\n",
      "5th-6th           98\n",
      "1st-4th           48\n",
      "Preschool         20\n",
      "Name: education, dtype: int64\n",
      "marital-status\n",
      "Married-civ-spouse       4307\n",
      "Never-married            3238\n",
      "Divorced                 1303\n",
      "Widowed                   330\n",
      "Separated                 297\n",
      "Married-spouse-absent     130\n",
      "Married-AF-spouse           9\n",
      "Name: marital-status, dtype: int64\n",
      "occupation\n",
      "Prof-specialty       1222\n",
      "Exec-managerial      1213\n",
      "Craft-repair         1183\n",
      "Adm-clerical         1079\n",
      "Sales                1065\n",
      "Other-service         960\n",
      "Machine-op-inspct     621\n",
      "?                     585\n",
      "Transport-moving      429\n",
      "Handlers-cleaners     414\n",
      "Farming-fishing       310\n",
      "Tech-support          279\n",
      "Protective-serv       194\n",
      "Priv-house-serv        57\n",
      "Armed-Forces            3\n",
      "Name: occupation, dtype: int64\n",
      "relationship\n",
      "Husband           3800\n",
      "Not-in-family     2521\n",
      "Own-child         1512\n",
      "Unmarried         1032\n",
      "Wife               434\n",
      "Other-relative     315\n",
      "Name: relationship, dtype: int64\n",
      "race\n",
      "White                 8255\n",
      "Black                  912\n",
      "Asian-Pac-Islander     267\n",
      "Amer-Indian-Eskimo      99\n",
      "Other                   81\n",
      "Name: race, dtype: int64\n",
      "gender\n",
      "Male      6409\n",
      "Female    3205\n",
      "Name: gender, dtype: int64\n",
      "native-country\n",
      "United-States                 8681\n",
      "Mexico                         186\n",
      "?                              164\n",
      "Philippines                     51\n",
      "Germany                         41\n",
      "Puerto-Rico                     41\n",
      "India                           34\n",
      "Canada                          34\n",
      "El-Salvador                     30\n",
      "Cuba                            28\n",
      "England                         21\n",
      "South                           20\n",
      "Haiti                           20\n",
      "Poland                          20\n",
      "China                           19\n",
      "Dominican-Republic              18\n",
      "Portugal                        18\n",
      "Guatemala                       17\n",
      "Italy                           15\n",
      "Jamaica                         15\n",
      "Columbia                        13\n",
      "Ecuador                         13\n",
      "Japan                           12\n",
      "Peru                            11\n",
      "Thailand                        10\n",
      "Nicaragua                        9\n",
      "Vietnam                          7\n",
      "Taiwan                           7\n",
      "Greece                           7\n",
      "Ireland                          6\n",
      "Iran                             6\n",
      "France                           6\n",
      "Scotland                         5\n",
      "Cambodia                         5\n",
      "Yugoslavia                       4\n",
      "Honduras                         4\n",
      "Trinadad&Tobago                  4\n",
      "Outlying-US(Guam-USVI-etc)       4\n",
      "Hong                             3\n",
      "Hungary                          3\n",
      "Laos                             2\n",
      "Name: native-country, dtype: int64\n",
      "income\n",
      "<=50K    7356\n",
      ">50K     2258\n",
      "Name: income, dtype: int64\n",
      "38.721429    654\n",
      "23.000000    258\n",
      "36.000000    257\n",
      "33.000000    256\n",
      "35.000000    243\n",
      "            ... \n",
      "84.000000      2\n",
      "82.000000      2\n",
      "85.000000      2\n",
      "79.000000      2\n",
      "89.000000      1\n",
      "Name: age, Length: 72, dtype: int64\n"
     ]
    }
   ],
   "source": [
    "for i, column in enumerate(data.columns):\n",
    "    if column not in data.describe().columns:\n",
    "        print(column)\n",
    "        print(data[column].value_counts())\n",
    "# и отдельно для age\n",
    "print(data[\"age\"].value_counts())"
   ]
  },
  {
   "cell_type": "markdown",
   "metadata": {},
   "source": [
    "Нашли странный возраст 38.721429"
   ]
  },
  {
   "cell_type": "markdown",
   "metadata": {},
   "source": [
    "Как-то подозрительно всё-таки вглядят вопросики в столбцах workclass, occupation и native-country"
   ]
  },
  {
   "cell_type": "markdown",
   "metadata": {},
   "source": [
    "Ну, допустим native-country мы можем заполнить страной по-умолчанию, т.е. сильно преобладающей в выборке"
   ]
  },
  {
   "cell_type": "code",
   "execution_count": 30,
   "metadata": {
    "id": "huWe4aEC3UcF"
   },
   "outputs": [],
   "source": [
    "data['native-country'] = data['native-country'].replace('?', 'United-States')"
   ]
  },
  {
   "cell_type": "code",
   "execution_count": 31,
   "metadata": {
    "colab": {
     "base_uri": "https://localhost:8080/"
    },
    "id": "Se60_ikp08Zl",
    "outputId": "a94c6e51-ae0d-463c-ccf4-b7756af6a1a5"
   },
   "outputs": [
    {
     "data": {
      "text/plain": [
       "United-States                 8845\n",
       "Mexico                         186\n",
       "Philippines                     51\n",
       "Puerto-Rico                     41\n",
       "Germany                         41\n",
       "India                           34\n",
       "Canada                          34\n",
       "El-Salvador                     30\n",
       "Cuba                            28\n",
       "England                         21\n",
       "Haiti                           20\n",
       "Poland                          20\n",
       "South                           20\n",
       "China                           19\n",
       "Dominican-Republic              18\n",
       "Portugal                        18\n",
       "Guatemala                       17\n",
       "Jamaica                         15\n",
       "Italy                           15\n",
       "Ecuador                         13\n",
       "Columbia                        13\n",
       "Japan                           12\n",
       "Peru                            11\n",
       "Thailand                        10\n",
       "Nicaragua                        9\n",
       "Taiwan                           7\n",
       "Greece                           7\n",
       "Vietnam                          7\n",
       "France                           6\n",
       "Ireland                          6\n",
       "Iran                             6\n",
       "Cambodia                         5\n",
       "Scotland                         5\n",
       "Yugoslavia                       4\n",
       "Trinadad&Tobago                  4\n",
       "Outlying-US(Guam-USVI-etc)       4\n",
       "Honduras                         4\n",
       "Hong                             3\n",
       "Hungary                          3\n",
       "Laos                             2\n",
       "Name: native-country, dtype: int64"
      ]
     },
     "execution_count": 31,
     "metadata": {},
     "output_type": "execute_result"
    }
   ],
   "source": [
    "data['native-country'].value_counts()"
   ]
  },
  {
   "cell_type": "markdown",
   "metadata": {},
   "source": [
    "С полем workclass, пожалуй, поступим так же:"
   ]
  },
  {
   "cell_type": "code",
   "execution_count": 32,
   "metadata": {},
   "outputs": [],
   "source": [
    "data['workclass'] = data['workclass'].replace('?', 'Private')"
   ]
  },
  {
   "cell_type": "code",
   "execution_count": 33,
   "metadata": {},
   "outputs": [
    {
     "data": {
      "text/plain": [
       "Private             7157\n",
       "Self-emp-not-inc     782\n",
       "Local-gov            609\n",
       "State-gov            429\n",
       "Self-emp-inc         353\n",
       "Federal-gov          279\n",
       "Without-pay            4\n",
       "Never-worked           1\n",
       "Name: workclass, dtype: int64"
      ]
     },
     "execution_count": 33,
     "metadata": {},
     "output_type": "execute_result"
    }
   ],
   "source": [
    "data['workclass'].value_counts()"
   ]
  },
  {
   "cell_type": "markdown",
   "metadata": {},
   "source": [
    "А вот с профессией так не получится, там нет преобладающего значения"
   ]
  },
  {
   "cell_type": "code",
   "execution_count": 34,
   "metadata": {
    "id": "XNZ8B5xnQfh0"
   },
   "outputs": [],
   "source": [
    "# data['is_date'] = data['date'].apply(lambda x: 1 if x.isna() else 0)"
   ]
  },
  {
   "cell_type": "code",
   "execution_count": null,
   "metadata": {},
   "outputs": [],
   "source": []
  },
  {
   "cell_type": "markdown",
   "metadata": {
    "id": "2nouWWLZl6oA"
   },
   "source": [
    "## Основные числовые характеристики"
   ]
  },
  {
   "cell_type": "markdown",
   "metadata": {},
   "source": [
    "Распределение целевой переменой"
   ]
  },
  {
   "cell_type": "code",
   "execution_count": 35,
   "metadata": {
    "colab": {
     "base_uri": "https://localhost:8080/"
    },
    "id": "EuBlDOeX5JM5",
    "outputId": "99ea1dd1-7341-4049-9d70-9ca5fe9cef96"
   },
   "outputs": [
    {
     "data": {
      "text/plain": [
       "<=50K    0.765134\n",
       ">50K     0.234866\n",
       "Name: income, dtype: float64"
      ]
     },
     "execution_count": 35,
     "metadata": {},
     "output_type": "execute_result"
    }
   ],
   "source": [
    "data['income'].value_counts(normalize=True)"
   ]
  },
  {
   "cell_type": "code",
   "execution_count": 36,
   "metadata": {
    "colab": {
     "base_uri": "https://localhost:8080/",
     "height": 364
    },
    "id": "B5qadSUDl-vu",
    "outputId": "3a3b9018-2174-478f-b26c-bf4180b41021"
   },
   "outputs": [
    {
     "data": {
      "text/html": [
       "<div>\n",
       "<style scoped>\n",
       "    .dataframe tbody tr th:only-of-type {\n",
       "        vertical-align: middle;\n",
       "    }\n",
       "\n",
       "    .dataframe tbody tr th {\n",
       "        vertical-align: top;\n",
       "    }\n",
       "\n",
       "    .dataframe thead th {\n",
       "        text-align: right;\n",
       "    }\n",
       "</style>\n",
       "<table border=\"1\" class=\"dataframe\">\n",
       "  <thead>\n",
       "    <tr style=\"text-align: right;\">\n",
       "      <th></th>\n",
       "      <th>age</th>\n",
       "      <th>fnlwgt</th>\n",
       "      <th>educational-num</th>\n",
       "      <th>capital-gain</th>\n",
       "      <th>capital-loss</th>\n",
       "      <th>hours-per-week</th>\n",
       "    </tr>\n",
       "  </thead>\n",
       "  <tbody>\n",
       "    <tr>\n",
       "      <th>count</th>\n",
       "      <td>9614.000000</td>\n",
       "      <td>9.614000e+03</td>\n",
       "      <td>9614.000000</td>\n",
       "      <td>9614.000000</td>\n",
       "      <td>9614.000000</td>\n",
       "      <td>9614.000000</td>\n",
       "    </tr>\n",
       "    <tr>\n",
       "      <th>mean</th>\n",
       "      <td>38.721429</td>\n",
       "      <td>1.882948e+05</td>\n",
       "      <td>10.080092</td>\n",
       "      <td>1121.998232</td>\n",
       "      <td>87.926669</td>\n",
       "      <td>40.422197</td>\n",
       "    </tr>\n",
       "    <tr>\n",
       "      <th>std</th>\n",
       "      <td>13.355951</td>\n",
       "      <td>1.051352e+05</td>\n",
       "      <td>2.562733</td>\n",
       "      <td>7890.578253</td>\n",
       "      <td>404.085647</td>\n",
       "      <td>11.633285</td>\n",
       "    </tr>\n",
       "    <tr>\n",
       "      <th>min</th>\n",
       "      <td>17.000000</td>\n",
       "      <td>1.376900e+04</td>\n",
       "      <td>1.000000</td>\n",
       "      <td>0.000000</td>\n",
       "      <td>0.000000</td>\n",
       "      <td>1.000000</td>\n",
       "    </tr>\n",
       "    <tr>\n",
       "      <th>25%</th>\n",
       "      <td>28.000000</td>\n",
       "      <td>1.154652e+05</td>\n",
       "      <td>9.000000</td>\n",
       "      <td>0.000000</td>\n",
       "      <td>0.000000</td>\n",
       "      <td>40.000000</td>\n",
       "    </tr>\n",
       "    <tr>\n",
       "      <th>50%</th>\n",
       "      <td>38.000000</td>\n",
       "      <td>1.778450e+05</td>\n",
       "      <td>10.000000</td>\n",
       "      <td>0.000000</td>\n",
       "      <td>0.000000</td>\n",
       "      <td>40.000000</td>\n",
       "    </tr>\n",
       "    <tr>\n",
       "      <th>75%</th>\n",
       "      <td>47.000000</td>\n",
       "      <td>2.374175e+05</td>\n",
       "      <td>12.000000</td>\n",
       "      <td>0.000000</td>\n",
       "      <td>0.000000</td>\n",
       "      <td>43.000000</td>\n",
       "    </tr>\n",
       "    <tr>\n",
       "      <th>max</th>\n",
       "      <td>90.000000</td>\n",
       "      <td>1.490400e+06</td>\n",
       "      <td>16.000000</td>\n",
       "      <td>99999.000000</td>\n",
       "      <td>3770.000000</td>\n",
       "      <td>99.000000</td>\n",
       "    </tr>\n",
       "  </tbody>\n",
       "</table>\n",
       "</div>"
      ],
      "text/plain": [
       "               age        fnlwgt  educational-num  capital-gain  capital-loss  \\\n",
       "count  9614.000000  9.614000e+03      9614.000000   9614.000000   9614.000000   \n",
       "mean     38.721429  1.882948e+05        10.080092   1121.998232     87.926669   \n",
       "std      13.355951  1.051352e+05         2.562733   7890.578253    404.085647   \n",
       "min      17.000000  1.376900e+04         1.000000      0.000000      0.000000   \n",
       "25%      28.000000  1.154652e+05         9.000000      0.000000      0.000000   \n",
       "50%      38.000000  1.778450e+05        10.000000      0.000000      0.000000   \n",
       "75%      47.000000  2.374175e+05        12.000000      0.000000      0.000000   \n",
       "max      90.000000  1.490400e+06        16.000000  99999.000000   3770.000000   \n",
       "\n",
       "       hours-per-week  \n",
       "count     9614.000000  \n",
       "mean        40.422197  \n",
       "std         11.633285  \n",
       "min          1.000000  \n",
       "25%         40.000000  \n",
       "50%         40.000000  \n",
       "75%         43.000000  \n",
       "max         99.000000  "
      ]
     },
     "execution_count": 36,
     "metadata": {},
     "output_type": "execute_result"
    }
   ],
   "source": [
    "data.describe()"
   ]
  },
  {
   "cell_type": "code",
   "execution_count": 37,
   "metadata": {},
   "outputs": [
    {
     "data": {
      "image/png": "[encoded data removed]",
      "text/plain": [
       "<Figure size 1440x720 with 6 Axes>"
      ]
     },
     "metadata": {},
     "output_type": "display_data"
    }
   ],
   "source": [
    "fig, axes = plt.subplots(2, 3, figsize=(20, 10))\n",
    "for i, column in enumerate(data.describe().columns):\n",
    "    if column in [\"age\", \"educational-num\", \"hours-per-week\"]:\n",
    "        bins = len(data[column].unique())\n",
    "    else:\n",
    "        bins = 10\n",
    "    sns.histplot(data[column], ax=axes[i % 2, i // 2], bins=bins)\n",
    "    \n",
    "plt.show()"
   ]
  },
  {
   "cell_type": "markdown",
   "metadata": {},
   "source": [
    "#### Выводы по гистограммам:\n",
    "\n",
    "- **age**\n",
    "\n",
    "    есть подозрительный выброс в районе 38 лет, надо бы посмотреть поподробнее, почему в нашей выборке сильно больше таких людей, чем всех остальных\n",
    "\n",
    "    в остальном - распределение как распределение, похоже на нормальное с обрезанным носиком в начале (оно и понято, дети тут не рассматриваются)\n",
    "\n",
    "- **educational-num**\n",
    "\n",
    "    видно 3 всплеска в значениях 9, 10 и 13, надо посмотреть поподробнее, что это значит\n",
    "\n",
    "- **capital-gain, capital-loss**\n",
    "\n",
    "    всплеск в нуле, далее незначительные показатели - логично, большая часть населения капиталов не получало и не теряло\n",
    "\n",
    "    надо бы посмотреть тех, кто не ноль\n",
    "\n",
    "- **hours-per-week**\n",
    "\n",
    "    всплеск в значении 40, что логично - подавляющее большинство граждан работает стандартные 40 часов в неделю\n",
    "\n",
    "    даже и не знаю, нужно ли тут что-то дополнительно изучать\n",
    "\n",
    "- **fnlwgt**\n",
    "\n",
    "    непонятная ерунда, не знаю, для чего она"
   ]
  },
  {
   "cell_type": "code",
   "execution_count": 38,
   "metadata": {
    "colab": {
     "base_uri": "https://localhost:8080/",
     "height": 195
    },
    "id": "oQYBiBdQxzqU",
    "outputId": "4bc860bd-b6ff-4eb4-efd7-2f560fe00d55"
   },
   "outputs": [
    {
     "data": {
      "text/html": [
       "<div>\n",
       "<style scoped>\n",
       "    .dataframe tbody tr th:only-of-type {\n",
       "        vertical-align: middle;\n",
       "    }\n",
       "\n",
       "    .dataframe tbody tr th {\n",
       "        vertical-align: top;\n",
       "    }\n",
       "\n",
       "    .dataframe thead th {\n",
       "        text-align: right;\n",
       "    }\n",
       "</style>\n",
       "<table border=\"1\" class=\"dataframe\">\n",
       "  <thead>\n",
       "    <tr style=\"text-align: right;\">\n",
       "      <th></th>\n",
       "      <th>workclass</th>\n",
       "      <th>education</th>\n",
       "      <th>marital-status</th>\n",
       "      <th>occupation</th>\n",
       "      <th>relationship</th>\n",
       "      <th>race</th>\n",
       "      <th>gender</th>\n",
       "      <th>native-country</th>\n",
       "      <th>income</th>\n",
       "    </tr>\n",
       "  </thead>\n",
       "  <tbody>\n",
       "    <tr>\n",
       "      <th>count</th>\n",
       "      <td>9614</td>\n",
       "      <td>9614</td>\n",
       "      <td>9614</td>\n",
       "      <td>9614</td>\n",
       "      <td>9614</td>\n",
       "      <td>9614</td>\n",
       "      <td>9614</td>\n",
       "      <td>9614</td>\n",
       "      <td>9614</td>\n",
       "    </tr>\n",
       "    <tr>\n",
       "      <th>unique</th>\n",
       "      <td>8</td>\n",
       "      <td>16</td>\n",
       "      <td>7</td>\n",
       "      <td>15</td>\n",
       "      <td>6</td>\n",
       "      <td>5</td>\n",
       "      <td>2</td>\n",
       "      <td>40</td>\n",
       "      <td>2</td>\n",
       "    </tr>\n",
       "    <tr>\n",
       "      <th>top</th>\n",
       "      <td>Private</td>\n",
       "      <td>HS-grad</td>\n",
       "      <td>Married-civ-spouse</td>\n",
       "      <td>Prof-specialty</td>\n",
       "      <td>Husband</td>\n",
       "      <td>White</td>\n",
       "      <td>Male</td>\n",
       "      <td>United-States</td>\n",
       "      <td>&lt;=50K</td>\n",
       "    </tr>\n",
       "    <tr>\n",
       "      <th>freq</th>\n",
       "      <td>7157</td>\n",
       "      <td>3121</td>\n",
       "      <td>4307</td>\n",
       "      <td>1222</td>\n",
       "      <td>3800</td>\n",
       "      <td>8255</td>\n",
       "      <td>6409</td>\n",
       "      <td>8845</td>\n",
       "      <td>7356</td>\n",
       "    </tr>\n",
       "  </tbody>\n",
       "</table>\n",
       "</div>"
      ],
      "text/plain": [
       "       workclass education      marital-status      occupation relationship  \\\n",
       "count       9614      9614                9614            9614         9614   \n",
       "unique         8        16                   7              15            6   \n",
       "top      Private   HS-grad  Married-civ-spouse  Prof-specialty      Husband   \n",
       "freq        7157      3121                4307            1222         3800   \n",
       "\n",
       "         race gender native-country income  \n",
       "count    9614   9614           9614   9614  \n",
       "unique      5      2             40      2  \n",
       "top     White   Male  United-States  <=50K  \n",
       "freq     8255   6409           8845   7356  "
      ]
     },
     "execution_count": 38,
     "metadata": {},
     "output_type": "execute_result"
    }
   ],
   "source": [
    "data.describe(include='object') # категориальные колонки"
   ]
  },
  {
   "cell_type": "markdown",
   "metadata": {},
   "source": [
    "У нас целевая колонка текстовая\n",
    "\n",
    "Добавим пока такую же, но бинарную, чтобы посмотреть корреляцию"
   ]
  },
  {
   "cell_type": "code",
   "execution_count": 39,
   "metadata": {},
   "outputs": [
    {
     "data": {
      "text/plain": [
       "False    0.765134\n",
       "True     0.234866\n",
       "Name: income_bool, dtype: float64"
      ]
     },
     "execution_count": 39,
     "metadata": {},
     "output_type": "execute_result"
    }
   ],
   "source": [
    "data[\"income_bool\"] = data[\"income\"] == \">50K\"\n",
    "data['income_bool'].value_counts(normalize=True)"
   ]
  },
  {
   "cell_type": "code",
   "execution_count": 40,
   "metadata": {
    "colab": {
     "base_uri": "https://localhost:8080/",
     "height": 602
    },
    "id": "ba6wxZGjx50Y",
    "outputId": "15538f4d-4340-4f2b-ea9e-c099056bff63"
   },
   "outputs": [
    {
     "data": {
      "text/html": [
       "<style  type=\"text/css\" >\n",
       "#T_48440_row0_col0,#T_48440_row1_col1,#T_48440_row2_col2,#T_48440_row3_col3,#T_48440_row4_col4,#T_48440_row5_col5,#T_48440_row6_col6{\n",
       "            background-color:  #b40426;\n",
       "            color:  #f1f1f1;\n",
       "        }#T_48440_row0_col1,#T_48440_row1_col0,#T_48440_row1_col2,#T_48440_row1_col5,#T_48440_row1_col6,#T_48440_row3_col4,#T_48440_row4_col3{\n",
       "            background-color:  #3b4cc0;\n",
       "            color:  #f1f1f1;\n",
       "        }#T_48440_row0_col2,#T_48440_row1_col3{\n",
       "            background-color:  #4257c9;\n",
       "            color:  #f1f1f1;\n",
       "        }#T_48440_row0_col3{\n",
       "            background-color:  #5977e3;\n",
       "            color:  #000000;\n",
       "        }#T_48440_row0_col4,#T_48440_row2_col0{\n",
       "            background-color:  #516ddb;\n",
       "            color:  #000000;\n",
       "        }#T_48440_row0_col5{\n",
       "            background-color:  #5470de;\n",
       "            color:  #000000;\n",
       "        }#T_48440_row0_col6{\n",
       "            background-color:  #81a4fb;\n",
       "            color:  #000000;\n",
       "        }#T_48440_row1_col4{\n",
       "            background-color:  #4358cb;\n",
       "            color:  #f1f1f1;\n",
       "        }#T_48440_row2_col1,#T_48440_row4_col5{\n",
       "            background-color:  #4a63d3;\n",
       "            color:  #f1f1f1;\n",
       "        }#T_48440_row2_col3{\n",
       "            background-color:  #6c8ff1;\n",
       "            color:  #000000;\n",
       "        }#T_48440_row2_col4{\n",
       "            background-color:  #5d7ce6;\n",
       "            color:  #000000;\n",
       "        }#T_48440_row2_col5{\n",
       "            background-color:  #6485ec;\n",
       "            color:  #000000;\n",
       "        }#T_48440_row2_col6{\n",
       "            background-color:  #a6c4fe;\n",
       "            color:  #000000;\n",
       "        }#T_48440_row3_col0,#T_48440_row4_col6{\n",
       "            background-color:  #6788ee;\n",
       "            color:  #000000;\n",
       "        }#T_48440_row3_col1{\n",
       "            background-color:  #4f69d9;\n",
       "            color:  #000000;\n",
       "        }#T_48440_row3_col2{\n",
       "            background-color:  #6b8df0;\n",
       "            color:  #000000;\n",
       "        }#T_48440_row3_col5{\n",
       "            background-color:  #5875e1;\n",
       "            color:  #000000;\n",
       "        }#T_48440_row3_col6{\n",
       "            background-color:  #84a7fc;\n",
       "            color:  #000000;\n",
       "        }#T_48440_row4_col0{\n",
       "            background-color:  #5f7fe8;\n",
       "            color:  #000000;\n",
       "        }#T_48440_row4_col1,#T_48440_row5_col1,#T_48440_row6_col1{\n",
       "            background-color:  #506bda;\n",
       "            color:  #000000;\n",
       "        }#T_48440_row4_col2{\n",
       "            background-color:  #5a78e4;\n",
       "            color:  #000000;\n",
       "        }#T_48440_row5_col0,#T_48440_row5_col2{\n",
       "            background-color:  #6a8bef;\n",
       "            color:  #000000;\n",
       "        }#T_48440_row5_col3{\n",
       "            background-color:  #6180e9;\n",
       "            color:  #000000;\n",
       "        }#T_48440_row5_col4{\n",
       "            background-color:  #536edd;\n",
       "            color:  #000000;\n",
       "        }#T_48440_row5_col6,#T_48440_row6_col5{\n",
       "            background-color:  #82a6fb;\n",
       "            color:  #000000;\n",
       "        }#T_48440_row6_col0{\n",
       "            background-color:  #94b6ff;\n",
       "            color:  #000000;\n",
       "        }#T_48440_row6_col2{\n",
       "            background-color:  #abc8fd;\n",
       "            color:  #000000;\n",
       "        }#T_48440_row6_col3{\n",
       "            background-color:  #8badfd;\n",
       "            color:  #000000;\n",
       "        }#T_48440_row6_col4{\n",
       "            background-color:  #6f92f3;\n",
       "            color:  #000000;\n",
       "        }</style><table id=\"T_48440_\" ><thead>    <tr>        <th class=\"blank level0\" ></th>        <th class=\"col_heading level0 col0\" >age</th>        <th class=\"col_heading level0 col1\" >fnlwgt</th>        <th class=\"col_heading level0 col2\" >educational-num</th>        <th class=\"col_heading level0 col3\" >capital-gain</th>        <th class=\"col_heading level0 col4\" >capital-loss</th>        <th class=\"col_heading level0 col5\" >hours-per-week</th>        <th class=\"col_heading level0 col6\" >income_bool</th>    </tr></thead><tbody>\n",
       "                <tr>\n",
       "                        <th id=\"T_48440_level0_row0\" class=\"row_heading level0 row0\" >age</th>\n",
       "                        <td id=\"T_48440_row0_col0\" class=\"data row0 col0\" >1.000000</td>\n",
       "                        <td id=\"T_48440_row0_col1\" class=\"data row0 col1\" >-0.079770</td>\n",
       "                        <td id=\"T_48440_row0_col2\" class=\"data row0 col2\" >0.002383</td>\n",
       "                        <td id=\"T_48440_row0_col3\" class=\"data row0 col3\" >0.073273</td>\n",
       "                        <td id=\"T_48440_row0_col4\" class=\"data row0 col4\" >0.048926</td>\n",
       "                        <td id=\"T_48440_row0_col5\" class=\"data row0 col5\" >0.081907</td>\n",
       "                        <td id=\"T_48440_row0_col6\" class=\"data row0 col6\" >0.214954</td>\n",
       "            </tr>\n",
       "            <tr>\n",
       "                        <th id=\"T_48440_level0_row1\" class=\"row_heading level0 row1\" >fnlwgt</th>\n",
       "                        <td id=\"T_48440_row1_col0\" class=\"data row1 col0\" >-0.079770</td>\n",
       "                        <td id=\"T_48440_row1_col1\" class=\"data row1 col1\" >1.000000</td>\n",
       "                        <td id=\"T_48440_row1_col2\" class=\"data row1 col2\" >-0.024398</td>\n",
       "                        <td id=\"T_48440_row1_col3\" class=\"data row1 col3\" >-0.005989</td>\n",
       "                        <td id=\"T_48440_row1_col4\" class=\"data row1 col4\" >-0.000409</td>\n",
       "                        <td id=\"T_48440_row1_col5\" class=\"data row1 col5\" >-0.002930</td>\n",
       "                        <td id=\"T_48440_row1_col6\" class=\"data row1 col6\" >-0.003089</td>\n",
       "            </tr>\n",
       "            <tr>\n",
       "                        <th id=\"T_48440_level0_row2\" class=\"row_heading level0 row2\" >educational-num</th>\n",
       "                        <td id=\"T_48440_row2_col0\" class=\"data row2 col0\" >0.002383</td>\n",
       "                        <td id=\"T_48440_row2_col1\" class=\"data row2 col1\" >-0.024398</td>\n",
       "                        <td id=\"T_48440_row2_col2\" class=\"data row2 col2\" >1.000000</td>\n",
       "                        <td id=\"T_48440_row2_col3\" class=\"data row2 col3\" >0.132639</td>\n",
       "                        <td id=\"T_48440_row2_col4\" class=\"data row2 col4\" >0.083546</td>\n",
       "                        <td id=\"T_48440_row2_col5\" class=\"data row2 col5\" >0.130397</td>\n",
       "                        <td id=\"T_48440_row2_col6\" class=\"data row2 col6\" >0.320775</td>\n",
       "            </tr>\n",
       "            <tr>\n",
       "                        <th id=\"T_48440_level0_row3\" class=\"row_heading level0 row3\" >capital-gain</th>\n",
       "                        <td id=\"T_48440_row3_col0\" class=\"data row3 col0\" >0.073273</td>\n",
       "                        <td id=\"T_48440_row3_col1\" class=\"data row3 col1\" >-0.005989</td>\n",
       "                        <td id=\"T_48440_row3_col2\" class=\"data row3 col2\" >0.132639</td>\n",
       "                        <td id=\"T_48440_row3_col3\" class=\"data row3 col3\" >1.000000</td>\n",
       "                        <td id=\"T_48440_row3_col4\" class=\"data row3 col4\" >-0.030944</td>\n",
       "                        <td id=\"T_48440_row3_col5\" class=\"data row3 col5\" >0.094505</td>\n",
       "                        <td id=\"T_48440_row3_col6\" class=\"data row3 col6\" >0.221998</td>\n",
       "            </tr>\n",
       "            <tr>\n",
       "                        <th id=\"T_48440_level0_row4\" class=\"row_heading level0 row4\" >capital-loss</th>\n",
       "                        <td id=\"T_48440_row4_col0\" class=\"data row4 col0\" >0.048926</td>\n",
       "                        <td id=\"T_48440_row4_col1\" class=\"data row4 col1\" >-0.000409</td>\n",
       "                        <td id=\"T_48440_row4_col2\" class=\"data row4 col2\" >0.083546</td>\n",
       "                        <td id=\"T_48440_row4_col3\" class=\"data row4 col3\" >-0.030944</td>\n",
       "                        <td id=\"T_48440_row4_col4\" class=\"data row4 col4\" >1.000000</td>\n",
       "                        <td id=\"T_48440_row4_col5\" class=\"data row4 col5\" >0.050089</td>\n",
       "                        <td id=\"T_48440_row4_col6\" class=\"data row4 col6\" >0.139776</td>\n",
       "            </tr>\n",
       "            <tr>\n",
       "                        <th id=\"T_48440_level0_row5\" class=\"row_heading level0 row5\" >hours-per-week</th>\n",
       "                        <td id=\"T_48440_row5_col0\" class=\"data row5 col0\" >0.081907</td>\n",
       "                        <td id=\"T_48440_row5_col1\" class=\"data row5 col1\" >-0.002930</td>\n",
       "                        <td id=\"T_48440_row5_col2\" class=\"data row5 col2\" >0.130397</td>\n",
       "                        <td id=\"T_48440_row5_col3\" class=\"data row5 col3\" >0.094505</td>\n",
       "                        <td id=\"T_48440_row5_col4\" class=\"data row5 col4\" >0.050089</td>\n",
       "                        <td id=\"T_48440_row5_col5\" class=\"data row5 col5\" >1.000000</td>\n",
       "                        <td id=\"T_48440_row5_col6\" class=\"data row5 col6\" >0.217293</td>\n",
       "            </tr>\n",
       "            <tr>\n",
       "                        <th id=\"T_48440_level0_row6\" class=\"row_heading level0 row6\" >income_bool</th>\n",
       "                        <td id=\"T_48440_row6_col0\" class=\"data row6 col0\" >0.214954</td>\n",
       "                        <td id=\"T_48440_row6_col1\" class=\"data row6 col1\" >-0.003089</td>\n",
       "                        <td id=\"T_48440_row6_col2\" class=\"data row6 col2\" >0.320775</td>\n",
       "                        <td id=\"T_48440_row6_col3\" class=\"data row6 col3\" >0.221998</td>\n",
       "                        <td id=\"T_48440_row6_col4\" class=\"data row6 col4\" >0.139776</td>\n",
       "                        <td id=\"T_48440_row6_col5\" class=\"data row6 col5\" >0.217293</td>\n",
       "                        <td id=\"T_48440_row6_col6\" class=\"data row6 col6\" >1.000000</td>\n",
       "            </tr>\n",
       "    </tbody></table>"
      ],
      "text/plain": [
       "<pandas.io.formats.style.Styler at 0x1e3351ba6d0>"
      ]
     },
     "execution_count": 40,
     "metadata": {},
     "output_type": "execute_result"
    }
   ],
   "source": [
    "corr = data.corr() # строим матрицу корреляций\n",
    "corr.style.background_gradient(cmap='coolwarm')"
   ]
  },
  {
   "cell_type": "markdown",
   "metadata": {},
   "source": [
    "Вопрос века: нужно ли нам какие-то данные удалить?"
   ]
  },
  {
   "cell_type": "markdown",
   "metadata": {},
   "source": [
    "Еще один вопрос века: что значит отрицаельная корреляция поля fnlwgt со всеми подряд другими полями? Что это за поле вообще?\n",
    "\n",
    "Вот может его и выкинуть из нашей выборки, раз оно ни с чем не коррелирует вообще?"
   ]
  },
  {
   "cell_type": "code",
   "execution_count": 41,
   "metadata": {
    "colab": {
     "base_uri": "https://localhost:8080/"
    },
    "id": "5RShtvn0SYHo",
    "outputId": "ba8aa07b-829e-4449-9a4d-389031341bec"
   },
   "outputs": [
    {
     "data": {
      "text/plain": [
       "[('income_bool', 0.9999999999999999),\n",
       " ('educational-num', 0.3207754524730229),\n",
       " ('capital-gain', 0.2219983539033911),\n",
       " ('hours-per-week', 0.2172928389926224),\n",
       " ('age', 0.2149535894898411),\n",
       " ('capital-loss', 0.13977556008529074),\n",
       " ('fnlwgt', -0.0030885468367829474)]"
      ]
     },
     "execution_count": 41,
     "metadata": {},
     "output_type": "execute_result"
    }
   ],
   "source": [
    "corrcoef_dct = {}\n",
    "for col in data.columns:\n",
    "    try:\n",
    "#         print(col, np.corrcoef(data[col], data['income_bool'])[0][1])\n",
    "#         corrcoef_arr.append(np.corrcoef(data[col], data['income_bool'])[0][1])\n",
    "        corrcoef_dct[col] = np.corrcoef(data[col], data['income_bool'])[0][1]\n",
    "    except:\n",
    "        pass\n",
    "sorted_corrcoef_dct = sorted(corrcoef_dct.items(), key=lambda x:x[1], reverse=True)\n",
    "sorted_corrcoef_dct"
   ]
  },
  {
   "cell_type": "markdown",
   "metadata": {
    "id": "Ec9XDcmPl_Pt"
   },
   "source": [
    "## Визуализация данных"
   ]
  },
  {
   "cell_type": "markdown",
   "metadata": {},
   "source": [
    "Посмотрим диаграммы для признаков, имеющих наибольшую корреляцию с целевой переменной\n",
    "\n",
    "Мы хотим визуально заметить, для каких из этих признаков проявляется более отчетливая зависимость целевой переменной от значений признака\n",
    "\n",
    "*// На предложенных в материалах занятия графиках типа scatterplot оказалось ничего не видно, поэтому построим гистограммы*"
   ]
  },
  {
   "cell_type": "markdown",
   "metadata": {},
   "source": [
    "#### educational-num"
   ]
  },
  {
   "cell_type": "code",
   "execution_count": 42,
   "metadata": {
    "colab": {
     "base_uri": "https://localhost:8080/",
     "height": 468
    },
    "id": "MjdsADyJmBpa",
    "outputId": "7216de41-6a96-4724-cf4c-90b6b269c1ec"
   },
   "outputs": [],
   "source": [
    "# plt.scatter(data['educational-num'], data['income'], c=data['income_bool'])"
   ]
  },
  {
   "cell_type": "markdown",
   "metadata": {},
   "source": [
    "Разберемся с уровнями образования\n",
    "\n",
    "Из непонятного:\n",
    "- associate degree (у нас Assoc-acdm, Assoc-voc) - это подготовительная степень (начальное высшее образование в некоторых университетах. Требует два года обучения и дает возможность для обучения на степень бакалавра.)\n",
    "- professional school (у нас Prof-school) - профессиональная школа (Учебное подразделение третьего цикла (магистратура) в составе университета; факультет, на котором из бакалавра общего профиля готовится специалист. Ведет подготовку юристов, врачей или свободно практикующих специалистов. Курс может завершаться защитой диссертации с присуждением степени магистра (степени доктора медицины на медицинском факультете) или сдачей экзамена с выдачей диплома о специализации.\n",
    "\n",
    "Если отсортировать по возрастанию, то получится:\n",
    "(1) Preschool,\t(2) 1st-4th,\t(3) 5th-6th,\t(4) 7th-8th,\t(5) 9th,\t(6) 10th,\t(7) 11th,\t(8) 12th,\t(9) HS-grad,\t(10) Some-college,\t(11) Assoc-acdm,\t(12) Assoc-voc,\t(13) Bachelors,\t(14) Prof-school,\t(15) Masters,\t(16) Doctorate\n",
    "\n",
    "Итого, циферки \n",
    "- 1-8 в поле education-num означают не вполне образованных людей, даже не закончивших школу, \n",
    "- 9-12 - людей, закончивших школу и даже местами после нее чему-то обучавшихся, но без высшего образования\n",
    "- 13-16 - людей с высшим образованием разной степени\n"
   ]
  },
  {
   "cell_type": "markdown",
   "metadata": {},
   "source": [
    "Теперь стало понятно, почему пики у нас в точках 9, 10 и 13 - это у нас точки завершния самых массовых уровней образования\n",
    "\n",
    "Т.е. в нашей выборке люди чаще всего прекращают обучаться, завершив какой-то из 3-х глобальных этапов: \n",
    "- (9) закончив школу \n",
    "- (10) закончив ПТУ\n",
    "- (13) получив диплом бакалавра "
   ]
  },
  {
   "cell_type": "code",
   "execution_count": 43,
   "metadata": {},
   "outputs": [
    {
     "data": {
      "text/plain": [
       "<AxesSubplot:xlabel='educational-num', ylabel='Count'>"
      ]
     },
     "execution_count": 43,
     "metadata": {},
     "output_type": "execute_result"
    },
    {
     "data": {
      "image/png": "[encoded data removed]",
      "text/plain": [
       "<Figure size 720x360 with 1 Axes>"
      ]
     },
     "metadata": {},
     "output_type": "display_data"
    }
   ],
   "source": [
    "sns.histplot(data[data['income_bool'] == False]['educational-num'], bins=16)\n",
    "sns.histplot(data[data['income_bool'] == True]['educational-num'], color=\"g\", bins=16)"
   ]
  },
  {
   "cell_type": "markdown",
   "metadata": {},
   "source": [
    "Объединим наших подопытных в 4 группы: \n",
    "1. необразованные совсем (не осилили даже школу)\n",
    "2. малообразованные (закончили школу или ПТУ)\n",
    "3. с начальным высшим образованием (законченным или нет)\n",
    "4. с продвинутым высшим образованием (от магистратуры и дальше)\n",
    "\n",
    "Посмотрим на доли каждой такой группы в своей страте по доходам"
   ]
  },
  {
   "cell_type": "code",
   "execution_count": 44,
   "metadata": {},
   "outputs": [],
   "source": [
    "edu_data = data[['educational-num', 'income_bool']]\n",
    "edu_data['edu_group'] = 2\n",
    "edu_data.loc[edu_data['educational-num'] < 11, 'edu_group'] = 1\n",
    "edu_data.loc[edu_data['educational-num'] < 9, 'edu_group'] = 0\n",
    "edu_data.loc[edu_data['educational-num'] > 13, 'edu_group'] = 3"
   ]
  },
  {
   "cell_type": "code",
   "execution_count": 45,
   "metadata": {},
   "outputs": [],
   "source": [
    "edu_pivot_poor = pd.pivot_table(edu_data[edu_data['income_bool'] == False], values='educational-num', index=['edu_group'], aggfunc=\"count\").reset_index().rename_axis(None, axis=1)\n",
    "edu_pivot_poor[\"label\"] = \"poor\"\n",
    "edu_pivot_rich = pd.pivot_table(edu_data[edu_data['income_bool'] == True], values='educational-num', index=['edu_group'], aggfunc=\"count\").reset_index().rename_axis(None, axis=1)\n",
    "edu_pivot_rich[\"label\"] = \"rich\""
   ]
  },
  {
   "cell_type": "code",
   "execution_count": 46,
   "metadata": {},
   "outputs": [
    {
     "data": {
      "text/html": [
       "<div>\n",
       "<style scoped>\n",
       "    .dataframe tbody tr th:only-of-type {\n",
       "        vertical-align: middle;\n",
       "    }\n",
       "\n",
       "    .dataframe tbody tr th {\n",
       "        vertical-align: top;\n",
       "    }\n",
       "\n",
       "    .dataframe thead th {\n",
       "        text-align: right;\n",
       "    }\n",
       "</style>\n",
       "<table border=\"1\" class=\"dataframe\">\n",
       "  <thead>\n",
       "    <tr style=\"text-align: right;\">\n",
       "      <th></th>\n",
       "      <th>edu_group</th>\n",
       "      <th>count</th>\n",
       "      <th>label</th>\n",
       "    </tr>\n",
       "  </thead>\n",
       "  <tbody>\n",
       "    <tr>\n",
       "      <th>0</th>\n",
       "      <td>0</td>\n",
       "      <td>0.160413</td>\n",
       "      <td>poor</td>\n",
       "    </tr>\n",
       "    <tr>\n",
       "      <th>1</th>\n",
       "      <td>1</td>\n",
       "      <td>0.590266</td>\n",
       "      <td>poor</td>\n",
       "    </tr>\n",
       "    <tr>\n",
       "      <th>2</th>\n",
       "      <td>2</td>\n",
       "      <td>0.205954</td>\n",
       "      <td>poor</td>\n",
       "    </tr>\n",
       "    <tr>\n",
       "      <th>3</th>\n",
       "      <td>3</td>\n",
       "      <td>0.043366</td>\n",
       "      <td>poor</td>\n",
       "    </tr>\n",
       "    <tr>\n",
       "      <th>0</th>\n",
       "      <td>0</td>\n",
       "      <td>0.029672</td>\n",
       "      <td>rich</td>\n",
       "    </tr>\n",
       "    <tr>\n",
       "      <th>1</th>\n",
       "      <td>1</td>\n",
       "      <td>0.400354</td>\n",
       "      <td>rich</td>\n",
       "    </tr>\n",
       "    <tr>\n",
       "      <th>2</th>\n",
       "      <td>2</td>\n",
       "      <td>0.358282</td>\n",
       "      <td>rich</td>\n",
       "    </tr>\n",
       "    <tr>\n",
       "      <th>3</th>\n",
       "      <td>3</td>\n",
       "      <td>0.211692</td>\n",
       "      <td>rich</td>\n",
       "    </tr>\n",
       "  </tbody>\n",
       "</table>\n",
       "</div>"
      ],
      "text/plain": [
       "   edu_group     count label\n",
       "0          0  0.160413  poor\n",
       "1          1  0.590266  poor\n",
       "2          2  0.205954  poor\n",
       "3          3  0.043366  poor\n",
       "0          0  0.029672  rich\n",
       "1          1  0.400354  rich\n",
       "2          2  0.358282  rich\n",
       "3          3  0.211692  rich"
      ]
     },
     "execution_count": 46,
     "metadata": {},
     "output_type": "execute_result"
    }
   ],
   "source": [
    "edu_pivot = edu_pivot_poor.append(edu_pivot_rich)\n",
    "edu_pivot = edu_pivot.rename(columns={\"educational-num\": \"count\"})\n",
    "edu_pivot.loc[edu_pivot['label'] == \"poor\", 'count'] = edu_pivot[edu_pivot[\"label\"] == \"poor\"][\"count\"] / edu_pivot[edu_pivot[\"label\"] == \"poor\"][\"count\"].sum()\n",
    "edu_pivot.loc[edu_pivot['label'] == \"rich\", 'count'] = edu_pivot[edu_pivot[\"label\"] == \"rich\"][\"count\"] / edu_pivot[edu_pivot[\"label\"] == \"rich\"][\"count\"].sum()\n",
    "edu_pivot"
   ]
  },
  {
   "cell_type": "code",
   "execution_count": 47,
   "metadata": {},
   "outputs": [
    {
     "data": {
      "text/plain": [
       "<AxesSubplot:xlabel='edu_group', ylabel='count'>"
      ]
     },
     "execution_count": 47,
     "metadata": {},
     "output_type": "execute_result"
    },
    {
     "data": {
      "image/png": "[encoded data removed]",
      "text/plain": [
       "<Figure size 720x360 with 1 Axes>"
      ]
     },
     "metadata": {},
     "output_type": "display_data"
    }
   ],
   "source": [
    "sns.barplot(data=edu_pivot, x='edu_group', y='count', hue='label', palette=['b', 'g'])"
   ]
  },
  {
   "cell_type": "markdown",
   "metadata": {},
   "source": [
    "И по гистограмме, и по барплоту видно, что, несмотря на схожесть пиковых значений, у нас есть отчетливые различия по распределению:\n",
    "\n",
    "- среди людей с высоким доходом \n",
    "    - очень мало совсем необразованных\n",
    "    - значимые зеленые столбики начинаются с закончивших школу\n",
    "    - гистограмма смещена вправо (самые последие 2 ступени образования встречаются только у обеспеченных граждан)\n",
    "    - практически нет разницы между 2 и 3 группой: условными ПТУ-шниками и условными бакалаврами\n",
    "\n",
    "\n",
    "- среди людей с низким доходом \n",
    "    - скопились почти все наши необразованные (их немного, но сколько есть - все тут)\n",
    "    - однако, больше всего среди них людей со средним образованием (закончили школу или ПТУ)\n",
    "    - на гистограмме второй пик значений приходится на закончивших бакалавриат, но не продолживших обучение\n",
    "    - есть некоторое совсем малое количество поступивших на магистерские программы, но самые высшие 2 ступени образования отсутствуют"
   ]
  },
  {
   "cell_type": "markdown",
   "metadata": {},
   "source": [
    "#### capital-gain"
   ]
  },
  {
   "cell_type": "code",
   "execution_count": 48,
   "metadata": {
    "colab": {
     "base_uri": "https://localhost:8080/",
     "height": 468
    },
    "id": "rU1lz1hh2RCr",
    "outputId": "03968657-8fd1-465b-8125-04bc242d1d4e"
   },
   "outputs": [],
   "source": [
    "# plt.scatter(data['capital-gain'], data['income'], c=data['income_bool'])"
   ]
  },
  {
   "cell_type": "code",
   "execution_count": 49,
   "metadata": {},
   "outputs": [
    {
     "data": {
      "text/plain": [
       "<AxesSubplot:xlabel='capital-gain', ylabel='Count'>"
      ]
     },
     "execution_count": 49,
     "metadata": {},
     "output_type": "execute_result"
    },
    {
     "data": {
      "image/png": "[encoded data removed]",
      "text/plain": [
       "<Figure size 720x360 with 1 Axes>"
      ]
     },
     "metadata": {},
     "output_type": "display_data"
    }
   ],
   "source": [
    "sns.histplot(data[data['income_bool'] == False]['capital-gain'], bins=10)\n",
    "sns.histplot(data[data['income_bool'] == True]['capital-gain'], color=\"g\", bins=10)"
   ]
  },
  {
   "cell_type": "markdown",
   "metadata": {},
   "source": [
    "По гистограмме видно, что ноль капитала получают и синенькие, и зелененькие\n",
    "Посмотрим, какой процент не получивших ничего среди людей с низким и с высоким доходом"
   ]
  },
  {
   "cell_type": "code",
   "execution_count": 50,
   "metadata": {},
   "outputs": [
    {
     "name": "stdout",
     "output_type": "stream",
     "text": [
      "0.9575856443719413\n",
      "0.7891939769707705\n"
     ]
    }
   ],
   "source": [
    "print(data[(data['capital-gain'] == 0) & (data[\"income_bool\"] == False)]['capital-gain'].count() / data[(data[\"income_bool\"] == False)][\"capital-gain\"].count())\n",
    "print(data[(data['capital-gain'] == 0) & (data[\"income_bool\"] == True)]['capital-gain'].count() / data[(data[\"income_bool\"] == True)][\"capital-gain\"].count())"
   ]
  },
  {
   "cell_type": "markdown",
   "metadata": {},
   "source": [
    "На нашей картинке ничего не видно, потому что большинство людей не получает никакого капитала\n",
    "\n",
    "Поэтому теперь, для прояснения ситуации, попробуем посмотреть на эти данные без нулей"
   ]
  },
  {
   "cell_type": "code",
   "execution_count": 51,
   "metadata": {},
   "outputs": [
    {
     "data": {
      "text/plain": [
       "<AxesSubplot:xlabel='capital-gain', ylabel='Count'>"
      ]
     },
     "execution_count": 51,
     "metadata": {},
     "output_type": "execute_result"
    },
    {
     "data": {
      "image/png": "[encoded data removed]",
      "text/plain": [
       "<Figure size 1080x720 with 1 Axes>"
      ]
     },
     "metadata": {},
     "output_type": "display_data"
    }
   ],
   "source": [
    "fig, axe = plt.subplots(figsize=(15, 10))\n",
    "cap_data = data[data['capital-gain'] != 0][['capital-gain', 'income_bool']]\n",
    "sns.histplot(cap_data[cap_data['income_bool'] == True]['capital-gain'], color=\"g\", bins=25)\n",
    "sns.histplot(cap_data[cap_data['income_bool'] == False]['capital-gain'], bins=50)"
   ]
  },
  {
   "cell_type": "markdown",
   "metadata": {},
   "source": [
    "Так уже стало видно, что синяя гистограмма существенно ниже и сильно смещена влево\n",
    "\n",
    "Т.е. и суммы капиталлов у синеньких значительно скромнее, и получивших их людей значительно меньше\n",
    "\n",
    "Еще особенность: и у бедных, и у болатых есть давольно далеко от всех прочих своих отстоящие столбики с получившими более крупную (в своем масштабе) сумму капитала. Только среди бедных таких единицы (по ошибке, что ли), а среди богатых - вполне приличный столбец нарисовался"
   ]
  },
  {
   "cell_type": "markdown",
   "metadata": {},
   "source": [
    "#### hours-per-week"
   ]
  },
  {
   "cell_type": "code",
   "execution_count": 52,
   "metadata": {},
   "outputs": [],
   "source": [
    "# plt.scatter(data['hours-per-week'], data['income'], c=data['income_bool'])"
   ]
  },
  {
   "cell_type": "code",
   "execution_count": 53,
   "metadata": {},
   "outputs": [
    {
     "data": {
      "text/plain": [
       "<AxesSubplot:xlabel='hours-per-week', ylabel='Count'>"
      ]
     },
     "execution_count": 53,
     "metadata": {},
     "output_type": "execute_result"
    },
    {
     "data": {
      "image/png": "[encoded data removed]",
      "text/plain": [
       "<Figure size 720x360 with 1 Axes>"
      ]
     },
     "metadata": {},
     "output_type": "display_data"
    }
   ],
   "source": [
    "sns.histplot(data[data['income_bool'] == False]['hours-per-week'], bins=10)\n",
    "sns.histplot(data[data['income_bool'] == True]['hours-per-week'], color=\"g\", bins=10)"
   ]
  },
  {
   "cell_type": "markdown",
   "metadata": {},
   "source": [
    "Тут всё довольно наглядно на первой картинке, можно глубже и не копать\n",
    "\n",
    "Среди людей с высоким доходом практически нет тех, кто работает менее стандартных 40 часов в неделю\n",
    "\n",
    "А вот расслабленные мало вкалывающие граждане почему-то все оказались синенькими )))\n",
    "\n",
    "Правда, сильно много вкалывающие граждане тоже оказались там же, среди бедных - возможно, это связано со спецификой низкоквалифицированного труда"
   ]
  },
  {
   "cell_type": "markdown",
   "metadata": {},
   "source": [
    "#### age"
   ]
  },
  {
   "cell_type": "code",
   "execution_count": 54,
   "metadata": {},
   "outputs": [],
   "source": [
    "# plt.scatter(data['age'], data['income'], c=data['income_bool'])"
   ]
  },
  {
   "cell_type": "code",
   "execution_count": 55,
   "metadata": {},
   "outputs": [
    {
     "data": {
      "text/plain": [
       "<AxesSubplot:xlabel='age', ylabel='Count'>"
      ]
     },
     "execution_count": 55,
     "metadata": {},
     "output_type": "execute_result"
    },
    {
     "data": {
      "image/png": "[encoded data removed]",
      "text/plain": [
       "<Figure size 720x360 with 1 Axes>"
      ]
     },
     "metadata": {},
     "output_type": "display_data"
    }
   ],
   "source": [
    "sns.histplot(data[data['income_bool'] == False]['age'], bins=25)\n",
    "sns.histplot(data[data['income_bool'] == True]['age'], color=\"g\", bins=25)"
   ]
  },
  {
   "cell_type": "markdown",
   "metadata": {},
   "source": [
    "Посмотрим еще как различаются богатые и бедные по возрастам не в абсолютных количествах, а с нормализацией"
   ]
  },
  {
   "cell_type": "code",
   "execution_count": 56,
   "metadata": {},
   "outputs": [],
   "source": [
    "data_norm_age = data.copy()\n",
    "data_norm_age['age_10'] = data_norm_age['age'] // 10 * 10\n",
    "data_norm_pivot = pd.pivot_table(data_norm_age, values=['age'], index=['age_10', 'income_bool'], aggfunc=\"count\").reset_index().rename_axis(None, axis=1)\n",
    "data_norm_pivot = data_norm_pivot.rename(columns={\"age\": \"count\"})\n",
    "data_norm_pivot.loc[data_norm_pivot['income_bool'] == False, \"count\"] = data_norm_pivot[data_norm_pivot['income_bool'] == False]['count'] \\\n",
    "                                                                        / max(data_norm_pivot[data_norm_pivot['income_bool'] == False]['count'])\n",
    "data_norm_pivot.loc[data_norm_pivot['income_bool'] == True, \"count\"] = data_norm_pivot[data_norm_pivot['income_bool'] == True]['count'] \\\n",
    "                                                                        / max(data_norm_pivot[data_norm_pivot['income_bool'] == True]['count'])"
   ]
  },
  {
   "cell_type": "code",
   "execution_count": 57,
   "metadata": {},
   "outputs": [
    {
     "data": {
      "text/plain": [
       "<AxesSubplot:xlabel='age_10', ylabel='count'>"
      ]
     },
     "execution_count": 57,
     "metadata": {},
     "output_type": "execute_result"
    },
    {
     "data": {
      "image/png": "[encoded data removed]",
      "text/plain": [
       "<Figure size 720x360 with 1 Axes>"
      ]
     },
     "metadata": {},
     "output_type": "display_data"
    }
   ],
   "source": [
    "sns.barplot(data=data_norm_pivot, x='age_10', y='count', hue='income_bool', palette=['b', 'g'])"
   ]
  },
  {
   "cell_type": "markdown",
   "metadata": {},
   "source": [
    "Тут обе картинки показательные: молодежи среди низкодоходных граждан сильно больше\n",
    "\n",
    "Будущие богатые, вероятно, в левой части графиков усиленно учатся - поэтому пока они студенты-аспиранты и не имеют особых доходов, они отображаются в синих столбиках, а на работу (уже высокооплачиваемую) выходят годам ближе к 30\n",
    "\n",
    "Существенная часть из тех, кто имеет хороший доход, вероятно, зарабатывали его себе сами в течение ~20 первых лет трудовой деятельности. На гистограмме зелененькие растут постепенно лесенкой после 25 и до 40, на нормализованном к максимуму в своей когорте графике доля обеспеченных 40-50 летних сильно опережает долю необеспеченных тех же возрастов.\n",
    "\n",
    "Судя по нашим картинкам, возраст должен быть довольно значимым показателем для модельки, т.к. логика для корреляции тут вроде есть."
   ]
  },
  {
   "cell_type": "markdown",
   "metadata": {},
   "source": [
    "Мы хотели посмотрить, что там за аномалия с 38-летними"
   ]
  },
  {
   "cell_type": "code",
   "execution_count": 58,
   "metadata": {},
   "outputs": [
    {
     "data": {
      "text/plain": [
       "age\n",
       "37.000000    242\n",
       "38.000000    232\n",
       "38.721429    654\n",
       "39.000000    201\n",
       "40.000000    218\n",
       "Name: income, dtype: int64"
      ]
     },
     "execution_count": 58,
     "metadata": {},
     "output_type": "execute_result"
    }
   ],
   "source": [
    "age_data = data.groupby('age')['income'].count()\n",
    "age_data[37:40]"
   ]
  },
  {
   "cell_type": "markdown",
   "metadata": {},
   "source": [
    "Какая-то ошибка вкралась в наши данные, похоже\n",
    "\n",
    "Посмотрим, что за люди такие, которые по неведомой причине идентифицировали свой возраст как 38.721429"
   ]
  },
  {
   "cell_type": "code",
   "execution_count": 59,
   "metadata": {},
   "outputs": [
    {
     "data": {
      "text/html": [
       "<div>\n",
       "<style scoped>\n",
       "    .dataframe tbody tr th:only-of-type {\n",
       "        vertical-align: middle;\n",
       "    }\n",
       "\n",
       "    .dataframe tbody tr th {\n",
       "        vertical-align: top;\n",
       "    }\n",
       "\n",
       "    .dataframe thead th {\n",
       "        text-align: right;\n",
       "    }\n",
       "</style>\n",
       "<table border=\"1\" class=\"dataframe\">\n",
       "  <thead>\n",
       "    <tr style=\"text-align: right;\">\n",
       "      <th></th>\n",
       "      <th>age</th>\n",
       "      <th>workclass</th>\n",
       "      <th>fnlwgt</th>\n",
       "      <th>education</th>\n",
       "      <th>educational-num</th>\n",
       "      <th>marital-status</th>\n",
       "      <th>occupation</th>\n",
       "      <th>relationship</th>\n",
       "      <th>race</th>\n",
       "      <th>gender</th>\n",
       "      <th>capital-gain</th>\n",
       "      <th>capital-loss</th>\n",
       "      <th>hours-per-week</th>\n",
       "      <th>native-country</th>\n",
       "      <th>income</th>\n",
       "      <th>income_bool</th>\n",
       "    </tr>\n",
       "  </thead>\n",
       "  <tbody>\n",
       "    <tr>\n",
       "      <th>1439</th>\n",
       "      <td>38.721429</td>\n",
       "      <td>Private</td>\n",
       "      <td>257405</td>\n",
       "      <td>5th-6th</td>\n",
       "      <td>3</td>\n",
       "      <td>Never-married</td>\n",
       "      <td>Farming-fishing</td>\n",
       "      <td>Unmarried</td>\n",
       "      <td>Black</td>\n",
       "      <td>Male</td>\n",
       "      <td>0.0</td>\n",
       "      <td>0.0</td>\n",
       "      <td>40.0</td>\n",
       "      <td>Mexico</td>\n",
       "      <td>&lt;=50K</td>\n",
       "      <td>False</td>\n",
       "    </tr>\n",
       "    <tr>\n",
       "      <th>8613</th>\n",
       "      <td>38.721429</td>\n",
       "      <td>Private</td>\n",
       "      <td>504725</td>\n",
       "      <td>11th</td>\n",
       "      <td>7</td>\n",
       "      <td>Married-civ-spouse</td>\n",
       "      <td>Transport-moving</td>\n",
       "      <td>Husband</td>\n",
       "      <td>White</td>\n",
       "      <td>Male</td>\n",
       "      <td>3464.0</td>\n",
       "      <td>0.0</td>\n",
       "      <td>40.0</td>\n",
       "      <td>Mexico</td>\n",
       "      <td>&lt;=50K</td>\n",
       "      <td>False</td>\n",
       "    </tr>\n",
       "    <tr>\n",
       "      <th>8614</th>\n",
       "      <td>38.721429</td>\n",
       "      <td>State-gov</td>\n",
       "      <td>444554</td>\n",
       "      <td>Some-college</td>\n",
       "      <td>10</td>\n",
       "      <td>Never-married</td>\n",
       "      <td>Other-service</td>\n",
       "      <td>Own-child</td>\n",
       "      <td>White</td>\n",
       "      <td>Male</td>\n",
       "      <td>0.0</td>\n",
       "      <td>0.0</td>\n",
       "      <td>25.0</td>\n",
       "      <td>United-States</td>\n",
       "      <td>&lt;=50K</td>\n",
       "      <td>False</td>\n",
       "    </tr>\n",
       "    <tr>\n",
       "      <th>8615</th>\n",
       "      <td>38.721429</td>\n",
       "      <td>Private</td>\n",
       "      <td>107914</td>\n",
       "      <td>Bachelors</td>\n",
       "      <td>13</td>\n",
       "      <td>Married-civ-spouse</td>\n",
       "      <td>Tech-support</td>\n",
       "      <td>Husband</td>\n",
       "      <td>White</td>\n",
       "      <td>Male</td>\n",
       "      <td>0.0</td>\n",
       "      <td>0.0</td>\n",
       "      <td>47.0</td>\n",
       "      <td>United-States</td>\n",
       "      <td>&gt;50K</td>\n",
       "      <td>True</td>\n",
       "    </tr>\n",
       "    <tr>\n",
       "      <th>8616</th>\n",
       "      <td>38.721429</td>\n",
       "      <td>Local-gov</td>\n",
       "      <td>403681</td>\n",
       "      <td>Bachelors</td>\n",
       "      <td>13</td>\n",
       "      <td>Married-civ-spouse</td>\n",
       "      <td>Prof-specialty</td>\n",
       "      <td>Husband</td>\n",
       "      <td>White</td>\n",
       "      <td>Male</td>\n",
       "      <td>0.0</td>\n",
       "      <td>0.0</td>\n",
       "      <td>40.0</td>\n",
       "      <td>United-States</td>\n",
       "      <td>&gt;50K</td>\n",
       "      <td>True</td>\n",
       "    </tr>\n",
       "    <tr>\n",
       "      <th>...</th>\n",
       "      <td>...</td>\n",
       "      <td>...</td>\n",
       "      <td>...</td>\n",
       "      <td>...</td>\n",
       "      <td>...</td>\n",
       "      <td>...</td>\n",
       "      <td>...</td>\n",
       "      <td>...</td>\n",
       "      <td>...</td>\n",
       "      <td>...</td>\n",
       "      <td>...</td>\n",
       "      <td>...</td>\n",
       "      <td>...</td>\n",
       "      <td>...</td>\n",
       "      <td>...</td>\n",
       "      <td>...</td>\n",
       "    </tr>\n",
       "    <tr>\n",
       "      <th>9610</th>\n",
       "      <td>38.721429</td>\n",
       "      <td>Private</td>\n",
       "      <td>200939</td>\n",
       "      <td>HS-grad</td>\n",
       "      <td>9</td>\n",
       "      <td>Married-civ-spouse</td>\n",
       "      <td>Craft-repair</td>\n",
       "      <td>Husband</td>\n",
       "      <td>White</td>\n",
       "      <td>Male</td>\n",
       "      <td>0.0</td>\n",
       "      <td>0.0</td>\n",
       "      <td>40.0</td>\n",
       "      <td>United-States</td>\n",
       "      <td>&gt;50K</td>\n",
       "      <td>True</td>\n",
       "    </tr>\n",
       "    <tr>\n",
       "      <th>9611</th>\n",
       "      <td>38.721429</td>\n",
       "      <td>Private</td>\n",
       "      <td>110592</td>\n",
       "      <td>12th</td>\n",
       "      <td>8</td>\n",
       "      <td>Married-civ-spouse</td>\n",
       "      <td>Machine-op-inspct</td>\n",
       "      <td>Husband</td>\n",
       "      <td>White</td>\n",
       "      <td>Male</td>\n",
       "      <td>0.0</td>\n",
       "      <td>0.0</td>\n",
       "      <td>40.0</td>\n",
       "      <td>United-States</td>\n",
       "      <td>&lt;=50K</td>\n",
       "      <td>False</td>\n",
       "    </tr>\n",
       "    <tr>\n",
       "      <th>9612</th>\n",
       "      <td>38.721429</td>\n",
       "      <td>Private</td>\n",
       "      <td>167840</td>\n",
       "      <td>HS-grad</td>\n",
       "      <td>9</td>\n",
       "      <td>Married-civ-spouse</td>\n",
       "      <td>Handlers-cleaners</td>\n",
       "      <td>Husband</td>\n",
       "      <td>White</td>\n",
       "      <td>Male</td>\n",
       "      <td>0.0</td>\n",
       "      <td>2002.0</td>\n",
       "      <td>40.0</td>\n",
       "      <td>United-States</td>\n",
       "      <td>&lt;=50K</td>\n",
       "      <td>False</td>\n",
       "    </tr>\n",
       "    <tr>\n",
       "      <th>9613</th>\n",
       "      <td>38.721429</td>\n",
       "      <td>Private</td>\n",
       "      <td>274883</td>\n",
       "      <td>HS-grad</td>\n",
       "      <td>9</td>\n",
       "      <td>Married-civ-spouse</td>\n",
       "      <td>Transport-moving</td>\n",
       "      <td>Husband</td>\n",
       "      <td>White</td>\n",
       "      <td>Male</td>\n",
       "      <td>0.0</td>\n",
       "      <td>0.0</td>\n",
       "      <td>40.0</td>\n",
       "      <td>United-States</td>\n",
       "      <td>&gt;50K</td>\n",
       "      <td>True</td>\n",
       "    </tr>\n",
       "    <tr>\n",
       "      <th>9614</th>\n",
       "      <td>38.721429</td>\n",
       "      <td>Private</td>\n",
       "      <td>212895</td>\n",
       "      <td>Assoc-acdm</td>\n",
       "      <td>12</td>\n",
       "      <td>Never-married</td>\n",
       "      <td>Craft-repair</td>\n",
       "      <td>Not-in-family</td>\n",
       "      <td>White</td>\n",
       "      <td>Male</td>\n",
       "      <td>0.0</td>\n",
       "      <td>0.0</td>\n",
       "      <td>40.0</td>\n",
       "      <td>United-States</td>\n",
       "      <td>&lt;=50K</td>\n",
       "      <td>False</td>\n",
       "    </tr>\n",
       "  </tbody>\n",
       "</table>\n",
       "<p>654 rows × 16 columns</p>\n",
       "</div>"
      ],
      "text/plain": [
       "            age  workclass  fnlwgt     education  educational-num  \\\n",
       "1439  38.721429    Private  257405       5th-6th                3   \n",
       "8613  38.721429    Private  504725          11th                7   \n",
       "8614  38.721429  State-gov  444554  Some-college               10   \n",
       "8615  38.721429    Private  107914     Bachelors               13   \n",
       "8616  38.721429  Local-gov  403681     Bachelors               13   \n",
       "...         ...        ...     ...           ...              ...   \n",
       "9610  38.721429    Private  200939       HS-grad                9   \n",
       "9611  38.721429    Private  110592          12th                8   \n",
       "9612  38.721429    Private  167840       HS-grad                9   \n",
       "9613  38.721429    Private  274883       HS-grad                9   \n",
       "9614  38.721429    Private  212895    Assoc-acdm               12   \n",
       "\n",
       "          marital-status         occupation   relationship   race gender  \\\n",
       "1439       Never-married    Farming-fishing      Unmarried  Black   Male   \n",
       "8613  Married-civ-spouse   Transport-moving        Husband  White   Male   \n",
       "8614       Never-married      Other-service      Own-child  White   Male   \n",
       "8615  Married-civ-spouse       Tech-support        Husband  White   Male   \n",
       "8616  Married-civ-spouse     Prof-specialty        Husband  White   Male   \n",
       "...                  ...                ...            ...    ...    ...   \n",
       "9610  Married-civ-spouse       Craft-repair        Husband  White   Male   \n",
       "9611  Married-civ-spouse  Machine-op-inspct        Husband  White   Male   \n",
       "9612  Married-civ-spouse  Handlers-cleaners        Husband  White   Male   \n",
       "9613  Married-civ-spouse   Transport-moving        Husband  White   Male   \n",
       "9614       Never-married       Craft-repair  Not-in-family  White   Male   \n",
       "\n",
       "      capital-gain  capital-loss  hours-per-week native-country income  \\\n",
       "1439           0.0           0.0            40.0         Mexico  <=50K   \n",
       "8613        3464.0           0.0            40.0         Mexico  <=50K   \n",
       "8614           0.0           0.0            25.0  United-States  <=50K   \n",
       "8615           0.0           0.0            47.0  United-States   >50K   \n",
       "8616           0.0           0.0            40.0  United-States   >50K   \n",
       "...            ...           ...             ...            ...    ...   \n",
       "9610           0.0           0.0            40.0  United-States   >50K   \n",
       "9611           0.0           0.0            40.0  United-States  <=50K   \n",
       "9612           0.0        2002.0            40.0  United-States  <=50K   \n",
       "9613           0.0           0.0            40.0  United-States   >50K   \n",
       "9614           0.0           0.0            40.0  United-States  <=50K   \n",
       "\n",
       "      income_bool  \n",
       "1439        False  \n",
       "8613        False  \n",
       "8614        False  \n",
       "8615         True  \n",
       "8616         True  \n",
       "...           ...  \n",
       "9610         True  \n",
       "9611        False  \n",
       "9612        False  \n",
       "9613         True  \n",
       "9614        False  \n",
       "\n",
       "[654 rows x 16 columns]"
      ]
     },
     "execution_count": 59,
     "metadata": {},
     "output_type": "execute_result"
    }
   ],
   "source": [
    "age_err = data[abs(data[\"age\"] - 38.7) < 0.1]\n",
    "age_err"
   ]
  },
  {
   "cell_type": "markdown",
   "metadata": {},
   "source": [
    "Какой у нас процент в базе таких косячных возрастов?"
   ]
  },
  {
   "cell_type": "code",
   "execution_count": 60,
   "metadata": {},
   "outputs": [
    {
     "data": {
      "text/plain": [
       "0.0680257957145829"
      ]
     },
     "execution_count": 60,
     "metadata": {},
     "output_type": "execute_result"
    }
   ],
   "source": [
    "len(data[abs(data[\"age\"] - 38.7) < 0.1]) / len(data)"
   ]
  },
  {
   "cell_type": "markdown",
   "metadata": {},
   "source": [
    "Как они себя ведут?"
   ]
  },
  {
   "cell_type": "code",
   "execution_count": 61,
   "metadata": {},
   "outputs": [
    {
     "data": {
      "text/html": [
       "<div>\n",
       "<style scoped>\n",
       "    .dataframe tbody tr th:only-of-type {\n",
       "        vertical-align: middle;\n",
       "    }\n",
       "\n",
       "    .dataframe tbody tr th {\n",
       "        vertical-align: top;\n",
       "    }\n",
       "\n",
       "    .dataframe thead th {\n",
       "        text-align: right;\n",
       "    }\n",
       "</style>\n",
       "<table border=\"1\" class=\"dataframe\">\n",
       "  <thead>\n",
       "    <tr style=\"text-align: right;\">\n",
       "      <th></th>\n",
       "      <th>age</th>\n",
       "      <th>workclass</th>\n",
       "      <th>fnlwgt</th>\n",
       "      <th>education</th>\n",
       "      <th>educational-num</th>\n",
       "      <th>marital-status</th>\n",
       "      <th>occupation</th>\n",
       "      <th>relationship</th>\n",
       "      <th>race</th>\n",
       "      <th>gender</th>\n",
       "      <th>capital-gain</th>\n",
       "      <th>capital-loss</th>\n",
       "      <th>hours-per-week</th>\n",
       "      <th>native-country</th>\n",
       "      <th>income</th>\n",
       "      <th>income_bool</th>\n",
       "    </tr>\n",
       "  </thead>\n",
       "  <tbody>\n",
       "    <tr>\n",
       "      <th>count</th>\n",
       "      <td>6.540000e+02</td>\n",
       "      <td>654</td>\n",
       "      <td>654.000000</td>\n",
       "      <td>654</td>\n",
       "      <td>654.000000</td>\n",
       "      <td>654</td>\n",
       "      <td>654</td>\n",
       "      <td>654</td>\n",
       "      <td>654</td>\n",
       "      <td>654</td>\n",
       "      <td>654.000000</td>\n",
       "      <td>654.000000</td>\n",
       "      <td>654.000000</td>\n",
       "      <td>654</td>\n",
       "      <td>654</td>\n",
       "      <td>654</td>\n",
       "    </tr>\n",
       "    <tr>\n",
       "      <th>unique</th>\n",
       "      <td>NaN</td>\n",
       "      <td>6</td>\n",
       "      <td>NaN</td>\n",
       "      <td>16</td>\n",
       "      <td>NaN</td>\n",
       "      <td>7</td>\n",
       "      <td>14</td>\n",
       "      <td>6</td>\n",
       "      <td>5</td>\n",
       "      <td>2</td>\n",
       "      <td>NaN</td>\n",
       "      <td>NaN</td>\n",
       "      <td>NaN</td>\n",
       "      <td>22</td>\n",
       "      <td>2</td>\n",
       "      <td>2</td>\n",
       "    </tr>\n",
       "    <tr>\n",
       "      <th>top</th>\n",
       "      <td>NaN</td>\n",
       "      <td>Private</td>\n",
       "      <td>NaN</td>\n",
       "      <td>HS-grad</td>\n",
       "      <td>NaN</td>\n",
       "      <td>Married-civ-spouse</td>\n",
       "      <td>Prof-specialty</td>\n",
       "      <td>Husband</td>\n",
       "      <td>White</td>\n",
       "      <td>Male</td>\n",
       "      <td>NaN</td>\n",
       "      <td>NaN</td>\n",
       "      <td>NaN</td>\n",
       "      <td>United-States</td>\n",
       "      <td>&lt;=50K</td>\n",
       "      <td>False</td>\n",
       "    </tr>\n",
       "    <tr>\n",
       "      <th>freq</th>\n",
       "      <td>NaN</td>\n",
       "      <td>496</td>\n",
       "      <td>NaN</td>\n",
       "      <td>218</td>\n",
       "      <td>NaN</td>\n",
       "      <td>300</td>\n",
       "      <td>92</td>\n",
       "      <td>263</td>\n",
       "      <td>561</td>\n",
       "      <td>437</td>\n",
       "      <td>NaN</td>\n",
       "      <td>NaN</td>\n",
       "      <td>NaN</td>\n",
       "      <td>602</td>\n",
       "      <td>499</td>\n",
       "      <td>499</td>\n",
       "    </tr>\n",
       "    <tr>\n",
       "      <th>mean</th>\n",
       "      <td>3.872143e+01</td>\n",
       "      <td>NaN</td>\n",
       "      <td>182344.655963</td>\n",
       "      <td>NaN</td>\n",
       "      <td>10.111621</td>\n",
       "      <td>NaN</td>\n",
       "      <td>NaN</td>\n",
       "      <td>NaN</td>\n",
       "      <td>NaN</td>\n",
       "      <td>NaN</td>\n",
       "      <td>1935.169725</td>\n",
       "      <td>77.492355</td>\n",
       "      <td>40.652905</td>\n",
       "      <td>NaN</td>\n",
       "      <td>NaN</td>\n",
       "      <td>NaN</td>\n",
       "    </tr>\n",
       "    <tr>\n",
       "      <th>std</th>\n",
       "      <td>3.484324e-13</td>\n",
       "      <td>NaN</td>\n",
       "      <td>96941.636313</td>\n",
       "      <td>NaN</td>\n",
       "      <td>2.617778</td>\n",
       "      <td>NaN</td>\n",
       "      <td>NaN</td>\n",
       "      <td>NaN</td>\n",
       "      <td>NaN</td>\n",
       "      <td>NaN</td>\n",
       "      <td>11313.487325</td>\n",
       "      <td>376.072672</td>\n",
       "      <td>11.998099</td>\n",
       "      <td>NaN</td>\n",
       "      <td>NaN</td>\n",
       "      <td>NaN</td>\n",
       "    </tr>\n",
       "    <tr>\n",
       "      <th>min</th>\n",
       "      <td>3.872143e+01</td>\n",
       "      <td>NaN</td>\n",
       "      <td>13769.000000</td>\n",
       "      <td>NaN</td>\n",
       "      <td>1.000000</td>\n",
       "      <td>NaN</td>\n",
       "      <td>NaN</td>\n",
       "      <td>NaN</td>\n",
       "      <td>NaN</td>\n",
       "      <td>NaN</td>\n",
       "      <td>0.000000</td>\n",
       "      <td>0.000000</td>\n",
       "      <td>1.000000</td>\n",
       "      <td>NaN</td>\n",
       "      <td>NaN</td>\n",
       "      <td>NaN</td>\n",
       "    </tr>\n",
       "    <tr>\n",
       "      <th>25%</th>\n",
       "      <td>3.872143e+01</td>\n",
       "      <td>NaN</td>\n",
       "      <td>112213.000000</td>\n",
       "      <td>NaN</td>\n",
       "      <td>9.000000</td>\n",
       "      <td>NaN</td>\n",
       "      <td>NaN</td>\n",
       "      <td>NaN</td>\n",
       "      <td>NaN</td>\n",
       "      <td>NaN</td>\n",
       "      <td>0.000000</td>\n",
       "      <td>0.000000</td>\n",
       "      <td>40.000000</td>\n",
       "      <td>NaN</td>\n",
       "      <td>NaN</td>\n",
       "      <td>NaN</td>\n",
       "    </tr>\n",
       "    <tr>\n",
       "      <th>50%</th>\n",
       "      <td>3.872143e+01</td>\n",
       "      <td>NaN</td>\n",
       "      <td>172336.000000</td>\n",
       "      <td>NaN</td>\n",
       "      <td>10.000000</td>\n",
       "      <td>NaN</td>\n",
       "      <td>NaN</td>\n",
       "      <td>NaN</td>\n",
       "      <td>NaN</td>\n",
       "      <td>NaN</td>\n",
       "      <td>0.000000</td>\n",
       "      <td>0.000000</td>\n",
       "      <td>40.000000</td>\n",
       "      <td>NaN</td>\n",
       "      <td>NaN</td>\n",
       "      <td>NaN</td>\n",
       "    </tr>\n",
       "    <tr>\n",
       "      <th>75%</th>\n",
       "      <td>3.872143e+01</td>\n",
       "      <td>NaN</td>\n",
       "      <td>230632.500000</td>\n",
       "      <td>NaN</td>\n",
       "      <td>12.000000</td>\n",
       "      <td>NaN</td>\n",
       "      <td>NaN</td>\n",
       "      <td>NaN</td>\n",
       "      <td>NaN</td>\n",
       "      <td>NaN</td>\n",
       "      <td>0.000000</td>\n",
       "      <td>0.000000</td>\n",
       "      <td>40.000000</td>\n",
       "      <td>NaN</td>\n",
       "      <td>NaN</td>\n",
       "      <td>NaN</td>\n",
       "    </tr>\n",
       "    <tr>\n",
       "      <th>max</th>\n",
       "      <td>3.872143e+01</td>\n",
       "      <td>NaN</td>\n",
       "      <td>538193.000000</td>\n",
       "      <td>NaN</td>\n",
       "      <td>16.000000</td>\n",
       "      <td>NaN</td>\n",
       "      <td>NaN</td>\n",
       "      <td>NaN</td>\n",
       "      <td>NaN</td>\n",
       "      <td>NaN</td>\n",
       "      <td>99999.000000</td>\n",
       "      <td>2377.000000</td>\n",
       "      <td>88.000000</td>\n",
       "      <td>NaN</td>\n",
       "      <td>NaN</td>\n",
       "      <td>NaN</td>\n",
       "    </tr>\n",
       "  </tbody>\n",
       "</table>\n",
       "</div>"
      ],
      "text/plain": [
       "                 age workclass         fnlwgt education  educational-num  \\\n",
       "count   6.540000e+02       654     654.000000       654       654.000000   \n",
       "unique           NaN         6            NaN        16              NaN   \n",
       "top              NaN   Private            NaN   HS-grad              NaN   \n",
       "freq             NaN       496            NaN       218              NaN   \n",
       "mean    3.872143e+01       NaN  182344.655963       NaN        10.111621   \n",
       "std     3.484324e-13       NaN   96941.636313       NaN         2.617778   \n",
       "min     3.872143e+01       NaN   13769.000000       NaN         1.000000   \n",
       "25%     3.872143e+01       NaN  112213.000000       NaN         9.000000   \n",
       "50%     3.872143e+01       NaN  172336.000000       NaN        10.000000   \n",
       "75%     3.872143e+01       NaN  230632.500000       NaN        12.000000   \n",
       "max     3.872143e+01       NaN  538193.000000       NaN        16.000000   \n",
       "\n",
       "            marital-status      occupation relationship   race gender  \\\n",
       "count                  654             654          654    654    654   \n",
       "unique                   7              14            6      5      2   \n",
       "top     Married-civ-spouse  Prof-specialty      Husband  White   Male   \n",
       "freq                   300              92          263    561    437   \n",
       "mean                   NaN             NaN          NaN    NaN    NaN   \n",
       "std                    NaN             NaN          NaN    NaN    NaN   \n",
       "min                    NaN             NaN          NaN    NaN    NaN   \n",
       "25%                    NaN             NaN          NaN    NaN    NaN   \n",
       "50%                    NaN             NaN          NaN    NaN    NaN   \n",
       "75%                    NaN             NaN          NaN    NaN    NaN   \n",
       "max                    NaN             NaN          NaN    NaN    NaN   \n",
       "\n",
       "        capital-gain  capital-loss  hours-per-week native-country income  \\\n",
       "count     654.000000    654.000000      654.000000            654    654   \n",
       "unique           NaN           NaN             NaN             22      2   \n",
       "top              NaN           NaN             NaN  United-States  <=50K   \n",
       "freq             NaN           NaN             NaN            602    499   \n",
       "mean     1935.169725     77.492355       40.652905            NaN    NaN   \n",
       "std     11313.487325    376.072672       11.998099            NaN    NaN   \n",
       "min         0.000000      0.000000        1.000000            NaN    NaN   \n",
       "25%         0.000000      0.000000       40.000000            NaN    NaN   \n",
       "50%         0.000000      0.000000       40.000000            NaN    NaN   \n",
       "75%         0.000000      0.000000       40.000000            NaN    NaN   \n",
       "max     99999.000000   2377.000000       88.000000            NaN    NaN   \n",
       "\n",
       "       income_bool  \n",
       "count          654  \n",
       "unique           2  \n",
       "top          False  \n",
       "freq           499  \n",
       "mean           NaN  \n",
       "std            NaN  \n",
       "min            NaN  \n",
       "25%            NaN  \n",
       "50%            NaN  \n",
       "75%            NaN  \n",
       "max            NaN  "
      ]
     },
     "execution_count": 61,
     "metadata": {},
     "output_type": "execute_result"
    }
   ],
   "source": [
    "age_err.describe(include='all') "
   ]
  },
  {
   "cell_type": "markdown",
   "metadata": {},
   "source": [
    "Предположим, что кто-то неловко дернул мышкой и все эти данные с непонятным дробным возрастом вклинились в нашу выборку случайно\n",
    "\n",
    "Откуда они могли взяться?\n",
    "\n",
    "М.б. это дубликаты других строк?"
   ]
  },
  {
   "cell_type": "code",
   "execution_count": 62,
   "metadata": {},
   "outputs": [
    {
     "data": {
      "text/html": [
       "<div>\n",
       "<style scoped>\n",
       "    .dataframe tbody tr th:only-of-type {\n",
       "        vertical-align: middle;\n",
       "    }\n",
       "\n",
       "    .dataframe tbody tr th {\n",
       "        vertical-align: top;\n",
       "    }\n",
       "\n",
       "    .dataframe thead th {\n",
       "        text-align: right;\n",
       "    }\n",
       "</style>\n",
       "<table border=\"1\" class=\"dataframe\">\n",
       "  <thead>\n",
       "    <tr style=\"text-align: right;\">\n",
       "      <th></th>\n",
       "      <th>workclass</th>\n",
       "      <th>fnlwgt</th>\n",
       "      <th>education</th>\n",
       "      <th>educational-num</th>\n",
       "      <th>marital-status</th>\n",
       "      <th>occupation</th>\n",
       "      <th>relationship</th>\n",
       "      <th>race</th>\n",
       "      <th>gender</th>\n",
       "      <th>capital-gain</th>\n",
       "      <th>capital-loss</th>\n",
       "      <th>hours-per-week</th>\n",
       "      <th>native-country</th>\n",
       "      <th>income</th>\n",
       "      <th>income_bool</th>\n",
       "    </tr>\n",
       "  </thead>\n",
       "  <tbody>\n",
       "    <tr>\n",
       "      <th>774</th>\n",
       "      <td>Private</td>\n",
       "      <td>194630</td>\n",
       "      <td>Bachelors</td>\n",
       "      <td>13</td>\n",
       "      <td>Never-married</td>\n",
       "      <td>Prof-specialty</td>\n",
       "      <td>Not-in-family</td>\n",
       "      <td>White</td>\n",
       "      <td>Male</td>\n",
       "      <td>0.0</td>\n",
       "      <td>0.0</td>\n",
       "      <td>35.0</td>\n",
       "      <td>United-States</td>\n",
       "      <td>&lt;=50K</td>\n",
       "      <td>False</td>\n",
       "    </tr>\n",
       "    <tr>\n",
       "      <th>7753</th>\n",
       "      <td>Private</td>\n",
       "      <td>324655</td>\n",
       "      <td>Bachelors</td>\n",
       "      <td>13</td>\n",
       "      <td>Never-married</td>\n",
       "      <td>Prof-specialty</td>\n",
       "      <td>Not-in-family</td>\n",
       "      <td>White</td>\n",
       "      <td>Male</td>\n",
       "      <td>0.0</td>\n",
       "      <td>0.0</td>\n",
       "      <td>40.0</td>\n",
       "      <td>United-States</td>\n",
       "      <td>&lt;=50K</td>\n",
       "      <td>False</td>\n",
       "    </tr>\n",
       "    <tr>\n",
       "      <th>9218</th>\n",
       "      <td>Private</td>\n",
       "      <td>334593</td>\n",
       "      <td>Some-college</td>\n",
       "      <td>10</td>\n",
       "      <td>Never-married</td>\n",
       "      <td>?</td>\n",
       "      <td>Not-in-family</td>\n",
       "      <td>White</td>\n",
       "      <td>Male</td>\n",
       "      <td>0.0</td>\n",
       "      <td>0.0</td>\n",
       "      <td>40.0</td>\n",
       "      <td>United-States</td>\n",
       "      <td>&lt;=50K</td>\n",
       "      <td>False</td>\n",
       "    </tr>\n",
       "  </tbody>\n",
       "</table>\n",
       "</div>"
      ],
      "text/plain": [
       "     workclass  fnlwgt     education  educational-num marital-status  \\\n",
       "774    Private  194630     Bachelors               13  Never-married   \n",
       "7753   Private  324655     Bachelors               13  Never-married   \n",
       "9218   Private  334593  Some-college               10  Never-married   \n",
       "\n",
       "          occupation   relationship   race gender  capital-gain  capital-loss  \\\n",
       "774   Prof-specialty  Not-in-family  White   Male           0.0           0.0   \n",
       "7753  Prof-specialty  Not-in-family  White   Male           0.0           0.0   \n",
       "9218               ?  Not-in-family  White   Male           0.0           0.0   \n",
       "\n",
       "      hours-per-week native-country income  income_bool  \n",
       "774             35.0  United-States  <=50K        False  \n",
       "7753            40.0  United-States  <=50K        False  \n",
       "9218            40.0  United-States  <=50K        False  "
      ]
     },
     "execution_count": 62,
     "metadata": {},
     "output_type": "execute_result"
    }
   ],
   "source": [
    "data_ex_age = data.drop(['age'], axis=1)\n",
    "duplicateRows = data_ex_age[data_ex_age.duplicated()]\n",
    "duplicateRows"
   ]
  },
  {
   "cell_type": "markdown",
   "metadata": {},
   "source": [
    "Нет, не дубликаты"
   ]
  },
  {
   "cell_type": "code",
   "execution_count": 63,
   "metadata": {},
   "outputs": [
    {
     "data": {
      "text/html": [
       "<style  type=\"text/css\" >\n",
       "#T_18bb3_row0_col0,#T_18bb3_row0_col1,#T_18bb3_row0_col2,#T_18bb3_row0_col3,#T_18bb3_row0_col4,#T_18bb3_row0_col5,#T_18bb3_row0_col6,#T_18bb3_row1_col0,#T_18bb3_row2_col0,#T_18bb3_row3_col0,#T_18bb3_row4_col0,#T_18bb3_row5_col0,#T_18bb3_row6_col0{\n",
       "            background-color:  #000000;\n",
       "            color:  #f1f1f1;\n",
       "        }#T_18bb3_row1_col1,#T_18bb3_row2_col2,#T_18bb3_row3_col3,#T_18bb3_row4_col4,#T_18bb3_row5_col5,#T_18bb3_row6_col6{\n",
       "            background-color:  #b40426;\n",
       "            color:  #f1f1f1;\n",
       "        }#T_18bb3_row1_col2,#T_18bb3_row1_col6,#T_18bb3_row2_col1,#T_18bb3_row3_col4,#T_18bb3_row4_col1,#T_18bb3_row4_col3,#T_18bb3_row4_col5{\n",
       "            background-color:  #3b4cc0;\n",
       "            color:  #f1f1f1;\n",
       "        }#T_18bb3_row1_col3{\n",
       "            background-color:  #5470de;\n",
       "            color:  #000000;\n",
       "        }#T_18bb3_row1_col4{\n",
       "            background-color:  #3c4ec2;\n",
       "            color:  #f1f1f1;\n",
       "        }#T_18bb3_row1_col5,#T_18bb3_row5_col4{\n",
       "            background-color:  #4055c8;\n",
       "            color:  #f1f1f1;\n",
       "        }#T_18bb3_row2_col3{\n",
       "            background-color:  #84a7fc;\n",
       "            color:  #000000;\n",
       "        }#T_18bb3_row2_col4{\n",
       "            background-color:  #4b64d5;\n",
       "            color:  #f1f1f1;\n",
       "        }#T_18bb3_row2_col5{\n",
       "            background-color:  #6b8df0;\n",
       "            color:  #000000;\n",
       "        }#T_18bb3_row2_col6{\n",
       "            background-color:  #aac7fd;\n",
       "            color:  #000000;\n",
       "        }#T_18bb3_row3_col1{\n",
       "            background-color:  #536edd;\n",
       "            color:  #000000;\n",
       "        }#T_18bb3_row3_col2{\n",
       "            background-color:  #82a6fb;\n",
       "            color:  #000000;\n",
       "        }#T_18bb3_row3_col5{\n",
       "            background-color:  #6384eb;\n",
       "            color:  #000000;\n",
       "        }#T_18bb3_row3_col6{\n",
       "            background-color:  #8caffe;\n",
       "            color:  #000000;\n",
       "        }#T_18bb3_row4_col2{\n",
       "            background-color:  #4961d2;\n",
       "            color:  #f1f1f1;\n",
       "        }#T_18bb3_row4_col6{\n",
       "            background-color:  #445acc;\n",
       "            color:  #f1f1f1;\n",
       "        }#T_18bb3_row5_col1{\n",
       "            background-color:  #455cce;\n",
       "            color:  #f1f1f1;\n",
       "        }#T_18bb3_row5_col2{\n",
       "            background-color:  #6f92f3;\n",
       "            color:  #000000;\n",
       "        }#T_18bb3_row5_col3{\n",
       "            background-color:  #6a8bef;\n",
       "            color:  #000000;\n",
       "        }#T_18bb3_row5_col6{\n",
       "            background-color:  #6c8ff1;\n",
       "            color:  #000000;\n",
       "        }#T_18bb3_row6_col1{\n",
       "            background-color:  #4f69d9;\n",
       "            color:  #000000;\n",
       "        }#T_18bb3_row6_col2{\n",
       "            background-color:  #b9d0f9;\n",
       "            color:  #000000;\n",
       "        }#T_18bb3_row6_col3{\n",
       "            background-color:  #9fbfff;\n",
       "            color:  #000000;\n",
       "        }#T_18bb3_row6_col4{\n",
       "            background-color:  #5a78e4;\n",
       "            color:  #000000;\n",
       "        }#T_18bb3_row6_col5{\n",
       "            background-color:  #7b9ff9;\n",
       "            color:  #000000;\n",
       "        }</style><table id=\"T_18bb3_\" ><thead>    <tr>        <th class=\"blank level0\" ></th>        <th class=\"col_heading level0 col0\" >age</th>        <th class=\"col_heading level0 col1\" >fnlwgt</th>        <th class=\"col_heading level0 col2\" >educational-num</th>        <th class=\"col_heading level0 col3\" >capital-gain</th>        <th class=\"col_heading level0 col4\" >capital-loss</th>        <th class=\"col_heading level0 col5\" >hours-per-week</th>        <th class=\"col_heading level0 col6\" >income_bool</th>    </tr></thead><tbody>\n",
       "                <tr>\n",
       "                        <th id=\"T_18bb3_level0_row0\" class=\"row_heading level0 row0\" >age</th>\n",
       "                        <td id=\"T_18bb3_row0_col0\" class=\"data row0 col0\" >nan</td>\n",
       "                        <td id=\"T_18bb3_row0_col1\" class=\"data row0 col1\" >nan</td>\n",
       "                        <td id=\"T_18bb3_row0_col2\" class=\"data row0 col2\" >nan</td>\n",
       "                        <td id=\"T_18bb3_row0_col3\" class=\"data row0 col3\" >nan</td>\n",
       "                        <td id=\"T_18bb3_row0_col4\" class=\"data row0 col4\" >nan</td>\n",
       "                        <td id=\"T_18bb3_row0_col5\" class=\"data row0 col5\" >nan</td>\n",
       "                        <td id=\"T_18bb3_row0_col6\" class=\"data row0 col6\" >nan</td>\n",
       "            </tr>\n",
       "            <tr>\n",
       "                        <th id=\"T_18bb3_level0_row1\" class=\"row_heading level0 row1\" >fnlwgt</th>\n",
       "                        <td id=\"T_18bb3_row1_col0\" class=\"data row1 col0\" >nan</td>\n",
       "                        <td id=\"T_18bb3_row1_col1\" class=\"data row1 col1\" >1.000000</td>\n",
       "                        <td id=\"T_18bb3_row1_col2\" class=\"data row1 col2\" >-0.026898</td>\n",
       "                        <td id=\"T_18bb3_row1_col3\" class=\"data row1 col3\" >0.052389</td>\n",
       "                        <td id=\"T_18bb3_row1_col4\" class=\"data row1 col4\" >-0.029231</td>\n",
       "                        <td id=\"T_18bb3_row1_col5\" class=\"data row1 col5\" >0.007533</td>\n",
       "                        <td id=\"T_18bb3_row1_col6\" class=\"data row1 col6\" >0.040941</td>\n",
       "            </tr>\n",
       "            <tr>\n",
       "                        <th id=\"T_18bb3_level0_row2\" class=\"row_heading level0 row2\" >educational-num</th>\n",
       "                        <td id=\"T_18bb3_row2_col0\" class=\"data row2 col0\" >nan</td>\n",
       "                        <td id=\"T_18bb3_row2_col1\" class=\"data row2 col1\" >-0.026898</td>\n",
       "                        <td id=\"T_18bb3_row2_col2\" class=\"data row2 col2\" >1.000000</td>\n",
       "                        <td id=\"T_18bb3_row2_col3\" class=\"data row2 col3\" >0.198699</td>\n",
       "                        <td id=\"T_18bb3_row2_col4\" class=\"data row2 col4\" >0.024968</td>\n",
       "                        <td id=\"T_18bb3_row2_col5\" class=\"data row2 col5\" >0.142827</td>\n",
       "                        <td id=\"T_18bb3_row2_col6\" class=\"data row2 col6\" >0.361112</td>\n",
       "            </tr>\n",
       "            <tr>\n",
       "                        <th id=\"T_18bb3_level0_row3\" class=\"row_heading level0 row3\" >capital-gain</th>\n",
       "                        <td id=\"T_18bb3_row3_col0\" class=\"data row3 col0\" >nan</td>\n",
       "                        <td id=\"T_18bb3_row3_col1\" class=\"data row3 col1\" >0.052389</td>\n",
       "                        <td id=\"T_18bb3_row3_col2\" class=\"data row3 col2\" >0.198699</td>\n",
       "                        <td id=\"T_18bb3_row3_col3\" class=\"data row3 col3\" >1.000000</td>\n",
       "                        <td id=\"T_18bb3_row3_col4\" class=\"data row3 col4\" >-0.035300</td>\n",
       "                        <td id=\"T_18bb3_row3_col5\" class=\"data row3 col5\" >0.119994</td>\n",
       "                        <td id=\"T_18bb3_row3_col6\" class=\"data row3 col6\" >0.277304</td>\n",
       "            </tr>\n",
       "            <tr>\n",
       "                        <th id=\"T_18bb3_level0_row4\" class=\"row_heading level0 row4\" >capital-loss</th>\n",
       "                        <td id=\"T_18bb3_row4_col0\" class=\"data row4 col0\" >nan</td>\n",
       "                        <td id=\"T_18bb3_row4_col1\" class=\"data row4 col1\" >-0.029231</td>\n",
       "                        <td id=\"T_18bb3_row4_col2\" class=\"data row4 col2\" >0.024968</td>\n",
       "                        <td id=\"T_18bb3_row4_col3\" class=\"data row4 col3\" >-0.035300</td>\n",
       "                        <td id=\"T_18bb3_row4_col4\" class=\"data row4 col4\" >1.000000</td>\n",
       "                        <td id=\"T_18bb3_row4_col5\" class=\"data row4 col5\" >-0.012416</td>\n",
       "                        <td id=\"T_18bb3_row4_col6\" class=\"data row4 col6\" >0.070928</td>\n",
       "            </tr>\n",
       "            <tr>\n",
       "                        <th id=\"T_18bb3_level0_row5\" class=\"row_heading level0 row5\" >hours-per-week</th>\n",
       "                        <td id=\"T_18bb3_row5_col0\" class=\"data row5 col0\" >nan</td>\n",
       "                        <td id=\"T_18bb3_row5_col1\" class=\"data row5 col1\" >0.007533</td>\n",
       "                        <td id=\"T_18bb3_row5_col2\" class=\"data row5 col2\" >0.142827</td>\n",
       "                        <td id=\"T_18bb3_row5_col3\" class=\"data row5 col3\" >0.119994</td>\n",
       "                        <td id=\"T_18bb3_row5_col4\" class=\"data row5 col4\" >-0.012416</td>\n",
       "                        <td id=\"T_18bb3_row5_col5\" class=\"data row5 col5\" >1.000000</td>\n",
       "                        <td id=\"T_18bb3_row5_col6\" class=\"data row5 col6\" >0.192188</td>\n",
       "            </tr>\n",
       "            <tr>\n",
       "                        <th id=\"T_18bb3_level0_row6\" class=\"row_heading level0 row6\" >income_bool</th>\n",
       "                        <td id=\"T_18bb3_row6_col0\" class=\"data row6 col0\" >nan</td>\n",
       "                        <td id=\"T_18bb3_row6_col1\" class=\"data row6 col1\" >0.040941</td>\n",
       "                        <td id=\"T_18bb3_row6_col2\" class=\"data row6 col2\" >0.361112</td>\n",
       "                        <td id=\"T_18bb3_row6_col3\" class=\"data row6 col3\" >0.277304</td>\n",
       "                        <td id=\"T_18bb3_row6_col4\" class=\"data row6 col4\" >0.070928</td>\n",
       "                        <td id=\"T_18bb3_row6_col5\" class=\"data row6 col5\" >0.192188</td>\n",
       "                        <td id=\"T_18bb3_row6_col6\" class=\"data row6 col6\" >1.000000</td>\n",
       "            </tr>\n",
       "    </tbody></table>"
      ],
      "text/plain": [
       "<pandas.io.formats.style.Styler at 0x1e339417d30>"
      ]
     },
     "execution_count": 63,
     "metadata": {},
     "output_type": "execute_result"
    }
   ],
   "source": [
    "corr = age_err.corr() # строим матрицу корреляций по кусочку базы с косячным возрастом\n",
    "corr.style.background_gradient(cmap='coolwarm')"
   ]
  },
  {
   "cell_type": "markdown",
   "metadata": {},
   "source": [
    "А давайте всех их грохнем! \n",
    "У нас их таких всего 6 % от общего объема данных, не должно повлиять на модельку в худшую сторону"
   ]
  },
  {
   "cell_type": "code",
   "execution_count": 64,
   "metadata": {},
   "outputs": [
    {
     "data": {
      "text/plain": [
       "(8960, 16)"
      ]
     },
     "execution_count": 64,
     "metadata": {},
     "output_type": "execute_result"
    }
   ],
   "source": [
    "data = data[abs(data[\"age\"] - 38.7) > 0.1]\n",
    "data.shape"
   ]
  },
  {
   "cell_type": "markdown",
   "metadata": {},
   "source": [
    "Не... посмотрели там ниже на коэффициенты линейной модели - пожалуй, не будем добавлять, ничего это не улучшает в нашей модели\n",
    "\n",
    "// Добавим еще в наши данные пару каких-нить расчетных колонок, развернем пару категориальных в столбцы и посмотрим, что лучше коррелирует"
   ]
  },
  {
   "cell_type": "code",
   "execution_count": 65,
   "metadata": {},
   "outputs": [],
   "source": [
    "# for i, value in enumerate(data['educational-num'].unique()):\n",
    "#     tmp = edu_data[edu_data['educational-num'] == value].iloc[0, 2]\n",
    "# data['age_10'] = data['age'] // 10 * 10\n",
    "# for i, value in enumerate(data['race'].unique()):\n",
    "#     print(i, value)"
   ]
  },
  {
   "cell_type": "code",
   "execution_count": 66,
   "metadata": {},
   "outputs": [
    {
     "data": {
      "text/html": [
       "<style  type=\"text/css\" >\n",
       "#T_1bbca_row0_col0,#T_1bbca_row1_col1,#T_1bbca_row2_col2,#T_1bbca_row3_col3,#T_1bbca_row4_col4,#T_1bbca_row5_col5,#T_1bbca_row6_col6{\n",
       "            background-color:  #b40426;\n",
       "            color:  #f1f1f1;\n",
       "        }#T_1bbca_row0_col1,#T_1bbca_row1_col0,#T_1bbca_row1_col2,#T_1bbca_row1_col5,#T_1bbca_row1_col6,#T_1bbca_row3_col4,#T_1bbca_row4_col3{\n",
       "            background-color:  #3b4cc0;\n",
       "            color:  #f1f1f1;\n",
       "        }#T_1bbca_row0_col2{\n",
       "            background-color:  #4257c9;\n",
       "            color:  #f1f1f1;\n",
       "        }#T_1bbca_row0_col3,#T_1bbca_row4_col2{\n",
       "            background-color:  #5b7ae5;\n",
       "            color:  #000000;\n",
       "        }#T_1bbca_row0_col4,#T_1bbca_row2_col0{\n",
       "            background-color:  #536edd;\n",
       "            color:  #000000;\n",
       "        }#T_1bbca_row0_col5{\n",
       "            background-color:  #5572df;\n",
       "            color:  #000000;\n",
       "        }#T_1bbca_row0_col6{\n",
       "            background-color:  #85a8fc;\n",
       "            color:  #000000;\n",
       "        }#T_1bbca_row1_col3{\n",
       "            background-color:  #3f53c6;\n",
       "            color:  #f1f1f1;\n",
       "        }#T_1bbca_row1_col4{\n",
       "            background-color:  #4358cb;\n",
       "            color:  #f1f1f1;\n",
       "        }#T_1bbca_row2_col1{\n",
       "            background-color:  #4a63d3;\n",
       "            color:  #f1f1f1;\n",
       "        }#T_1bbca_row2_col3,#T_1bbca_row3_col0,#T_1bbca_row4_col6,#T_1bbca_row5_col2{\n",
       "            background-color:  #6a8bef;\n",
       "            color:  #000000;\n",
       "        }#T_1bbca_row2_col4{\n",
       "            background-color:  #5e7de7;\n",
       "            color:  #000000;\n",
       "        }#T_1bbca_row2_col5{\n",
       "            background-color:  #6384eb;\n",
       "            color:  #000000;\n",
       "        }#T_1bbca_row2_col6{\n",
       "            background-color:  #a6c4fe;\n",
       "            color:  #000000;\n",
       "        }#T_1bbca_row3_col1{\n",
       "            background-color:  #4e68d8;\n",
       "            color:  #000000;\n",
       "        }#T_1bbca_row3_col2{\n",
       "            background-color:  #688aef;\n",
       "            color:  #000000;\n",
       "        }#T_1bbca_row3_col5{\n",
       "            background-color:  #5875e1;\n",
       "            color:  #000000;\n",
       "        }#T_1bbca_row3_col6,#T_1bbca_row6_col5{\n",
       "            background-color:  #82a6fb;\n",
       "            color:  #000000;\n",
       "        }#T_1bbca_row4_col0{\n",
       "            background-color:  #6180e9;\n",
       "            color:  #000000;\n",
       "        }#T_1bbca_row4_col1{\n",
       "            background-color:  #516ddb;\n",
       "            color:  #000000;\n",
       "        }#T_1bbca_row4_col5{\n",
       "            background-color:  #4b64d5;\n",
       "            color:  #f1f1f1;\n",
       "        }#T_1bbca_row5_col0{\n",
       "            background-color:  #6b8df0;\n",
       "            color:  #000000;\n",
       "        }#T_1bbca_row5_col1,#T_1bbca_row6_col1{\n",
       "            background-color:  #506bda;\n",
       "            color:  #000000;\n",
       "        }#T_1bbca_row5_col3{\n",
       "            background-color:  #5f7fe8;\n",
       "            color:  #000000;\n",
       "        }#T_1bbca_row5_col4{\n",
       "            background-color:  #5470de;\n",
       "            color:  #000000;\n",
       "        }#T_1bbca_row5_col6{\n",
       "            background-color:  #84a7fc;\n",
       "            color:  #000000;\n",
       "        }#T_1bbca_row6_col0{\n",
       "            background-color:  #98b9ff;\n",
       "            color:  #000000;\n",
       "        }#T_1bbca_row6_col2{\n",
       "            background-color:  #aac7fd;\n",
       "            color:  #000000;\n",
       "        }#T_1bbca_row6_col3{\n",
       "            background-color:  #89acfd;\n",
       "            color:  #000000;\n",
       "        }#T_1bbca_row6_col4{\n",
       "            background-color:  #7093f3;\n",
       "            color:  #000000;\n",
       "        }</style><table id=\"T_1bbca_\" ><thead>    <tr>        <th class=\"blank level0\" ></th>        <th class=\"col_heading level0 col0\" >age</th>        <th class=\"col_heading level0 col1\" >fnlwgt</th>        <th class=\"col_heading level0 col2\" >educational-num</th>        <th class=\"col_heading level0 col3\" >capital-gain</th>        <th class=\"col_heading level0 col4\" >capital-loss</th>        <th class=\"col_heading level0 col5\" >hours-per-week</th>        <th class=\"col_heading level0 col6\" >income_bool</th>    </tr></thead><tbody>\n",
       "                <tr>\n",
       "                        <th id=\"T_1bbca_level0_row0\" class=\"row_heading level0 row0\" >age</th>\n",
       "                        <td id=\"T_1bbca_row0_col0\" class=\"data row0 col0\" >1.000000</td>\n",
       "                        <td id=\"T_1bbca_row0_col1\" class=\"data row0 col1\" >-0.082189</td>\n",
       "                        <td id=\"T_1bbca_row0_col2\" class=\"data row0 col2\" >0.002472</td>\n",
       "                        <td id=\"T_1bbca_row0_col3\" class=\"data row0 col3\" >0.079032</td>\n",
       "                        <td id=\"T_1bbca_row0_col4\" class=\"data row0 col4\" >0.050434</td>\n",
       "                        <td id=\"T_1bbca_row0_col5\" class=\"data row0 col5\" >0.085038</td>\n",
       "                        <td id=\"T_1bbca_row0_col6\" class=\"data row0 col6\" >0.222712</td>\n",
       "            </tr>\n",
       "            <tr>\n",
       "                        <th id=\"T_1bbca_level0_row1\" class=\"row_heading level0 row1\" >fnlwgt</th>\n",
       "                        <td id=\"T_1bbca_row1_col0\" class=\"data row1 col0\" >-0.082189</td>\n",
       "                        <td id=\"T_1bbca_row1_col1\" class=\"data row1 col1\" >1.000000</td>\n",
       "                        <td id=\"T_1bbca_row1_col2\" class=\"data row1 col2\" >-0.024185</td>\n",
       "                        <td id=\"T_1bbca_row1_col3\" class=\"data row1 col3\" >-0.011411</td>\n",
       "                        <td id=\"T_1bbca_row1_col4\" class=\"data row1 col4\" >0.001262</td>\n",
       "                        <td id=\"T_1bbca_row1_col5\" class=\"data row1 col5\" >-0.003567</td>\n",
       "                        <td id=\"T_1bbca_row1_col6\" class=\"data row1 col6\" >-0.006023</td>\n",
       "            </tr>\n",
       "            <tr>\n",
       "                        <th id=\"T_1bbca_level0_row2\" class=\"row_heading level0 row2\" >educational-num</th>\n",
       "                        <td id=\"T_1bbca_row2_col0\" class=\"data row2 col0\" >0.002472</td>\n",
       "                        <td id=\"T_1bbca_row2_col1\" class=\"data row2 col1\" >-0.024185</td>\n",
       "                        <td id=\"T_1bbca_row2_col2\" class=\"data row2 col2\" >1.000000</td>\n",
       "                        <td id=\"T_1bbca_row2_col3\" class=\"data row2 col3\" >0.126197</td>\n",
       "                        <td id=\"T_1bbca_row2_col4\" class=\"data row2 col4\" >0.087646</td>\n",
       "                        <td id=\"T_1bbca_row2_col5\" class=\"data row2 col5\" >0.129423</td>\n",
       "                        <td id=\"T_1bbca_row2_col6\" class=\"data row2 col6\" >0.317757</td>\n",
       "            </tr>\n",
       "            <tr>\n",
       "                        <th id=\"T_1bbca_level0_row3\" class=\"row_heading level0 row3\" >capital-gain</th>\n",
       "                        <td id=\"T_1bbca_row3_col0\" class=\"data row3 col0\" >0.079032</td>\n",
       "                        <td id=\"T_1bbca_row3_col1\" class=\"data row3 col1\" >-0.011411</td>\n",
       "                        <td id=\"T_1bbca_row3_col2\" class=\"data row3 col2\" >0.126197</td>\n",
       "                        <td id=\"T_1bbca_row3_col3\" class=\"data row3 col3\" >1.000000</td>\n",
       "                        <td id=\"T_1bbca_row3_col4\" class=\"data row3 col4\" >-0.030631</td>\n",
       "                        <td id=\"T_1bbca_row3_col5\" class=\"data row3 col5\" >0.092165</td>\n",
       "                        <td id=\"T_1bbca_row3_col6\" class=\"data row3 col6\" >0.217747</td>\n",
       "            </tr>\n",
       "            <tr>\n",
       "                        <th id=\"T_1bbca_level0_row4\" class=\"row_heading level0 row4\" >capital-loss</th>\n",
       "                        <td id=\"T_1bbca_row4_col0\" class=\"data row4 col0\" >0.050434</td>\n",
       "                        <td id=\"T_1bbca_row4_col1\" class=\"data row4 col1\" >0.001262</td>\n",
       "                        <td id=\"T_1bbca_row4_col2\" class=\"data row4 col2\" >0.087646</td>\n",
       "                        <td id=\"T_1bbca_row4_col3\" class=\"data row4 col3\" >-0.030631</td>\n",
       "                        <td id=\"T_1bbca_row4_col4\" class=\"data row4 col4\" >1.000000</td>\n",
       "                        <td id=\"T_1bbca_row4_col5\" class=\"data row4 col5\" >0.054512</td>\n",
       "                        <td id=\"T_1bbca_row4_col6\" class=\"data row4 col6\" >0.144485</td>\n",
       "            </tr>\n",
       "            <tr>\n",
       "                        <th id=\"T_1bbca_level0_row5\" class=\"row_heading level0 row5\" >hours-per-week</th>\n",
       "                        <td id=\"T_1bbca_row5_col0\" class=\"data row5 col0\" >0.085038</td>\n",
       "                        <td id=\"T_1bbca_row5_col1\" class=\"data row5 col1\" >-0.003567</td>\n",
       "                        <td id=\"T_1bbca_row5_col2\" class=\"data row5 col2\" >0.129423</td>\n",
       "                        <td id=\"T_1bbca_row5_col3\" class=\"data row5 col3\" >0.092165</td>\n",
       "                        <td id=\"T_1bbca_row5_col4\" class=\"data row5 col4\" >0.054512</td>\n",
       "                        <td id=\"T_1bbca_row5_col5\" class=\"data row5 col5\" >1.000000</td>\n",
       "                        <td id=\"T_1bbca_row5_col6\" class=\"data row5 col6\" >0.219194</td>\n",
       "            </tr>\n",
       "            <tr>\n",
       "                        <th id=\"T_1bbca_level0_row6\" class=\"row_heading level0 row6\" >income_bool</th>\n",
       "                        <td id=\"T_1bbca_row6_col0\" class=\"data row6 col0\" >0.222712</td>\n",
       "                        <td id=\"T_1bbca_row6_col1\" class=\"data row6 col1\" >-0.006023</td>\n",
       "                        <td id=\"T_1bbca_row6_col2\" class=\"data row6 col2\" >0.317757</td>\n",
       "                        <td id=\"T_1bbca_row6_col3\" class=\"data row6 col3\" >0.217747</td>\n",
       "                        <td id=\"T_1bbca_row6_col4\" class=\"data row6 col4\" >0.144485</td>\n",
       "                        <td id=\"T_1bbca_row6_col5\" class=\"data row6 col5\" >0.219194</td>\n",
       "                        <td id=\"T_1bbca_row6_col6\" class=\"data row6 col6\" >1.000000</td>\n",
       "            </tr>\n",
       "    </tbody></table>"
      ],
      "text/plain": [
       "<pandas.io.formats.style.Styler at 0x1e33942efa0>"
      ]
     },
     "execution_count": 66,
     "metadata": {},
     "output_type": "execute_result"
    }
   ],
   "source": [
    "corr = data.corr() # строим матрицу корреляций по кусочку базы без косячного возраста\n",
    "corr.style.background_gradient(cmap='coolwarm')"
   ]
  },
  {
   "cell_type": "markdown",
   "metadata": {},
   "source": [
    "После варварского отстрела косячных данных возраст, похоже, выбился на 2-е место по значимости для модельки"
   ]
  },
  {
   "cell_type": "markdown",
   "metadata": {
    "id": "H-h2Oj5DQnL1"
   },
   "source": [
    "Посчитаем среднее значение признака с наибольшей корреляцией для клиентов с высоким и с низким доходом, используйте groupby."
   ]
  },
  {
   "cell_type": "code",
   "execution_count": 67,
   "metadata": {
    "colab": {
     "base_uri": "https://localhost:8080/"
    },
    "id": "zfkk5g352RH6",
    "outputId": "362171b1-f099-4750-d088-8bb64f46bcb3"
   },
   "outputs": [
    {
     "data": {
      "text/plain": [
       "income\n",
       "<=50K     9.627534\n",
       ">50K     11.545887\n",
       "Name: educational-num, dtype: float64"
      ]
     },
     "execution_count": 67,
     "metadata": {},
     "output_type": "execute_result"
    }
   ],
   "source": [
    "data.groupby('income')['educational-num'].mean()"
   ]
  },
  {
   "cell_type": "markdown",
   "metadata": {},
   "source": [
    "Попробуем заменить некоторые колоночки на наши расчетные и посмотреть, что изменится в предсказаниях"
   ]
  },
  {
   "cell_type": "markdown",
   "metadata": {},
   "source": [
    "Немного почистим еще наши данные.\n",
    "\n",
    "Выяснили, что наша модель не вполне работает с текстовым целевым значением. Потому сделаем наоборот: текстовое грохнем, а бинарное оставим\n",
    "\n",
    "//Выкинем нами добавленный чисто технический income_bool, который был нужен для просмотра корреляции\n",
    "\n",
    "А еще выкинем непонятный fnlwgt, потому что так и не поняли, что это"
   ]
  },
  {
   "cell_type": "code",
   "execution_count": 68,
   "metadata": {},
   "outputs": [],
   "source": [
    "data = data.drop(['fnlwgt', 'income'], axis=1)\n",
    "# data = data.drop(['fnlwgt', 'income_bool'], axis=1)"
   ]
  },
  {
   "cell_type": "code",
   "execution_count": 69,
   "metadata": {},
   "outputs": [
    {
     "data": {
      "text/html": [
       "<div>\n",
       "<style scoped>\n",
       "    .dataframe tbody tr th:only-of-type {\n",
       "        vertical-align: middle;\n",
       "    }\n",
       "\n",
       "    .dataframe tbody tr th {\n",
       "        vertical-align: top;\n",
       "    }\n",
       "\n",
       "    .dataframe thead th {\n",
       "        text-align: right;\n",
       "    }\n",
       "</style>\n",
       "<table border=\"1\" class=\"dataframe\">\n",
       "  <thead>\n",
       "    <tr style=\"text-align: right;\">\n",
       "      <th></th>\n",
       "      <th>workclass</th>\n",
       "      <th>education</th>\n",
       "      <th>marital-status</th>\n",
       "      <th>occupation</th>\n",
       "      <th>relationship</th>\n",
       "      <th>race</th>\n",
       "      <th>gender</th>\n",
       "      <th>native-country</th>\n",
       "    </tr>\n",
       "  </thead>\n",
       "  <tbody>\n",
       "    <tr>\n",
       "      <th>count</th>\n",
       "      <td>8960</td>\n",
       "      <td>8960</td>\n",
       "      <td>8960</td>\n",
       "      <td>8960</td>\n",
       "      <td>8960</td>\n",
       "      <td>8960</td>\n",
       "      <td>8960</td>\n",
       "      <td>8960</td>\n",
       "    </tr>\n",
       "    <tr>\n",
       "      <th>unique</th>\n",
       "      <td>8</td>\n",
       "      <td>16</td>\n",
       "      <td>7</td>\n",
       "      <td>15</td>\n",
       "      <td>6</td>\n",
       "      <td>5</td>\n",
       "      <td>2</td>\n",
       "      <td>40</td>\n",
       "    </tr>\n",
       "    <tr>\n",
       "      <th>top</th>\n",
       "      <td>Private</td>\n",
       "      <td>HS-grad</td>\n",
       "      <td>Married-civ-spouse</td>\n",
       "      <td>Exec-managerial</td>\n",
       "      <td>Husband</td>\n",
       "      <td>White</td>\n",
       "      <td>Male</td>\n",
       "      <td>United-States</td>\n",
       "    </tr>\n",
       "    <tr>\n",
       "      <th>freq</th>\n",
       "      <td>6661</td>\n",
       "      <td>2903</td>\n",
       "      <td>4007</td>\n",
       "      <td>1139</td>\n",
       "      <td>3537</td>\n",
       "      <td>7694</td>\n",
       "      <td>5972</td>\n",
       "      <td>8243</td>\n",
       "    </tr>\n",
       "  </tbody>\n",
       "</table>\n",
       "</div>"
      ],
      "text/plain": [
       "       workclass education      marital-status       occupation relationship  \\\n",
       "count       8960      8960                8960             8960         8960   \n",
       "unique         8        16                   7               15            6   \n",
       "top      Private   HS-grad  Married-civ-spouse  Exec-managerial      Husband   \n",
       "freq        6661      2903                4007             1139         3537   \n",
       "\n",
       "         race gender native-country  \n",
       "count    8960   8960           8960  \n",
       "unique      5      2             40  \n",
       "top     White   Male  United-States  \n",
       "freq     7694   5972           8243  "
      ]
     },
     "execution_count": 69,
     "metadata": {},
     "output_type": "execute_result"
    }
   ],
   "source": [
    "data.describe(include='object') "
   ]
  },
  {
   "cell_type": "markdown",
   "metadata": {
    "id": "YKqPYfZ3N1Bp"
   },
   "source": [
    "## <font color='green'>2.1. Обучение модели</font>\n",
    "\n"
   ]
  },
  {
   "cell_type": "code",
   "execution_count": 70,
   "metadata": {},
   "outputs": [],
   "source": [
    "from sklearn.model_selection import train_test_split\n",
    "from sklearn.preprocessing import StandardScaler\n",
    "from sklearn.linear_model import LogisticRegression # линейная модель для задачи классификации\n",
    "from sklearn.neighbors import KNeighborsClassifier # метод ближайших соседей\n",
    "from catboost import CatBoostClassifier, Pool # градиентный бустинг\n",
    "from sklearn import metrics\n",
    "# from sklearn.metrics import precision_recall_curve\n",
    "# from sklearn.metrics import confusion_matrix\n",
    "# from sklearn.metrics import accuracy_score\n",
    "# from sklearn.metrics import precision_score\n",
    "# from sklearn.metrics import recall_score"
   ]
  },
  {
   "cell_type": "markdown",
   "metadata": {
    "id": "YXUwlNSx49ZS"
   },
   "source": [
    "Сформируем матрицу X объект-признак и вектор y целевой переменной."
   ]
  },
  {
   "cell_type": "code",
   "execution_count": 71,
   "metadata": {
    "id": "cgetIc6vRgMi"
   },
   "outputs": [],
   "source": [
    "# X = data.drop('income', axis=1) # матрица объект-признак\n",
    "# y = data['income'] # целевая переменная\n",
    "\n",
    "X = data.drop('income_bool', axis=1) # матрица объект-признак\n",
    "y = data['income_bool'] # целевая переменная"
   ]
  },
  {
   "cell_type": "markdown",
   "metadata": {
    "id": "kLfG720Fi4eh"
   },
   "source": [
    "Применим логистическую регрессию для прогноза дохода\n",
    "\n",
    "Сначала выкинем нечисловые столбцы."
   ]
  },
  {
   "cell_type": "code",
   "execution_count": 72,
   "metadata": {
    "id": "eLjJi-Oi4Lir"
   },
   "outputs": [],
   "source": [
    "X_full = X.copy()\n",
    "X = X.drop(['workclass', 'education', 'marital-status', 'occupation', 'relationship', 'race', 'gender', 'native-country'], axis=1)"
   ]
  },
  {
   "cell_type": "code",
   "execution_count": 73,
   "metadata": {
    "colab": {
     "base_uri": "https://localhost:8080/",
     "height": 270
    },
    "id": "q5JIdinjWP3H",
    "outputId": "9f6f2037-e764-42ca-a012-2e0e20c0ba50"
   },
   "outputs": [
    {
     "data": {
      "text/html": [
       "<div>\n",
       "<style scoped>\n",
       "    .dataframe tbody tr th:only-of-type {\n",
       "        vertical-align: middle;\n",
       "    }\n",
       "\n",
       "    .dataframe tbody tr th {\n",
       "        vertical-align: top;\n",
       "    }\n",
       "\n",
       "    .dataframe thead th {\n",
       "        text-align: right;\n",
       "    }\n",
       "</style>\n",
       "<table border=\"1\" class=\"dataframe\">\n",
       "  <thead>\n",
       "    <tr style=\"text-align: right;\">\n",
       "      <th></th>\n",
       "      <th>age</th>\n",
       "      <th>educational-num</th>\n",
       "      <th>capital-gain</th>\n",
       "      <th>capital-loss</th>\n",
       "      <th>hours-per-week</th>\n",
       "    </tr>\n",
       "  </thead>\n",
       "  <tbody>\n",
       "    <tr>\n",
       "      <th>0</th>\n",
       "      <td>25.0</td>\n",
       "      <td>7</td>\n",
       "      <td>0.0</td>\n",
       "      <td>0.0</td>\n",
       "      <td>40.0</td>\n",
       "    </tr>\n",
       "    <tr>\n",
       "      <th>1</th>\n",
       "      <td>38.0</td>\n",
       "      <td>9</td>\n",
       "      <td>0.0</td>\n",
       "      <td>0.0</td>\n",
       "      <td>50.0</td>\n",
       "    </tr>\n",
       "    <tr>\n",
       "      <th>2</th>\n",
       "      <td>28.0</td>\n",
       "      <td>12</td>\n",
       "      <td>0.0</td>\n",
       "      <td>0.0</td>\n",
       "      <td>40.0</td>\n",
       "    </tr>\n",
       "    <tr>\n",
       "      <th>3</th>\n",
       "      <td>44.0</td>\n",
       "      <td>10</td>\n",
       "      <td>7688.0</td>\n",
       "      <td>0.0</td>\n",
       "      <td>40.0</td>\n",
       "    </tr>\n",
       "    <tr>\n",
       "      <th>4</th>\n",
       "      <td>18.0</td>\n",
       "      <td>10</td>\n",
       "      <td>0.0</td>\n",
       "      <td>0.0</td>\n",
       "      <td>30.0</td>\n",
       "    </tr>\n",
       "  </tbody>\n",
       "</table>\n",
       "</div>"
      ],
      "text/plain": [
       "    age  educational-num  capital-gain  capital-loss  hours-per-week\n",
       "0  25.0                7           0.0           0.0            40.0\n",
       "1  38.0                9           0.0           0.0            50.0\n",
       "2  28.0               12           0.0           0.0            40.0\n",
       "3  44.0               10        7688.0           0.0            40.0\n",
       "4  18.0               10           0.0           0.0            30.0"
      ]
     },
     "execution_count": 73,
     "metadata": {},
     "output_type": "execute_result"
    }
   ],
   "source": [
    "X.head()"
   ]
  },
  {
   "cell_type": "markdown",
   "metadata": {
    "id": "AmBs4yaFf87N"
   },
   "source": [
    "Разобъём данные на train и test (test — 25% от всех данных)."
   ]
  },
  {
   "cell_type": "code",
   "execution_count": 74,
   "metadata": {
    "id": "O4IcPGEOhtwe"
   },
   "outputs": [],
   "source": [
    "Xtrain, Xtest, ytrain, ytest = train_test_split(X, y, test_size=0.25, random_state=44)"
   ]
  },
  {
   "cell_type": "markdown",
   "metadata": {
    "id": "GbuDWle1z2Uh"
   },
   "source": [
    "Для линейных моделей очень важно масштабирование признаков. Поэтому отмасштабируем признаки при помощи StandardScaler, обучив метод на тренировочных данных и применив его и к трейну, и к тесту."
   ]
  },
  {
   "cell_type": "code",
   "execution_count": 75,
   "metadata": {},
   "outputs": [
    {
     "name": "stdout",
     "output_type": "stream",
     "text": [
      "(6720, 5) (2240, 5) (6720,) (2240,)\n"
     ]
    }
   ],
   "source": [
    "print(Xtrain.shape, Xtest.shape, ytrain.shape, ytest.shape)"
   ]
  },
  {
   "cell_type": "code",
   "execution_count": 76,
   "metadata": {
    "colab": {
     "base_uri": "https://localhost:8080/",
     "height": 270
    },
    "id": "69H1fh7VzaZf",
    "outputId": "5ac35a5a-d8c5-41cd-b6b0-fffa8450a8f1"
   },
   "outputs": [
    {
     "data": {
      "text/html": [
       "<div>\n",
       "<style scoped>\n",
       "    .dataframe tbody tr th:only-of-type {\n",
       "        vertical-align: middle;\n",
       "    }\n",
       "\n",
       "    .dataframe tbody tr th {\n",
       "        vertical-align: top;\n",
       "    }\n",
       "\n",
       "    .dataframe thead th {\n",
       "        text-align: right;\n",
       "    }\n",
       "</style>\n",
       "<table border=\"1\" class=\"dataframe\">\n",
       "  <thead>\n",
       "    <tr style=\"text-align: right;\">\n",
       "      <th></th>\n",
       "      <th>age</th>\n",
       "      <th>educational-num</th>\n",
       "      <th>capital-gain</th>\n",
       "      <th>capital-loss</th>\n",
       "      <th>hours-per-week</th>\n",
       "    </tr>\n",
       "  </thead>\n",
       "  <tbody>\n",
       "    <tr>\n",
       "      <th>0</th>\n",
       "      <td>-1.357276</td>\n",
       "      <td>-0.033662</td>\n",
       "      <td>-0.140483</td>\n",
       "      <td>-0.218176</td>\n",
       "      <td>-0.038528</td>\n",
       "    </tr>\n",
       "    <tr>\n",
       "      <th>1</th>\n",
       "      <td>1.407204</td>\n",
       "      <td>1.518367</td>\n",
       "      <td>-0.140483</td>\n",
       "      <td>-0.218176</td>\n",
       "      <td>0.821341</td>\n",
       "    </tr>\n",
       "    <tr>\n",
       "      <th>2</th>\n",
       "      <td>-0.484282</td>\n",
       "      <td>-0.421669</td>\n",
       "      <td>-0.140483</td>\n",
       "      <td>-0.218176</td>\n",
       "      <td>-0.038528</td>\n",
       "    </tr>\n",
       "    <tr>\n",
       "      <th>3</th>\n",
       "      <td>0.679710</td>\n",
       "      <td>1.518367</td>\n",
       "      <td>0.950524</td>\n",
       "      <td>-0.218176</td>\n",
       "      <td>0.821341</td>\n",
       "    </tr>\n",
       "    <tr>\n",
       "      <th>4</th>\n",
       "      <td>-1.211777</td>\n",
       "      <td>-1.585691</td>\n",
       "      <td>-0.140483</td>\n",
       "      <td>-0.218176</td>\n",
       "      <td>-0.898397</td>\n",
       "    </tr>\n",
       "  </tbody>\n",
       "</table>\n",
       "</div>"
      ],
      "text/plain": [
       "        age  educational-num  capital-gain  capital-loss  hours-per-week\n",
       "0 -1.357276        -0.033662     -0.140483     -0.218176       -0.038528\n",
       "1  1.407204         1.518367     -0.140483     -0.218176        0.821341\n",
       "2 -0.484282        -0.421669     -0.140483     -0.218176       -0.038528\n",
       "3  0.679710         1.518367      0.950524     -0.218176        0.821341\n",
       "4 -1.211777        -1.585691     -0.140483     -0.218176       -0.898397"
      ]
     },
     "execution_count": 76,
     "metadata": {},
     "output_type": "execute_result"
    }
   ],
   "source": [
    "ss = StandardScaler()\n",
    "ss.fit(Xtrain)\n",
    "\n",
    "Xtrain = pd.DataFrame(ss.transform(Xtrain), columns=X.columns)\n",
    "Xtest = pd.DataFrame(ss.transform(Xtest), columns=X.columns)\n",
    "\n",
    "Xtrain.head()"
   ]
  },
  {
   "cell_type": "markdown",
   "metadata": {
    "id": "jjPL8ZlJhtwf"
   },
   "source": [
    "Обучим логистическую регрессию на train и сделаем предсказание на новых для нее данных (test)."
   ]
  },
  {
   "cell_type": "code",
   "execution_count": 77,
   "metadata": {
    "colab": {
     "base_uri": "https://localhost:8080/",
     "height": 95
    },
    "id": "mmOb1h0Chtwf",
    "outputId": "d267aef5-2776-4b96-89f6-18247730e861"
   },
   "outputs": [
    {
     "data": {
      "text/plain": [
       "LogisticRegression()"
      ]
     },
     "execution_count": 77,
     "metadata": {},
     "output_type": "execute_result"
    }
   ],
   "source": [
    "model = LogisticRegression() # объявление модели\n",
    "model.fit(Xtrain, ytrain) # обучение модели"
   ]
  },
  {
   "cell_type": "code",
   "execution_count": 78,
   "metadata": {
    "id": "zsk3tPv5ia4F"
   },
   "outputs": [],
   "source": [
    "pred_test = model.predict(Xtest) # предсказание классов"
   ]
  },
  {
   "cell_type": "markdown",
   "metadata": {
    "id": "90VpLk2MjSUn"
   },
   "source": [
    "Посмотрим на предсказания модели и оценим ее качество."
   ]
  },
  {
   "cell_type": "code",
   "execution_count": 79,
   "metadata": {
    "colab": {
     "base_uri": "https://localhost:8080/"
    },
    "id": "cVaD2VwskQGY",
    "outputId": "bf3cfea3-9c81-48a2-dfcf-7294dd209414"
   },
   "outputs": [
    {
     "data": {
      "text/plain": [
       "0.8125"
      ]
     },
     "execution_count": 79,
     "metadata": {},
     "output_type": "execute_result"
    }
   ],
   "source": [
    "metrics.accuracy_score(ytest, pred_test) "
   ]
  },
  {
   "cell_type": "markdown",
   "metadata": {
    "id": "LzXLHJNGmNg6"
   },
   "source": [
    "Проверим, сбалансирована ли выборка."
   ]
  },
  {
   "cell_type": "code",
   "execution_count": 80,
   "metadata": {
    "colab": {
     "base_uri": "https://localhost:8080/"
    },
    "id": "NB4xFH1LiiSh",
    "outputId": "07650e5d-62ca-41ab-f4a8-827cdbf4b2a7"
   },
   "outputs": [
    {
     "data": {
      "text/plain": [
       "False    6857\n",
       "True     2103\n",
       "Name: income_bool, dtype: int64"
      ]
     },
     "execution_count": 80,
     "metadata": {},
     "output_type": "execute_result"
    }
   ],
   "source": [
    "y.value_counts()"
   ]
  },
  {
   "cell_type": "markdown",
   "metadata": {
    "id": "epmPo_TAPvEe"
   },
   "source": [
    "Баланса классов нет: большинство имеет низкий доход ($y=\"<=50K\"  или False в случае бинарного y). \n",
    "\n",
    "Посмотрим, что предсказывает модель."
   ]
  },
  {
   "cell_type": "code",
   "execution_count": 81,
   "metadata": {
    "colab": {
     "base_uri": "https://localhost:8080/"
    },
    "id": "P-tUWOp9P99-",
    "outputId": "7ca3711b-df94-439d-9e3f-71e398e3ba93",
    "scrolled": true
   },
   "outputs": [
    {
     "data": {
      "text/plain": [
       "False    1982\n",
       "True      258\n",
       "dtype: int64"
      ]
     },
     "execution_count": 81,
     "metadata": {},
     "output_type": "execute_result"
    }
   ],
   "source": [
    "# pred_test[:10]\n",
    "pd.DataFrame(pred_test).value_counts()"
   ]
  },
  {
   "cell_type": "markdown",
   "metadata": {},
   "source": [
    "А вот что было правильно"
   ]
  },
  {
   "cell_type": "code",
   "execution_count": 82,
   "metadata": {},
   "outputs": [
    {
     "data": {
      "text/plain": [
       "income_bool\n",
       "False          1712\n",
       "True            528\n",
       "dtype: int64"
      ]
     },
     "execution_count": 82,
     "metadata": {},
     "output_type": "execute_result"
    }
   ],
   "source": [
    "pd.DataFrame(ytest).value_counts()"
   ]
  },
  {
   "cell_type": "markdown",
   "metadata": {
    "id": "0WKy0qt2QHw-"
   },
   "source": [
    "## <font color='green'>2.2. Валидация модели</font>\n",
    "\n",
    "Для оценки качества модели используются различные метрики качества. Давайте посмотрим, какие метрики полезно считать в задаче классификации, кроме accuracy.\n",
    "\n",
    "<font color='blue'>Для оценки качества моделей бинарной классификации полезно смотреть на **матрицу ошибок** (confusion matrix):</font>"
   ]
  },
  {
   "cell_type": "markdown",
   "metadata": {
    "id": "cJ94ZEkshcXl"
   },
   "source": [
    "![confmat.png](data:image/png;base64,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)"
   ]
  },
  {
   "cell_type": "code",
   "execution_count": 83,
   "metadata": {
    "id": "P3XkIHpJQJjv",
    "scrolled": false
   },
   "outputs": [
    {
     "data": {
      "text/plain": [
       "array([[1637,   75],\n",
       "       [ 345,  183]], dtype=int64)"
      ]
     },
     "execution_count": 83,
     "metadata": {},
     "output_type": "execute_result"
    }
   ],
   "source": [
    "cm_arr = metrics.confusion_matrix(ytest, pred_test)\n",
    "cm_arr"
   ]
  },
  {
   "cell_type": "markdown",
   "metadata": {},
   "source": [
    "Учитывая значения нашего pred_test, в контексте матрицы ошибок получается, что бедные - это у нас позитивное событие, а богатые - негативное событие\n",
    "\n",
    "Ну ок, воспримем это как данность ))"
   ]
  },
  {
   "cell_type": "markdown",
   "metadata": {},
   "source": [
    "Пробуем посмотреть, как работают метрики через sklearn.metrics и по заявленным в определении метрики формулам"
   ]
  },
  {
   "cell_type": "code",
   "execution_count": 84,
   "metadata": {},
   "outputs": [],
   "source": [
    "# тут оказалось всё наоборот... матрицу я перевернула, но это как-то не особо помогло )))\n",
    "TP = cm_arr[0][0] \n",
    "FN = cm_arr[0][1] \n",
    "FP = cm_arr[1][0] \n",
    "TN = cm_arr[1][1] "
   ]
  },
  {
   "cell_type": "code",
   "execution_count": 85,
   "metadata": {
    "id": "cKHWNikM50Ys"
   },
   "outputs": [
    {
     "data": {
      "text/plain": [
       "False    1712\n",
       "True      528\n",
       "Name: income_bool, dtype: int64"
      ]
     },
     "execution_count": 85,
     "metadata": {},
     "output_type": "execute_result"
    }
   ],
   "source": [
    "ytest.value_counts()"
   ]
  },
  {
   "cell_type": "markdown",
   "metadata": {
    "id": "xeBZEYHnPW34"
   },
   "source": [
    "Наша модель много лишних людей неправильно определила в бедных (False Negative)"
   ]
  },
  {
   "cell_type": "markdown",
   "metadata": {},
   "source": [
    "Посмотрим на метрику **Precision (точность)**\n",
    "\n",
    "Precision - это доля правильно угаданных позитивных событий среди всех, которые МЫ назвали позитивными: TP / (TP + FP)"
   ]
  },
  {
   "cell_type": "code",
   "execution_count": 86,
   "metadata": {},
   "outputs": [
    {
     "data": {
      "text/plain": [
       "0.7093023255813954"
      ]
     },
     "execution_count": 86,
     "metadata": {},
     "output_type": "execute_result"
    }
   ],
   "source": [
    "metrics.precision_score(ytest, pred_test)"
   ]
  },
  {
   "cell_type": "code",
   "execution_count": 87,
   "metadata": {},
   "outputs": [
    {
     "name": "stdout",
     "output_type": "stream",
     "text": [
      "TP / (TP + FP):  1637 / 1982 = 0.8259334006054491\n"
     ]
    }
   ],
   "source": [
    "print(\"TP / (TP + FP): \", TP, \"/\", TP + FP, \"=\", TP / (TP + FP))"
   ]
  },
  {
   "cell_type": "markdown",
   "metadata": {},
   "source": [
    "Что-то оценка sklearn с формулой не сходится"
   ]
  },
  {
   "cell_type": "markdown",
   "metadata": {},
   "source": [
    "Посмотрим еще на метрику **Recall (полнота)**\n",
    "\n",
    "Recall - это доля правильно угаданных позитивных событий среди всех, которые НА САМОМ ДЕЛЕ были позитивными: TP / (TP + FN)"
   ]
  },
  {
   "cell_type": "code",
   "execution_count": 88,
   "metadata": {},
   "outputs": [
    {
     "data": {
      "text/plain": [
       "0.3465909090909091"
      ]
     },
     "execution_count": 88,
     "metadata": {},
     "output_type": "execute_result"
    }
   ],
   "source": [
    "metrics.recall_score(ytest, pred_test)"
   ]
  },
  {
   "cell_type": "code",
   "execution_count": 89,
   "metadata": {},
   "outputs": [
    {
     "name": "stdout",
     "output_type": "stream",
     "text": [
      "TP / (TP + FN):  1637 / 1712 = 0.9561915887850467\n"
     ]
    }
   ],
   "source": [
    "print(\"TP / (TP + FN): \", TP, \"/\", TP + FN, \"=\", TP / (TP + FN))"
   ]
  },
  {
   "cell_type": "markdown",
   "metadata": {},
   "source": [
    "И тут оценка sklearn с формулой не сходится\n",
    "\n",
    "Ну и ладно, ну и пожалуйста... "
   ]
  },
  {
   "cell_type": "markdown",
   "metadata": {},
   "source": [
    "Ну, не так, чтобы очень плохо... но попробуем улучшить"
   ]
  },
  {
   "cell_type": "markdown",
   "metadata": {},
   "source": [
    "В любом случае, по смыслу получается так:"
   ]
  },
  {
   "cell_type": "markdown",
   "metadata": {
    "id": "S1yq_oDpOyBY"
   },
   "source": [
    "Большая часть из тех, кого мы определили в бедные - действительно бедные\n",
    "\n",
    "Но, при этом, если смотреть на всех действительно бедных, довольно большая их часть у нас попала в FN, т.е. мы разметили их как богатых\n",
    "\n",
    "Почему так произошло?\n",
    "\n",
    "Посмотрим на вероятности, выдаваемые моделью."
   ]
  },
  {
   "cell_type": "code",
   "execution_count": 90,
   "metadata": {
    "id": "t7ASlwolO09n",
    "scrolled": true
   },
   "outputs": [
    {
     "data": {
      "text/plain": [
       "array([[0.74996219, 0.25003781],\n",
       "       [0.86492638, 0.13507362],\n",
       "       [0.83831868, 0.16168132],\n",
       "       [0.86587314, 0.13412686],\n",
       "       [0.68969301, 0.31030699],\n",
       "       [0.90766458, 0.09233542],\n",
       "       [0.71907214, 0.28092786],\n",
       "       [0.95566248, 0.04433752],\n",
       "       [0.49424948, 0.50575052],\n",
       "       [0.93979981, 0.06020019]])"
      ]
     },
     "execution_count": 90,
     "metadata": {},
     "output_type": "execute_result"
    }
   ],
   "source": [
    "probs = model.predict_proba(Xtest)\n",
    "probs[:10]"
   ]
  },
  {
   "cell_type": "markdown",
   "metadata": {
    "id": "MHF1dXxLQQlB"
   },
   "source": [
    "С вероятностями тут всё значительно лучше, чем было в учебном примере - они не всегда 90%+ в одну категорию и даже периодически меняются местами"
   ]
  },
  {
   "cell_type": "markdown",
   "metadata": {},
   "source": [
    "Ну и еще посмотрим на auc_roc, как на общую метрику качества модели"
   ]
  },
  {
   "cell_type": "code",
   "execution_count": 91,
   "metadata": {},
   "outputs": [
    {
     "name": "stdout",
     "output_type": "stream",
     "text": [
      "0.8179528196686491\n"
     ]
    }
   ],
   "source": [
    "lr_roc_auc_score = metrics.roc_auc_score(ytest, probs[:,1])\n",
    "print(lr_roc_auc_score)"
   ]
  },
  {
   "cell_type": "markdown",
   "metadata": {},
   "source": [
    "Попробуем подобрать пороговый коэффициент, ниже которого всех людей определяем в бедные\n",
    "\n",
    "Непонятно, как в нашем случае правильно подбирать, поэтому будем искать точку пересечени графиков precision и recall"
   ]
  },
  {
   "cell_type": "code",
   "execution_count": 92,
   "metadata": {
    "id": "JoDNJgZ_O609"
   },
   "outputs": [],
   "source": [
    "def best_coef(ytest, probs_income, show_graph=False):\n",
    "    precision, recall, thresholds = metrics.precision_recall_curve(ytest, probs_income)\n",
    "    precision = precision[1:len(precision)]\n",
    "    recall = recall[0:len(recall)-1]\n",
    "\n",
    "    if show_graph:\n",
    "        plt.figure(figsize=(7,5))\n",
    "        plt.plot(thresholds,precision, lw=3, label='Precision')\n",
    "        plt.plot(thresholds,recall, lw=3, label='Recall')\n",
    "        plt.xlabel('Coefficient', fontsize=16)\n",
    "        plt.ylabel('Value', fontsize=16)\n",
    "        plt.legend(bbox_to_anchor=(1.01, 1), loc=2, borderaxespad=0., fontsize=12)\n",
    "        plt.title('Precision and Recall curves', fontsize=16)\n",
    "        plt.show() \n",
    "\n",
    "    diff = abs(precision - recall)\n",
    "    res = thresholds[np.argmin(diff)]\n",
    "    \n",
    "    return res"
   ]
  },
  {
   "cell_type": "code",
   "execution_count": 93,
   "metadata": {},
   "outputs": [
    {
     "data": {
      "image/png": "[encoded data removed]",
      "text/plain": [
       "<Figure size 504x360 with 1 Axes>"
      ]
     },
     "metadata": {},
     "output_type": "display_data"
    },
    {
     "name": "stdout",
     "output_type": "stream",
     "text": [
      "Логистическая регрессия без категориальных параметров:\n",
      "best_coef = 0.31625045093614645\n",
      "precision:  0.5492424242424242\n",
      "recall:  0.5492424242424242\n",
      "auc-roc:  0.8179528196686491\n"
     ]
    }
   ],
   "source": [
    "probs_income = probs[:,1]\n",
    "bc = best_coef(ytest, probs_income, show_graph=True)\n",
    "classes = probs_income > bc\n",
    "\n",
    "print(\"Логистическая регрессия без категориальных параметров:\")\n",
    "print(\"best_coef =\", bc)\n",
    "print(\"precision: \", metrics.precision_score(ytest, classes))\n",
    "print(\"recall: \", metrics.recall_score(ytest, classes))\n",
    "print(\"auc-roc: \", lr_roc_auc_score)"
   ]
  },
  {
   "cell_type": "markdown",
   "metadata": {},
   "source": [
    "Подобрали оптимальный коэффициент, посмотрим, что получилось с ним"
   ]
  },
  {
   "cell_type": "code",
   "execution_count": 94,
   "metadata": {},
   "outputs": [
    {
     "data": {
      "text/plain": [
       "array([[1474,  238],\n",
       "       [ 238,  290]], dtype=int64)"
      ]
     },
     "execution_count": 94,
     "metadata": {},
     "output_type": "execute_result"
    }
   ],
   "source": [
    "cm_arr = metrics.confusion_matrix(ytest, classes)\n",
    "cm_arr"
   ]
  },
  {
   "cell_type": "code",
   "execution_count": 95,
   "metadata": {},
   "outputs": [
    {
     "data": {
      "text/plain": [
       "False    1712\n",
       "True      528\n",
       "dtype: int64"
      ]
     },
     "execution_count": 95,
     "metadata": {},
     "output_type": "execute_result"
    }
   ],
   "source": [
    "pd.DataFrame(classes).value_counts()"
   ]
  },
  {
   "cell_type": "code",
   "execution_count": 96,
   "metadata": {
    "id": "AaduyCsc6Di_"
   },
   "outputs": [
    {
     "data": {
      "text/plain": [
       "False    1712\n",
       "True      528\n",
       "Name: income_bool, dtype: int64"
      ]
     },
     "execution_count": 96,
     "metadata": {},
     "output_type": "execute_result"
    }
   ],
   "source": [
    "ytest.value_counts()"
   ]
  },
  {
   "cell_type": "markdown",
   "metadata": {
    "id": "WpBpmBaHQaFH"
   },
   "source": [
    "По количеству значений в пресказываемых каегориях вообще идеально, но ровно 238 граждан заблудилось и поменялось в предсказаниях местами"
   ]
  },
  {
   "cell_type": "markdown",
   "metadata": {
    "id": "N0qYwySGh9p_"
   },
   "source": [
    "## <font color='green'>3. Интерпретация модели</font>\n",
    "\n",
    "После обучения модели можно посмотреть на её веса, то есть на коэффициенты при признаках, найденные моделью."
   ]
  },
  {
   "cell_type": "code",
   "execution_count": 97,
   "metadata": {
    "colab": {
     "base_uri": "https://localhost:8080/"
    },
    "id": "MbBhMrg9h_5o",
    "outputId": "8ff7dc2d-ff63-4cc8-a66d-5a4df84a12a6"
   },
   "outputs": [
    {
     "data": {
      "text/plain": [
       "(array([[0.57800391, 0.83138172, 2.2831114 , 0.23806556, 0.46657423]]),\n",
       " array([-1.39045607]))"
      ]
     },
     "execution_count": 97,
     "metadata": {},
     "output_type": "execute_result"
    }
   ],
   "source": [
    "model.coef_, model.intercept_"
   ]
  },
  {
   "cell_type": "code",
   "execution_count": 98,
   "metadata": {
    "colab": {
     "base_uri": "https://localhost:8080/",
     "height": 544
    },
    "id": "IaQlscwZiiUu",
    "outputId": "fa3563f0-fbbd-430b-e979-45cb93077ea2"
   },
   "outputs": [
    {
     "data": {
      "text/html": [
       "<div>\n",
       "<style scoped>\n",
       "    .dataframe tbody tr th:only-of-type {\n",
       "        vertical-align: middle;\n",
       "    }\n",
       "\n",
       "    .dataframe tbody tr th {\n",
       "        vertical-align: top;\n",
       "    }\n",
       "\n",
       "    .dataframe thead th {\n",
       "        text-align: right;\n",
       "    }\n",
       "</style>\n",
       "<table border=\"1\" class=\"dataframe\">\n",
       "  <thead>\n",
       "    <tr style=\"text-align: right;\">\n",
       "      <th></th>\n",
       "      <th>features</th>\n",
       "      <th>weights</th>\n",
       "    </tr>\n",
       "  </thead>\n",
       "  <tbody>\n",
       "    <tr>\n",
       "      <th>3</th>\n",
       "      <td>capital-loss</td>\n",
       "      <td>0.238066</td>\n",
       "    </tr>\n",
       "    <tr>\n",
       "      <th>4</th>\n",
       "      <td>hours-per-week</td>\n",
       "      <td>0.466574</td>\n",
       "    </tr>\n",
       "    <tr>\n",
       "      <th>0</th>\n",
       "      <td>age</td>\n",
       "      <td>0.578004</td>\n",
       "    </tr>\n",
       "    <tr>\n",
       "      <th>1</th>\n",
       "      <td>educational-num</td>\n",
       "      <td>0.831382</td>\n",
       "    </tr>\n",
       "    <tr>\n",
       "      <th>2</th>\n",
       "      <td>capital-gain</td>\n",
       "      <td>2.283111</td>\n",
       "    </tr>\n",
       "  </tbody>\n",
       "</table>\n",
       "</div>"
      ],
      "text/plain": [
       "          features   weights\n",
       "3     capital-loss  0.238066\n",
       "4   hours-per-week  0.466574\n",
       "0              age  0.578004\n",
       "1  educational-num  0.831382\n",
       "2     capital-gain  2.283111"
      ]
     },
     "execution_count": 98,
     "metadata": {},
     "output_type": "execute_result"
    }
   ],
   "source": [
    "coef_table = pd.DataFrame({'features' : list(X.columns), 'weights' : list(model.coef_[0])})\n",
    "coef_table.sort_values(by='weights')"
   ]
  },
  {
   "cell_type": "markdown",
   "metadata": {
    "id": "52qZjNAHix1M"
   },
   "source": [
    "Если вес у признака положительный, то признак вносит положительный вклад в ответ, то есть чем больше значение признака, тем больше это дает вклад в положительный класс объекта и наоборот."
   ]
  },
  {
   "cell_type": "markdown",
   "metadata": {
    "id": "c6GyG8VFjx1I"
   },
   "source": [
    "## Метод ближайших соседей (бонус)\n",
    "\n",
    "Существует еще один простой метод для решения задач классификации - метод ближайших соседей."
   ]
  },
  {
   "cell_type": "markdown",
   "metadata": {
    "id": "HzNWHX71kHeV"
   },
   "source": [
    "![knn.png](data:image/png;base64,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)"
   ]
  },
  {
   "cell_type": "markdown",
   "metadata": {
    "id": "GFH2US3bbBNq"
   },
   "source": [
    "Попробуем применить метод ближайших соседей для решения поставленной задачи."
   ]
  },
  {
   "cell_type": "code",
   "execution_count": 99,
   "metadata": {
    "id": "TWDlWnKQa80N"
   },
   "outputs": [],
   "source": [
    "knn = KNeighborsClassifier()"
   ]
  },
  {
   "cell_type": "code",
   "execution_count": 100,
   "metadata": {
    "colab": {
     "base_uri": "https://localhost:8080/"
    },
    "id": "vaWYtxqJbOQ0",
    "outputId": "ed0304f7-d5af-45f8-923a-71447e8f8794"
   },
   "outputs": [
    {
     "data": {
      "text/plain": [
       "array([[1531,  181],\n",
       "       [ 290,  238]], dtype=int64)"
      ]
     },
     "execution_count": 100,
     "metadata": {},
     "output_type": "execute_result"
    }
   ],
   "source": [
    "knn.fit(Xtrain, ytrain)\n",
    "pred_test2 = knn.predict_proba(Xtest)[:,1]\n",
    "classes2 = pred_test2 > best_coef(ytest, pred_test2)\n",
    "knc_roc_auc_score = metrics.roc_auc_score(ytest, pred_test2)\n",
    "metrics.confusion_matrix(ytest, classes2)"
   ]
  },
  {
   "cell_type": "markdown",
   "metadata": {
    "id": "tgIuAPbBWl1p"
   },
   "source": [
    "## <font color='green'>4. Градиентный бустинг</font>\n",
    "\n",
    "Мы поработали с линейными моделями. Они весьма и весьма простые — предполагают независимость признаков и линейную связь между каждым признаком и целевой переменной. Конечно, в наших данных вряд ли всё так просто. Можно пытаться усложнять линейные модели: добавлять нелинейные признаки, переходить в новое признаковое пространство. Но это всё полумеры.\n",
    "\n",
    "Сейчас мы поработаем с градиентным бустингом — одним из самых мощных подходов для работы с табличными данными."
   ]
  },
  {
   "cell_type": "markdown",
   "metadata": {
    "id": "t0aoM9aSYora"
   },
   "source": [
    "Есть много имплементаций градиентного бустинга. Мы будем пользоваться CatBoost — библиотекой от Яндекса, которая очень эффективно написана и широко используется в мире."
   ]
  },
  {
   "cell_type": "code",
   "execution_count": 101,
   "metadata": {
    "colab": {
     "base_uri": "https://localhost:8080/"
    },
    "id": "2QoLTWFrWj92",
    "outputId": "cfc38aa2-ccf9-41e8-eefd-02a9846a4c3c"
   },
   "outputs": [],
   "source": [
    "# !pip install catboost"
   ]
  },
  {
   "cell_type": "code",
   "execution_count": 102,
   "metadata": {
    "id": "9duc2zLYJWV3"
   },
   "outputs": [],
   "source": [
    "train_set = Pool(Xtrain, ytrain)\n",
    "test_set = Pool(Xtest, ytest)"
   ]
  },
  {
   "cell_type": "code",
   "execution_count": 103,
   "metadata": {
    "id": "jsgUpP1NZYDu"
   },
   "outputs": [],
   "source": [
    "gbm = CatBoostClassifier(iterations=100,\n",
    "                          depth=2,\n",
    "                          learning_rate=0.1,\n",
    "                          loss_function='Logloss',\n",
    "                          eval_metric='AUC',\n",
    "                          verbose=False)\n",
    "gbm.fit(train_set, eval_set=test_set)\n",
    "gbm_preds = gbm.predict_proba(Xtest)"
   ]
  },
  {
   "cell_type": "code",
   "execution_count": 104,
   "metadata": {
    "colab": {
     "base_uri": "https://localhost:8080/",
     "height": 281
    },
    "id": "fI6mOpzfnsZk",
    "outputId": "a42ab234-7bad-4312-d165-debbfb9178b7"
   },
   "outputs": [
    {
     "data": {
      "image/png": "[encoded data removed]",
      "text/plain": [
       "<Figure size 720x360 with 1 Axes>"
      ]
     },
     "metadata": {},
     "output_type": "display_data"
    }
   ],
   "source": [
    "eval_metrics = gbm.get_evals_result()\n",
    "plt.plot(eval_metrics['validation']['AUC'])\n",
    "plt.xlabel('n_trees')\n",
    "plt.ylabel('AUC')\n",
    "plt.grid()"
   ]
  },
  {
   "cell_type": "code",
   "execution_count": 105,
   "metadata": {
    "colab": {
     "base_uri": "https://localhost:8080/"
    },
    "id": "2Zo5H0DsZ26Q",
    "outputId": "36d6af3c-f5e1-49fe-a8ab-91e5595b8b84"
   },
   "outputs": [
    {
     "data": {
      "image/png": "[encoded data removed]",
      "text/plain": [
       "<Figure size 504x360 with 1 Axes>"
      ]
     },
     "metadata": {},
     "output_type": "display_data"
    },
    {
     "name": "stdout",
     "output_type": "stream",
     "text": [
      "Градиентный бустинг без категориальных параметров:\n",
      "best_coef = 0.33137670283041476\n",
      "precision:  0.5871212121212122\n",
      "recall:  0.5871212121212122\n",
      "auc-roc:  0.7298923817615406\n"
     ]
    }
   ],
   "source": [
    "gbm_income = gbm_preds[:, 1]\n",
    "bc = best_coef(ytest, gbm_income, show_graph=True)\n",
    "gbm_classes = gbm_income > bc\n",
    "\n",
    "print(\"Градиентный бустинг без категориальных параметров:\")\n",
    "print(\"best_coef =\", bc)\n",
    "print(\"precision: \", metrics.precision_score(ytest, gbm_classes))\n",
    "print(\"recall: \", metrics.recall_score(ytest, gbm_classes))\n",
    "\n",
    "gbm_roc_auc_score = metrics.roc_auc_score(ytest, gbm_classes)\n",
    "print(\"auc-roc: \", gbm_roc_auc_score)"
   ]
  },
  {
   "cell_type": "code",
   "execution_count": 106,
   "metadata": {
    "colab": {
     "base_uri": "https://localhost:8080/",
     "height": 390
    },
    "id": "D1hQWPNNw6zm",
    "outputId": "522a8e2d-9f97-411e-cd36-e4cbf1c2368b"
   },
   "outputs": [
    {
     "data": {
      "text/html": [
       "<div>\n",
       "<style scoped>\n",
       "    .dataframe tbody tr th:only-of-type {\n",
       "        vertical-align: middle;\n",
       "    }\n",
       "\n",
       "    .dataframe tbody tr th {\n",
       "        vertical-align: top;\n",
       "    }\n",
       "\n",
       "    .dataframe thead th {\n",
       "        text-align: right;\n",
       "    }\n",
       "</style>\n",
       "<table border=\"1\" class=\"dataframe\">\n",
       "  <thead>\n",
       "    <tr style=\"text-align: right;\">\n",
       "      <th></th>\n",
       "      <th>features</th>\n",
       "      <th>importances</th>\n",
       "    </tr>\n",
       "  </thead>\n",
       "  <tbody>\n",
       "    <tr>\n",
       "      <th>3</th>\n",
       "      <td>capital-loss</td>\n",
       "      <td>8.073552</td>\n",
       "    </tr>\n",
       "    <tr>\n",
       "      <th>4</th>\n",
       "      <td>hours-per-week</td>\n",
       "      <td>11.421170</td>\n",
       "    </tr>\n",
       "    <tr>\n",
       "      <th>2</th>\n",
       "      <td>capital-gain</td>\n",
       "      <td>22.176013</td>\n",
       "    </tr>\n",
       "    <tr>\n",
       "      <th>1</th>\n",
       "      <td>educational-num</td>\n",
       "      <td>22.812598</td>\n",
       "    </tr>\n",
       "    <tr>\n",
       "      <th>0</th>\n",
       "      <td>age</td>\n",
       "      <td>35.516667</td>\n",
       "    </tr>\n",
       "  </tbody>\n",
       "</table>\n",
       "</div>"
      ],
      "text/plain": [
       "          features  importances\n",
       "3     capital-loss     8.073552\n",
       "4   hours-per-week    11.421170\n",
       "2     capital-gain    22.176013\n",
       "1  educational-num    22.812598\n",
       "0              age    35.516667"
      ]
     },
     "execution_count": 106,
     "metadata": {},
     "output_type": "execute_result"
    }
   ],
   "source": [
    "coef_table = pd.DataFrame({'features' : list(X.columns), 'importances' : list(gbm.get_feature_importance())})\n",
    "coef_table.sort_values(by='importances')"
   ]
  },
  {
   "cell_type": "markdown",
   "metadata": {
    "id": "qQ74B0pLx18c"
   },
   "source": [
    "## <font color='green'>5. Обработка категориальных признаков</font>"
   ]
  },
  {
   "cell_type": "markdown",
   "metadata": {
    "id": "OjfOCGU1BUnD"
   },
   "source": [
    "Выше мы удаляли все категориальные столбцы:\n",
    "\n",
    "`X = X.drop(['workclass', 'education', 'marital-status', 'occupation', 'relationship', 'race', 'gender', 'native-country'], axis=1)`\n",
    "\n",
    "А вдруг там содержится много полезной информации? Попробуем её сохранить."
   ]
  },
  {
   "cell_type": "code",
   "execution_count": 107,
   "metadata": {
    "id": "qAAaCQQR5Asv"
   },
   "outputs": [
    {
     "data": {
      "text/plain": [
       "((6720, 13), (2240, 13), (6720,), (2240,))"
      ]
     },
     "execution_count": 107,
     "metadata": {},
     "output_type": "execute_result"
    }
   ],
   "source": [
    "Xtrain, Xtest, ytrain, ytest = train_test_split(X_full, y, test_size=0.25, random_state=44)\n",
    "Xtrain.shape, Xtest.shape, ytrain.shape, ytest.shape"
   ]
  },
  {
   "cell_type": "code",
   "execution_count": 108,
   "metadata": {},
   "outputs": [
    {
     "name": "stdout",
     "output_type": "stream",
     "text": [
      "'workclass', 'education', 'marital-status', 'occupation', 'relationship', 'race', 'gender', 'native-country', \n"
     ]
    }
   ],
   "source": [
    "srt1 = \"\"\n",
    "for index, name in enumerate(Xtrain.columns):\n",
    "    if name not in X.columns:\n",
    "        srt1 += \"'\" + name + \"', \"\n",
    "print(srt1)"
   ]
  },
  {
   "cell_type": "code",
   "execution_count": 109,
   "metadata": {
    "id": "fFA0C2fhCjZ9"
   },
   "outputs": [],
   "source": [
    "from sklearn.preprocessing import OneHotEncoder\n",
    "from sklearn.compose import ColumnTransformer\n",
    "\n",
    "categorical = ['workclass', 'education', 'marital-status', 'occupation', 'relationship', 'race', 'gender', 'native-country']\n",
    "numeric_features = X.columns\n",
    "\n",
    "column_transformer = ColumnTransformer([\n",
    "    ('ohe', OneHotEncoder(handle_unknown=\"ignore\"), categorical),\n",
    "    ('scaling', StandardScaler(), numeric_features)\n",
    "])\n",
    "\n",
    "X_transformed = column_transformer.fit_transform(Xtrain)\n",
    "X_test_transformed = column_transformer.transform(Xtest)"
   ]
  },
  {
   "cell_type": "code",
   "execution_count": 110,
   "metadata": {
    "colab": {
     "base_uri": "https://localhost:8080/"
    },
    "id": "lL54AdU7FCZg",
    "outputId": "0fd55eaf-06fa-4042-e7a2-a57fd18f08f6"
   },
   "outputs": [
    {
     "data": {
      "text/plain": [
       "((6720, 103), (2240, 103))"
      ]
     },
     "execution_count": 110,
     "metadata": {},
     "output_type": "execute_result"
    }
   ],
   "source": [
    "X_transformed.shape, X_test_transformed.shape"
   ]
  },
  {
   "cell_type": "markdown",
   "metadata": {},
   "source": [
    "А что там внутри?"
   ]
  },
  {
   "cell_type": "code",
   "execution_count": 111,
   "metadata": {},
   "outputs": [
    {
     "data": {
      "text/html": [
       "<div>\n",
       "<style scoped>\n",
       "    .dataframe tbody tr th:only-of-type {\n",
       "        vertical-align: middle;\n",
       "    }\n",
       "\n",
       "    .dataframe tbody tr th {\n",
       "        vertical-align: top;\n",
       "    }\n",
       "\n",
       "    .dataframe thead th {\n",
       "        text-align: right;\n",
       "    }\n",
       "</style>\n",
       "<table border=\"1\" class=\"dataframe\">\n",
       "  <thead>\n",
       "    <tr style=\"text-align: right;\">\n",
       "      <th></th>\n",
       "      <th>0</th>\n",
       "      <th>1</th>\n",
       "      <th>2</th>\n",
       "      <th>3</th>\n",
       "      <th>4</th>\n",
       "      <th>5</th>\n",
       "      <th>6</th>\n",
       "      <th>7</th>\n",
       "      <th>8</th>\n",
       "      <th>9</th>\n",
       "      <th>...</th>\n",
       "      <th>93</th>\n",
       "      <th>94</th>\n",
       "      <th>95</th>\n",
       "      <th>96</th>\n",
       "      <th>97</th>\n",
       "      <th>98</th>\n",
       "      <th>99</th>\n",
       "      <th>100</th>\n",
       "      <th>101</th>\n",
       "      <th>102</th>\n",
       "    </tr>\n",
       "  </thead>\n",
       "  <tbody>\n",
       "    <tr>\n",
       "      <th>0</th>\n",
       "      <td>0.0</td>\n",
       "      <td>0.0</td>\n",
       "      <td>0.0</td>\n",
       "      <td>1.0</td>\n",
       "      <td>0.0</td>\n",
       "      <td>0.0</td>\n",
       "      <td>0.0</td>\n",
       "      <td>0.0</td>\n",
       "      <td>0.0</td>\n",
       "      <td>0.0</td>\n",
       "      <td>...</td>\n",
       "      <td>0.0</td>\n",
       "      <td>0.0</td>\n",
       "      <td>1.0</td>\n",
       "      <td>0.0</td>\n",
       "      <td>0.0</td>\n",
       "      <td>-1.357276</td>\n",
       "      <td>-0.033662</td>\n",
       "      <td>-0.140483</td>\n",
       "      <td>-0.218176</td>\n",
       "      <td>-0.038528</td>\n",
       "    </tr>\n",
       "    <tr>\n",
       "      <th>1</th>\n",
       "      <td>0.0</td>\n",
       "      <td>0.0</td>\n",
       "      <td>0.0</td>\n",
       "      <td>1.0</td>\n",
       "      <td>0.0</td>\n",
       "      <td>0.0</td>\n",
       "      <td>0.0</td>\n",
       "      <td>0.0</td>\n",
       "      <td>0.0</td>\n",
       "      <td>0.0</td>\n",
       "      <td>...</td>\n",
       "      <td>0.0</td>\n",
       "      <td>0.0</td>\n",
       "      <td>1.0</td>\n",
       "      <td>0.0</td>\n",
       "      <td>0.0</td>\n",
       "      <td>1.407204</td>\n",
       "      <td>1.518367</td>\n",
       "      <td>-0.140483</td>\n",
       "      <td>-0.218176</td>\n",
       "      <td>0.821341</td>\n",
       "    </tr>\n",
       "    <tr>\n",
       "      <th>2</th>\n",
       "      <td>0.0</td>\n",
       "      <td>0.0</td>\n",
       "      <td>0.0</td>\n",
       "      <td>1.0</td>\n",
       "      <td>0.0</td>\n",
       "      <td>0.0</td>\n",
       "      <td>0.0</td>\n",
       "      <td>0.0</td>\n",
       "      <td>0.0</td>\n",
       "      <td>0.0</td>\n",
       "      <td>...</td>\n",
       "      <td>0.0</td>\n",
       "      <td>0.0</td>\n",
       "      <td>1.0</td>\n",
       "      <td>0.0</td>\n",
       "      <td>0.0</td>\n",
       "      <td>-0.484282</td>\n",
       "      <td>-0.421669</td>\n",
       "      <td>-0.140483</td>\n",
       "      <td>-0.218176</td>\n",
       "      <td>-0.038528</td>\n",
       "    </tr>\n",
       "    <tr>\n",
       "      <th>3</th>\n",
       "      <td>0.0</td>\n",
       "      <td>1.0</td>\n",
       "      <td>0.0</td>\n",
       "      <td>0.0</td>\n",
       "      <td>0.0</td>\n",
       "      <td>0.0</td>\n",
       "      <td>0.0</td>\n",
       "      <td>0.0</td>\n",
       "      <td>0.0</td>\n",
       "      <td>0.0</td>\n",
       "      <td>...</td>\n",
       "      <td>0.0</td>\n",
       "      <td>0.0</td>\n",
       "      <td>1.0</td>\n",
       "      <td>0.0</td>\n",
       "      <td>0.0</td>\n",
       "      <td>0.679710</td>\n",
       "      <td>1.518367</td>\n",
       "      <td>0.950524</td>\n",
       "      <td>-0.218176</td>\n",
       "      <td>0.821341</td>\n",
       "    </tr>\n",
       "    <tr>\n",
       "      <th>4</th>\n",
       "      <td>0.0</td>\n",
       "      <td>0.0</td>\n",
       "      <td>0.0</td>\n",
       "      <td>1.0</td>\n",
       "      <td>0.0</td>\n",
       "      <td>0.0</td>\n",
       "      <td>0.0</td>\n",
       "      <td>0.0</td>\n",
       "      <td>1.0</td>\n",
       "      <td>0.0</td>\n",
       "      <td>...</td>\n",
       "      <td>0.0</td>\n",
       "      <td>0.0</td>\n",
       "      <td>1.0</td>\n",
       "      <td>0.0</td>\n",
       "      <td>0.0</td>\n",
       "      <td>-1.211777</td>\n",
       "      <td>-1.585691</td>\n",
       "      <td>-0.140483</td>\n",
       "      <td>-0.218176</td>\n",
       "      <td>-0.898397</td>\n",
       "    </tr>\n",
       "    <tr>\n",
       "      <th>...</th>\n",
       "      <td>...</td>\n",
       "      <td>...</td>\n",
       "      <td>...</td>\n",
       "      <td>...</td>\n",
       "      <td>...</td>\n",
       "      <td>...</td>\n",
       "      <td>...</td>\n",
       "      <td>...</td>\n",
       "      <td>...</td>\n",
       "      <td>...</td>\n",
       "      <td>...</td>\n",
       "      <td>...</td>\n",
       "      <td>...</td>\n",
       "      <td>...</td>\n",
       "      <td>...</td>\n",
       "      <td>...</td>\n",
       "      <td>...</td>\n",
       "      <td>...</td>\n",
       "      <td>...</td>\n",
       "      <td>...</td>\n",
       "      <td>...</td>\n",
       "    </tr>\n",
       "    <tr>\n",
       "      <th>6715</th>\n",
       "      <td>0.0</td>\n",
       "      <td>0.0</td>\n",
       "      <td>0.0</td>\n",
       "      <td>1.0</td>\n",
       "      <td>0.0</td>\n",
       "      <td>0.0</td>\n",
       "      <td>0.0</td>\n",
       "      <td>0.0</td>\n",
       "      <td>0.0</td>\n",
       "      <td>0.0</td>\n",
       "      <td>...</td>\n",
       "      <td>0.0</td>\n",
       "      <td>0.0</td>\n",
       "      <td>1.0</td>\n",
       "      <td>0.0</td>\n",
       "      <td>0.0</td>\n",
       "      <td>2.571196</td>\n",
       "      <td>-0.421669</td>\n",
       "      <td>-0.140483</td>\n",
       "      <td>5.454762</td>\n",
       "      <td>-0.468462</td>\n",
       "    </tr>\n",
       "    <tr>\n",
       "      <th>6716</th>\n",
       "      <td>0.0</td>\n",
       "      <td>0.0</td>\n",
       "      <td>0.0</td>\n",
       "      <td>1.0</td>\n",
       "      <td>0.0</td>\n",
       "      <td>0.0</td>\n",
       "      <td>0.0</td>\n",
       "      <td>0.0</td>\n",
       "      <td>0.0</td>\n",
       "      <td>0.0</td>\n",
       "      <td>...</td>\n",
       "      <td>0.0</td>\n",
       "      <td>0.0</td>\n",
       "      <td>1.0</td>\n",
       "      <td>0.0</td>\n",
       "      <td>0.0</td>\n",
       "      <td>1.116206</td>\n",
       "      <td>-0.421669</td>\n",
       "      <td>-0.140483</td>\n",
       "      <td>3.828951</td>\n",
       "      <td>-0.038528</td>\n",
       "    </tr>\n",
       "    <tr>\n",
       "      <th>6717</th>\n",
       "      <td>0.0</td>\n",
       "      <td>0.0</td>\n",
       "      <td>0.0</td>\n",
       "      <td>0.0</td>\n",
       "      <td>0.0</td>\n",
       "      <td>1.0</td>\n",
       "      <td>0.0</td>\n",
       "      <td>0.0</td>\n",
       "      <td>0.0</td>\n",
       "      <td>0.0</td>\n",
       "      <td>...</td>\n",
       "      <td>0.0</td>\n",
       "      <td>0.0</td>\n",
       "      <td>1.0</td>\n",
       "      <td>0.0</td>\n",
       "      <td>0.0</td>\n",
       "      <td>0.606960</td>\n",
       "      <td>-0.421669</td>\n",
       "      <td>-0.140483</td>\n",
       "      <td>4.445467</td>\n",
       "      <td>0.649368</td>\n",
       "    </tr>\n",
       "    <tr>\n",
       "      <th>6718</th>\n",
       "      <td>1.0</td>\n",
       "      <td>0.0</td>\n",
       "      <td>0.0</td>\n",
       "      <td>0.0</td>\n",
       "      <td>0.0</td>\n",
       "      <td>0.0</td>\n",
       "      <td>0.0</td>\n",
       "      <td>0.0</td>\n",
       "      <td>0.0</td>\n",
       "      <td>0.0</td>\n",
       "      <td>...</td>\n",
       "      <td>0.0</td>\n",
       "      <td>0.0</td>\n",
       "      <td>1.0</td>\n",
       "      <td>0.0</td>\n",
       "      <td>0.0</td>\n",
       "      <td>1.116206</td>\n",
       "      <td>1.518367</td>\n",
       "      <td>-0.140483</td>\n",
       "      <td>-0.218176</td>\n",
       "      <td>0.133446</td>\n",
       "    </tr>\n",
       "    <tr>\n",
       "      <th>6719</th>\n",
       "      <td>0.0</td>\n",
       "      <td>0.0</td>\n",
       "      <td>0.0</td>\n",
       "      <td>1.0</td>\n",
       "      <td>0.0</td>\n",
       "      <td>0.0</td>\n",
       "      <td>0.0</td>\n",
       "      <td>0.0</td>\n",
       "      <td>0.0</td>\n",
       "      <td>0.0</td>\n",
       "      <td>...</td>\n",
       "      <td>0.0</td>\n",
       "      <td>0.0</td>\n",
       "      <td>1.0</td>\n",
       "      <td>0.0</td>\n",
       "      <td>0.0</td>\n",
       "      <td>0.170463</td>\n",
       "      <td>-0.421669</td>\n",
       "      <td>0.594329</td>\n",
       "      <td>-0.218176</td>\n",
       "      <td>-0.038528</td>\n",
       "    </tr>\n",
       "  </tbody>\n",
       "</table>\n",
       "<p>6720 rows × 103 columns</p>\n",
       "</div>"
      ],
      "text/plain": [
       "      0    1    2    3    4    5    6    7    8    9    ...  93   94   95   \\\n",
       "0     0.0  0.0  0.0  1.0  0.0  0.0  0.0  0.0  0.0  0.0  ...  0.0  0.0  1.0   \n",
       "1     0.0  0.0  0.0  1.0  0.0  0.0  0.0  0.0  0.0  0.0  ...  0.0  0.0  1.0   \n",
       "2     0.0  0.0  0.0  1.0  0.0  0.0  0.0  0.0  0.0  0.0  ...  0.0  0.0  1.0   \n",
       "3     0.0  1.0  0.0  0.0  0.0  0.0  0.0  0.0  0.0  0.0  ...  0.0  0.0  1.0   \n",
       "4     0.0  0.0  0.0  1.0  0.0  0.0  0.0  0.0  1.0  0.0  ...  0.0  0.0  1.0   \n",
       "...   ...  ...  ...  ...  ...  ...  ...  ...  ...  ...  ...  ...  ...  ...   \n",
       "6715  0.0  0.0  0.0  1.0  0.0  0.0  0.0  0.0  0.0  0.0  ...  0.0  0.0  1.0   \n",
       "6716  0.0  0.0  0.0  1.0  0.0  0.0  0.0  0.0  0.0  0.0  ...  0.0  0.0  1.0   \n",
       "6717  0.0  0.0  0.0  0.0  0.0  1.0  0.0  0.0  0.0  0.0  ...  0.0  0.0  1.0   \n",
       "6718  1.0  0.0  0.0  0.0  0.0  0.0  0.0  0.0  0.0  0.0  ...  0.0  0.0  1.0   \n",
       "6719  0.0  0.0  0.0  1.0  0.0  0.0  0.0  0.0  0.0  0.0  ...  0.0  0.0  1.0   \n",
       "\n",
       "      96   97        98        99        100       101       102  \n",
       "0     0.0  0.0 -1.357276 -0.033662 -0.140483 -0.218176 -0.038528  \n",
       "1     0.0  0.0  1.407204  1.518367 -0.140483 -0.218176  0.821341  \n",
       "2     0.0  0.0 -0.484282 -0.421669 -0.140483 -0.218176 -0.038528  \n",
       "3     0.0  0.0  0.679710  1.518367  0.950524 -0.218176  0.821341  \n",
       "4     0.0  0.0 -1.211777 -1.585691 -0.140483 -0.218176 -0.898397  \n",
       "...   ...  ...       ...       ...       ...       ...       ...  \n",
       "6715  0.0  0.0  2.571196 -0.421669 -0.140483  5.454762 -0.468462  \n",
       "6716  0.0  0.0  1.116206 -0.421669 -0.140483  3.828951 -0.038528  \n",
       "6717  0.0  0.0  0.606960 -0.421669 -0.140483  4.445467  0.649368  \n",
       "6718  0.0  0.0  1.116206  1.518367 -0.140483 -0.218176  0.133446  \n",
       "6719  0.0  0.0  0.170463 -0.421669  0.594329 -0.218176 -0.038528  \n",
       "\n",
       "[6720 rows x 103 columns]"
      ]
     },
     "execution_count": 111,
     "metadata": {},
     "output_type": "execute_result"
    }
   ],
   "source": [
    "df_X_transformed = pd.DataFrame(X_transformed.toarray())\n",
    "df_X_transformed"
   ]
  },
  {
   "cell_type": "markdown",
   "metadata": {},
   "source": [
    "Ну и прогоним все эти единички и нолики через модель логистической регрессии с подбором коэффициента"
   ]
  },
  {
   "cell_type": "code",
   "execution_count": 112,
   "metadata": {
    "id": "ur0gDWeQFLvu"
   },
   "outputs": [],
   "source": [
    "model = LogisticRegression(solver='liblinear')\n",
    "model.fit(X_transformed, ytrain)\n",
    "pred = model.predict_proba(X_test_transformed)"
   ]
  },
  {
   "cell_type": "code",
   "execution_count": 113,
   "metadata": {
    "colab": {
     "base_uri": "https://localhost:8080/"
    },
    "id": "ybwNgoSPFsSm",
    "outputId": "514dd2a6-91ed-4468-bd6d-ecce13637c52"
   },
   "outputs": [
    {
     "data": {
      "image/png": "[encoded data removed]",
      "text/plain": [
       "<Figure size 504x360 with 1 Axes>"
      ]
     },
     "metadata": {},
     "output_type": "display_data"
    },
    {
     "name": "stdout",
     "output_type": "stream",
     "text": [
      "Логистическая регрессия с учетом категориальных параметров:\n",
      "best_coef = 0.4115025186980243\n",
      "precision:  0.6691871455576559\n",
      "recall:  0.6704545454545454\n",
      "auc-roc:  0.9043803986122909\n"
     ]
    }
   ],
   "source": [
    "pred_income = pred[:, 1]\n",
    "bc = best_coef(ytest, pred_income, show_graph=True)\n",
    "classes = pred_income > bc\n",
    "\n",
    "print(\"Логистическая регрессия с учетом категориальных параметров:\")\n",
    "print(\"best_coef =\", bc)\n",
    "print(\"precision: \", metrics.precision_score(ytest, classes))\n",
    "print(\"recall: \", metrics.recall_score(ytest, classes))\n",
    "\n",
    "lr_categ_roc_auc_score = metrics.roc_auc_score(ytest, pred_income)\n",
    "print(\"auc-roc: \", lr_categ_roc_auc_score)"
   ]
  },
  {
   "cell_type": "markdown",
   "metadata": {},
   "source": [
    "И её же через модель градиентного бустинга"
   ]
  },
  {
   "cell_type": "code",
   "execution_count": 114,
   "metadata": {
    "colab": {
     "base_uri": "https://localhost:8080/"
    },
    "id": "KI31HXMoGMta",
    "outputId": "4ce63872-3650-40d6-851a-7024b7cca9ea"
   },
   "outputs": [],
   "source": [
    "train_set = Pool(X_transformed, ytrain)\n",
    "test_set = Pool(X_test_transformed, ytest)\n",
    "gbm = CatBoostClassifier(iterations=100,\n",
    "                          depth=2,\n",
    "                          learning_rate=0.1,\n",
    "                          loss_function='Logloss',\n",
    "                          eval_metric='AUC',\n",
    "                          verbose=False)\n",
    "gbm.fit(train_set, eval_set=test_set)\n",
    "gbm_preds = gbm.predict_proba(test_set)"
   ]
  },
  {
   "cell_type": "code",
   "execution_count": 115,
   "metadata": {},
   "outputs": [
    {
     "data": {
      "image/png": "[encoded data removed]",
      "text/plain": [
       "<Figure size 504x360 with 1 Axes>"
      ]
     },
     "metadata": {},
     "output_type": "display_data"
    },
    {
     "name": "stdout",
     "output_type": "stream",
     "text": [
      "Градиентный бустинг с учетом категориальных параметров:\n",
      "best_coef = 0.3810451828278361\n",
      "precision:  0.6844106463878327\n",
      "recall:  0.6818181818181818\n",
      "auc-roc:  0.9099908621849333\n"
     ]
    }
   ],
   "source": [
    "gbm_income = gbm_preds[:, 1]\n",
    "bc = best_coef(ytest, gbm_income, show_graph=True)\n",
    "gbm_classes = gbm_income > bc\n",
    "\n",
    "print(\"Градиентный бустинг с учетом категориальных параметров:\")\n",
    "print(\"best_coef =\", bc)\n",
    "print(\"precision: \", metrics.precision_score(ytest, gbm_classes))\n",
    "print(\"recall: \", metrics.recall_score(ytest, gbm_classes))\n",
    "\n",
    "gbm_categ_roc_auc_score = metrics.roc_auc_score(ytest, gbm_income)\n",
    "print(\"auc-roc: \", gbm_categ_roc_auc_score)"
   ]
  },
  {
   "cell_type": "code",
   "execution_count": 116,
   "metadata": {},
   "outputs": [
    {
     "data": {
      "text/html": [
       "<div>\n",
       "<style scoped>\n",
       "    .dataframe tbody tr th:only-of-type {\n",
       "        vertical-align: middle;\n",
       "    }\n",
       "\n",
       "    .dataframe tbody tr th {\n",
       "        vertical-align: top;\n",
       "    }\n",
       "\n",
       "    .dataframe thead th {\n",
       "        text-align: right;\n",
       "    }\n",
       "</style>\n",
       "<table border=\"1\" class=\"dataframe\">\n",
       "  <thead>\n",
       "    <tr style=\"text-align: right;\">\n",
       "      <th></th>\n",
       "      <th>name</th>\n",
       "      <th>value</th>\n",
       "    </tr>\n",
       "  </thead>\n",
       "  <tbody>\n",
       "    <tr>\n",
       "      <th>0</th>\n",
       "      <td>Градиентный бустинг с учетом категориальных па...</td>\n",
       "      <td>0.909991</td>\n",
       "    </tr>\n",
       "    <tr>\n",
       "      <th>1</th>\n",
       "      <td>Логистическая регрессия с учетом категориальны...</td>\n",
       "      <td>0.904380</td>\n",
       "    </tr>\n",
       "    <tr>\n",
       "      <th>2</th>\n",
       "      <td>Логистическая регрессия без категориальных пар...</td>\n",
       "      <td>0.817953</td>\n",
       "    </tr>\n",
       "    <tr>\n",
       "      <th>3</th>\n",
       "      <td>Метод ближайших соседей</td>\n",
       "      <td>0.768432</td>\n",
       "    </tr>\n",
       "    <tr>\n",
       "      <th>4</th>\n",
       "      <td>Градиентный бустинг без категориальных параметров</td>\n",
       "      <td>0.729892</td>\n",
       "    </tr>\n",
       "  </tbody>\n",
       "</table>\n",
       "</div>"
      ],
      "text/plain": [
       "                                                name     value\n",
       "0  Градиентный бустинг с учетом категориальных па...  0.909991\n",
       "1  Логистическая регрессия с учетом категориальны...  0.904380\n",
       "2  Логистическая регрессия без категориальных пар...  0.817953\n",
       "3                            Метод ближайших соседей  0.768432\n",
       "4  Градиентный бустинг без категориальных параметров  0.729892"
      ]
     },
     "execution_count": 116,
     "metadata": {},
     "output_type": "execute_result"
    }
   ],
   "source": [
    "df = pd.DataFrame({\n",
    "    \"name\": [\n",
    "        \"Логистическая регрессия без категориальных параметров\", \n",
    "        \"Градиентный бустинг без категориальных параметров\",\n",
    "        \"Логистическая регрессия с учетом категориальных параметров\",\n",
    "        \"Градиентный бустинг с учетом категориальных параметров\",\n",
    "        \"Метод ближайших соседей\"\n",
    "        ],\n",
    "    \"value\": [lr_roc_auc_score, gbm_roc_auc_score, lr_categ_roc_auc_score, gbm_categ_roc_auc_score, knc_roc_auc_score], \n",
    "})\n",
    "df = df.sort_values(by=\"value\", ascending=False)\n",
    "df = df.reset_index(drop=True)\n",
    "df"
   ]
  },
  {
   "cell_type": "markdown",
   "metadata": {},
   "source": [
    "## Итоговый вывод\n",
    "\n",
    "Наилучшие результаты на нашей выборке показала модель градиентнного бустинга с учетом категориальных параметров\n",
    "\n",
    "Несильно отличается от нее и логистическая регрессия с учетом категориальных параметров\n",
    "\n",
    "Выбираем самую-самую лучшуую )))"
   ]
  },
  {
   "cell_type": "markdown",
   "metadata": {
    "id": "ACp_KXUatce-"
   },
   "source": [
    "Сохраним предсказания лучшей из наших моделей в файл:"
   ]
  },
  {
   "cell_type": "code",
   "execution_count": 117,
   "metadata": {
    "id": "ouz9PHNZtLnb"
   },
   "outputs": [],
   "source": [
    "Xtest_to_save = Xtest.copy()\n",
    "Xtest_to_save['predictions'] = gbm_income\n",
    "Xtest_to_save.to_csv(\"PredictionsIncome.csv\", index=False)"
   ]
  },
  {
   "cell_type": "markdown",
   "metadata": {
    "id": "oC9ZLJi0tftb"
   },
   "source": [
    "Теперь сохраним саму модель:"
   ]
  },
  {
   "cell_type": "code",
   "execution_count": 118,
   "metadata": {
    "id": "3HBU7ogWtfP6"
   },
   "outputs": [],
   "source": [
    "import pickle \n",
    "\n",
    "with open('model.pickle', 'wb') as f:\n",
    "    pickle.dump(gbm, f)\n",
    "\n",
    "# а так модель можно загрузить из файла:  \n",
    "# with open('filename.pickle', 'rb') as f:\n",
    "#     model = pickle.load(f)"
   ]
  },
  {
   "cell_type": "markdown",
   "metadata": {
    "id": "Jj9zwt5ds8Eh"
   },
   "source": [
    "Сохраним полученную модель, файл с предсказаниями и ноутбук с экспериментами на гитхаб."
   ]
  }
 ],
 "metadata": {
  "colab": {
   "include_colab_link": true,
   "provenance": []
  },
  "kernelspec": {
   "display_name": "Python 3",
   "language": "python",
   "name": "python3"
  },
  "language_info": {
   "codemirror_mode": {
    "name": "ipython",
    "version": 3
   },
   "file_extension": ".py",
   "mimetype": "text/x-python",
   "name": "python",
   "nbconvert_exporter": "python",
   "pygments_lexer": "ipython3",
   "version": "3.8.5"
  }
 },
 "nbformat": 4,
 "nbformat_minor": 1
}
