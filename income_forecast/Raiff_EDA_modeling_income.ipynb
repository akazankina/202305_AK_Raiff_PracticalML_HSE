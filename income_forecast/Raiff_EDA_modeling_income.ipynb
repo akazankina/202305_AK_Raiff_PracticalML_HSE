{
 "cells": [
  {
   "cell_type": "markdown",
   "metadata": {
    "colab_type": "text",
    "id": "view-in-github"
   },
   "source": [
    "<a href=\"https://colab.research.google.com/github/Murcha1990/Raiff_PracticalML_May2023/blob/main/Lecture_4_PracticeEDA/Raiff_EDA_modeling.ipynb\" target=\"_parent\"><img src=\"https://colab.research.google.com/assets/colab-badge.svg\" alt=\"Open In Colab\"/></a>"
   ]
  },
  {
   "cell_type": "markdown",
   "metadata": {
    "id": "z79gbIw0bWJZ"
   },
   "source": [
    "# Решение задачи прогноза дохода\n",
    "\n",
    "* Загрузка данных и их анализ\n",
    "* Обучение и оценка качества модели\n",
    "  + обучение модели\n",
    "  + оценка качества модели\n",
    "* Интерпретация результатов модели\n",
    "* Сохранение результатов"
   ]
  },
  {
   "cell_type": "markdown",
   "metadata": {
    "id": "9VDkBu75nCLq"
   },
   "source": [
    "Будем решать задачу прогноза дохода, а именно, *по соц-дем характеристикам людей, будет их доход выше или ниже 50к*."
   ]
  },
  {
   "cell_type": "markdown",
   "metadata": {
    "id": "cgXJLC1Yjpnm"
   },
   "source": [
    "## <font color='green'>1. Загрузка данных и их первичный анализ</font>"
   ]
  },
  {
   "cell_type": "code",
   "execution_count": 1,
   "metadata": {
    "id": "wD3LYTXnhtwZ"
   },
   "outputs": [],
   "source": [
    "import pandas as pd\n",
    "import numpy as np\n",
    "from matplotlib import pyplot as plt\n",
    "import seaborn as sns\n",
    "from sklearn.linear_model import LogisticRegression\n",
    "\n",
    "import warnings\n",
    "warnings.filterwarnings(\"ignore\")\n",
    "sns.set(style=\"whitegrid\") "
   ]
  },
  {
   "cell_type": "markdown",
   "metadata": {
    "id": "yfZEhlAVEup_"
   },
   "source": [
    "Подключаемся к БД и загружаем данные"
   ]
  },
  {
   "cell_type": "markdown",
   "metadata": {},
   "source": [
    "*// импорт сертификата одноразовый, он нам каждый раз не нужен - выключим пока*\n",
    "\n",
    "*// ставить pip и psycopg2 тоже каждый раз не будем*"
   ]
  },
  {
   "cell_type": "code",
   "execution_count": 2,
   "metadata": {
    "colab": {
     "base_uri": "https://localhost:8080/"
    },
    "id": "HWwIJ2AQhtwb",
    "outputId": "ad86513e-a7b7-44f5-fd2e-10e843e5f39c"
   },
   "outputs": [],
   "source": [
    "# !mkdir -p ~/.postgresql && \\\n",
    "# wget \"https://storage.yandexcloud.net/cloud-certs/CA.pem\" \\\n",
    "#     --output-document ~/.postgresql/root.crt && \\\n",
    "# chmod 0600 ~/.postgresql/root.crt"
   ]
  },
  {
   "cell_type": "code",
   "execution_count": 3,
   "metadata": {
    "colab": {
     "base_uri": "https://localhost:8080/"
    },
    "id": "OAFi6whWi-so",
    "outputId": "3079f5ba-7a43-4bc0-a3ea-8f9d4370ebf7"
   },
   "outputs": [],
   "source": [
    "# !sudo apt update && sudo apt install --yes python3 python3-pip && \\\n",
    "# !pip3 install psycopg2-binary"
   ]
  },
  {
   "cell_type": "code",
   "execution_count": 4,
   "metadata": {
    "id": "7efd5Dz0jBYo"
   },
   "outputs": [],
   "source": [
    "import psycopg2\n",
    "conn = psycopg2.connect(\"\"\"\n",
    "    host=rc1b-70q90cunwkzx49mj.mdb.yandexcloud.net\n",
    "    port=6432\n",
    "    sslmode=verify-full\n",
    "    dbname=db_clients\n",
    "    user=mlhs_student\n",
    "    password=mlhs_student\n",
    "    target_session_attrs=read-write\n",
    "\"\"\")"
   ]
  },
  {
   "cell_type": "code",
   "execution_count": 5,
   "metadata": {
    "id": "Z4QXHJtvjG5G"
   },
   "outputs": [],
   "source": [
    "query = \"SELECT * from public.adult_income\"\n",
    "data = pd.read_sql_query(query, conn)\n",
    "conn.close()"
   ]
  },
  {
   "cell_type": "markdown",
   "metadata": {
    "id": "SW_Rpf6HRZH0"
   },
   "source": [
    "Посмотрим на данные.\n",
    "\n",
    "*Описание аттрибутов таблицы / признаков подопытного населения*:\n",
    "\n",
    "- **age**: количество полных лет. \n",
    "- **workclass**: Private, Self-emp-not-inc, Self-emp-inc, Federal-gov, Local-gov, State-gov, Without-pay, Never-worked. \n",
    "- **fnlwgt**: continuous. \n",
    "- **education**: Bachelors, Some-college, 11th, HS-grad, Prof-school, Assoc-acdm, Assoc-voc, 9th, 7th-8th, 12th, Masters, 1st-4th, 10th, Doctorate, 5th-6th, Preschool. \n",
    "- **education-num**: continuous. \n",
    "- **marital-status**: Married-civ-spouse, Divorced, Never-married, Separated, Widowed, Married-spouse-absent, Married-AF-spouse. \n",
    "- **occupation**: Tech-support, Craft-repair, Other-service, Sales, Exec-managerial, Prof-specialty, Handlers-cleaners, Machine-op-inspct, Adm-clerical, Farming-fishing, Transport-moving, Priv-house-serv, Protective-serv, Armed-Forces. \n",
    "- **relationship**: Wife, Own-child, Husband, Not-in-family, Other-relative, Unmarried. \n",
    "- **race**: White, Asian-Pac-Islander, Amer-Indian-Eskimo, Other, Black. \n",
    "- **gender**: Female, Male. \n",
    "- **capital-gain**: continuous. \n",
    "- **capital-loss**: continuous. \n",
    "- **hours-per-week**: continuous. \n",
    "- **native-country**: United-States, Cambodia, England, Puerto-Rico, Canada, Germany, Outlying-US(Guam-USVI-etc), India, Japan, Greece, South, China, Cuba, Iran, Honduras, Philippines, Italy, Poland, Jamaica, Vietnam, Mexico, Portugal, Ireland, France, Dominican-Republic, Laos, Ecuador, Taiwan, Haiti, Columbia, Hungary, Guatemala, Nicaragua, Scotland, Thailand, Yugoslavia, El-Salvador, Trinadad&Tobago, Peru, Hong, Holand-Netherlands. \n",
    "\n",
    "\n"
   ]
  },
  {
   "cell_type": "code",
   "execution_count": 6,
   "metadata": {
    "colab": {
     "base_uri": "https://localhost:8080/",
     "height": 427
    },
    "id": "3WWFMf7BRYFq",
    "outputId": "cc5cca83-b5d5-4c69-87dc-d5a519be601e"
   },
   "outputs": [
    {
     "data": {
      "text/html": [
       "<div>\n",
       "<style scoped>\n",
       "    .dataframe tbody tr th:only-of-type {\n",
       "        vertical-align: middle;\n",
       "    }\n",
       "\n",
       "    .dataframe tbody tr th {\n",
       "        vertical-align: top;\n",
       "    }\n",
       "\n",
       "    .dataframe thead th {\n",
       "        text-align: right;\n",
       "    }\n",
       "</style>\n",
       "<table border=\"1\" class=\"dataframe\">\n",
       "  <thead>\n",
       "    <tr style=\"text-align: right;\">\n",
       "      <th></th>\n",
       "      <th>age</th>\n",
       "      <th>workclass</th>\n",
       "      <th>fnlwgt</th>\n",
       "      <th>education</th>\n",
       "      <th>educational-num</th>\n",
       "      <th>marital-status</th>\n",
       "      <th>occupation</th>\n",
       "      <th>relationship</th>\n",
       "      <th>race</th>\n",
       "      <th>gender</th>\n",
       "      <th>capital-gain</th>\n",
       "      <th>capital-loss</th>\n",
       "      <th>hours-per-week</th>\n",
       "      <th>native-country</th>\n",
       "      <th>income</th>\n",
       "    </tr>\n",
       "  </thead>\n",
       "  <tbody>\n",
       "    <tr>\n",
       "      <th>0</th>\n",
       "      <td>25.0</td>\n",
       "      <td>Private</td>\n",
       "      <td>226802</td>\n",
       "      <td>11th</td>\n",
       "      <td>7</td>\n",
       "      <td>Never-married</td>\n",
       "      <td>Machine-op-inspct</td>\n",
       "      <td>Own-child</td>\n",
       "      <td>Black</td>\n",
       "      <td>Male</td>\n",
       "      <td>0.0</td>\n",
       "      <td>0.0</td>\n",
       "      <td>40.0</td>\n",
       "      <td>United-States</td>\n",
       "      <td>&lt;=50K</td>\n",
       "    </tr>\n",
       "    <tr>\n",
       "      <th>1</th>\n",
       "      <td>38.0</td>\n",
       "      <td>Private</td>\n",
       "      <td>89814</td>\n",
       "      <td>HS-grad</td>\n",
       "      <td>9</td>\n",
       "      <td>Married-civ-spouse</td>\n",
       "      <td>Farming-fishing</td>\n",
       "      <td>Husband</td>\n",
       "      <td>White</td>\n",
       "      <td>Male</td>\n",
       "      <td>0.0</td>\n",
       "      <td>0.0</td>\n",
       "      <td>50.0</td>\n",
       "      <td>United-States</td>\n",
       "      <td>&lt;=50K</td>\n",
       "    </tr>\n",
       "    <tr>\n",
       "      <th>2</th>\n",
       "      <td>28.0</td>\n",
       "      <td>Local-gov</td>\n",
       "      <td>336951</td>\n",
       "      <td>Assoc-acdm</td>\n",
       "      <td>12</td>\n",
       "      <td>Married-civ-spouse</td>\n",
       "      <td>Protective-serv</td>\n",
       "      <td>Husband</td>\n",
       "      <td>White</td>\n",
       "      <td>Male</td>\n",
       "      <td>0.0</td>\n",
       "      <td>0.0</td>\n",
       "      <td>40.0</td>\n",
       "      <td>United-States</td>\n",
       "      <td>&gt;50K</td>\n",
       "    </tr>\n",
       "    <tr>\n",
       "      <th>3</th>\n",
       "      <td>44.0</td>\n",
       "      <td>Private</td>\n",
       "      <td>160323</td>\n",
       "      <td>Some-college</td>\n",
       "      <td>10</td>\n",
       "      <td>Married-civ-spouse</td>\n",
       "      <td>Machine-op-inspct</td>\n",
       "      <td>Husband</td>\n",
       "      <td>Black</td>\n",
       "      <td>Male</td>\n",
       "      <td>7688.0</td>\n",
       "      <td>0.0</td>\n",
       "      <td>40.0</td>\n",
       "      <td>United-States</td>\n",
       "      <td>&gt;50K</td>\n",
       "    </tr>\n",
       "    <tr>\n",
       "      <th>4</th>\n",
       "      <td>18.0</td>\n",
       "      <td>?</td>\n",
       "      <td>103497</td>\n",
       "      <td>Some-college</td>\n",
       "      <td>10</td>\n",
       "      <td>Never-married</td>\n",
       "      <td>?</td>\n",
       "      <td>Own-child</td>\n",
       "      <td>White</td>\n",
       "      <td>Female</td>\n",
       "      <td>0.0</td>\n",
       "      <td>0.0</td>\n",
       "      <td>30.0</td>\n",
       "      <td>United-States</td>\n",
       "      <td>&lt;=50K</td>\n",
       "    </tr>\n",
       "    <tr>\n",
       "      <th>...</th>\n",
       "      <td>...</td>\n",
       "      <td>...</td>\n",
       "      <td>...</td>\n",
       "      <td>...</td>\n",
       "      <td>...</td>\n",
       "      <td>...</td>\n",
       "      <td>...</td>\n",
       "      <td>...</td>\n",
       "      <td>...</td>\n",
       "      <td>...</td>\n",
       "      <td>...</td>\n",
       "      <td>...</td>\n",
       "      <td>...</td>\n",
       "      <td>...</td>\n",
       "      <td>...</td>\n",
       "    </tr>\n",
       "    <tr>\n",
       "      <th>9610</th>\n",
       "      <td>NaN</td>\n",
       "      <td>Private</td>\n",
       "      <td>200939</td>\n",
       "      <td>HS-grad</td>\n",
       "      <td>9</td>\n",
       "      <td>Married-civ-spouse</td>\n",
       "      <td>Craft-repair</td>\n",
       "      <td>Husband</td>\n",
       "      <td>White</td>\n",
       "      <td>Male</td>\n",
       "      <td>0.0</td>\n",
       "      <td>0.0</td>\n",
       "      <td>NaN</td>\n",
       "      <td>United-States</td>\n",
       "      <td>&gt;50K</td>\n",
       "    </tr>\n",
       "    <tr>\n",
       "      <th>9611</th>\n",
       "      <td>NaN</td>\n",
       "      <td>Private</td>\n",
       "      <td>110592</td>\n",
       "      <td>12th</td>\n",
       "      <td>8</td>\n",
       "      <td>Married-civ-spouse</td>\n",
       "      <td>Machine-op-inspct</td>\n",
       "      <td>Husband</td>\n",
       "      <td>White</td>\n",
       "      <td>Male</td>\n",
       "      <td>0.0</td>\n",
       "      <td>0.0</td>\n",
       "      <td>NaN</td>\n",
       "      <td>United-States</td>\n",
       "      <td>&lt;=50K</td>\n",
       "    </tr>\n",
       "    <tr>\n",
       "      <th>9612</th>\n",
       "      <td>NaN</td>\n",
       "      <td>Private</td>\n",
       "      <td>167840</td>\n",
       "      <td>HS-grad</td>\n",
       "      <td>9</td>\n",
       "      <td>Married-civ-spouse</td>\n",
       "      <td>Handlers-cleaners</td>\n",
       "      <td>Husband</td>\n",
       "      <td>White</td>\n",
       "      <td>Male</td>\n",
       "      <td>0.0</td>\n",
       "      <td>2002.0</td>\n",
       "      <td>NaN</td>\n",
       "      <td>United-States</td>\n",
       "      <td>&lt;=50K</td>\n",
       "    </tr>\n",
       "    <tr>\n",
       "      <th>9613</th>\n",
       "      <td>NaN</td>\n",
       "      <td>Private</td>\n",
       "      <td>274883</td>\n",
       "      <td>HS-grad</td>\n",
       "      <td>9</td>\n",
       "      <td>Married-civ-spouse</td>\n",
       "      <td>Transport-moving</td>\n",
       "      <td>Husband</td>\n",
       "      <td>White</td>\n",
       "      <td>Male</td>\n",
       "      <td>0.0</td>\n",
       "      <td>0.0</td>\n",
       "      <td>NaN</td>\n",
       "      <td>United-States</td>\n",
       "      <td>&gt;50K</td>\n",
       "    </tr>\n",
       "    <tr>\n",
       "      <th>9614</th>\n",
       "      <td>NaN</td>\n",
       "      <td>Private</td>\n",
       "      <td>212895</td>\n",
       "      <td>Assoc-acdm</td>\n",
       "      <td>12</td>\n",
       "      <td>Never-married</td>\n",
       "      <td>Craft-repair</td>\n",
       "      <td>Not-in-family</td>\n",
       "      <td>White</td>\n",
       "      <td>Male</td>\n",
       "      <td>0.0</td>\n",
       "      <td>0.0</td>\n",
       "      <td>NaN</td>\n",
       "      <td>United-States</td>\n",
       "      <td>&lt;=50K</td>\n",
       "    </tr>\n",
       "  </tbody>\n",
       "</table>\n",
       "<p>9615 rows × 15 columns</p>\n",
       "</div>"
      ],
      "text/plain": [
       "       age  workclass  fnlwgt     education  educational-num  \\\n",
       "0     25.0    Private  226802          11th                7   \n",
       "1     38.0    Private   89814       HS-grad                9   \n",
       "2     28.0  Local-gov  336951    Assoc-acdm               12   \n",
       "3     44.0    Private  160323  Some-college               10   \n",
       "4     18.0          ?  103497  Some-college               10   \n",
       "...    ...        ...     ...           ...              ...   \n",
       "9610   NaN    Private  200939       HS-grad                9   \n",
       "9611   NaN    Private  110592          12th                8   \n",
       "9612   NaN    Private  167840       HS-grad                9   \n",
       "9613   NaN    Private  274883       HS-grad                9   \n",
       "9614   NaN    Private  212895    Assoc-acdm               12   \n",
       "\n",
       "          marital-status         occupation   relationship   race  gender  \\\n",
       "0          Never-married  Machine-op-inspct      Own-child  Black    Male   \n",
       "1     Married-civ-spouse    Farming-fishing        Husband  White    Male   \n",
       "2     Married-civ-spouse    Protective-serv        Husband  White    Male   \n",
       "3     Married-civ-spouse  Machine-op-inspct        Husband  Black    Male   \n",
       "4          Never-married                  ?      Own-child  White  Female   \n",
       "...                  ...                ...            ...    ...     ...   \n",
       "9610  Married-civ-spouse       Craft-repair        Husband  White    Male   \n",
       "9611  Married-civ-spouse  Machine-op-inspct        Husband  White    Male   \n",
       "9612  Married-civ-spouse  Handlers-cleaners        Husband  White    Male   \n",
       "9613  Married-civ-spouse   Transport-moving        Husband  White    Male   \n",
       "9614       Never-married       Craft-repair  Not-in-family  White    Male   \n",
       "\n",
       "      capital-gain  capital-loss  hours-per-week native-country income  \n",
       "0              0.0           0.0            40.0  United-States  <=50K  \n",
       "1              0.0           0.0            50.0  United-States  <=50K  \n",
       "2              0.0           0.0            40.0  United-States   >50K  \n",
       "3           7688.0           0.0            40.0  United-States   >50K  \n",
       "4              0.0           0.0            30.0  United-States  <=50K  \n",
       "...            ...           ...             ...            ...    ...  \n",
       "9610           0.0           0.0             NaN  United-States   >50K  \n",
       "9611           0.0           0.0             NaN  United-States  <=50K  \n",
       "9612           0.0        2002.0             NaN  United-States  <=50K  \n",
       "9613           0.0           0.0             NaN  United-States   >50K  \n",
       "9614           0.0           0.0             NaN  United-States  <=50K  \n",
       "\n",
       "[9615 rows x 15 columns]"
      ]
     },
     "execution_count": 6,
     "metadata": {},
     "output_type": "execute_result"
    }
   ],
   "source": [
    "data"
   ]
  },
  {
   "cell_type": "code",
   "execution_count": 7,
   "metadata": {
    "colab": {
     "base_uri": "https://localhost:8080/"
    },
    "id": "aX7cYQzN0k_Z",
    "outputId": "358432bc-0cf9-4cc7-efe9-b8bb018fa54c"
   },
   "outputs": [
    {
     "data": {
      "text/plain": [
       "(9615, 15)"
      ]
     },
     "execution_count": 7,
     "metadata": {},
     "output_type": "execute_result"
    }
   ],
   "source": [
    "data.shape"
   ]
  },
  {
   "cell_type": "code",
   "execution_count": 8,
   "metadata": {
    "colab": {
     "base_uri": "https://localhost:8080/"
    },
    "id": "1FjpaGIa0mjt",
    "outputId": "0c9dd65f-078b-4bcf-c4c4-7cbc61b922f2"
   },
   "outputs": [
    {
     "data": {
      "text/plain": [
       "age                float64\n",
       "workclass           object\n",
       "fnlwgt               int64\n",
       "education           object\n",
       "educational-num      int64\n",
       "marital-status      object\n",
       "occupation          object\n",
       "relationship        object\n",
       "race                object\n",
       "gender              object\n",
       "capital-gain       float64\n",
       "capital-loss       float64\n",
       "hours-per-week     float64\n",
       "native-country      object\n",
       "income              object\n",
       "dtype: object"
      ]
     },
     "execution_count": 8,
     "metadata": {},
     "output_type": "execute_result"
    }
   ],
   "source": [
    "data.dtypes"
   ]
  },
  {
   "cell_type": "code",
   "execution_count": 9,
   "metadata": {
    "colab": {
     "base_uri": "https://localhost:8080/"
    },
    "id": "WTbym9zJIPLh",
    "outputId": "32d24029-5b49-4043-9f99-2777cdc697ca"
   },
   "outputs": [
    {
     "name": "stdout",
     "output_type": "stream",
     "text": [
      "<class 'pandas.core.frame.DataFrame'>\n",
      "RangeIndex: 9615 entries, 0 to 9614\n",
      "Data columns (total 15 columns):\n",
      " #   Column           Non-Null Count  Dtype  \n",
      "---  ------           --------------  -----  \n",
      " 0   age              8961 non-null   float64\n",
      " 1   workclass        9615 non-null   object \n",
      " 2   fnlwgt           9615 non-null   int64  \n",
      " 3   education        9615 non-null   object \n",
      " 4   educational-num  9615 non-null   int64  \n",
      " 5   marital-status   9615 non-null   object \n",
      " 6   occupation       9615 non-null   object \n",
      " 7   relationship     9615 non-null   object \n",
      " 8   race             9614 non-null   object \n",
      " 9   gender           9614 non-null   object \n",
      " 10  capital-gain     9614 non-null   float64\n",
      " 11  capital-loss     9614 non-null   float64\n",
      " 12  hours-per-week   8543 non-null   float64\n",
      " 13  native-country   9614 non-null   object \n",
      " 14  income           9614 non-null   object \n",
      "dtypes: float64(4), int64(2), object(9)\n",
      "memory usage: 1.1+ MB\n"
     ]
    }
   ],
   "source": [
    "data.info()"
   ]
  },
  {
   "cell_type": "markdown",
   "metadata": {
    "id": "0ALQi-Vf2rYb"
   },
   "source": [
    "## Сохранение данных"
   ]
  },
  {
   "cell_type": "code",
   "execution_count": 10,
   "metadata": {
    "id": "nAFYRh072trA"
   },
   "outputs": [],
   "source": [
    "data.to_csv(\"adult_income.csv\", index=False)"
   ]
  },
  {
   "cell_type": "code",
   "execution_count": 11,
   "metadata": {
    "id": "St_3B7fjIyX8"
   },
   "outputs": [],
   "source": [
    "# data = pd.read_csv(\"adult_income.csv\")"
   ]
  },
  {
   "cell_type": "markdown",
   "metadata": {
    "id": "9u5kjESXjg-s"
   },
   "source": [
    "# Разведочный анализ данных"
   ]
  },
  {
   "cell_type": "markdown",
   "metadata": {
    "id": "ORzwrTOrltqs"
   },
   "source": [
    "## 1. Оценка качества данных\n",
    "* пропущенные значения\n",
    "* ошибочные значения"
   ]
  },
  {
   "cell_type": "code",
   "execution_count": 12,
   "metadata": {
    "colab": {
     "base_uri": "https://localhost:8080/"
    },
    "id": "NgePYC_PkkxM",
    "outputId": "b96ee012-0ea5-44a1-c628-6b9ca3b3a0a4"
   },
   "outputs": [
    {
     "data": {
      "text/plain": [
       "9615"
      ]
     },
     "execution_count": 12,
     "metadata": {},
     "output_type": "execute_result"
    }
   ],
   "source": [
    "len(data)"
   ]
  },
  {
   "cell_type": "markdown",
   "metadata": {
    "id": "Eib6Vj3eUOWi"
   },
   "source": [
    "Посмотрим, есть ли в данных пропущенные значения."
   ]
  },
  {
   "cell_type": "code",
   "execution_count": 13,
   "metadata": {
    "colab": {
     "base_uri": "https://localhost:8080/"
    },
    "id": "rM92inoDURTx",
    "outputId": "27f1f731-a21b-4973-9b88-d6ded463ca29"
   },
   "outputs": [
    {
     "data": {
      "text/plain": [
       "age                 654\n",
       "workclass             0\n",
       "fnlwgt                0\n",
       "education             0\n",
       "educational-num       0\n",
       "marital-status        0\n",
       "occupation            0\n",
       "relationship          0\n",
       "race                  1\n",
       "gender                1\n",
       "capital-gain          1\n",
       "capital-loss          1\n",
       "hours-per-week     1072\n",
       "native-country        1\n",
       "income                1\n",
       "dtype: int64"
      ]
     },
     "execution_count": 13,
     "metadata": {},
     "output_type": "execute_result"
    }
   ],
   "source": [
    "data.isna().sum()"
   ]
  },
  {
   "cell_type": "markdown",
   "metadata": {},
   "source": [
    "Что за единички?"
   ]
  },
  {
   "cell_type": "code",
   "execution_count": 14,
   "metadata": {},
   "outputs": [
    {
     "data": {
      "text/html": [
       "<div>\n",
       "<style scoped>\n",
       "    .dataframe tbody tr th:only-of-type {\n",
       "        vertical-align: middle;\n",
       "    }\n",
       "\n",
       "    .dataframe tbody tr th {\n",
       "        vertical-align: top;\n",
       "    }\n",
       "\n",
       "    .dataframe thead th {\n",
       "        text-align: right;\n",
       "    }\n",
       "</style>\n",
       "<table border=\"1\" class=\"dataframe\">\n",
       "  <thead>\n",
       "    <tr style=\"text-align: right;\">\n",
       "      <th></th>\n",
       "      <th>age</th>\n",
       "      <th>workclass</th>\n",
       "      <th>fnlwgt</th>\n",
       "      <th>education</th>\n",
       "      <th>educational-num</th>\n",
       "      <th>marital-status</th>\n",
       "      <th>occupation</th>\n",
       "      <th>relationship</th>\n",
       "      <th>race</th>\n",
       "      <th>gender</th>\n",
       "      <th>capital-gain</th>\n",
       "      <th>capital-loss</th>\n",
       "      <th>hours-per-week</th>\n",
       "      <th>native-country</th>\n",
       "      <th>income</th>\n",
       "    </tr>\n",
       "  </thead>\n",
       "  <tbody>\n",
       "    <tr>\n",
       "      <th>8612</th>\n",
       "      <td>49.0</td>\n",
       "      <td>Private</td>\n",
       "      <td>123681</td>\n",
       "      <td>Assoc-acdm</td>\n",
       "      <td>12</td>\n",
       "      <td>Separated</td>\n",
       "      <td>Sales</td>\n",
       "      <td>Unmarried</td>\n",
       "      <td>None</td>\n",
       "      <td>None</td>\n",
       "      <td>NaN</td>\n",
       "      <td>NaN</td>\n",
       "      <td>NaN</td>\n",
       "      <td>None</td>\n",
       "      <td>None</td>\n",
       "    </tr>\n",
       "  </tbody>\n",
       "</table>\n",
       "</div>"
      ],
      "text/plain": [
       "       age workclass  fnlwgt   education  educational-num marital-status  \\\n",
       "8612  49.0   Private  123681  Assoc-acdm               12      Separated   \n",
       "\n",
       "     occupation relationship  race gender  capital-gain  capital-loss  \\\n",
       "8612      Sales    Unmarried  None   None           NaN           NaN   \n",
       "\n",
       "      hours-per-week native-country income  \n",
       "8612             NaN           None   None  "
      ]
     },
     "execution_count": 14,
     "metadata": {},
     "output_type": "execute_result"
    }
   ],
   "source": [
    "data[data[\"race\"].isna()]"
   ]
  },
  {
   "cell_type": "markdown",
   "metadata": {},
   "source": [
    "* пропусков меньше 1% - можно выкинуть строки с пропусками\n",
    "\n",
    "У нас куча пропусков в одной и той же строке - одна строка нам погоды не делает, следовательно выкидываем эту строку"
   ]
  },
  {
   "cell_type": "code",
   "execution_count": 15,
   "metadata": {},
   "outputs": [],
   "source": [
    "data = data.drop([data.index[8612]])"
   ]
  },
  {
   "cell_type": "code",
   "execution_count": 16,
   "metadata": {
    "colab": {
     "base_uri": "https://localhost:8080/"
    },
    "id": "8bImMZ3xkwjm",
    "outputId": "55f144f8-bf4e-4648-90bc-c590765564fc"
   },
   "outputs": [
    {
     "data": {
      "text/plain": [
       "age                 654\n",
       "workclass             0\n",
       "fnlwgt                0\n",
       "education             0\n",
       "educational-num       0\n",
       "marital-status        0\n",
       "occupation            0\n",
       "relationship          0\n",
       "race                  0\n",
       "gender                0\n",
       "capital-gain          0\n",
       "capital-loss          0\n",
       "hours-per-week     1071\n",
       "native-country        0\n",
       "income                0\n",
       "dtype: int64"
      ]
     },
     "execution_count": 16,
     "metadata": {},
     "output_type": "execute_result"
    }
   ],
   "source": [
    "data.isna().sum()"
   ]
  },
  {
   "cell_type": "markdown",
   "metadata": {
    "id": "Z5MeGQ9cLz32"
   },
   "source": [
    "* пропусков меньше 10% - заполняем пропуск каким-то значением\n",
    "Пропуски в числовых признаках обычно заполняют средним значением или медианой."
   ]
  },
  {
   "cell_type": "code",
   "execution_count": 17,
   "metadata": {
    "id": "-x8rUA5FlIGF",
    "scrolled": true
   },
   "outputs": [
    {
     "data": {
      "text/plain": [
       "0.0680257957145829"
      ]
     },
     "execution_count": 17,
     "metadata": {},
     "output_type": "execute_result"
    }
   ],
   "source": [
    "len(data[data[\"age\"].isna()]) / len(data)"
   ]
  },
  {
   "cell_type": "markdown",
   "metadata": {},
   "source": [
    "С полем age всё так и есть, значит заполняем, к примеру, средним \n",
    "\n",
    "На всякий случай проверим, насколько у нас близки среднее и медиана\n",
    "\n",
    "(вряд ли возраст у нас улетит в космос, поэтому медиана тут не особо имеет математический смысл)"
   ]
  },
  {
   "cell_type": "code",
   "execution_count": 18,
   "metadata": {
    "colab": {
     "base_uri": "https://localhost:8080/"
    },
    "id": "ef6HYXkllNN9",
    "outputId": "247899f7-e578-45e6-d082-5963479255bb"
   },
   "outputs": [
    {
     "name": "stdout",
     "output_type": "stream",
     "text": [
      "37.0 38.72142857142857\n"
     ]
    }
   ],
   "source": [
    "median = data['age'].median()\n",
    "mean = data['age'].mean()\n",
    "print(median, mean)\n",
    "\n",
    "data['age'].fillna(mean, inplace=True)"
   ]
  },
  {
   "cell_type": "code",
   "execution_count": 19,
   "metadata": {},
   "outputs": [
    {
     "data": {
      "text/plain": [
       "age                   0\n",
       "workclass             0\n",
       "fnlwgt                0\n",
       "education             0\n",
       "educational-num       0\n",
       "marital-status        0\n",
       "occupation            0\n",
       "relationship          0\n",
       "race                  0\n",
       "gender                0\n",
       "capital-gain          0\n",
       "capital-loss          0\n",
       "hours-per-week     1071\n",
       "native-country        0\n",
       "income                0\n",
       "dtype: int64"
      ]
     },
     "execution_count": 19,
     "metadata": {},
     "output_type": "execute_result"
    }
   ],
   "source": [
    "data.isna().sum()"
   ]
  },
  {
   "cell_type": "markdown",
   "metadata": {
    "id": "oqDbD5YvBTma"
   },
   "source": [
    "А если пропусков больше 10%?\n",
    "\n",
    "Нам не сказали, что делать в этом случае... если просто в лоб заполним медианой, то можем всё испортить"
   ]
  },
  {
   "cell_type": "code",
   "execution_count": 20,
   "metadata": {
    "colab": {
     "base_uri": "https://localhost:8080/"
    },
    "id": "uy-55pFplg7R",
    "outputId": "798f45f8-0d2b-4c21-9e83-ac698af633ee"
   },
   "outputs": [
    {
     "data": {
      "text/plain": [
       "0.11140004160599126"
      ]
     },
     "execution_count": 20,
     "metadata": {},
     "output_type": "execute_result"
    }
   ],
   "source": [
    "len(data[data[\"hours-per-week\"].isna()]) / len(data)"
   ]
  },
  {
   "cell_type": "markdown",
   "metadata": {
    "id": "eshVGTgpLbwb"
   },
   "source": [
    "Посмотрим на эти данные"
   ]
  },
  {
   "cell_type": "code",
   "execution_count": 21,
   "metadata": {},
   "outputs": [
    {
     "data": {
      "text/html": [
       "<div>\n",
       "<style scoped>\n",
       "    .dataframe tbody tr th:only-of-type {\n",
       "        vertical-align: middle;\n",
       "    }\n",
       "\n",
       "    .dataframe tbody tr th {\n",
       "        vertical-align: top;\n",
       "    }\n",
       "\n",
       "    .dataframe thead th {\n",
       "        text-align: right;\n",
       "    }\n",
       "</style>\n",
       "<table border=\"1\" class=\"dataframe\">\n",
       "  <thead>\n",
       "    <tr style=\"text-align: right;\">\n",
       "      <th></th>\n",
       "      <th>age</th>\n",
       "      <th>workclass</th>\n",
       "      <th>fnlwgt</th>\n",
       "      <th>education</th>\n",
       "      <th>educational-num</th>\n",
       "      <th>marital-status</th>\n",
       "      <th>occupation</th>\n",
       "      <th>relationship</th>\n",
       "      <th>race</th>\n",
       "      <th>gender</th>\n",
       "      <th>capital-gain</th>\n",
       "      <th>capital-loss</th>\n",
       "      <th>hours-per-week</th>\n",
       "      <th>native-country</th>\n",
       "      <th>income</th>\n",
       "    </tr>\n",
       "  </thead>\n",
       "  <tbody>\n",
       "    <tr>\n",
       "      <th>16</th>\n",
       "      <td>45.000000</td>\n",
       "      <td>Self-emp-not-inc</td>\n",
       "      <td>432824</td>\n",
       "      <td>HS-grad</td>\n",
       "      <td>9</td>\n",
       "      <td>Married-civ-spouse</td>\n",
       "      <td>Craft-repair</td>\n",
       "      <td>Husband</td>\n",
       "      <td>White</td>\n",
       "      <td>Male</td>\n",
       "      <td>7298.0</td>\n",
       "      <td>0.0</td>\n",
       "      <td>NaN</td>\n",
       "      <td>United-States</td>\n",
       "      <td>&gt;50K</td>\n",
       "    </tr>\n",
       "    <tr>\n",
       "      <th>20</th>\n",
       "      <td>44.000000</td>\n",
       "      <td>Private</td>\n",
       "      <td>26669</td>\n",
       "      <td>Assoc-voc</td>\n",
       "      <td>11</td>\n",
       "      <td>Widowed</td>\n",
       "      <td>Exec-managerial</td>\n",
       "      <td>Unmarried</td>\n",
       "      <td>White</td>\n",
       "      <td>Female</td>\n",
       "      <td>0.0</td>\n",
       "      <td>0.0</td>\n",
       "      <td>NaN</td>\n",
       "      <td>United-States</td>\n",
       "      <td>&lt;=50K</td>\n",
       "    </tr>\n",
       "    <tr>\n",
       "      <th>35</th>\n",
       "      <td>32.000000</td>\n",
       "      <td>Private</td>\n",
       "      <td>136921</td>\n",
       "      <td>HS-grad</td>\n",
       "      <td>9</td>\n",
       "      <td>Married-civ-spouse</td>\n",
       "      <td>Sales</td>\n",
       "      <td>Husband</td>\n",
       "      <td>White</td>\n",
       "      <td>Male</td>\n",
       "      <td>0.0</td>\n",
       "      <td>0.0</td>\n",
       "      <td>NaN</td>\n",
       "      <td>United-States</td>\n",
       "      <td>&lt;=50K</td>\n",
       "    </tr>\n",
       "    <tr>\n",
       "      <th>55</th>\n",
       "      <td>54.000000</td>\n",
       "      <td>Private</td>\n",
       "      <td>186272</td>\n",
       "      <td>Some-college</td>\n",
       "      <td>10</td>\n",
       "      <td>Married-civ-spouse</td>\n",
       "      <td>Transport-moving</td>\n",
       "      <td>Husband</td>\n",
       "      <td>White</td>\n",
       "      <td>Male</td>\n",
       "      <td>3908.0</td>\n",
       "      <td>0.0</td>\n",
       "      <td>NaN</td>\n",
       "      <td>United-States</td>\n",
       "      <td>&lt;=50K</td>\n",
       "    </tr>\n",
       "    <tr>\n",
       "      <th>77</th>\n",
       "      <td>39.000000</td>\n",
       "      <td>Private</td>\n",
       "      <td>118429</td>\n",
       "      <td>Some-college</td>\n",
       "      <td>10</td>\n",
       "      <td>Divorced</td>\n",
       "      <td>Sales</td>\n",
       "      <td>Not-in-family</td>\n",
       "      <td>White</td>\n",
       "      <td>Male</td>\n",
       "      <td>0.0</td>\n",
       "      <td>0.0</td>\n",
       "      <td>NaN</td>\n",
       "      <td>United-States</td>\n",
       "      <td>&lt;=50K</td>\n",
       "    </tr>\n",
       "    <tr>\n",
       "      <th>...</th>\n",
       "      <td>...</td>\n",
       "      <td>...</td>\n",
       "      <td>...</td>\n",
       "      <td>...</td>\n",
       "      <td>...</td>\n",
       "      <td>...</td>\n",
       "      <td>...</td>\n",
       "      <td>...</td>\n",
       "      <td>...</td>\n",
       "      <td>...</td>\n",
       "      <td>...</td>\n",
       "      <td>...</td>\n",
       "      <td>...</td>\n",
       "      <td>...</td>\n",
       "      <td>...</td>\n",
       "    </tr>\n",
       "    <tr>\n",
       "      <th>9610</th>\n",
       "      <td>38.721429</td>\n",
       "      <td>Private</td>\n",
       "      <td>200939</td>\n",
       "      <td>HS-grad</td>\n",
       "      <td>9</td>\n",
       "      <td>Married-civ-spouse</td>\n",
       "      <td>Craft-repair</td>\n",
       "      <td>Husband</td>\n",
       "      <td>White</td>\n",
       "      <td>Male</td>\n",
       "      <td>0.0</td>\n",
       "      <td>0.0</td>\n",
       "      <td>NaN</td>\n",
       "      <td>United-States</td>\n",
       "      <td>&gt;50K</td>\n",
       "    </tr>\n",
       "    <tr>\n",
       "      <th>9611</th>\n",
       "      <td>38.721429</td>\n",
       "      <td>Private</td>\n",
       "      <td>110592</td>\n",
       "      <td>12th</td>\n",
       "      <td>8</td>\n",
       "      <td>Married-civ-spouse</td>\n",
       "      <td>Machine-op-inspct</td>\n",
       "      <td>Husband</td>\n",
       "      <td>White</td>\n",
       "      <td>Male</td>\n",
       "      <td>0.0</td>\n",
       "      <td>0.0</td>\n",
       "      <td>NaN</td>\n",
       "      <td>United-States</td>\n",
       "      <td>&lt;=50K</td>\n",
       "    </tr>\n",
       "    <tr>\n",
       "      <th>9612</th>\n",
       "      <td>38.721429</td>\n",
       "      <td>Private</td>\n",
       "      <td>167840</td>\n",
       "      <td>HS-grad</td>\n",
       "      <td>9</td>\n",
       "      <td>Married-civ-spouse</td>\n",
       "      <td>Handlers-cleaners</td>\n",
       "      <td>Husband</td>\n",
       "      <td>White</td>\n",
       "      <td>Male</td>\n",
       "      <td>0.0</td>\n",
       "      <td>2002.0</td>\n",
       "      <td>NaN</td>\n",
       "      <td>United-States</td>\n",
       "      <td>&lt;=50K</td>\n",
       "    </tr>\n",
       "    <tr>\n",
       "      <th>9613</th>\n",
       "      <td>38.721429</td>\n",
       "      <td>Private</td>\n",
       "      <td>274883</td>\n",
       "      <td>HS-grad</td>\n",
       "      <td>9</td>\n",
       "      <td>Married-civ-spouse</td>\n",
       "      <td>Transport-moving</td>\n",
       "      <td>Husband</td>\n",
       "      <td>White</td>\n",
       "      <td>Male</td>\n",
       "      <td>0.0</td>\n",
       "      <td>0.0</td>\n",
       "      <td>NaN</td>\n",
       "      <td>United-States</td>\n",
       "      <td>&gt;50K</td>\n",
       "    </tr>\n",
       "    <tr>\n",
       "      <th>9614</th>\n",
       "      <td>38.721429</td>\n",
       "      <td>Private</td>\n",
       "      <td>212895</td>\n",
       "      <td>Assoc-acdm</td>\n",
       "      <td>12</td>\n",
       "      <td>Never-married</td>\n",
       "      <td>Craft-repair</td>\n",
       "      <td>Not-in-family</td>\n",
       "      <td>White</td>\n",
       "      <td>Male</td>\n",
       "      <td>0.0</td>\n",
       "      <td>0.0</td>\n",
       "      <td>NaN</td>\n",
       "      <td>United-States</td>\n",
       "      <td>&lt;=50K</td>\n",
       "    </tr>\n",
       "  </tbody>\n",
       "</table>\n",
       "<p>1071 rows × 15 columns</p>\n",
       "</div>"
      ],
      "text/plain": [
       "            age         workclass  fnlwgt     education  educational-num  \\\n",
       "16    45.000000  Self-emp-not-inc  432824       HS-grad                9   \n",
       "20    44.000000           Private   26669     Assoc-voc               11   \n",
       "35    32.000000           Private  136921       HS-grad                9   \n",
       "55    54.000000           Private  186272  Some-college               10   \n",
       "77    39.000000           Private  118429  Some-college               10   \n",
       "...         ...               ...     ...           ...              ...   \n",
       "9610  38.721429           Private  200939       HS-grad                9   \n",
       "9611  38.721429           Private  110592          12th                8   \n",
       "9612  38.721429           Private  167840       HS-grad                9   \n",
       "9613  38.721429           Private  274883       HS-grad                9   \n",
       "9614  38.721429           Private  212895    Assoc-acdm               12   \n",
       "\n",
       "          marital-status         occupation   relationship   race  gender  \\\n",
       "16    Married-civ-spouse       Craft-repair        Husband  White    Male   \n",
       "20               Widowed    Exec-managerial      Unmarried  White  Female   \n",
       "35    Married-civ-spouse              Sales        Husband  White    Male   \n",
       "55    Married-civ-spouse   Transport-moving        Husband  White    Male   \n",
       "77              Divorced              Sales  Not-in-family  White    Male   \n",
       "...                  ...                ...            ...    ...     ...   \n",
       "9610  Married-civ-spouse       Craft-repair        Husband  White    Male   \n",
       "9611  Married-civ-spouse  Machine-op-inspct        Husband  White    Male   \n",
       "9612  Married-civ-spouse  Handlers-cleaners        Husband  White    Male   \n",
       "9613  Married-civ-spouse   Transport-moving        Husband  White    Male   \n",
       "9614       Never-married       Craft-repair  Not-in-family  White    Male   \n",
       "\n",
       "      capital-gain  capital-loss  hours-per-week native-country income  \n",
       "16          7298.0           0.0             NaN  United-States   >50K  \n",
       "20             0.0           0.0             NaN  United-States  <=50K  \n",
       "35             0.0           0.0             NaN  United-States  <=50K  \n",
       "55          3908.0           0.0             NaN  United-States  <=50K  \n",
       "77             0.0           0.0             NaN  United-States  <=50K  \n",
       "...            ...           ...             ...            ...    ...  \n",
       "9610           0.0           0.0             NaN  United-States   >50K  \n",
       "9611           0.0           0.0             NaN  United-States  <=50K  \n",
       "9612           0.0        2002.0             NaN  United-States  <=50K  \n",
       "9613           0.0           0.0             NaN  United-States   >50K  \n",
       "9614           0.0           0.0             NaN  United-States  <=50K  \n",
       "\n",
       "[1071 rows x 15 columns]"
      ]
     },
     "execution_count": 21,
     "metadata": {},
     "output_type": "execute_result"
    }
   ],
   "source": [
    "data[data[\"hours-per-week\"].isna()]"
   ]
  },
  {
   "cell_type": "markdown",
   "metadata": {},
   "source": [
    "Посмотрим, чем заполнены эти данные в случаях, когда они заполнены"
   ]
  },
  {
   "cell_type": "code",
   "execution_count": 22,
   "metadata": {},
   "outputs": [
    {
     "name": "stdout",
     "output_type": "stream",
     "text": [
      "40.0 40.475125834016154\n"
     ]
    }
   ],
   "source": [
    "median = data['hours-per-week'].median()\n",
    "mean = data['hours-per-week'].mean()\n",
    "print(median, mean)"
   ]
  },
  {
   "cell_type": "markdown",
   "metadata": {},
   "source": [
    "В среднем работают по 40 часов в неделю, что логично"
   ]
  },
  {
   "cell_type": "markdown",
   "metadata": {},
   "source": [
    "У каких работничков отсутствуют данные о часах в неделю:"
   ]
  },
  {
   "cell_type": "code",
   "execution_count": 23,
   "metadata": {},
   "outputs": [
    {
     "data": {
      "text/plain": [
       "workclass\n",
       "?                    59\n",
       "Federal-gov          23\n",
       "Local-gov            64\n",
       "Private             757\n",
       "Self-emp-inc         29\n",
       "Self-emp-not-inc     92\n",
       "State-gov            47\n",
       "Name: age, dtype: int64"
      ]
     },
     "execution_count": 23,
     "metadata": {},
     "output_type": "execute_result"
    }
   ],
   "source": [
    "data[data[\"hours-per-week\"].isna()].groupby(\"workclass\")[\"age\"].count()"
   ]
  },
  {
   "cell_type": "markdown",
   "metadata": {},
   "source": [
    "Больше всего тут непонятных приватных (это кто вообще?)\n",
    "\n",
    "Посмотрим на них:"
   ]
  },
  {
   "cell_type": "code",
   "execution_count": 24,
   "metadata": {},
   "outputs": [
    {
     "data": {
      "text/html": [
       "<div>\n",
       "<style scoped>\n",
       "    .dataframe tbody tr th:only-of-type {\n",
       "        vertical-align: middle;\n",
       "    }\n",
       "\n",
       "    .dataframe tbody tr th {\n",
       "        vertical-align: top;\n",
       "    }\n",
       "\n",
       "    .dataframe thead th {\n",
       "        text-align: right;\n",
       "    }\n",
       "</style>\n",
       "<table border=\"1\" class=\"dataframe\">\n",
       "  <thead>\n",
       "    <tr style=\"text-align: right;\">\n",
       "      <th></th>\n",
       "      <th>age</th>\n",
       "      <th>workclass</th>\n",
       "      <th>fnlwgt</th>\n",
       "      <th>education</th>\n",
       "      <th>educational-num</th>\n",
       "      <th>marital-status</th>\n",
       "      <th>occupation</th>\n",
       "      <th>relationship</th>\n",
       "      <th>race</th>\n",
       "      <th>gender</th>\n",
       "      <th>capital-gain</th>\n",
       "      <th>capital-loss</th>\n",
       "      <th>hours-per-week</th>\n",
       "      <th>native-country</th>\n",
       "      <th>income</th>\n",
       "    </tr>\n",
       "  </thead>\n",
       "  <tbody>\n",
       "    <tr>\n",
       "      <th>0</th>\n",
       "      <td>25.000000</td>\n",
       "      <td>Private</td>\n",
       "      <td>226802</td>\n",
       "      <td>11th</td>\n",
       "      <td>7</td>\n",
       "      <td>Never-married</td>\n",
       "      <td>Machine-op-inspct</td>\n",
       "      <td>Own-child</td>\n",
       "      <td>Black</td>\n",
       "      <td>Male</td>\n",
       "      <td>0.0</td>\n",
       "      <td>0.0</td>\n",
       "      <td>40.0</td>\n",
       "      <td>United-States</td>\n",
       "      <td>&lt;=50K</td>\n",
       "    </tr>\n",
       "    <tr>\n",
       "      <th>1</th>\n",
       "      <td>38.000000</td>\n",
       "      <td>Private</td>\n",
       "      <td>89814</td>\n",
       "      <td>HS-grad</td>\n",
       "      <td>9</td>\n",
       "      <td>Married-civ-spouse</td>\n",
       "      <td>Farming-fishing</td>\n",
       "      <td>Husband</td>\n",
       "      <td>White</td>\n",
       "      <td>Male</td>\n",
       "      <td>0.0</td>\n",
       "      <td>0.0</td>\n",
       "      <td>50.0</td>\n",
       "      <td>United-States</td>\n",
       "      <td>&lt;=50K</td>\n",
       "    </tr>\n",
       "    <tr>\n",
       "      <th>3</th>\n",
       "      <td>44.000000</td>\n",
       "      <td>Private</td>\n",
       "      <td>160323</td>\n",
       "      <td>Some-college</td>\n",
       "      <td>10</td>\n",
       "      <td>Married-civ-spouse</td>\n",
       "      <td>Machine-op-inspct</td>\n",
       "      <td>Husband</td>\n",
       "      <td>Black</td>\n",
       "      <td>Male</td>\n",
       "      <td>7688.0</td>\n",
       "      <td>0.0</td>\n",
       "      <td>40.0</td>\n",
       "      <td>United-States</td>\n",
       "      <td>&gt;50K</td>\n",
       "    </tr>\n",
       "    <tr>\n",
       "      <th>5</th>\n",
       "      <td>34.000000</td>\n",
       "      <td>Private</td>\n",
       "      <td>198693</td>\n",
       "      <td>10th</td>\n",
       "      <td>6</td>\n",
       "      <td>Never-married</td>\n",
       "      <td>Other-service</td>\n",
       "      <td>Not-in-family</td>\n",
       "      <td>White</td>\n",
       "      <td>Male</td>\n",
       "      <td>0.0</td>\n",
       "      <td>0.0</td>\n",
       "      <td>30.0</td>\n",
       "      <td>United-States</td>\n",
       "      <td>&lt;=50K</td>\n",
       "    </tr>\n",
       "    <tr>\n",
       "      <th>8</th>\n",
       "      <td>24.000000</td>\n",
       "      <td>Private</td>\n",
       "      <td>369667</td>\n",
       "      <td>Some-college</td>\n",
       "      <td>10</td>\n",
       "      <td>Never-married</td>\n",
       "      <td>Other-service</td>\n",
       "      <td>Unmarried</td>\n",
       "      <td>White</td>\n",
       "      <td>Female</td>\n",
       "      <td>0.0</td>\n",
       "      <td>0.0</td>\n",
       "      <td>40.0</td>\n",
       "      <td>United-States</td>\n",
       "      <td>&lt;=50K</td>\n",
       "    </tr>\n",
       "    <tr>\n",
       "      <th>...</th>\n",
       "      <td>...</td>\n",
       "      <td>...</td>\n",
       "      <td>...</td>\n",
       "      <td>...</td>\n",
       "      <td>...</td>\n",
       "      <td>...</td>\n",
       "      <td>...</td>\n",
       "      <td>...</td>\n",
       "      <td>...</td>\n",
       "      <td>...</td>\n",
       "      <td>...</td>\n",
       "      <td>...</td>\n",
       "      <td>...</td>\n",
       "      <td>...</td>\n",
       "      <td>...</td>\n",
       "    </tr>\n",
       "    <tr>\n",
       "      <th>9610</th>\n",
       "      <td>38.721429</td>\n",
       "      <td>Private</td>\n",
       "      <td>200939</td>\n",
       "      <td>HS-grad</td>\n",
       "      <td>9</td>\n",
       "      <td>Married-civ-spouse</td>\n",
       "      <td>Craft-repair</td>\n",
       "      <td>Husband</td>\n",
       "      <td>White</td>\n",
       "      <td>Male</td>\n",
       "      <td>0.0</td>\n",
       "      <td>0.0</td>\n",
       "      <td>NaN</td>\n",
       "      <td>United-States</td>\n",
       "      <td>&gt;50K</td>\n",
       "    </tr>\n",
       "    <tr>\n",
       "      <th>9611</th>\n",
       "      <td>38.721429</td>\n",
       "      <td>Private</td>\n",
       "      <td>110592</td>\n",
       "      <td>12th</td>\n",
       "      <td>8</td>\n",
       "      <td>Married-civ-spouse</td>\n",
       "      <td>Machine-op-inspct</td>\n",
       "      <td>Husband</td>\n",
       "      <td>White</td>\n",
       "      <td>Male</td>\n",
       "      <td>0.0</td>\n",
       "      <td>0.0</td>\n",
       "      <td>NaN</td>\n",
       "      <td>United-States</td>\n",
       "      <td>&lt;=50K</td>\n",
       "    </tr>\n",
       "    <tr>\n",
       "      <th>9612</th>\n",
       "      <td>38.721429</td>\n",
       "      <td>Private</td>\n",
       "      <td>167840</td>\n",
       "      <td>HS-grad</td>\n",
       "      <td>9</td>\n",
       "      <td>Married-civ-spouse</td>\n",
       "      <td>Handlers-cleaners</td>\n",
       "      <td>Husband</td>\n",
       "      <td>White</td>\n",
       "      <td>Male</td>\n",
       "      <td>0.0</td>\n",
       "      <td>2002.0</td>\n",
       "      <td>NaN</td>\n",
       "      <td>United-States</td>\n",
       "      <td>&lt;=50K</td>\n",
       "    </tr>\n",
       "    <tr>\n",
       "      <th>9613</th>\n",
       "      <td>38.721429</td>\n",
       "      <td>Private</td>\n",
       "      <td>274883</td>\n",
       "      <td>HS-grad</td>\n",
       "      <td>9</td>\n",
       "      <td>Married-civ-spouse</td>\n",
       "      <td>Transport-moving</td>\n",
       "      <td>Husband</td>\n",
       "      <td>White</td>\n",
       "      <td>Male</td>\n",
       "      <td>0.0</td>\n",
       "      <td>0.0</td>\n",
       "      <td>NaN</td>\n",
       "      <td>United-States</td>\n",
       "      <td>&gt;50K</td>\n",
       "    </tr>\n",
       "    <tr>\n",
       "      <th>9614</th>\n",
       "      <td>38.721429</td>\n",
       "      <td>Private</td>\n",
       "      <td>212895</td>\n",
       "      <td>Assoc-acdm</td>\n",
       "      <td>12</td>\n",
       "      <td>Never-married</td>\n",
       "      <td>Craft-repair</td>\n",
       "      <td>Not-in-family</td>\n",
       "      <td>White</td>\n",
       "      <td>Male</td>\n",
       "      <td>0.0</td>\n",
       "      <td>0.0</td>\n",
       "      <td>NaN</td>\n",
       "      <td>United-States</td>\n",
       "      <td>&lt;=50K</td>\n",
       "    </tr>\n",
       "  </tbody>\n",
       "</table>\n",
       "<p>6573 rows × 15 columns</p>\n",
       "</div>"
      ],
      "text/plain": [
       "            age workclass  fnlwgt     education  educational-num  \\\n",
       "0     25.000000   Private  226802          11th                7   \n",
       "1     38.000000   Private   89814       HS-grad                9   \n",
       "3     44.000000   Private  160323  Some-college               10   \n",
       "5     34.000000   Private  198693          10th                6   \n",
       "8     24.000000   Private  369667  Some-college               10   \n",
       "...         ...       ...     ...           ...              ...   \n",
       "9610  38.721429   Private  200939       HS-grad                9   \n",
       "9611  38.721429   Private  110592          12th                8   \n",
       "9612  38.721429   Private  167840       HS-grad                9   \n",
       "9613  38.721429   Private  274883       HS-grad                9   \n",
       "9614  38.721429   Private  212895    Assoc-acdm               12   \n",
       "\n",
       "          marital-status         occupation   relationship   race  gender  \\\n",
       "0          Never-married  Machine-op-inspct      Own-child  Black    Male   \n",
       "1     Married-civ-spouse    Farming-fishing        Husband  White    Male   \n",
       "3     Married-civ-spouse  Machine-op-inspct        Husband  Black    Male   \n",
       "5          Never-married      Other-service  Not-in-family  White    Male   \n",
       "8          Never-married      Other-service      Unmarried  White  Female   \n",
       "...                  ...                ...            ...    ...     ...   \n",
       "9610  Married-civ-spouse       Craft-repair        Husband  White    Male   \n",
       "9611  Married-civ-spouse  Machine-op-inspct        Husband  White    Male   \n",
       "9612  Married-civ-spouse  Handlers-cleaners        Husband  White    Male   \n",
       "9613  Married-civ-spouse   Transport-moving        Husband  White    Male   \n",
       "9614       Never-married       Craft-repair  Not-in-family  White    Male   \n",
       "\n",
       "      capital-gain  capital-loss  hours-per-week native-country income  \n",
       "0              0.0           0.0            40.0  United-States  <=50K  \n",
       "1              0.0           0.0            50.0  United-States  <=50K  \n",
       "3           7688.0           0.0            40.0  United-States   >50K  \n",
       "5              0.0           0.0            30.0  United-States  <=50K  \n",
       "8              0.0           0.0            40.0  United-States  <=50K  \n",
       "...            ...           ...             ...            ...    ...  \n",
       "9610           0.0           0.0             NaN  United-States   >50K  \n",
       "9611           0.0           0.0             NaN  United-States  <=50K  \n",
       "9612           0.0        2002.0             NaN  United-States  <=50K  \n",
       "9613           0.0           0.0             NaN  United-States   >50K  \n",
       "9614           0.0           0.0             NaN  United-States  <=50K  \n",
       "\n",
       "[6573 rows x 15 columns]"
      ]
     },
     "execution_count": 24,
     "metadata": {},
     "output_type": "execute_result"
    }
   ],
   "source": [
    "data[data[\"workclass\"] == \"Private\"]"
   ]
  },
  {
   "cell_type": "markdown",
   "metadata": {},
   "source": [
    "Посмотрим долю незаполненных данных по типам работы:"
   ]
  },
  {
   "cell_type": "code",
   "execution_count": 25,
   "metadata": {},
   "outputs": [
    {
     "data": {
      "text/plain": [
       "workclass\n",
       "?                   0.101027\n",
       "Federal-gov         0.082437\n",
       "Local-gov           0.105090\n",
       "Never-worked             NaN\n",
       "Private             0.115168\n",
       "Self-emp-inc        0.082153\n",
       "Self-emp-not-inc    0.117647\n",
       "State-gov           0.109557\n",
       "Without-pay              NaN\n",
       "Name: age, dtype: float64"
      ]
     },
     "execution_count": 25,
     "metadata": {},
     "output_type": "execute_result"
    }
   ],
   "source": [
    "data[data[\"hours-per-week\"].isna()].groupby(\"workclass\")[\"age\"].count() / data.groupby(\"workclass\")[\"age\"].count()"
   ]
  },
  {
   "cell_type": "markdown",
   "metadata": {},
   "source": [
    "А что у нас с бездельниками и волонтерами?"
   ]
  },
  {
   "cell_type": "code",
   "execution_count": 26,
   "metadata": {},
   "outputs": [
    {
     "data": {
      "text/html": [
       "<div>\n",
       "<style scoped>\n",
       "    .dataframe tbody tr th:only-of-type {\n",
       "        vertical-align: middle;\n",
       "    }\n",
       "\n",
       "    .dataframe tbody tr th {\n",
       "        vertical-align: top;\n",
       "    }\n",
       "\n",
       "    .dataframe thead th {\n",
       "        text-align: right;\n",
       "    }\n",
       "</style>\n",
       "<table border=\"1\" class=\"dataframe\">\n",
       "  <thead>\n",
       "    <tr style=\"text-align: right;\">\n",
       "      <th></th>\n",
       "      <th>age</th>\n",
       "      <th>workclass</th>\n",
       "      <th>fnlwgt</th>\n",
       "      <th>education</th>\n",
       "      <th>educational-num</th>\n",
       "      <th>marital-status</th>\n",
       "      <th>occupation</th>\n",
       "      <th>relationship</th>\n",
       "      <th>race</th>\n",
       "      <th>gender</th>\n",
       "      <th>capital-gain</th>\n",
       "      <th>capital-loss</th>\n",
       "      <th>hours-per-week</th>\n",
       "      <th>native-country</th>\n",
       "      <th>income</th>\n",
       "    </tr>\n",
       "  </thead>\n",
       "  <tbody>\n",
       "    <tr>\n",
       "      <th>2647</th>\n",
       "      <td>19.0</td>\n",
       "      <td>Without-pay</td>\n",
       "      <td>43627</td>\n",
       "      <td>HS-grad</td>\n",
       "      <td>9</td>\n",
       "      <td>Never-married</td>\n",
       "      <td>Other-service</td>\n",
       "      <td>Own-child</td>\n",
       "      <td>White</td>\n",
       "      <td>Male</td>\n",
       "      <td>0.0</td>\n",
       "      <td>0.0</td>\n",
       "      <td>10.0</td>\n",
       "      <td>United-States</td>\n",
       "      <td>&lt;=50K</td>\n",
       "    </tr>\n",
       "    <tr>\n",
       "      <th>2836</th>\n",
       "      <td>74.0</td>\n",
       "      <td>Without-pay</td>\n",
       "      <td>216001</td>\n",
       "      <td>7th-8th</td>\n",
       "      <td>4</td>\n",
       "      <td>Married-civ-spouse</td>\n",
       "      <td>Farming-fishing</td>\n",
       "      <td>Husband</td>\n",
       "      <td>White</td>\n",
       "      <td>Male</td>\n",
       "      <td>0.0</td>\n",
       "      <td>0.0</td>\n",
       "      <td>20.0</td>\n",
       "      <td>United-States</td>\n",
       "      <td>&lt;=50K</td>\n",
       "    </tr>\n",
       "    <tr>\n",
       "      <th>5798</th>\n",
       "      <td>51.0</td>\n",
       "      <td>Without-pay</td>\n",
       "      <td>124963</td>\n",
       "      <td>Assoc-acdm</td>\n",
       "      <td>12</td>\n",
       "      <td>Married-civ-spouse</td>\n",
       "      <td>Sales</td>\n",
       "      <td>Husband</td>\n",
       "      <td>White</td>\n",
       "      <td>Male</td>\n",
       "      <td>0.0</td>\n",
       "      <td>0.0</td>\n",
       "      <td>45.0</td>\n",
       "      <td>United-States</td>\n",
       "      <td>&lt;=50K</td>\n",
       "    </tr>\n",
       "    <tr>\n",
       "      <th>7870</th>\n",
       "      <td>17.0</td>\n",
       "      <td>Never-worked</td>\n",
       "      <td>131593</td>\n",
       "      <td>11th</td>\n",
       "      <td>7</td>\n",
       "      <td>Never-married</td>\n",
       "      <td>?</td>\n",
       "      <td>Own-child</td>\n",
       "      <td>Black</td>\n",
       "      <td>Female</td>\n",
       "      <td>0.0</td>\n",
       "      <td>0.0</td>\n",
       "      <td>20.0</td>\n",
       "      <td>United-States</td>\n",
       "      <td>&lt;=50K</td>\n",
       "    </tr>\n",
       "    <tr>\n",
       "      <th>7976</th>\n",
       "      <td>64.0</td>\n",
       "      <td>Without-pay</td>\n",
       "      <td>209291</td>\n",
       "      <td>HS-grad</td>\n",
       "      <td>9</td>\n",
       "      <td>Married-civ-spouse</td>\n",
       "      <td>Handlers-cleaners</td>\n",
       "      <td>Husband</td>\n",
       "      <td>White</td>\n",
       "      <td>Male</td>\n",
       "      <td>0.0</td>\n",
       "      <td>0.0</td>\n",
       "      <td>60.0</td>\n",
       "      <td>United-States</td>\n",
       "      <td>&gt;50K</td>\n",
       "    </tr>\n",
       "  </tbody>\n",
       "</table>\n",
       "</div>"
      ],
      "text/plain": [
       "       age     workclass  fnlwgt   education  educational-num  \\\n",
       "2647  19.0   Without-pay   43627     HS-grad                9   \n",
       "2836  74.0   Without-pay  216001     7th-8th                4   \n",
       "5798  51.0   Without-pay  124963  Assoc-acdm               12   \n",
       "7870  17.0  Never-worked  131593        11th                7   \n",
       "7976  64.0   Without-pay  209291     HS-grad                9   \n",
       "\n",
       "          marital-status         occupation relationship   race  gender  \\\n",
       "2647       Never-married      Other-service    Own-child  White    Male   \n",
       "2836  Married-civ-spouse    Farming-fishing      Husband  White    Male   \n",
       "5798  Married-civ-spouse              Sales      Husband  White    Male   \n",
       "7870       Never-married                  ?    Own-child  Black  Female   \n",
       "7976  Married-civ-spouse  Handlers-cleaners      Husband  White    Male   \n",
       "\n",
       "      capital-gain  capital-loss  hours-per-week native-country income  \n",
       "2647           0.0           0.0            10.0  United-States  <=50K  \n",
       "2836           0.0           0.0            20.0  United-States  <=50K  \n",
       "5798           0.0           0.0            45.0  United-States  <=50K  \n",
       "7870           0.0           0.0            20.0  United-States  <=50K  \n",
       "7976           0.0           0.0            60.0  United-States   >50K  "
      ]
     },
     "execution_count": 26,
     "metadata": {},
     "output_type": "execute_result"
    }
   ],
   "source": [
    "data[(data[\"workclass\"] == \"Never-worked\") | (data[\"workclass\"] == \"Without-pay\")]"
   ]
  },
  {
   "cell_type": "markdown",
   "metadata": {},
   "source": [
    "А что за люди-вопросики?"
   ]
  },
  {
   "cell_type": "code",
   "execution_count": 27,
   "metadata": {},
   "outputs": [
    {
     "data": {
      "text/html": [
       "<div>\n",
       "<style scoped>\n",
       "    .dataframe tbody tr th:only-of-type {\n",
       "        vertical-align: middle;\n",
       "    }\n",
       "\n",
       "    .dataframe tbody tr th {\n",
       "        vertical-align: top;\n",
       "    }\n",
       "\n",
       "    .dataframe thead th {\n",
       "        text-align: right;\n",
       "    }\n",
       "</style>\n",
       "<table border=\"1\" class=\"dataframe\">\n",
       "  <thead>\n",
       "    <tr style=\"text-align: right;\">\n",
       "      <th></th>\n",
       "      <th>age</th>\n",
       "      <th>workclass</th>\n",
       "      <th>fnlwgt</th>\n",
       "      <th>education</th>\n",
       "      <th>educational-num</th>\n",
       "      <th>marital-status</th>\n",
       "      <th>occupation</th>\n",
       "      <th>relationship</th>\n",
       "      <th>race</th>\n",
       "      <th>gender</th>\n",
       "      <th>capital-gain</th>\n",
       "      <th>capital-loss</th>\n",
       "      <th>hours-per-week</th>\n",
       "      <th>native-country</th>\n",
       "      <th>income</th>\n",
       "    </tr>\n",
       "  </thead>\n",
       "  <tbody>\n",
       "    <tr>\n",
       "      <th>4</th>\n",
       "      <td>18.000000</td>\n",
       "      <td>?</td>\n",
       "      <td>103497</td>\n",
       "      <td>Some-college</td>\n",
       "      <td>10</td>\n",
       "      <td>Never-married</td>\n",
       "      <td>?</td>\n",
       "      <td>Own-child</td>\n",
       "      <td>White</td>\n",
       "      <td>Female</td>\n",
       "      <td>0.0</td>\n",
       "      <td>0.0</td>\n",
       "      <td>30.0</td>\n",
       "      <td>United-States</td>\n",
       "      <td>&lt;=50K</td>\n",
       "    </tr>\n",
       "    <tr>\n",
       "      <th>6</th>\n",
       "      <td>29.000000</td>\n",
       "      <td>?</td>\n",
       "      <td>227026</td>\n",
       "      <td>HS-grad</td>\n",
       "      <td>9</td>\n",
       "      <td>Never-married</td>\n",
       "      <td>?</td>\n",
       "      <td>Unmarried</td>\n",
       "      <td>Black</td>\n",
       "      <td>Male</td>\n",
       "      <td>0.0</td>\n",
       "      <td>0.0</td>\n",
       "      <td>40.0</td>\n",
       "      <td>United-States</td>\n",
       "      <td>&lt;=50K</td>\n",
       "    </tr>\n",
       "    <tr>\n",
       "      <th>13</th>\n",
       "      <td>58.000000</td>\n",
       "      <td>?</td>\n",
       "      <td>299831</td>\n",
       "      <td>HS-grad</td>\n",
       "      <td>9</td>\n",
       "      <td>Married-civ-spouse</td>\n",
       "      <td>?</td>\n",
       "      <td>Husband</td>\n",
       "      <td>White</td>\n",
       "      <td>Male</td>\n",
       "      <td>0.0</td>\n",
       "      <td>0.0</td>\n",
       "      <td>35.0</td>\n",
       "      <td>United-States</td>\n",
       "      <td>&lt;=50K</td>\n",
       "    </tr>\n",
       "    <tr>\n",
       "      <th>22</th>\n",
       "      <td>72.000000</td>\n",
       "      <td>?</td>\n",
       "      <td>132015</td>\n",
       "      <td>7th-8th</td>\n",
       "      <td>4</td>\n",
       "      <td>Divorced</td>\n",
       "      <td>?</td>\n",
       "      <td>Not-in-family</td>\n",
       "      <td>White</td>\n",
       "      <td>Female</td>\n",
       "      <td>0.0</td>\n",
       "      <td>0.0</td>\n",
       "      <td>6.0</td>\n",
       "      <td>United-States</td>\n",
       "      <td>&lt;=50K</td>\n",
       "    </tr>\n",
       "    <tr>\n",
       "      <th>34</th>\n",
       "      <td>65.000000</td>\n",
       "      <td>?</td>\n",
       "      <td>191846</td>\n",
       "      <td>HS-grad</td>\n",
       "      <td>9</td>\n",
       "      <td>Married-civ-spouse</td>\n",
       "      <td>?</td>\n",
       "      <td>Husband</td>\n",
       "      <td>White</td>\n",
       "      <td>Male</td>\n",
       "      <td>0.0</td>\n",
       "      <td>0.0</td>\n",
       "      <td>40.0</td>\n",
       "      <td>United-States</td>\n",
       "      <td>&lt;=50K</td>\n",
       "    </tr>\n",
       "    <tr>\n",
       "      <th>...</th>\n",
       "      <td>...</td>\n",
       "      <td>...</td>\n",
       "      <td>...</td>\n",
       "      <td>...</td>\n",
       "      <td>...</td>\n",
       "      <td>...</td>\n",
       "      <td>...</td>\n",
       "      <td>...</td>\n",
       "      <td>...</td>\n",
       "      <td>...</td>\n",
       "      <td>...</td>\n",
       "      <td>...</td>\n",
       "      <td>...</td>\n",
       "      <td>...</td>\n",
       "      <td>...</td>\n",
       "    </tr>\n",
       "    <tr>\n",
       "      <th>9541</th>\n",
       "      <td>18.000000</td>\n",
       "      <td>?</td>\n",
       "      <td>30246</td>\n",
       "      <td>11th</td>\n",
       "      <td>7</td>\n",
       "      <td>Never-married</td>\n",
       "      <td>?</td>\n",
       "      <td>Own-child</td>\n",
       "      <td>White</td>\n",
       "      <td>Female</td>\n",
       "      <td>0.0</td>\n",
       "      <td>0.0</td>\n",
       "      <td>NaN</td>\n",
       "      <td>United-States</td>\n",
       "      <td>&lt;=50K</td>\n",
       "    </tr>\n",
       "    <tr>\n",
       "      <th>9543</th>\n",
       "      <td>20.000000</td>\n",
       "      <td>?</td>\n",
       "      <td>49819</td>\n",
       "      <td>Some-college</td>\n",
       "      <td>10</td>\n",
       "      <td>Never-married</td>\n",
       "      <td>?</td>\n",
       "      <td>Own-child</td>\n",
       "      <td>White</td>\n",
       "      <td>Female</td>\n",
       "      <td>0.0</td>\n",
       "      <td>0.0</td>\n",
       "      <td>NaN</td>\n",
       "      <td>United-States</td>\n",
       "      <td>&lt;=50K</td>\n",
       "    </tr>\n",
       "    <tr>\n",
       "      <th>9568</th>\n",
       "      <td>38.721429</td>\n",
       "      <td>?</td>\n",
       "      <td>150250</td>\n",
       "      <td>Masters</td>\n",
       "      <td>14</td>\n",
       "      <td>Married-civ-spouse</td>\n",
       "      <td>?</td>\n",
       "      <td>Husband</td>\n",
       "      <td>White</td>\n",
       "      <td>Male</td>\n",
       "      <td>0.0</td>\n",
       "      <td>1510.0</td>\n",
       "      <td>NaN</td>\n",
       "      <td>United-States</td>\n",
       "      <td>&lt;=50K</td>\n",
       "    </tr>\n",
       "    <tr>\n",
       "      <th>9573</th>\n",
       "      <td>38.721429</td>\n",
       "      <td>?</td>\n",
       "      <td>305145</td>\n",
       "      <td>Bachelors</td>\n",
       "      <td>13</td>\n",
       "      <td>Widowed</td>\n",
       "      <td>?</td>\n",
       "      <td>Not-in-family</td>\n",
       "      <td>White</td>\n",
       "      <td>Male</td>\n",
       "      <td>0.0</td>\n",
       "      <td>0.0</td>\n",
       "      <td>NaN</td>\n",
       "      <td>United-States</td>\n",
       "      <td>&lt;=50K</td>\n",
       "    </tr>\n",
       "    <tr>\n",
       "      <th>9589</th>\n",
       "      <td>38.721429</td>\n",
       "      <td>?</td>\n",
       "      <td>127306</td>\n",
       "      <td>Some-college</td>\n",
       "      <td>10</td>\n",
       "      <td>Divorced</td>\n",
       "      <td>?</td>\n",
       "      <td>Unmarried</td>\n",
       "      <td>White</td>\n",
       "      <td>Female</td>\n",
       "      <td>0.0</td>\n",
       "      <td>0.0</td>\n",
       "      <td>NaN</td>\n",
       "      <td>United-States</td>\n",
       "      <td>&lt;=50K</td>\n",
       "    </tr>\n",
       "  </tbody>\n",
       "</table>\n",
       "<p>584 rows × 15 columns</p>\n",
       "</div>"
      ],
      "text/plain": [
       "            age workclass  fnlwgt     education  educational-num  \\\n",
       "4     18.000000         ?  103497  Some-college               10   \n",
       "6     29.000000         ?  227026       HS-grad                9   \n",
       "13    58.000000         ?  299831       HS-grad                9   \n",
       "22    72.000000         ?  132015       7th-8th                4   \n",
       "34    65.000000         ?  191846       HS-grad                9   \n",
       "...         ...       ...     ...           ...              ...   \n",
       "9541  18.000000         ?   30246          11th                7   \n",
       "9543  20.000000         ?   49819  Some-college               10   \n",
       "9568  38.721429         ?  150250       Masters               14   \n",
       "9573  38.721429         ?  305145     Bachelors               13   \n",
       "9589  38.721429         ?  127306  Some-college               10   \n",
       "\n",
       "          marital-status occupation   relationship   race  gender  \\\n",
       "4          Never-married          ?      Own-child  White  Female   \n",
       "6          Never-married          ?      Unmarried  Black    Male   \n",
       "13    Married-civ-spouse          ?        Husband  White    Male   \n",
       "22              Divorced          ?  Not-in-family  White  Female   \n",
       "34    Married-civ-spouse          ?        Husband  White    Male   \n",
       "...                  ...        ...            ...    ...     ...   \n",
       "9541       Never-married          ?      Own-child  White  Female   \n",
       "9543       Never-married          ?      Own-child  White  Female   \n",
       "9568  Married-civ-spouse          ?        Husband  White    Male   \n",
       "9573             Widowed          ?  Not-in-family  White    Male   \n",
       "9589            Divorced          ?      Unmarried  White  Female   \n",
       "\n",
       "      capital-gain  capital-loss  hours-per-week native-country income  \n",
       "4              0.0           0.0            30.0  United-States  <=50K  \n",
       "6              0.0           0.0            40.0  United-States  <=50K  \n",
       "13             0.0           0.0            35.0  United-States  <=50K  \n",
       "22             0.0           0.0             6.0  United-States  <=50K  \n",
       "34             0.0           0.0            40.0  United-States  <=50K  \n",
       "...            ...           ...             ...            ...    ...  \n",
       "9541           0.0           0.0             NaN  United-States  <=50K  \n",
       "9543           0.0           0.0             NaN  United-States  <=50K  \n",
       "9568           0.0        1510.0             NaN  United-States  <=50K  \n",
       "9573           0.0           0.0             NaN  United-States  <=50K  \n",
       "9589           0.0           0.0             NaN  United-States  <=50K  \n",
       "\n",
       "[584 rows x 15 columns]"
      ]
     },
     "execution_count": 27,
     "metadata": {},
     "output_type": "execute_result"
    }
   ],
   "source": [
    "data[data[\"workclass\"] == \"?\"]"
   ]
  },
  {
   "cell_type": "markdown",
   "metadata": {},
   "source": [
    "Посмотрим еще медианы и средние значения, характерные для каждого типа работы:"
   ]
  },
  {
   "cell_type": "code",
   "execution_count": 28,
   "metadata": {},
   "outputs": [
    {
     "name": "stdout",
     "output_type": "stream",
     "text": [
      "Private 40.0 40.351444291609354\n",
      "Local-gov 40.0 40.90091743119266\n",
      "? 40.0 31.756190476190476\n",
      "Self-emp-not-inc 40.0 44.88985507246377\n",
      "Federal-gov 40.0 42.15625\n",
      "State-gov 40.0 38.175392670157066\n",
      "Self-emp-inc 48.0 48.23456790123457\n",
      "Without-pay 32.5 33.75\n",
      "Never-worked 20.0 20.0\n"
     ]
    }
   ],
   "source": [
    "for key in data[\"workclass\"].unique():\n",
    "    median = data[data[\"workclass\"] == key]['hours-per-week'].median()\n",
    "    mean = data[data[\"workclass\"] == key]['hours-per-week'].mean()\n",
    "    print(key, median, mean)"
   ]
  },
  {
   "cell_type": "markdown",
   "metadata": {},
   "source": [
    "Итого, по сильно выбивающимся из средних показателей безработным и волонтерам у нас пропусков нет\n",
    "\n",
    "По людям-вопросикам вообще непонятно, что делать - по ним еще и профессия не ясна... м.б. дропнуть всех NaN-ов из этой категории?"
   ]
  },
  {
   "cell_type": "markdown",
   "metadata": {
    "id": "OlKBUtMSl3Zf"
   },
   "source": [
    "В общем, пока не заморачиваемся, а просто заполним пропуски в столбце hours-per-week медианным значением по всей табличке"
   ]
  },
  {
   "cell_type": "code",
   "execution_count": 29,
   "metadata": {
    "id": "ZNCXyZJfB5Qa"
   },
   "outputs": [],
   "source": [
    "median = data['hours-per-week'].median()\n",
    "data['hours-per-week'].fillna(median, inplace=True)"
   ]
  },
  {
   "cell_type": "code",
   "execution_count": 30,
   "metadata": {},
   "outputs": [
    {
     "data": {
      "text/plain": [
       "age                0\n",
       "workclass          0\n",
       "fnlwgt             0\n",
       "education          0\n",
       "educational-num    0\n",
       "marital-status     0\n",
       "occupation         0\n",
       "relationship       0\n",
       "race               0\n",
       "gender             0\n",
       "capital-gain       0\n",
       "capital-loss       0\n",
       "hours-per-week     0\n",
       "native-country     0\n",
       "income             0\n",
       "dtype: int64"
      ]
     },
     "execution_count": 30,
     "metadata": {},
     "output_type": "execute_result"
    }
   ],
   "source": [
    "data.isna().sum()"
   ]
  },
  {
   "cell_type": "markdown",
   "metadata": {
    "id": "rzypjl5l3Q57"
   },
   "source": [
    "## Ошибочные значения"
   ]
  },
  {
   "cell_type": "markdown",
   "metadata": {
    "id": "ebpU4gvGCcYe"
   },
   "source": [
    "Смотрим число различных значений в нечисловых столбцах"
   ]
  },
  {
   "cell_type": "code",
   "execution_count": 31,
   "metadata": {},
   "outputs": [
    {
     "name": "stdout",
     "output_type": "stream",
     "text": [
      "workclass\n",
      "Private             6573\n",
      "Self-emp-not-inc     782\n",
      "Local-gov            609\n",
      "?                    584\n",
      "State-gov            429\n",
      "Self-emp-inc         353\n",
      "Federal-gov          279\n",
      "Without-pay            4\n",
      "Never-worked           1\n",
      "Name: workclass, dtype: int64\n",
      "education\n",
      "HS-grad         3121\n",
      "Some-college    2125\n",
      "Bachelors       1598\n",
      "Masters          545\n",
      "Assoc-voc        412\n",
      "11th             358\n",
      "Assoc-acdm       314\n",
      "10th             273\n",
      "7th-8th          186\n",
      "Prof-school      146\n",
      "9th              143\n",
      "12th             121\n",
      "Doctorate        106\n",
      "5th-6th           98\n",
      "1st-4th           48\n",
      "Preschool         20\n",
      "Name: education, dtype: int64\n",
      "marital-status\n",
      "Married-civ-spouse       4307\n",
      "Never-married            3238\n",
      "Divorced                 1303\n",
      "Widowed                   330\n",
      "Separated                 297\n",
      "Married-spouse-absent     130\n",
      "Married-AF-spouse           9\n",
      "Name: marital-status, dtype: int64\n",
      "occupation\n",
      "Prof-specialty       1222\n",
      "Exec-managerial      1213\n",
      "Craft-repair         1183\n",
      "Adm-clerical         1079\n",
      "Sales                1065\n",
      "Other-service         960\n",
      "Machine-op-inspct     621\n",
      "?                     585\n",
      "Transport-moving      429\n",
      "Handlers-cleaners     414\n",
      "Farming-fishing       310\n",
      "Tech-support          279\n",
      "Protective-serv       194\n",
      "Priv-house-serv        57\n",
      "Armed-Forces            3\n",
      "Name: occupation, dtype: int64\n",
      "relationship\n",
      "Husband           3800\n",
      "Not-in-family     2521\n",
      "Own-child         1512\n",
      "Unmarried         1032\n",
      "Wife               434\n",
      "Other-relative     315\n",
      "Name: relationship, dtype: int64\n",
      "race\n",
      "White                 8255\n",
      "Black                  912\n",
      "Asian-Pac-Islander     267\n",
      "Amer-Indian-Eskimo      99\n",
      "Other                   81\n",
      "Name: race, dtype: int64\n",
      "gender\n",
      "Male      6409\n",
      "Female    3205\n",
      "Name: gender, dtype: int64\n",
      "native-country\n",
      "United-States                 8681\n",
      "Mexico                         186\n",
      "?                              164\n",
      "Philippines                     51\n",
      "Germany                         41\n",
      "Puerto-Rico                     41\n",
      "Canada                          34\n",
      "India                           34\n",
      "El-Salvador                     30\n",
      "Cuba                            28\n",
      "England                         21\n",
      "South                           20\n",
      "Haiti                           20\n",
      "Poland                          20\n",
      "China                           19\n",
      "Dominican-Republic              18\n",
      "Portugal                        18\n",
      "Guatemala                       17\n",
      "Jamaica                         15\n",
      "Italy                           15\n",
      "Columbia                        13\n",
      "Ecuador                         13\n",
      "Japan                           12\n",
      "Peru                            11\n",
      "Thailand                        10\n",
      "Nicaragua                        9\n",
      "Vietnam                          7\n",
      "Taiwan                           7\n",
      "Greece                           7\n",
      "France                           6\n",
      "Ireland                          6\n",
      "Iran                             6\n",
      "Cambodia                         5\n",
      "Scotland                         5\n",
      "Outlying-US(Guam-USVI-etc)       4\n",
      "Yugoslavia                       4\n",
      "Trinadad&Tobago                  4\n",
      "Honduras                         4\n",
      "Hungary                          3\n",
      "Hong                             3\n",
      "Laos                             2\n",
      "Name: native-country, dtype: int64\n",
      "income\n",
      "<=50K    7356\n",
      ">50K     2258\n",
      "Name: income, dtype: int64\n"
     ]
    }
   ],
   "source": [
    "for i, column in enumerate(data.columns):\n",
    "    if column not in data.describe().columns:\n",
    "        print(column)\n",
    "        print(data[column].value_counts())"
   ]
  },
  {
   "cell_type": "markdown",
   "metadata": {},
   "source": [
    "Как-то подозрительно всё-таки вглядят вопросики в столбцах workclass, occupation и native-country"
   ]
  },
  {
   "cell_type": "markdown",
   "metadata": {},
   "source": [
    "Ну, допустим native-country мы можем заполнить страной по-умолчанию, т.е. сильно преобладающей в выборке"
   ]
  },
  {
   "cell_type": "code",
   "execution_count": 32,
   "metadata": {
    "id": "huWe4aEC3UcF"
   },
   "outputs": [],
   "source": [
    "data['native-country'] = data['native-country'].replace('?', 'United-States')"
   ]
  },
  {
   "cell_type": "code",
   "execution_count": 33,
   "metadata": {
    "colab": {
     "base_uri": "https://localhost:8080/"
    },
    "id": "Se60_ikp08Zl",
    "outputId": "a94c6e51-ae0d-463c-ccf4-b7756af6a1a5"
   },
   "outputs": [
    {
     "data": {
      "text/plain": [
       "United-States                 8845\n",
       "Mexico                         186\n",
       "Philippines                     51\n",
       "Germany                         41\n",
       "Puerto-Rico                     41\n",
       "Canada                          34\n",
       "India                           34\n",
       "El-Salvador                     30\n",
       "Cuba                            28\n",
       "England                         21\n",
       "Haiti                           20\n",
       "South                           20\n",
       "Poland                          20\n",
       "China                           19\n",
       "Dominican-Republic              18\n",
       "Portugal                        18\n",
       "Guatemala                       17\n",
       "Jamaica                         15\n",
       "Italy                           15\n",
       "Columbia                        13\n",
       "Ecuador                         13\n",
       "Japan                           12\n",
       "Peru                            11\n",
       "Thailand                        10\n",
       "Nicaragua                        9\n",
       "Vietnam                          7\n",
       "Taiwan                           7\n",
       "Greece                           7\n",
       "France                           6\n",
       "Iran                             6\n",
       "Ireland                          6\n",
       "Scotland                         5\n",
       "Cambodia                         5\n",
       "Outlying-US(Guam-USVI-etc)       4\n",
       "Yugoslavia                       4\n",
       "Trinadad&Tobago                  4\n",
       "Honduras                         4\n",
       "Hungary                          3\n",
       "Hong                             3\n",
       "Laos                             2\n",
       "Name: native-country, dtype: int64"
      ]
     },
     "execution_count": 33,
     "metadata": {},
     "output_type": "execute_result"
    }
   ],
   "source": [
    "data['native-country'].value_counts()"
   ]
  },
  {
   "cell_type": "markdown",
   "metadata": {},
   "source": [
    "С полем workclass, пожалуй, поступим так же:"
   ]
  },
  {
   "cell_type": "code",
   "execution_count": 34,
   "metadata": {},
   "outputs": [],
   "source": [
    "data['workclass'] = data['workclass'].replace('?', 'Private')"
   ]
  },
  {
   "cell_type": "code",
   "execution_count": 35,
   "metadata": {},
   "outputs": [
    {
     "data": {
      "text/plain": [
       "Private             7157\n",
       "Self-emp-not-inc     782\n",
       "Local-gov            609\n",
       "State-gov            429\n",
       "Self-emp-inc         353\n",
       "Federal-gov          279\n",
       "Without-pay            4\n",
       "Never-worked           1\n",
       "Name: workclass, dtype: int64"
      ]
     },
     "execution_count": 35,
     "metadata": {},
     "output_type": "execute_result"
    }
   ],
   "source": [
    "data['workclass'].value_counts()"
   ]
  },
  {
   "cell_type": "markdown",
   "metadata": {},
   "source": [
    "А вот с профессией так не получится, там нет преобладающего значения"
   ]
  },
  {
   "cell_type": "code",
   "execution_count": 36,
   "metadata": {
    "id": "XNZ8B5xnQfh0"
   },
   "outputs": [],
   "source": [
    "# data['is_date'] = data['date'].apply(lambda x: 1 if x.isna() else 0)"
   ]
  },
  {
   "cell_type": "code",
   "execution_count": null,
   "metadata": {},
   "outputs": [],
   "source": []
  },
  {
   "cell_type": "markdown",
   "metadata": {
    "id": "2nouWWLZl6oA"
   },
   "source": [
    "## Основные числовые характеристики"
   ]
  },
  {
   "cell_type": "markdown",
   "metadata": {},
   "source": [
    "Распределение целевой переменой"
   ]
  },
  {
   "cell_type": "code",
   "execution_count": 37,
   "metadata": {
    "colab": {
     "base_uri": "https://localhost:8080/"
    },
    "id": "EuBlDOeX5JM5",
    "outputId": "99ea1dd1-7341-4049-9d70-9ca5fe9cef96"
   },
   "outputs": [
    {
     "data": {
      "text/plain": [
       "<=50K    0.765134\n",
       ">50K     0.234866\n",
       "Name: income, dtype: float64"
      ]
     },
     "execution_count": 37,
     "metadata": {},
     "output_type": "execute_result"
    }
   ],
   "source": [
    "data['income'].value_counts(normalize=True)"
   ]
  },
  {
   "cell_type": "code",
   "execution_count": 38,
   "metadata": {
    "colab": {
     "base_uri": "https://localhost:8080/",
     "height": 364
    },
    "id": "B5qadSUDl-vu",
    "outputId": "3a3b9018-2174-478f-b26c-bf4180b41021"
   },
   "outputs": [
    {
     "data": {
      "text/html": [
       "<div>\n",
       "<style scoped>\n",
       "    .dataframe tbody tr th:only-of-type {\n",
       "        vertical-align: middle;\n",
       "    }\n",
       "\n",
       "    .dataframe tbody tr th {\n",
       "        vertical-align: top;\n",
       "    }\n",
       "\n",
       "    .dataframe thead th {\n",
       "        text-align: right;\n",
       "    }\n",
       "</style>\n",
       "<table border=\"1\" class=\"dataframe\">\n",
       "  <thead>\n",
       "    <tr style=\"text-align: right;\">\n",
       "      <th></th>\n",
       "      <th>age</th>\n",
       "      <th>fnlwgt</th>\n",
       "      <th>educational-num</th>\n",
       "      <th>capital-gain</th>\n",
       "      <th>capital-loss</th>\n",
       "      <th>hours-per-week</th>\n",
       "    </tr>\n",
       "  </thead>\n",
       "  <tbody>\n",
       "    <tr>\n",
       "      <th>count</th>\n",
       "      <td>9614.000000</td>\n",
       "      <td>9.614000e+03</td>\n",
       "      <td>9614.000000</td>\n",
       "      <td>9614.000000</td>\n",
       "      <td>9614.000000</td>\n",
       "      <td>9614.000000</td>\n",
       "    </tr>\n",
       "    <tr>\n",
       "      <th>mean</th>\n",
       "      <td>38.721429</td>\n",
       "      <td>1.882948e+05</td>\n",
       "      <td>10.080092</td>\n",
       "      <td>1121.998232</td>\n",
       "      <td>87.926669</td>\n",
       "      <td>40.422197</td>\n",
       "    </tr>\n",
       "    <tr>\n",
       "      <th>std</th>\n",
       "      <td>13.355951</td>\n",
       "      <td>1.051352e+05</td>\n",
       "      <td>2.562733</td>\n",
       "      <td>7890.578253</td>\n",
       "      <td>404.085647</td>\n",
       "      <td>11.633285</td>\n",
       "    </tr>\n",
       "    <tr>\n",
       "      <th>min</th>\n",
       "      <td>17.000000</td>\n",
       "      <td>1.376900e+04</td>\n",
       "      <td>1.000000</td>\n",
       "      <td>0.000000</td>\n",
       "      <td>0.000000</td>\n",
       "      <td>1.000000</td>\n",
       "    </tr>\n",
       "    <tr>\n",
       "      <th>25%</th>\n",
       "      <td>28.000000</td>\n",
       "      <td>1.154652e+05</td>\n",
       "      <td>9.000000</td>\n",
       "      <td>0.000000</td>\n",
       "      <td>0.000000</td>\n",
       "      <td>40.000000</td>\n",
       "    </tr>\n",
       "    <tr>\n",
       "      <th>50%</th>\n",
       "      <td>38.000000</td>\n",
       "      <td>1.778450e+05</td>\n",
       "      <td>10.000000</td>\n",
       "      <td>0.000000</td>\n",
       "      <td>0.000000</td>\n",
       "      <td>40.000000</td>\n",
       "    </tr>\n",
       "    <tr>\n",
       "      <th>75%</th>\n",
       "      <td>47.000000</td>\n",
       "      <td>2.374175e+05</td>\n",
       "      <td>12.000000</td>\n",
       "      <td>0.000000</td>\n",
       "      <td>0.000000</td>\n",
       "      <td>43.000000</td>\n",
       "    </tr>\n",
       "    <tr>\n",
       "      <th>max</th>\n",
       "      <td>90.000000</td>\n",
       "      <td>1.490400e+06</td>\n",
       "      <td>16.000000</td>\n",
       "      <td>99999.000000</td>\n",
       "      <td>3770.000000</td>\n",
       "      <td>99.000000</td>\n",
       "    </tr>\n",
       "  </tbody>\n",
       "</table>\n",
       "</div>"
      ],
      "text/plain": [
       "               age        fnlwgt  educational-num  capital-gain  capital-loss  \\\n",
       "count  9614.000000  9.614000e+03      9614.000000   9614.000000   9614.000000   \n",
       "mean     38.721429  1.882948e+05        10.080092   1121.998232     87.926669   \n",
       "std      13.355951  1.051352e+05         2.562733   7890.578253    404.085647   \n",
       "min      17.000000  1.376900e+04         1.000000      0.000000      0.000000   \n",
       "25%      28.000000  1.154652e+05         9.000000      0.000000      0.000000   \n",
       "50%      38.000000  1.778450e+05        10.000000      0.000000      0.000000   \n",
       "75%      47.000000  2.374175e+05        12.000000      0.000000      0.000000   \n",
       "max      90.000000  1.490400e+06        16.000000  99999.000000   3770.000000   \n",
       "\n",
       "       hours-per-week  \n",
       "count     9614.000000  \n",
       "mean        40.422197  \n",
       "std         11.633285  \n",
       "min          1.000000  \n",
       "25%         40.000000  \n",
       "50%         40.000000  \n",
       "75%         43.000000  \n",
       "max         99.000000  "
      ]
     },
     "execution_count": 38,
     "metadata": {},
     "output_type": "execute_result"
    }
   ],
   "source": [
    "data.describe()"
   ]
  },
  {
   "cell_type": "code",
   "execution_count": 39,
   "metadata": {},
   "outputs": [
    {
     "data": {
      "image/png": "[encoded data removed]",
      "text/plain": [
       "<Figure size 1440x720 with 6 Axes>"
      ]
     },
     "metadata": {},
     "output_type": "display_data"
    }
   ],
   "source": [
    "fig, axes = plt.subplots(2, 3, figsize=(20, 10))\n",
    "for i, column in enumerate(data.describe().columns):\n",
    "    sns.histplot(data[column], ax=axes[i % 2, i // 2], bins=10)\n",
    "plt.show()"
   ]
  },
  {
   "cell_type": "code",
   "execution_count": 40,
   "metadata": {
    "colab": {
     "base_uri": "https://localhost:8080/",
     "height": 195
    },
    "id": "oQYBiBdQxzqU",
    "outputId": "4bc860bd-b6ff-4eb4-efd7-2f560fe00d55"
   },
   "outputs": [
    {
     "data": {
      "text/html": [
       "<div>\n",
       "<style scoped>\n",
       "    .dataframe tbody tr th:only-of-type {\n",
       "        vertical-align: middle;\n",
       "    }\n",
       "\n",
       "    .dataframe tbody tr th {\n",
       "        vertical-align: top;\n",
       "    }\n",
       "\n",
       "    .dataframe thead th {\n",
       "        text-align: right;\n",
       "    }\n",
       "</style>\n",
       "<table border=\"1\" class=\"dataframe\">\n",
       "  <thead>\n",
       "    <tr style=\"text-align: right;\">\n",
       "      <th></th>\n",
       "      <th>workclass</th>\n",
       "      <th>education</th>\n",
       "      <th>marital-status</th>\n",
       "      <th>occupation</th>\n",
       "      <th>relationship</th>\n",
       "      <th>race</th>\n",
       "      <th>gender</th>\n",
       "      <th>native-country</th>\n",
       "      <th>income</th>\n",
       "    </tr>\n",
       "  </thead>\n",
       "  <tbody>\n",
       "    <tr>\n",
       "      <th>count</th>\n",
       "      <td>9614</td>\n",
       "      <td>9614</td>\n",
       "      <td>9614</td>\n",
       "      <td>9614</td>\n",
       "      <td>9614</td>\n",
       "      <td>9614</td>\n",
       "      <td>9614</td>\n",
       "      <td>9614</td>\n",
       "      <td>9614</td>\n",
       "    </tr>\n",
       "    <tr>\n",
       "      <th>unique</th>\n",
       "      <td>8</td>\n",
       "      <td>16</td>\n",
       "      <td>7</td>\n",
       "      <td>15</td>\n",
       "      <td>6</td>\n",
       "      <td>5</td>\n",
       "      <td>2</td>\n",
       "      <td>40</td>\n",
       "      <td>2</td>\n",
       "    </tr>\n",
       "    <tr>\n",
       "      <th>top</th>\n",
       "      <td>Private</td>\n",
       "      <td>HS-grad</td>\n",
       "      <td>Married-civ-spouse</td>\n",
       "      <td>Prof-specialty</td>\n",
       "      <td>Husband</td>\n",
       "      <td>White</td>\n",
       "      <td>Male</td>\n",
       "      <td>United-States</td>\n",
       "      <td>&lt;=50K</td>\n",
       "    </tr>\n",
       "    <tr>\n",
       "      <th>freq</th>\n",
       "      <td>7157</td>\n",
       "      <td>3121</td>\n",
       "      <td>4307</td>\n",
       "      <td>1222</td>\n",
       "      <td>3800</td>\n",
       "      <td>8255</td>\n",
       "      <td>6409</td>\n",
       "      <td>8845</td>\n",
       "      <td>7356</td>\n",
       "    </tr>\n",
       "  </tbody>\n",
       "</table>\n",
       "</div>"
      ],
      "text/plain": [
       "       workclass education      marital-status      occupation relationship  \\\n",
       "count       9614      9614                9614            9614         9614   \n",
       "unique         8        16                   7              15            6   \n",
       "top      Private   HS-grad  Married-civ-spouse  Prof-specialty      Husband   \n",
       "freq        7157      3121                4307            1222         3800   \n",
       "\n",
       "         race gender native-country income  \n",
       "count    9614   9614           9614   9614  \n",
       "unique      5      2             40      2  \n",
       "top     White   Male  United-States  <=50K  \n",
       "freq     8255   6409           8845   7356  "
      ]
     },
     "execution_count": 40,
     "metadata": {},
     "output_type": "execute_result"
    }
   ],
   "source": [
    "data.describe(include='object') # категориальные колонки"
   ]
  },
  {
   "cell_type": "markdown",
   "metadata": {},
   "source": [
    "У нас целевая колонка текстовая\n",
    "\n",
    "Добавим пока такую же, но бинарную, чтобы посмотреть корреляцию"
   ]
  },
  {
   "cell_type": "code",
   "execution_count": 41,
   "metadata": {},
   "outputs": [
    {
     "data": {
      "text/plain": [
       "False    0.765134\n",
       "True     0.234866\n",
       "Name: income_bool, dtype: float64"
      ]
     },
     "execution_count": 41,
     "metadata": {},
     "output_type": "execute_result"
    }
   ],
   "source": [
    "data[\"income_bool\"] = data[\"income\"] == \">50K\"\n",
    "data['income_bool'].value_counts(normalize=True)"
   ]
  },
  {
   "cell_type": "code",
   "execution_count": 42,
   "metadata": {
    "colab": {
     "base_uri": "https://localhost:8080/",
     "height": 602
    },
    "id": "ba6wxZGjx50Y",
    "outputId": "15538f4d-4340-4f2b-ea9e-c099056bff63"
   },
   "outputs": [
    {
     "data": {
      "text/html": [
       "<style  type=\"text/css\" >\n",
       "#T_ef1b1_row0_col0,#T_ef1b1_row1_col1,#T_ef1b1_row2_col2,#T_ef1b1_row3_col3,#T_ef1b1_row4_col4,#T_ef1b1_row5_col5,#T_ef1b1_row6_col6{\n",
       "            background-color:  #b40426;\n",
       "            color:  #f1f1f1;\n",
       "        }#T_ef1b1_row0_col1,#T_ef1b1_row1_col0,#T_ef1b1_row1_col2,#T_ef1b1_row1_col5,#T_ef1b1_row1_col6,#T_ef1b1_row3_col4,#T_ef1b1_row4_col3{\n",
       "            background-color:  #3b4cc0;\n",
       "            color:  #f1f1f1;\n",
       "        }#T_ef1b1_row0_col2,#T_ef1b1_row1_col3{\n",
       "            background-color:  #4257c9;\n",
       "            color:  #f1f1f1;\n",
       "        }#T_ef1b1_row0_col3{\n",
       "            background-color:  #5977e3;\n",
       "            color:  #000000;\n",
       "        }#T_ef1b1_row0_col4,#T_ef1b1_row2_col0{\n",
       "            background-color:  #516ddb;\n",
       "            color:  #000000;\n",
       "        }#T_ef1b1_row0_col5{\n",
       "            background-color:  #5470de;\n",
       "            color:  #000000;\n",
       "        }#T_ef1b1_row0_col6{\n",
       "            background-color:  #81a4fb;\n",
       "            color:  #000000;\n",
       "        }#T_ef1b1_row1_col4{\n",
       "            background-color:  #4358cb;\n",
       "            color:  #f1f1f1;\n",
       "        }#T_ef1b1_row2_col1,#T_ef1b1_row4_col5{\n",
       "            background-color:  #4a63d3;\n",
       "            color:  #f1f1f1;\n",
       "        }#T_ef1b1_row2_col3{\n",
       "            background-color:  #6c8ff1;\n",
       "            color:  #000000;\n",
       "        }#T_ef1b1_row2_col4{\n",
       "            background-color:  #5d7ce6;\n",
       "            color:  #000000;\n",
       "        }#T_ef1b1_row2_col5{\n",
       "            background-color:  #6485ec;\n",
       "            color:  #000000;\n",
       "        }#T_ef1b1_row2_col6{\n",
       "            background-color:  #a6c4fe;\n",
       "            color:  #000000;\n",
       "        }#T_ef1b1_row3_col0,#T_ef1b1_row4_col6{\n",
       "            background-color:  #6788ee;\n",
       "            color:  #000000;\n",
       "        }#T_ef1b1_row3_col1{\n",
       "            background-color:  #4f69d9;\n",
       "            color:  #000000;\n",
       "        }#T_ef1b1_row3_col2{\n",
       "            background-color:  #6b8df0;\n",
       "            color:  #000000;\n",
       "        }#T_ef1b1_row3_col5{\n",
       "            background-color:  #5875e1;\n",
       "            color:  #000000;\n",
       "        }#T_ef1b1_row3_col6{\n",
       "            background-color:  #84a7fc;\n",
       "            color:  #000000;\n",
       "        }#T_ef1b1_row4_col0{\n",
       "            background-color:  #5f7fe8;\n",
       "            color:  #000000;\n",
       "        }#T_ef1b1_row4_col1,#T_ef1b1_row5_col1,#T_ef1b1_row6_col1{\n",
       "            background-color:  #506bda;\n",
       "            color:  #000000;\n",
       "        }#T_ef1b1_row4_col2{\n",
       "            background-color:  #5a78e4;\n",
       "            color:  #000000;\n",
       "        }#T_ef1b1_row5_col0,#T_ef1b1_row5_col2{\n",
       "            background-color:  #6a8bef;\n",
       "            color:  #000000;\n",
       "        }#T_ef1b1_row5_col3{\n",
       "            background-color:  #6180e9;\n",
       "            color:  #000000;\n",
       "        }#T_ef1b1_row5_col4{\n",
       "            background-color:  #536edd;\n",
       "            color:  #000000;\n",
       "        }#T_ef1b1_row5_col6,#T_ef1b1_row6_col5{\n",
       "            background-color:  #82a6fb;\n",
       "            color:  #000000;\n",
       "        }#T_ef1b1_row6_col0{\n",
       "            background-color:  #94b6ff;\n",
       "            color:  #000000;\n",
       "        }#T_ef1b1_row6_col2{\n",
       "            background-color:  #abc8fd;\n",
       "            color:  #000000;\n",
       "        }#T_ef1b1_row6_col3{\n",
       "            background-color:  #8badfd;\n",
       "            color:  #000000;\n",
       "        }#T_ef1b1_row6_col4{\n",
       "            background-color:  #6f92f3;\n",
       "            color:  #000000;\n",
       "        }</style><table id=\"T_ef1b1_\" ><thead>    <tr>        <th class=\"blank level0\" ></th>        <th class=\"col_heading level0 col0\" >age</th>        <th class=\"col_heading level0 col1\" >fnlwgt</th>        <th class=\"col_heading level0 col2\" >educational-num</th>        <th class=\"col_heading level0 col3\" >capital-gain</th>        <th class=\"col_heading level0 col4\" >capital-loss</th>        <th class=\"col_heading level0 col5\" >hours-per-week</th>        <th class=\"col_heading level0 col6\" >income_bool</th>    </tr></thead><tbody>\n",
       "                <tr>\n",
       "                        <th id=\"T_ef1b1_level0_row0\" class=\"row_heading level0 row0\" >age</th>\n",
       "                        <td id=\"T_ef1b1_row0_col0\" class=\"data row0 col0\" >1.000000</td>\n",
       "                        <td id=\"T_ef1b1_row0_col1\" class=\"data row0 col1\" >-0.079770</td>\n",
       "                        <td id=\"T_ef1b1_row0_col2\" class=\"data row0 col2\" >0.002383</td>\n",
       "                        <td id=\"T_ef1b1_row0_col3\" class=\"data row0 col3\" >0.073273</td>\n",
       "                        <td id=\"T_ef1b1_row0_col4\" class=\"data row0 col4\" >0.048926</td>\n",
       "                        <td id=\"T_ef1b1_row0_col5\" class=\"data row0 col5\" >0.081907</td>\n",
       "                        <td id=\"T_ef1b1_row0_col6\" class=\"data row0 col6\" >0.214954</td>\n",
       "            </tr>\n",
       "            <tr>\n",
       "                        <th id=\"T_ef1b1_level0_row1\" class=\"row_heading level0 row1\" >fnlwgt</th>\n",
       "                        <td id=\"T_ef1b1_row1_col0\" class=\"data row1 col0\" >-0.079770</td>\n",
       "                        <td id=\"T_ef1b1_row1_col1\" class=\"data row1 col1\" >1.000000</td>\n",
       "                        <td id=\"T_ef1b1_row1_col2\" class=\"data row1 col2\" >-0.024398</td>\n",
       "                        <td id=\"T_ef1b1_row1_col3\" class=\"data row1 col3\" >-0.005989</td>\n",
       "                        <td id=\"T_ef1b1_row1_col4\" class=\"data row1 col4\" >-0.000409</td>\n",
       "                        <td id=\"T_ef1b1_row1_col5\" class=\"data row1 col5\" >-0.002930</td>\n",
       "                        <td id=\"T_ef1b1_row1_col6\" class=\"data row1 col6\" >-0.003089</td>\n",
       "            </tr>\n",
       "            <tr>\n",
       "                        <th id=\"T_ef1b1_level0_row2\" class=\"row_heading level0 row2\" >educational-num</th>\n",
       "                        <td id=\"T_ef1b1_row2_col0\" class=\"data row2 col0\" >0.002383</td>\n",
       "                        <td id=\"T_ef1b1_row2_col1\" class=\"data row2 col1\" >-0.024398</td>\n",
       "                        <td id=\"T_ef1b1_row2_col2\" class=\"data row2 col2\" >1.000000</td>\n",
       "                        <td id=\"T_ef1b1_row2_col3\" class=\"data row2 col3\" >0.132639</td>\n",
       "                        <td id=\"T_ef1b1_row2_col4\" class=\"data row2 col4\" >0.083546</td>\n",
       "                        <td id=\"T_ef1b1_row2_col5\" class=\"data row2 col5\" >0.130397</td>\n",
       "                        <td id=\"T_ef1b1_row2_col6\" class=\"data row2 col6\" >0.320775</td>\n",
       "            </tr>\n",
       "            <tr>\n",
       "                        <th id=\"T_ef1b1_level0_row3\" class=\"row_heading level0 row3\" >capital-gain</th>\n",
       "                        <td id=\"T_ef1b1_row3_col0\" class=\"data row3 col0\" >0.073273</td>\n",
       "                        <td id=\"T_ef1b1_row3_col1\" class=\"data row3 col1\" >-0.005989</td>\n",
       "                        <td id=\"T_ef1b1_row3_col2\" class=\"data row3 col2\" >0.132639</td>\n",
       "                        <td id=\"T_ef1b1_row3_col3\" class=\"data row3 col3\" >1.000000</td>\n",
       "                        <td id=\"T_ef1b1_row3_col4\" class=\"data row3 col4\" >-0.030944</td>\n",
       "                        <td id=\"T_ef1b1_row3_col5\" class=\"data row3 col5\" >0.094505</td>\n",
       "                        <td id=\"T_ef1b1_row3_col6\" class=\"data row3 col6\" >0.221998</td>\n",
       "            </tr>\n",
       "            <tr>\n",
       "                        <th id=\"T_ef1b1_level0_row4\" class=\"row_heading level0 row4\" >capital-loss</th>\n",
       "                        <td id=\"T_ef1b1_row4_col0\" class=\"data row4 col0\" >0.048926</td>\n",
       "                        <td id=\"T_ef1b1_row4_col1\" class=\"data row4 col1\" >-0.000409</td>\n",
       "                        <td id=\"T_ef1b1_row4_col2\" class=\"data row4 col2\" >0.083546</td>\n",
       "                        <td id=\"T_ef1b1_row4_col3\" class=\"data row4 col3\" >-0.030944</td>\n",
       "                        <td id=\"T_ef1b1_row4_col4\" class=\"data row4 col4\" >1.000000</td>\n",
       "                        <td id=\"T_ef1b1_row4_col5\" class=\"data row4 col5\" >0.050089</td>\n",
       "                        <td id=\"T_ef1b1_row4_col6\" class=\"data row4 col6\" >0.139776</td>\n",
       "            </tr>\n",
       "            <tr>\n",
       "                        <th id=\"T_ef1b1_level0_row5\" class=\"row_heading level0 row5\" >hours-per-week</th>\n",
       "                        <td id=\"T_ef1b1_row5_col0\" class=\"data row5 col0\" >0.081907</td>\n",
       "                        <td id=\"T_ef1b1_row5_col1\" class=\"data row5 col1\" >-0.002930</td>\n",
       "                        <td id=\"T_ef1b1_row5_col2\" class=\"data row5 col2\" >0.130397</td>\n",
       "                        <td id=\"T_ef1b1_row5_col3\" class=\"data row5 col3\" >0.094505</td>\n",
       "                        <td id=\"T_ef1b1_row5_col4\" class=\"data row5 col4\" >0.050089</td>\n",
       "                        <td id=\"T_ef1b1_row5_col5\" class=\"data row5 col5\" >1.000000</td>\n",
       "                        <td id=\"T_ef1b1_row5_col6\" class=\"data row5 col6\" >0.217293</td>\n",
       "            </tr>\n",
       "            <tr>\n",
       "                        <th id=\"T_ef1b1_level0_row6\" class=\"row_heading level0 row6\" >income_bool</th>\n",
       "                        <td id=\"T_ef1b1_row6_col0\" class=\"data row6 col0\" >0.214954</td>\n",
       "                        <td id=\"T_ef1b1_row6_col1\" class=\"data row6 col1\" >-0.003089</td>\n",
       "                        <td id=\"T_ef1b1_row6_col2\" class=\"data row6 col2\" >0.320775</td>\n",
       "                        <td id=\"T_ef1b1_row6_col3\" class=\"data row6 col3\" >0.221998</td>\n",
       "                        <td id=\"T_ef1b1_row6_col4\" class=\"data row6 col4\" >0.139776</td>\n",
       "                        <td id=\"T_ef1b1_row6_col5\" class=\"data row6 col5\" >0.217293</td>\n",
       "                        <td id=\"T_ef1b1_row6_col6\" class=\"data row6 col6\" >1.000000</td>\n",
       "            </tr>\n",
       "    </tbody></table>"
      ],
      "text/plain": [
       "<pandas.io.formats.style.Styler at 0x2528af61fa0>"
      ]
     },
     "execution_count": 42,
     "metadata": {},
     "output_type": "execute_result"
    }
   ],
   "source": [
    "corr = data.corr() # строим матрицу корреляций\n",
    "\n",
    "corr.style.background_gradient(cmap='coolwarm')"
   ]
  },
  {
   "cell_type": "markdown",
   "metadata": {},
   "source": [
    "Вопрос века: нужно ли нам какие-то данные удалить?"
   ]
  },
  {
   "cell_type": "markdown",
   "metadata": {},
   "source": [
    "Еще один вопрос века: что значит отрицаельная корреляция поля fnlwgt со всеми подряд другими полями? Что это за поле вообще?"
   ]
  },
  {
   "cell_type": "code",
   "execution_count": 43,
   "metadata": {
    "colab": {
     "base_uri": "https://localhost:8080/"
    },
    "id": "5RShtvn0SYHo",
    "outputId": "ba8aa07b-829e-4449-9a4d-389031341bec"
   },
   "outputs": [
    {
     "data": {
      "text/plain": [
       "[('income_bool', 0.9999999999999999),\n",
       " ('educational-num', 0.3207754524730229),\n",
       " ('capital-gain', 0.2219983539033911),\n",
       " ('hours-per-week', 0.2172928389926224),\n",
       " ('age', 0.2149535894898411),\n",
       " ('capital-loss', 0.13977556008529074),\n",
       " ('fnlwgt', -0.0030885468367829474)]"
      ]
     },
     "execution_count": 43,
     "metadata": {},
     "output_type": "execute_result"
    }
   ],
   "source": [
    "corrcoef_dct = {}\n",
    "for col in data.columns:\n",
    "    try:\n",
    "#         print(col, np.corrcoef(data[col], data['income_bool'])[0][1])\n",
    "#         corrcoef_arr.append(np.corrcoef(data[col], data['income_bool'])[0][1])\n",
    "        corrcoef_dct[col] = np.corrcoef(data[col], data['income_bool'])[0][1]\n",
    "    except:\n",
    "        pass\n",
    "sorted_corrcoef_dct = sorted(corrcoef_dct.items(), key=lambda x:x[1], reverse=True)\n",
    "sorted_corrcoef_dct"
   ]
  },
  {
   "cell_type": "markdown",
   "metadata": {
    "id": "Ec9XDcmPl_Pt"
   },
   "source": [
    "## Визуализация данных"
   ]
  },
  {
   "cell_type": "markdown",
   "metadata": {},
   "source": [
    "Посмотрим диаграммы для признаков, имеющих наибольшую корреляцию с целевой переменной"
   ]
  },
  {
   "cell_type": "code",
   "execution_count": 44,
   "metadata": {
    "colab": {
     "base_uri": "https://localhost:8080/",
     "height": 468
    },
    "id": "MjdsADyJmBpa",
    "outputId": "7216de41-6a96-4724-cf4c-90b6b269c1ec"
   },
   "outputs": [
    {
     "data": {
      "text/plain": [
       "<matplotlib.collections.PathCollection at 0x2528b0aa910>"
      ]
     },
     "execution_count": 44,
     "metadata": {},
     "output_type": "execute_result"
    },
    {
     "data": {
      "image/png": "[encoded data removed]",
      "text/plain": [
       "<Figure size 432x288 with 1 Axes>"
      ]
     },
     "metadata": {},
     "output_type": "display_data"
    }
   ],
   "source": [
    "plt.scatter(data['educational-num'], data['income'], c=data['income_bool'])"
   ]
  },
  {
   "cell_type": "code",
   "execution_count": 45,
   "metadata": {
    "colab": {
     "base_uri": "https://localhost:8080/",
     "height": 468
    },
    "id": "rU1lz1hh2RCr",
    "outputId": "03968657-8fd1-465b-8125-04bc242d1d4e"
   },
   "outputs": [
    {
     "data": {
      "text/plain": [
       "<matplotlib.collections.PathCollection at 0x25288d3b040>"
      ]
     },
     "execution_count": 45,
     "metadata": {},
     "output_type": "execute_result"
    },
    {
     "data": {
      "image/png": "[encoded data removed]",
      "text/plain": [
       "<Figure size 432x288 with 1 Axes>"
      ]
     },
     "metadata": {},
     "output_type": "display_data"
    }
   ],
   "source": [
    "plt.scatter(data['capital-gain'], data['income'], c=data['income_bool'])"
   ]
  },
  {
   "cell_type": "code",
   "execution_count": 46,
   "metadata": {},
   "outputs": [
    {
     "data": {
      "text/plain": [
       "<matplotlib.collections.PathCollection at 0x2528b0c9400>"
      ]
     },
     "execution_count": 46,
     "metadata": {},
     "output_type": "execute_result"
    },
    {
     "data": {
      "image/png": "[encoded data removed]",
      "text/plain": [
       "<Figure size 432x288 with 1 Axes>"
      ]
     },
     "metadata": {},
     "output_type": "display_data"
    }
   ],
   "source": [
    "plt.scatter(data['hours-per-week'], data['income'], c=data['income_bool'])"
   ]
  },
  {
   "cell_type": "code",
   "execution_count": 47,
   "metadata": {},
   "outputs": [
    {
     "data": {
      "text/plain": [
       "<matplotlib.collections.PathCollection at 0x2528b170f70>"
      ]
     },
     "execution_count": 47,
     "metadata": {},
     "output_type": "execute_result"
    },
    {
     "data": {
      "image/png": "[encoded data removed]",
      "text/plain": [
       "<Figure size 432x288 with 1 Axes>"
      ]
     },
     "metadata": {},
     "output_type": "display_data"
    }
   ],
   "source": [
    "plt.scatter(data['age'], data['income'], c=data['income_bool'])"
   ]
  },
  {
   "cell_type": "code",
   "execution_count": 48,
   "metadata": {
    "colab": {
     "base_uri": "https://localhost:8080/",
     "height": 468
    },
    "id": "_7ml_wmpVH7L",
    "outputId": "38157917-9f8e-4224-d7a2-d934ac918886"
   },
   "outputs": [
    {
     "data": {
      "text/plain": [
       "<AxesSubplot:>"
      ]
     },
     "execution_count": 48,
     "metadata": {},
     "output_type": "execute_result"
    },
    {
     "data": {
      "image/png": "[encoded data removed]",
      "text/plain": [
       "<Figure size 432x288 with 1 Axes>"
      ]
     },
     "metadata": {},
     "output_type": "display_data"
    }
   ],
   "source": [
    "data[data.income_bool == 0]['educational-num'].hist(bins=16)"
   ]
  },
  {
   "cell_type": "code",
   "execution_count": 49,
   "metadata": {
    "colab": {
     "base_uri": "https://localhost:8080/",
     "height": 468
    },
    "id": "IdOs3PUsVedC",
    "outputId": "8927ca5f-fc94-403a-e83b-37778982df43"
   },
   "outputs": [
    {
     "data": {
      "text/plain": [
       "<AxesSubplot:>"
      ]
     },
     "execution_count": 49,
     "metadata": {},
     "output_type": "execute_result"
    },
    {
     "data": {
      "image/png": "[encoded data removed]",
      "text/plain": [
       "<Figure size 432x288 with 1 Axes>"
      ]
     },
     "metadata": {},
     "output_type": "display_data"
    }
   ],
   "source": [
    "data[data.income_bool == 1]['educational-num'].hist(bins=16)"
   ]
  },
  {
   "cell_type": "markdown",
   "metadata": {
    "id": "H-h2Oj5DQnL1"
   },
   "source": [
    "Посчитаем среднее значение признака с наибольшей корреляцию для клиентов с высоким и с низким доходом, используйте groupby."
   ]
  },
  {
   "cell_type": "code",
   "execution_count": 50,
   "metadata": {
    "colab": {
     "base_uri": "https://localhost:8080/"
    },
    "id": "zfkk5g352RH6",
    "outputId": "362171b1-f099-4750-d088-8bb64f46bcb3"
   },
   "outputs": [
    {
     "data": {
      "text/plain": [
       "income\n",
       "<=50K     9.624660\n",
       ">50K     11.563773\n",
       "Name: educational-num, dtype: float64"
      ]
     },
     "execution_count": 50,
     "metadata": {},
     "output_type": "execute_result"
    }
   ],
   "source": [
    "data.groupby('income')['educational-num'].mean()"
   ]
  },
  {
   "cell_type": "markdown",
   "metadata": {
    "id": "YKqPYfZ3N1Bp"
   },
   "source": [
    "## <font color='green'>2.1. Обучение модели</font>\n",
    "\n"
   ]
  },
  {
   "cell_type": "markdown",
   "metadata": {
    "id": "YXUwlNSx49ZS"
   },
   "source": [
    "Сформируем матрицу X объект-признак и вектор y целевой переменной."
   ]
  },
  {
   "cell_type": "code",
   "execution_count": null,
   "metadata": {
    "id": "cgetIc6vRgMi"
   },
   "outputs": [],
   "source": [
    "X = data.drop('churn', axis=1) # матрица объект-признак\n",
    "y = data['churn'] # целевая переменная"
   ]
  },
  {
   "cell_type": "markdown",
   "metadata": {
    "id": "jk6JotAMhtwe"
   },
   "source": [
    "Когда мы решаем задачу классификации, мы можем захотеть предсказывать не только классы, но и их вероятности. Для целей бизнеса, например, полезно знать, с какой вероятностью клиент вернет кредит (а не просто - вернет кредит или не вернет). Например, если клиент уйдет из банка с вероятностью 0.95, то это очень ненадежный клиент. А если с вероятностью 0.52  - этот клиент под вопросом. Но с точки зрения бинарной классификации для обоих клиентов модель предскажет, что они уйдут, так как стандартный порог перевода вероятности в классы - 0.5. \n",
    "\n",
    "* задача классификации, в которой модель предсказывает только классы - это **жесткая классификация**\n",
    "* если же классификатор предсказывает вероятности классов - это **мягкая классификация**"
   ]
  },
  {
   "cell_type": "markdown",
   "metadata": {
    "id": "hnFad05-g63q"
   },
   "source": [
    "![churn.png](data:image/png;base64,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)"
   ]
  },
  {
   "cell_type": "markdown",
   "metadata": {
    "id": "AjTu7Egugtv1"
   },
   "source": [
    "**Логистическая регрессия** - это линейный классификатор, который кроме классов умеет предсказывать вероятности классов.\n",
    "\n",
    "Модель делает предсказания по формуле\n",
    "$$a(x) = \\sigma(w_0 + w_1x_1 + w_2x_2 + ...),$$\n",
    "то есть умножает признаки объекта $x_1,x_2,...$ на некоторые веса $w_0,w_1,w_2,...$\n",
    "\n",
    "Например, если \n",
    "* $x_1$ - возраст клиента\n",
    "* $x_2$ - число жалоб клиента на банк, \n",
    "то обученная модель может иметь вид\n",
    "$$a(x) = \\sigma(10 - 3x_1 + 50x_2)$$\n",
    "\n",
    "Веса модели подбираются автоматически так, чтобы ошибка предсказания модели была минимальной."
   ]
  },
  {
   "cell_type": "markdown",
   "metadata": {
    "id": "Tz0rmKIWRl50"
   },
   "source": [
    "Функция $\\sigma(x)$ - переводит предсказания модели в вероятности:"
   ]
  },
  {
   "cell_type": "markdown",
   "metadata": {
    "id": "YIBekvJZRQ1Z"
   },
   "source": [
    "![image.png](data:image/png;base64,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)"
   ]
  },
  {
   "cell_type": "markdown",
   "metadata": {
    "id": "kLfG720Fi4eh"
   },
   "source": [
    "Давайте применим логистическую регрессию для поиска оттоковых клиентов!\n",
    "\n",
    "Сначала выкинем нечисловые столбцы."
   ]
  },
  {
   "cell_type": "code",
   "execution_count": null,
   "metadata": {
    "id": "eLjJi-Oi4Lir"
   },
   "outputs": [],
   "source": [
    "X = X.drop(['state','areacode','voicemailplan','internationalplan'], axis=1)"
   ]
  },
  {
   "cell_type": "code",
   "execution_count": null,
   "metadata": {
    "colab": {
     "base_uri": "https://localhost:8080/",
     "height": 270
    },
    "id": "q5JIdinjWP3H",
    "outputId": "9f6f2037-e764-42ca-a012-2e0e20c0ba50"
   },
   "outputs": [],
   "source": [
    "X.head()"
   ]
  },
  {
   "cell_type": "markdown",
   "metadata": {
    "id": "AmBs4yaFf87N"
   },
   "source": [
    "Разобъём данные на train и test (test — 25% от всех данных). Зачем это делается?"
   ]
  },
  {
   "cell_type": "markdown",
   "metadata": {
    "id": "tJPbLTSNhvfe"
   },
   "source": [
    "![TTS.jpg](data:image/jpeg;base64,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)"
   ]
  },
  {
   "cell_type": "markdown",
   "metadata": {
    "id": "lgyjOFNwR1p4"
   },
   "source": [
    "Мы разбиваем данные на train и test, чтобы:\n",
    "* на тренировочных данных обучить модель\n",
    "* на тестовых применить обученную модель и затем проверить качество модели"
   ]
  },
  {
   "cell_type": "code",
   "execution_count": null,
   "metadata": {
    "id": "O4IcPGEOhtwe"
   },
   "outputs": [],
   "source": [
    "from sklearn.metrics import accuracy_score\n",
    "from sklearn.model_selection import train_test_split\n",
    "\n",
    "Xtrain, Xtest, ytrain, ytest = train_test_split(X, y, test_size=0.25, random_state=42)"
   ]
  },
  {
   "cell_type": "markdown",
   "metadata": {
    "id": "gpAopXKbVqUF"
   },
   "source": [
    "## Вопрос для Quiz\n",
    "\n",
    "В одинаковых ли масштабах измеряются признаки клиентов?\n",
    "\n",
    "Для ответа на этот вопрос выведите на экран первые несколько строчек таблицы X (вам поможет функция head)."
   ]
  },
  {
   "cell_type": "code",
   "execution_count": null,
   "metadata": {
    "id": "-_CoC8WwSK1d"
   },
   "outputs": [],
   "source": [
    "# your code here"
   ]
  },
  {
   "cell_type": "markdown",
   "metadata": {
    "id": "GbuDWle1z2Uh"
   },
   "source": [
    "Для линейных моделей очень важно масштабирование признаков. Поэтому отмасштабируем признаки при помощи StandardScaler, обучив метод на тренировочных данных и применив его и к трейну, и к тесту."
   ]
  },
  {
   "cell_type": "code",
   "execution_count": null,
   "metadata": {
    "colab": {
     "base_uri": "https://localhost:8080/",
     "height": 270
    },
    "id": "69H1fh7VzaZf",
    "outputId": "5ac35a5a-d8c5-41cd-b6b0-fffa8450a8f1"
   },
   "outputs": [],
   "source": [
    "import pandas as pd\n",
    "from sklearn.preprocessing import StandardScaler\n",
    "\n",
    "ss = StandardScaler()\n",
    "ss.fit(Xtrain)\n",
    "\n",
    "Xtrain = pd.DataFrame(ss.transform(Xtrain), columns=X.columns)\n",
    "Xtest = pd.DataFrame(ss.transform(Xtest), columns=X.columns)\n",
    "\n",
    "Xtrain.head()"
   ]
  },
  {
   "cell_type": "markdown",
   "metadata": {
    "id": "jjPL8ZlJhtwf"
   },
   "source": [
    "Обучим логистическую регрессию на train и сделаем предсказание на новых для нее данных (test)."
   ]
  },
  {
   "cell_type": "code",
   "execution_count": null,
   "metadata": {
    "colab": {
     "base_uri": "https://localhost:8080/",
     "height": 95
    },
    "id": "mmOb1h0Chtwf",
    "outputId": "d267aef5-2776-4b96-89f6-18247730e861"
   },
   "outputs": [],
   "source": [
    "from sklearn.linear_model import LogisticRegression # линейная модель для задачи классификации\n",
    "\n",
    "model = LogisticRegression() # объявление модели\n",
    "\n",
    "model.fit(Xtrain, ytrain) # обучение модели"
   ]
  },
  {
   "cell_type": "code",
   "execution_count": null,
   "metadata": {
    "id": "zsk3tPv5ia4F"
   },
   "outputs": [],
   "source": [
    "pred_test = model.predict(Xtest) # предсказание классов"
   ]
  },
  {
   "cell_type": "markdown",
   "metadata": {
    "id": "90VpLk2MjSUn"
   },
   "source": [
    "Посмотрим на предсказания модели и оценим ее качество."
   ]
  },
  {
   "cell_type": "code",
   "execution_count": null,
   "metadata": {
    "colab": {
     "base_uri": "https://localhost:8080/"
    },
    "id": "QCnk94hwjUy7",
    "outputId": "b5659bf4-a8bf-4f58-f50f-d712a5f79955"
   },
   "outputs": [],
   "source": [
    "pred_test"
   ]
  },
  {
   "cell_type": "code",
   "execution_count": null,
   "metadata": {
    "colab": {
     "base_uri": "https://localhost:8080/"
    },
    "id": "cVaD2VwskQGY",
    "outputId": "bf3cfea3-9c81-48a2-dfcf-7294dd209414"
   },
   "outputs": [],
   "source": [
    "accuracy_score(ytest, pred_test) "
   ]
  },
  {
   "cell_type": "markdown",
   "metadata": {
    "id": "gwBbxBxwPepQ"
   },
   "source": [
    "## Вопрос для Quiz\n",
    "\n",
    "Доля верно определенных классов высокая! Значит ли это, что качество хорошее?\n"
   ]
  },
  {
   "cell_type": "markdown",
   "metadata": {
    "id": "LzXLHJNGmNg6"
   },
   "source": [
    "Проверим, сбалансирована ли выборка."
   ]
  },
  {
   "cell_type": "code",
   "execution_count": null,
   "metadata": {
    "colab": {
     "base_uri": "https://localhost:8080/"
    },
    "id": "NB4xFH1LiiSh",
    "outputId": "07650e5d-62ca-41ab-f4a8-827cdbf4b2a7"
   },
   "outputs": [],
   "source": [
    "y.value_counts()"
   ]
  },
  {
   "cell_type": "markdown",
   "metadata": {
    "id": "epmPo_TAPvEe"
   },
   "source": [
    "Баланса классов нет: большинство клиентов не собирается менять банк ($y=0$). \n",
    "\n",
    "Посмотрим, что предсказывает модель."
   ]
  },
  {
   "cell_type": "code",
   "execution_count": null,
   "metadata": {
    "colab": {
     "base_uri": "https://localhost:8080/"
    },
    "id": "P-tUWOp9P99-",
    "outputId": "7ca3711b-df94-439d-9e3f-71e398e3ba93"
   },
   "outputs": [],
   "source": [
    "pred_test[:20]"
   ]
  },
  {
   "cell_type": "markdown",
   "metadata": {
    "id": "0WKy0qt2QHw-"
   },
   "source": [
    "## <font color='green'>2.2. Валидация модели</font>\n",
    "\n",
    "Для оценки качества модели используются различные метрики качества. Давайте посмотрим, какие метрики полезно считать в задаче классификации, кроме accuracy.\n",
    "\n",
    "<font color='blue'>Для оценки качества моделей бинарной классификации полезно смотреть на **матрицу ошибок** (confusion matrix):</font>"
   ]
  },
  {
   "cell_type": "markdown",
   "metadata": {
    "id": "cJ94ZEkshcXl"
   },
   "source": [
    "![confmat.png](data:image/png;base64,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)"
   ]
  },
  {
   "cell_type": "markdown",
   "metadata": {
    "id": "4Vtl1tByheHZ"
   },
   "source": [
    "Эта матрица состоит из четырех чисел:\n",
    "\n",
    "* **True Positive (TP)** - количество объектов положительного класса, предсказанных моделью как положительные (верные предсказания)\n",
    "* **False Positive (FP)** - количество объектов отрицательного класса, предсказанных моделью как положительные (ошибки модели)\n",
    "* **False Negative (FN)** - количество объектов положительного класса, предсказанных моделью как отрицательные (ошибки модели)\n",
    "* **True Negative (TN)** - количество объектов отрицательного класса, предсказанных моделью как отрицательные (верные предсказания)."
   ]
  },
  {
   "cell_type": "code",
   "execution_count": null,
   "metadata": {
    "id": "P3XkIHpJQJjv"
   },
   "outputs": [],
   "source": [
    "from sklearn.metrics import confusion_matrix\n",
    "\n",
    "confusion_matrix(ytest, pred_test)"
   ]
  },
  {
   "cell_type": "code",
   "execution_count": null,
   "metadata": {
    "id": "cKHWNikM50Ys"
   },
   "outputs": [],
   "source": [
    "ytest.value_counts()"
   ]
  },
  {
   "cell_type": "markdown",
   "metadata": {
    "id": "xeBZEYHnPW34"
   },
   "source": [
    "Модель верно определила очень мало оттоковых клиентов :(\n",
    "\n",
    "<font color='blue'>Также можно посмотреть на метрику **recall (полнота)** - она показывает, какую долю оттоковых клиентов (объектов положительного класса) нашла модель.</font>"
   ]
  },
  {
   "cell_type": "code",
   "execution_count": null,
   "metadata": {
    "id": "rs1crUP3Qvsh"
   },
   "outputs": [],
   "source": [
    "from sklearn.metrics import recall_score\n",
    "\n",
    "recall_score(ytest, pred_test)"
   ]
  },
  {
   "cell_type": "markdown",
   "metadata": {
    "id": "_PBPwQ39SeVH"
   },
   "source": [
    "## Вопрос для Quiz\n",
    "\n",
    "Что означает это значение метрики recall?"
   ]
  },
  {
   "cell_type": "markdown",
   "metadata": {
    "id": "S1yq_oDpOyBY"
   },
   "source": [
    "Давайте разберемся, почему так произошло?\n",
    "\n",
    "Посмотрим на вероятности, выдаваемые моделью."
   ]
  },
  {
   "cell_type": "code",
   "execution_count": null,
   "metadata": {
    "id": "t7ASlwolO09n"
   },
   "outputs": [],
   "source": [
    "probs = model.predict_proba(Xtest)\n",
    "\n",
    "probs[:10]"
   ]
  },
  {
   "cell_type": "markdown",
   "metadata": {
    "id": "MHF1dXxLQQlB"
   },
   "source": [
    "Модель слишком позитивна. Она присваивает классу 0 (клиент не уйдет) всегда большие вероятности. \n",
    "\n",
    "<font color='blue'>Попробуем изменить **порог для перевода вероятности в классы** со стандартного 0.5 на порог поменьше.</blue>"
   ]
  },
  {
   "cell_type": "code",
   "execution_count": null,
   "metadata": {
    "id": "JoDNJgZ_O609"
   },
   "outputs": [],
   "source": [
    "probs_churn = probs[:,1]\n",
    "\n",
    "classes = probs_churn > 0.2"
   ]
  },
  {
   "cell_type": "code",
   "execution_count": null,
   "metadata": {
    "id": "EPmRIHIGO_I9"
   },
   "outputs": [],
   "source": [
    "confusion_matrix(ytest, classes)"
   ]
  },
  {
   "cell_type": "code",
   "execution_count": null,
   "metadata": {
    "id": "AaduyCsc6Di_"
   },
   "outputs": [],
   "source": [
    "ytest.value_counts()"
   ]
  },
  {
   "cell_type": "code",
   "execution_count": null,
   "metadata": {
    "id": "uBPFvMlGQ11c"
   },
   "outputs": [],
   "source": [
    "recall_score(ytest, classes)"
   ]
  },
  {
   "cell_type": "markdown",
   "metadata": {
    "id": "WpBpmBaHQaFH"
   },
   "source": [
    "Теперь модель стала находить оттоковых клиентов, но и больше ошибается на тех клиентах, которые не уйдут."
   ]
  },
  {
   "cell_type": "markdown",
   "metadata": {
    "id": "N0qYwySGh9p_"
   },
   "source": [
    "## <font color='green'>3. Интерпретация модели</font>\n",
    "\n",
    "После обучения модели можно посмотреть на её веса, то есть на коэффициенты при признаках, найденные моделью."
   ]
  },
  {
   "cell_type": "code",
   "execution_count": null,
   "metadata": {
    "colab": {
     "base_uri": "https://localhost:8080/"
    },
    "id": "MbBhMrg9h_5o",
    "outputId": "8ff7dc2d-ff63-4cc8-a66d-5a4df84a12a6"
   },
   "outputs": [],
   "source": [
    "model.coef_, model.intercept_"
   ]
  },
  {
   "cell_type": "code",
   "execution_count": null,
   "metadata": {
    "colab": {
     "base_uri": "https://localhost:8080/",
     "height": 544
    },
    "id": "IaQlscwZiiUu",
    "outputId": "fa3563f0-fbbd-430b-e979-45cb93077ea2"
   },
   "outputs": [],
   "source": [
    "import pandas as pd\n",
    "\n",
    "coef_table = pd.DataFrame({'features' : list(X.columns), 'weights' : list(model.coef_[0])})\n",
    "\n",
    "coef_table.sort_values(by='weights')"
   ]
  },
  {
   "cell_type": "markdown",
   "metadata": {
    "id": "52qZjNAHix1M"
   },
   "source": [
    "Если вес у признака положительный, то признак вносит положительный вклад в ответ, то есть чем больше значение признака, тем больше это дает вклад в положительный класс объекта и наоборот."
   ]
  },
  {
   "cell_type": "markdown",
   "metadata": {
    "id": "c6GyG8VFjx1I"
   },
   "source": [
    "## Метод ближайших соседей (бонус)\n",
    "\n",
    "Существует еще один простой метод для решения задач классификации - метод ближайших соседей."
   ]
  },
  {
   "cell_type": "markdown",
   "metadata": {
    "id": "HzNWHX71kHeV"
   },
   "source": [
    "![knn.png](data:image/png;base64,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)"
   ]
  },
  {
   "cell_type": "markdown",
   "metadata": {
    "id": "GFH2US3bbBNq"
   },
   "source": [
    "Попробуем применить метод ближайших соседей для решения поставленной задачи."
   ]
  },
  {
   "cell_type": "code",
   "execution_count": null,
   "metadata": {
    "id": "TWDlWnKQa80N"
   },
   "outputs": [],
   "source": [
    "from sklearn.neighbors import KNeighborsClassifier\n",
    "\n",
    "knn = KNeighborsClassifier()"
   ]
  },
  {
   "cell_type": "code",
   "execution_count": null,
   "metadata": {
    "colab": {
     "base_uri": "https://localhost:8080/"
    },
    "id": "vaWYtxqJbOQ0",
    "outputId": "ed0304f7-d5af-45f8-923a-71447e8f8794"
   },
   "outputs": [],
   "source": [
    "knn.fit(Xtrain, ytrain)\n",
    "\n",
    "pred_test2 = knn.predict_proba(Xtest)[:,1]\n",
    "\n",
    "classes2 = pred_test2 > 0.1\n",
    "\n",
    "confusion_matrix(ytest, classes2)"
   ]
  },
  {
   "cell_type": "markdown",
   "metadata": {
    "id": "1ujuRQW8SRyB"
   },
   "source": [
    "## Вопрос для Quiz\n",
    "\n",
    "Вычислите recall (долю найденных моделью оттоковых клиентов) при пороге 0.1. Ответ не округляйте."
   ]
  },
  {
   "cell_type": "code",
   "execution_count": null,
   "metadata": {
    "id": "caQw-2Vk_69O"
   },
   "outputs": [],
   "source": [
    "# your code here"
   ]
  },
  {
   "cell_type": "markdown",
   "metadata": {
    "id": "_ezdQM9tTcW6"
   },
   "source": [
    "## <font color='green'>4. Сохранение результатов экспериментов</font>\n",
    "\n",
    "Что сохраняем?\n",
    "\n",
    "* Предсказания модели\n",
    "* Эксперименты\n",
    "* Модель"
   ]
  },
  {
   "cell_type": "markdown",
   "metadata": {
    "id": "ACp_KXUatce-"
   },
   "source": [
    "Сначала сохраним предсказания модели в файл:"
   ]
  },
  {
   "cell_type": "code",
   "execution_count": null,
   "metadata": {
    "id": "ouz9PHNZtLnb"
   },
   "outputs": [],
   "source": [
    "Xtest['predictions'] = probs_churn\n",
    "\n",
    "Xtest[['predictions']].to_csv(\"PredictionsChurn.csv\", index=False)"
   ]
  },
  {
   "cell_type": "markdown",
   "metadata": {
    "id": "oC9ZLJi0tftb"
   },
   "source": [
    "Теперь сохраним саму модель:"
   ]
  },
  {
   "cell_type": "code",
   "execution_count": null,
   "metadata": {
    "id": "3HBU7ogWtfP6"
   },
   "outputs": [],
   "source": [
    "import pickle \n",
    "\n",
    "with open('model.pickle', 'wb') as f:\n",
    "    pickle.dump(model, f)\n",
    "\n",
    "# а так модель можно загрузить из файла:  \n",
    "# with open('filename.pickle', 'rb') as f:\n",
    "#     model = pickle.load(f)"
   ]
  },
  {
   "cell_type": "markdown",
   "metadata": {
    "id": "Jj9zwt5ds8Eh"
   },
   "source": [
    "Сохраним полученную модель, файл с предсказаниями и ноутбук с экспериментами на гитхаб."
   ]
  },
  {
   "cell_type": "markdown",
   "metadata": {
    "id": "fB6Tr63AuXWT"
   },
   "source": [
    "![github.png](data:image/png;base64,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)"
   ]
  },
  {
   "cell_type": "markdown",
   "metadata": {
    "id": "tgIuAPbBWl1p"
   },
   "source": [
    "## <font color='green'>5. Градиентный бустинг</font>\n",
    "\n",
    "Мы поработали с линейными моделями. Они весьма и весьма простые — предполагают независимость признаков и линейную связь между каждым признаком и целевой переменной. Конечно, в наших данных вряд ли всё так просто. Можно пытаться усложнять линейные модели: добавлять нелинейные признаки, переходить в новое признаковое пространство. Но это всё полумеры.\n",
    "\n",
    "Сейчас мы поработаем с градиентным бустингом — одним из самых мощных подходов для работы с табличными данными."
   ]
  },
  {
   "cell_type": "markdown",
   "metadata": {
    "id": "J9PZ_7cFXXSg"
   },
   "source": [
    "Пока не ушли далеко — посчитаем и запомним качество логистической регрессии."
   ]
  },
  {
   "cell_type": "code",
   "execution_count": null,
   "metadata": {
    "colab": {
     "base_uri": "https://localhost:8080/"
    },
    "id": "SqKo62t0XWiE",
    "outputId": "5cc92158-c34b-4185-ccee-8695faa3dc15"
   },
   "outputs": [],
   "source": [
    "from sklearn import metrics\n",
    "\n",
    "print(\"LR quality:\")\n",
    "print(\"precision: \", metrics.precision_score(ytest, classes))\n",
    "print(\"recall: \", metrics.recall_score(ytest, classes))\n",
    "print(\"auc-roc: \", metrics.roc_auc_score(ytest, probs[:, 1]))"
   ]
  },
  {
   "cell_type": "markdown",
   "metadata": {
    "id": "t0aoM9aSYora"
   },
   "source": [
    "Есть много имплементаций градиентного бустинга. Мы будем пользоваться CatBoost — библиотекой от Яндекса, которая очень эффективно написана и широко используется в мире."
   ]
  },
  {
   "cell_type": "code",
   "execution_count": null,
   "metadata": {
    "colab": {
     "base_uri": "https://localhost:8080/"
    },
    "id": "2QoLTWFrWj92",
    "outputId": "cfc38aa2-ccf9-41e8-eefd-02a9846a4c3c"
   },
   "outputs": [],
   "source": [
    "!pip install catboost"
   ]
  },
  {
   "cell_type": "code",
   "execution_count": null,
   "metadata": {
    "id": "WnWQilzgY_QO"
   },
   "outputs": [],
   "source": [
    "from catboost import CatBoostClassifier, Pool"
   ]
  },
  {
   "cell_type": "code",
   "execution_count": null,
   "metadata": {
    "id": "9duc2zLYJWV3"
   },
   "outputs": [],
   "source": [
    "train_set = Pool(Xtrain, ytrain)\n",
    "test_set = Pool(Xtest, ytest)"
   ]
  },
  {
   "cell_type": "code",
   "execution_count": null,
   "metadata": {
    "id": "jsgUpP1NZYDu"
   },
   "outputs": [],
   "source": [
    "gbm = CatBoostClassifier(iterations=100,\n",
    "                          depth=2,\n",
    "                          learning_rate=0.1,\n",
    "                          loss_function='Logloss',\n",
    "                          eval_metric='AUC',\n",
    "                          verbose=False)\n",
    "gbm.fit(train_set, eval_set=test_set)\n",
    "gbm_preds = gbm.predict_proba(Xtest)"
   ]
  },
  {
   "cell_type": "code",
   "execution_count": null,
   "metadata": {
    "colab": {
     "base_uri": "https://localhost:8080/",
     "height": 281
    },
    "id": "fI6mOpzfnsZk",
    "outputId": "a42ab234-7bad-4312-d165-debbfb9178b7"
   },
   "outputs": [],
   "source": [
    "eval_metrics = gbm.get_evals_result()\n",
    "plt.plot(eval_metrics['validation']['AUC'])\n",
    "plt.xlabel('n_trees')\n",
    "plt.ylabel('AUC')\n",
    "plt.grid()"
   ]
  },
  {
   "cell_type": "code",
   "execution_count": null,
   "metadata": {
    "colab": {
     "base_uri": "https://localhost:8080/"
    },
    "id": "2Zo5H0DsZ26Q",
    "outputId": "36d6af3c-f5e1-49fe-a8ab-91e5595b8b84"
   },
   "outputs": [],
   "source": [
    "gbm_classes = (gbm_preds[:, 1] > 0.3)\n",
    "print(\"precision: \", metrics.precision_score(ytest, gbm_classes))\n",
    "print(\"recall: \", metrics.recall_score(ytest, gbm_classes))\n",
    "print(\"auc-roc: \", metrics.roc_auc_score(ytest, gbm_preds[:, 1]))"
   ]
  },
  {
   "cell_type": "code",
   "execution_count": null,
   "metadata": {
    "colab": {
     "base_uri": "https://localhost:8080/",
     "height": 390
    },
    "id": "D1hQWPNNw6zm",
    "outputId": "522a8e2d-9f97-411e-cd36-e4cbf1c2368b"
   },
   "outputs": [],
   "source": [
    "coef_table = pd.DataFrame({'features' : list(X.columns), 'importances' : list(gbm.get_feature_importance())})\n",
    "\n",
    "coef_table.sort_values(by='importances')"
   ]
  },
  {
   "cell_type": "markdown",
   "metadata": {
    "id": "koD8ZmSZG8yd"
   },
   "source": [
    "## Вопрос для Quiz\n",
    "\n",
    "Попробуйте обучить градиентный бустинг с другой длиной шага. Получится ли улучшить AUC-ROC на тесте?"
   ]
  },
  {
   "cell_type": "code",
   "execution_count": null,
   "metadata": {
    "id": "ss7fNxYhG-lt"
   },
   "outputs": [],
   "source": [
    "# ваш код здесь"
   ]
  },
  {
   "cell_type": "markdown",
   "metadata": {
    "id": "qQ74B0pLx18c"
   },
   "source": [
    "## <font color='green'>6. Обработка категориальных признаков</font>"
   ]
  },
  {
   "cell_type": "markdown",
   "metadata": {
    "id": "OjfOCGU1BUnD"
   },
   "source": [
    "Выше мы удаляли все категориальные столбцы:\n",
    "\n",
    "`X = X.drop(['state','areacode','voicemailplan','internationalplan'], axis=1)`\n",
    "\n",
    "А вдруг там содержится много полезной информации? Попробуем её сохранить."
   ]
  },
  {
   "cell_type": "code",
   "execution_count": null,
   "metadata": {
    "id": "qAAaCQQR5Asv"
   },
   "outputs": [],
   "source": [
    "Xtrain, Xtest, ytrain, ytest = train_test_split(X_full, y, test_size=0.25, random_state=42)"
   ]
  },
  {
   "cell_type": "code",
   "execution_count": null,
   "metadata": {
    "id": "fFA0C2fhCjZ9"
   },
   "outputs": [],
   "source": [
    "from sklearn.preprocessing import OneHotEncoder\n",
    "from sklearn.compose import ColumnTransformer\n",
    "\n",
    "categorical = ['state','areacode','voicemailplan','internationalplan']\n",
    "numeric_features = X.columns\n",
    "\n",
    "column_transformer = ColumnTransformer([\n",
    "    ('ohe', OneHotEncoder(handle_unknown=\"ignore\"), categorical),\n",
    "    ('scaling', StandardScaler(), numeric_features)\n",
    "])\n",
    "\n",
    "X_transformed = column_transformer.fit_transform(Xtrain)\n",
    "X_test_transformed = column_transformer.transform(Xtest)"
   ]
  },
  {
   "cell_type": "code",
   "execution_count": null,
   "metadata": {
    "colab": {
     "base_uri": "https://localhost:8080/"
    },
    "id": "lL54AdU7FCZg",
    "outputId": "0fd55eaf-06fa-4042-e7a2-a57fd18f08f6"
   },
   "outputs": [],
   "source": [
    "X_transformed.shape"
   ]
  },
  {
   "cell_type": "code",
   "execution_count": null,
   "metadata": {
    "id": "ur0gDWeQFLvu"
   },
   "outputs": [],
   "source": [
    "model = LogisticRegression()\n",
    "model.fit(X_transformed, ytrain)\n",
    "pred = model.predict_proba(X_test_transformed)"
   ]
  },
  {
   "cell_type": "code",
   "execution_count": null,
   "metadata": {
    "colab": {
     "base_uri": "https://localhost:8080/"
    },
    "id": "ybwNgoSPFsSm",
    "outputId": "514dd2a6-91ed-4468-bd6d-ecce13637c52"
   },
   "outputs": [],
   "source": [
    "classes = (pred[:, 1] > 0.5)\n",
    "print(\"precision: \", metrics.precision_score(ytest, classes))\n",
    "print(\"recall: \", metrics.recall_score(ytest, classes))\n",
    "print(\"auc-roc: \", metrics.roc_auc_score(ytest, pred[:, 1]))"
   ]
  },
  {
   "cell_type": "code",
   "execution_count": null,
   "metadata": {
    "colab": {
     "base_uri": "https://localhost:8080/"
    },
    "id": "KI31HXMoGMta",
    "outputId": "4ce63872-3650-40d6-851a-7024b7cca9ea"
   },
   "outputs": [],
   "source": [
    "train_set = Pool(X_transformed, ytrain)\n",
    "test_set = Pool(X_test_transformed, ytest)\n",
    "gbm = CatBoostClassifier(iterations=100,\n",
    "                          depth=2,\n",
    "                          learning_rate=0.1,\n",
    "                          loss_function='Logloss',\n",
    "                          eval_metric='AUC',\n",
    "                          verbose=False)\n",
    "gbm.fit(train_set, eval_set=test_set)\n",
    "gbm_preds = gbm.predict_proba(test_set)\n",
    "gbm_classes = (gbm_preds[:, 1] > 0.3)\n",
    "print(\"precision: \", metrics.precision_score(ytest, gbm_classes))\n",
    "print(\"recall: \", metrics.recall_score(ytest, gbm_classes))\n",
    "print(\"auc-roc: \", metrics.roc_auc_score(ytest, gbm_preds[:, 1]))"
   ]
  }
 ],
 "metadata": {
  "colab": {
   "include_colab_link": true,
   "provenance": []
  },
  "kernelspec": {
   "display_name": "Python 3",
   "language": "python",
   "name": "python3"
  },
  "language_info": {
   "codemirror_mode": {
    "name": "ipython",
    "version": 3
   },
   "file_extension": ".py",
   "mimetype": "text/x-python",
   "name": "python",
   "nbconvert_exporter": "python",
   "pygments_lexer": "ipython3",
   "version": "3.8.5"
  }
 },
 "nbformat": 4,
 "nbformat_minor": 1
}
